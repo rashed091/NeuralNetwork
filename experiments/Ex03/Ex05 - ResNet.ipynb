{
 "cells": [
  {
   "cell_type": "markdown",
   "metadata": {},
   "source": [
    "<h1 id=\"residual-net\">Residual Net</h1>\n",
    "<p>This chapter will present the 2016 state of the art on object classification. The ResidualNet it&apos;s basically a 150 deep convolution neural network made by equal &quot;residual&quot; blocks.</p>\n",
    "<p>The problem is for real deep networks (more than 30 layers), all the known techniques (Relu, dropout, batch-norm, etc...) are not enough to do a good end-to-end training. This contrast with the common &quot;empirical proven knowledge&quot; that deeper is better.</p>\n",
    "<p>The idea of the residual network is use blocks that re-route the input, and add to the concept learned from the previous layer. The idea is that during learning the next layer will learn the concepts of the previous layer plus the input of that previous layer. This would work better than just learn a concept without a reference that was used to learn that concept.</p>\n",
    "<p>Another way to visualize their solution is remember that the back-propagation of a sum node will replicate the input gradient with no degradation.</p>\n",
    "<p><img src=\"../../images/residual_building_block.png\" alt=\"\"></p>\n",
    "<p>Bellow we show an example of a 34-deep residual net.</p>\n",
    "<p><img src=\"../../images/residualnet_34.png\" alt=\"\"></p>\n",
    "<p>The ResidualNet creators proved empiricaly that it&apos;s easier to train a 34-layer residual compared to a 34-layer cascaded (Like VGG).</p>\n",
    "<p>Observe that on the end of the residual net there is only one fully connected layer followed by a previous average pool.</p>\n",
    "<h2 id=\"residual-block\">Residual Block</h2>\n",
    "<hr>\n",
    "<p>At it&apos;s core the residual net is formed by the following structure.</p>\n",
    "<p><img src=\"../../images/residual_block.png\" alt=\"\"></p>\n",
    "<p>Basically this jump and adder creates a path for back-propagation, allowing even really deep models to be trained.</p>\n",
    "<p>As mention before the Batch-Norm block alleviate the network initialization, but it can be omitted for not so deep models (less than 50 layers).</p>\n",
    "<p>Again like googlenet we must use bottlenecks to avoid a parameter explosion.</p>\n",
    "<p><img src=\"../../images/residual_bottleneck.png\" alt=\"\"></p>\n",
    "<p>Just to remember for the bottleneck to work the previous layer must have same depth.</p>"
   ]
  },
  {
   "cell_type": "code",
   "execution_count": null,
   "metadata": {},
   "outputs": [],
   "source": []
  }
 ],
 "metadata": {
  "kernelspec": {
   "display_name": "Python 3",
   "language": "python",
   "name": "python3"
  },
  "language_info": {
   "codemirror_mode": {
    "name": "ipython",
    "version": 3
   },
   "file_extension": ".py",
   "mimetype": "text/x-python",
   "name": "python",
   "nbconvert_exporter": "python",
   "pygments_lexer": "ipython3",
   "version": "3.6.6"
  }
 },
 "nbformat": 4,
 "nbformat_minor": 2
}
