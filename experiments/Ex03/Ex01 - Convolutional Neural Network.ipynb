{
 "cells": [
  {
   "cell_type": "code",
   "execution_count": 1,
   "metadata": {},
   "outputs": [],
   "source": [
    "# Import necessary packages\n",
    "from __future__ import print_function\n",
    "import numpy as np\n",
    "import matplotlib.pyplot as plt\n",
    "\n",
    "import torch \n",
    "import torch.nn as nn\n",
    "import torchvision\n",
    "import torchvision.transforms as transforms\n",
    "\n",
    "%matplotlib inline"
   ]
  },
  {
   "cell_type": "code",
   "execution_count": 2,
   "metadata": {},
   "outputs": [],
   "source": [
    "# Device configuration\n",
    "device = torch.device('cuda:0' if torch.cuda.is_available() else 'cpu')\n",
    "\n",
    "# Hyper parameters\n",
    "num_epochs = 5\n",
    "num_classes = 10\n",
    "batch_size = 100\n",
    "learning_rate = 0.001\n",
    "\n",
    "# MNIST dataset\n",
    "train_dataset = torchvision.datasets.MNIST(root='../../data', train=True, transform=transforms.ToTensor(), download=True)\n",
    "\n",
    "test_dataset = torchvision.datasets.MNIST(root='../../data', train=False, transform=transforms.ToTensor())\n",
    "\n",
    "# Data loader\n",
    "train_loader = torch.utils.data.DataLoader(dataset=train_dataset, batch_size=batch_size, shuffle=True)\n",
    "\n",
    "test_loader = torch.utils.data.DataLoader(dataset=test_dataset, batch_size=batch_size, shuffle=False)"
   ]
  },
  {
   "cell_type": "code",
   "execution_count": 4,
   "metadata": {},
   "outputs": [],
   "source": [
    "class CNN(nn.Module):\n",
    "    def __init__(self, num_classes=10):\n",
    "        super(CNN, self).__init__()\n",
    "        self.conv1 = nn.Conv2d(1, 10, kernel_size=5)\n",
    "        self.conv2 = nn.Conv2d(10, 20, kernel_size=5)\n",
    "        self.mp = nn.MaxPool2d(kernel_size=2)\n",
    "        self.fc = nn.Linear(320, num_classes)\n",
    "        \n",
    "    def forward(self, x):\n",
    "        in_size = x.size(0)\n",
    "        x = torch.relu(self.mp(self.conv1(x)))\n",
    "        x = torch.relu(self.mp(self.conv2(x)))\n",
    "        x = x.view(in_size, -1)\n",
    "        x = self.fc(x)\n",
    "        return x"
   ]
  },
  {
   "cell_type": "code",
   "execution_count": 86,
   "metadata": {},
   "outputs": [],
   "source": [
    "def conv_out(W, K, S, P):\n",
    "    return (W - K + 2 * P) / (S) + 1\n",
    "\n",
    "def poll_out(W, K, S):\n",
    "    return np.floor((W - K) / (S)) + 1"
   ]
  },
  {
   "cell_type": "code",
   "execution_count": 89,
   "metadata": {},
   "outputs": [
    {
     "data": {
      "text/plain": [
       "24.0"
      ]
     },
     "execution_count": 89,
     "metadata": {},
     "output_type": "execute_result"
    }
   ],
   "source": [
    "out = conv_out(28, 5, 1, 0)\n",
    "out"
   ]
  },
  {
   "cell_type": "code",
   "execution_count": 90,
   "metadata": {},
   "outputs": [
    {
     "data": {
      "text/plain": [
       "12.0"
      ]
     },
     "execution_count": 90,
     "metadata": {},
     "output_type": "execute_result"
    }
   ],
   "source": [
    "out = poll_out(out, 2, 2)\n",
    "out "
   ]
  },
  {
   "cell_type": "code",
   "execution_count": 91,
   "metadata": {},
   "outputs": [
    {
     "data": {
      "text/plain": [
       "8.0"
      ]
     },
     "execution_count": 91,
     "metadata": {},
     "output_type": "execute_result"
    }
   ],
   "source": [
    "out = conv_out(out, 5, 1, 0)\n",
    "out"
   ]
  },
  {
   "cell_type": "code",
   "execution_count": 92,
   "metadata": {},
   "outputs": [
    {
     "data": {
      "text/plain": [
       "4.0"
      ]
     },
     "execution_count": 92,
     "metadata": {},
     "output_type": "execute_result"
    }
   ],
   "source": [
    "out = poll_out(out, 2, 2)\n",
    "out"
   ]
  },
  {
   "cell_type": "code",
   "execution_count": 5,
   "metadata": {},
   "outputs": [
    {
     "name": "stdout",
     "output_type": "stream",
     "text": [
      "Epoch [1/5], Step [100/600], Loss: 0.3183\n",
      "Epoch [1/5], Step [200/600], Loss: 0.3041\n",
      "Epoch [1/5], Step [300/600], Loss: 0.2136\n",
      "Epoch [1/5], Step [400/600], Loss: 0.1373\n",
      "Epoch [1/5], Step [500/600], Loss: 0.0730\n",
      "Epoch [1/5], Step [600/600], Loss: 0.0614\n",
      "Epoch [2/5], Step [100/600], Loss: 0.0974\n",
      "Epoch [2/5], Step [200/600], Loss: 0.1669\n",
      "Epoch [2/5], Step [300/600], Loss: 0.1081\n",
      "Epoch [2/5], Step [400/600], Loss: 0.0627\n",
      "Epoch [2/5], Step [500/600], Loss: 0.0830\n",
      "Epoch [2/5], Step [600/600], Loss: 0.0976\n",
      "Epoch [3/5], Step [100/600], Loss: 0.0747\n",
      "Epoch [3/5], Step [200/600], Loss: 0.0864\n",
      "Epoch [3/5], Step [300/600], Loss: 0.0982\n",
      "Epoch [3/5], Step [400/600], Loss: 0.0863\n",
      "Epoch [3/5], Step [500/600], Loss: 0.0602\n",
      "Epoch [3/5], Step [600/600], Loss: 0.0161\n",
      "Epoch [4/5], Step [100/600], Loss: 0.0538\n",
      "Epoch [4/5], Step [200/600], Loss: 0.1317\n",
      "Epoch [4/5], Step [300/600], Loss: 0.0300\n",
      "Epoch [4/5], Step [400/600], Loss: 0.0905\n",
      "Epoch [4/5], Step [500/600], Loss: 0.0180\n",
      "Epoch [4/5], Step [600/600], Loss: 0.1000\n",
      "Epoch [5/5], Step [100/600], Loss: 0.0282\n",
      "Epoch [5/5], Step [200/600], Loss: 0.0180\n",
      "Epoch [5/5], Step [300/600], Loss: 0.0339\n",
      "Epoch [5/5], Step [400/600], Loss: 0.0533\n",
      "Epoch [5/5], Step [500/600], Loss: 0.0214\n",
      "Epoch [5/5], Step [600/600], Loss: 0.0299\n"
     ]
    }
   ],
   "source": [
    "model = CNN()\n",
    "\n",
    "# Loss and optimizer\n",
    "criterion = nn.CrossEntropyLoss()\n",
    "optimizer = torch.optim.Adam(model.parameters(), lr=learning_rate)\n",
    "\n",
    "# Train the model\n",
    "total_step = len(train_loader)\n",
    "for epoch in range(num_epochs):\n",
    "    for i, (images, labels) in enumerate(train_loader):\n",
    "        # Forward pass\n",
    "        outputs = model(images)\n",
    "        loss = criterion(outputs, labels)\n",
    "        # Backward and optimize\n",
    "        optimizer.zero_grad()\n",
    "        loss.backward()\n",
    "        optimizer.step()\n",
    "        \n",
    "        if (i+1) % 100 == 0:\n",
    "            print ('Epoch [{}/{}], Step [{}/{}], Loss: {:.4f}' \n",
    "                   .format(epoch+1, num_epochs, i+1, total_step, loss.item()))"
   ]
  },
  {
   "cell_type": "code",
   "execution_count": 69,
   "metadata": {},
   "outputs": [
    {
     "name": "stdout",
     "output_type": "stream",
     "text": [
      "Test Accuracy of the model on the 10000 test images: 98.43 %\n"
     ]
    }
   ],
   "source": [
    "# Test the model\n",
    "# model.eval()  # eval mode (batchnorm uses moving mean/variance instead of mini-batch mean/variance)\n",
    "with torch.no_grad():\n",
    "    correct = 0\n",
    "    total = 0\n",
    "    for images, labels in test_loader:\n",
    "        outputs = model(images)\n",
    "        _, predicted = torch.max(outputs.data, 1)\n",
    "        total += labels.size(0)\n",
    "        correct += (predicted == labels).sum().item()\n",
    "\n",
    "    print('Test Accuracy of the model on the 10000 test images: {} %'.format(100 * correct / total))"
   ]
  },
  {
   "cell_type": "code",
   "execution_count": 102,
   "metadata": {},
   "outputs": [
    {
     "name": "stdout",
     "output_type": "stream",
     "text": [
      "Epoch: 1, Acc: 99.0000, Loss: 0.0347\n",
      "Epoch: 2, Acc: 99.0000, Loss: 0.0312\n",
      "Epoch: 3, Acc: 99.0000, Loss: 0.0292\n",
      "Epoch: 4, Acc: 99.0000, Loss: 0.0273\n",
      "Epoch: 5, Acc: 99.0000, Loss: 0.0255\n"
     ]
    }
   ],
   "source": [
    "def train(model, dataloader, criterion, optimizer):\n",
    "    model.train()\n",
    "    total_loss = 0\n",
    "    total_acc = 0\n",
    "    n_batches = len(dataloader)\n",
    "    for inputs, targets in dataloader:\n",
    "        ## Forward Pass\n",
    "        output = model(inputs)\n",
    "        ## Clear Gradients\n",
    "        model.zero_grad()\n",
    "        loss = criterion(output, targets)\n",
    "        ## Backprop\n",
    "        loss.backward()\n",
    "        optimizer.step()\n",
    "        ## prediction and accuracy\n",
    "        outputs = model(images)\n",
    "        accuracy = get_accuracy(outputs, targets) \n",
    "        total_loss += loss.item()\n",
    "        total_acc += accuracy\n",
    "    mean_loss = total_loss / n_batches\n",
    "    mean_acc = total_acc / n_batches\n",
    "    return mean_loss, mean_acc\n",
    "\n",
    "def get_accuracy(preds, targets):\n",
    "    _, predicted = torch.max(preds.data, 1)\n",
    "    total = targets.size(0)\n",
    "    correct = (predicted == labels).sum()           \n",
    "    return (100 * correct / total)\n",
    "\n",
    "# Train the model\n",
    "total_step = len(train_loader)\n",
    "for epoch in range(num_epochs):\n",
    "    mn_loss, mn_acc =  train(model, train_loader, criterion, optimizer) \n",
    "    print ('Epoch: {}, Acc: {:.4f}, Loss: {:.4f}'.format(epoch+1, mn_acc, mn_loss))"
   ]
  },
  {
   "cell_type": "code",
   "execution_count": 106,
   "metadata": {},
   "outputs": [
    {
     "data": {
      "text/plain": [
       "CNN(\n",
       "  (conv1): Conv2d(1, 10, kernel_size=(5, 5), stride=(1, 1))\n",
       "  (conv2): Conv2d(10, 20, kernel_size=(5, 5), stride=(1, 1))\n",
       "  (mp): MaxPool2d(kernel_size=2, stride=2, padding=0, dilation=1, ceil_mode=False)\n",
       "  (fc): Linear(in_features=320, out_features=10, bias=True)\n",
       ")"
      ]
     },
     "execution_count": 106,
     "metadata": {},
     "output_type": "execute_result"
    }
   ],
   "source": [
    "model"
   ]
  },
  {
   "cell_type": "code",
   "execution_count": 142,
   "metadata": {},
   "outputs": [
    {
     "data": {
      "text/plain": [
       "<Figure size 432x288 with 0 Axes>"
      ]
     },
     "metadata": {},
     "output_type": "display_data"
    },
    {
     "data": {
      "image/png": "[encoded data removed]",
      "text/plain": [
       "<Figure size 1152x576 with 10 Axes>"
      ]
     },
     "metadata": {
      "needs_background": "light"
     },
     "output_type": "display_data"
    }
   ],
   "source": [
    "fig = plt.figure()\n",
    "plt.figure(figsize=(16,8))\n",
    "idx = 1\n",
    "for w  in model.conv1.weight:\n",
    "    data = w.data[0]\n",
    "    plt.subplot(2, 5, idx)\n",
    "    plt.imshow(data, cmap=\"gray\")\n",
    "    idx += 1\n",
    "    \n",
    "fig.show()"
   ]
  },
  {
   "cell_type": "code",
   "execution_count": 141,
   "metadata": {},
   "outputs": [
    {
     "data": {
      "text/plain": [
       "<Figure size 432x288 with 0 Axes>"
      ]
     },
     "metadata": {},
     "output_type": "display_data"
    },
    {
     "data": {
      "image/png": "[encoded data removed]",
      "text/plain": [
       "<Figure size 1152x1152 with 20 Axes>"
      ]
     },
     "metadata": {
      "needs_background": "light"
     },
     "output_type": "display_data"
    }
   ],
   "source": [
    "fig = plt.figure()\n",
    "plt.figure(figsize=(16,16))\n",
    "idx = 1\n",
    "for w  in model.conv2.weight:\n",
    "    data = w.data[0]\n",
    "    plt.subplot(4, 5, idx)\n",
    "    plt.imshow(data, cmap=\"gray\")\n",
    "    idx += 1\n",
    "    \n",
    "fig.show()"
   ]
  },
  {
   "cell_type": "code",
   "execution_count": null,
   "metadata": {},
   "outputs": [],
   "source": []
  }
 ],
 "metadata": {
  "kernelspec": {
   "display_name": "Python 3",
   "language": "python",
   "name": "python3"
  },
  "language_info": {
   "codemirror_mode": {
    "name": "ipython",
    "version": 3
   },
   "file_extension": ".py",
   "mimetype": "text/x-python",
   "name": "python",
   "nbconvert_exporter": "python",
   "pygments_lexer": "ipython3",
   "version": "3.6.6"
  }
 },
 "nbformat": 4,
 "nbformat_minor": 2
}
