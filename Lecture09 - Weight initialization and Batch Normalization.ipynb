{
 "cells": [
  {
   "cell_type": "markdown",
   "metadata": {},
   "source": [
    "# Weight Initialization\n",
    "In this lesson, you'll learn how to find good initial weights for a neural network. Having good initial weights can place the neural network close to the optimal solution. This allows the neural network to come to the best solution quicker. \n",
    "\n",
    "\n",
    "### Dataset\n",
    "To see how different weights perform, we'll test on the same dataset and neural network. Let's go over the dataset and neural network.\n",
    "\n",
    "We'll be using the [MNIST dataset](https://en.wikipedia.org/wiki/MNIST_database) to demonstrate the different initial weights. As a reminder, the MNIST dataset contains images of handwritten numbers, 0-9, with normalized input (0.0 - 1.0).  Run the cell below to download and load the MNIST dataset."
   ]
  },
  {
   "cell_type": "code",
   "execution_count": 20,
   "metadata": {},
   "outputs": [],
   "source": [
    "# Import necessary packages\n",
    "from __future__ import print_function\n",
    "import torch\n",
    "import numpy as np\n",
    "import matplotlib.pyplot as plt\n",
    "import torchvision\n",
    "import torchvision.transforms as transforms\n",
    "import warnings\n",
    "\n",
    "warnings.filterwarnings('ignore')\n",
    "%matplotlib inline"
   ]
  },
  {
   "cell_type": "code",
   "execution_count": 21,
   "metadata": {},
   "outputs": [],
   "source": [
    "# Import MNIST data so we have something for our experiments\n",
    "train_dataset = torchvision.datasets.MNIST(root='./data', train=True, download=True)"
   ]
  },
  {
   "cell_type": "code",
   "execution_count": 24,
   "metadata": {},
   "outputs": [],
   "source": [
    "def hist_dist(title, values, hist_range=(-4, 4)):\n",
    "    plt.title(title)\n",
    "    plt.hist(values, np.linspace(*hist_range, num=len(values)/2))\n",
    "    plt.show()"
   ]
  },
  {
   "cell_type": "code",
   "execution_count": 25,
   "metadata": {},
   "outputs": [
    {
     "data": {
      "image/png": "[encoded data removed]",
      "text/plain": [
       "<Figure size 432x288 with 1 Axes>"
      ]
     },
     "metadata": {
      "needs_background": "light"
     },
     "output_type": "display_data"
    }
   ],
   "source": [
    "r = torch.Tensor(1000).uniform_(-3, 3)\n",
    "\n",
    "hist_dist('Distribution', r)"
   ]
  },
  {
   "cell_type": "markdown",
   "metadata": {},
   "source": [
    "## Pytorch Weight Initialization\n",
    "\n",
    "PyTorch layers are initialized by default in their respective `reset_parameters()` method. For example:\n",
    "\n",
    "- `nn.Linear`\n",
    "    - `weight` and `bias`: uniform distribution [-limit, +limit] where `limit` is `1. / sqrt(fan_in)` and `fan_in` is the number of input units in the weight tensor.\n",
    "- `nn.Conv2D`\n",
    "    - `weight` and `bias`: uniform distribution [-limit, +limit] where `limit` is `1. / sqrt(fan_in)` and `fan_in` is the number of input units in the weight tensor.\n",
    "\n",
    "With this implementation, the variance of the layer outputs is equal to `Var(W) = 1 / 3 * sqrt(fan_in)` which isn't the best initialization strategy out there.\n",
    "\n",
    "Note that PyTorch provides convenience functions for some of the initializations. The input and output shapes are computed using the method `_calculate_fan_in_and_fan_out()` and a `gain()` method scales the standard deviation to suit a particular activation.\n",
    "\n",
    "```python\n",
    "# default xavier init\n",
    "def init_weights(self):\n",
    "        init.xavier_normal(self.fc1.weight, gain=nn.init.calculate_gain('relu')) \n",
    "```\n",
    "\n",
    "#### Xavier Initialization\n",
    "\n",
    "This initialization is general-purpose and meant to \"work\" pretty well for any activation in practice.\n",
    "\n",
    "```python\n",
    "# default xavier init\n",
    "for m in model.modules():\n",
    "    if isinstance(m, (nn.Conv2d, nn.Linear)):\n",
    "        nn.init.xavier_uniform(m.weight)\n",
    "```\n",
    "\n",
    "You can tailor this initialization to your specific activation by using the `nn.init.calculate_gain(act)` argument.\n",
    "\n",
    "```python\n",
    "# default xavier init\n",
    "for m in model.modules():\n",
    "    if isinstance(m, (nn.Conv2d, nn.Linear)):\n",
    "        nn.init.xavier_uniform(m.weight(), gain=nn.init.calculate_gain('relu'))\n",
    "```\n",
    "\n",
    "- [arXiv](http://proceedings.mlr.press/v9/glorot10a/glorot10a.pdf)\n",
    "\n",
    "#### He et. al Initialization\n",
    "\n",
    "This is a similarly derived initialization tailored specifically for ReLU activations since they do not exhibit zero mean.\n",
    "\n",
    "```python\n",
    "# he initialization\n",
    "for m in model.modules():\n",
    "    if isinstance(m, (nn.Conv2d, nn.Linear)):\n",
    "        nn.init.kaiming_normal(m.weight, mode='fan_in')\n",
    "```\n",
    "\n",
    "For `mode=fan_in`, the variance of the distribution is ensured in the forward pass, while for `mode=fan_out`, it is ensured in the backwards pass.\n",
    "\n",
    "- [arXiv](https://arxiv.org/abs/1502.01852)\n",
    "\n",
    "#### SELU Initialization\n",
    "\n",
    "Again, this initialization is specifically derived for the SELU activation function. The authors use the `fan_in` strategy. They mention that there is no significant difference between sampling from a Gaussian, a truncated Gaussian or a Uniform distribution.\n",
    "\n",
    "```python\n",
    "# selu init\n",
    "for m in model.modules():\n",
    "    if isinstance(m, nn.Conv2d):\n",
    "        fan_in = m.kernel_size[0] * m.kernel_size[1] * m.in_channels\n",
    "        nn.init.normal(m.weight, 0, sqrt(1. / fan_in))\n",
    "    elif isinstance(m, nn.Linear):\n",
    "        fan_in = m.in_features\n",
    "        nn.init.normal(m.weight, 0, sqrt(1. / fan_in))\n",
    "```\n",
    "\n",
    "- [arXiv](https://arxiv.org/abs/1706.02515)\n",
    "\n",
    "#### Orthogonal Initialization\n",
    "\n",
    "Orthogonality is a desirable quality in NN weights in part because it is norm preserving, i.e. it rotates the input matrix, but cannot change its norm (scale/shear). This property is valuable in deep or recurrent networks, where repeated matrix multiplication can result in signals vanishing or exploding.\n",
    "\n",
    "```python\n",
    "for m in model.modules():\n",
    "    if isinstance(m, (nn.Conv2d, nn.Linear)):\n",
    "        nn.init.orthogonal(m.weight)\n",
    "```\n"
   ]
  },
  {
   "cell_type": "code",
   "execution_count": 7,
   "metadata": {},
   "outputs": [],
   "source": [
    "def compare_init_weights(dataset, title, weight_init_list, plot_n_batches=100):\n",
    "    \"\"\"\n",
    "    Plot loss and print stats of weights using an example neural network\n",
    "    \"\"\"\n",
    "    colors = ['r', 'b', 'g', 'c', 'y', 'k']\n",
    "    label_accs = []\n",
    "    label_loss = []\n",
    "\n",
    "    assert len(weight_init_list) <= len(colors), 'Too many inital weights to plot'\n",
    "\n",
    "    for i, (weights, label) in enumerate(weight_init_list):\n",
    "        loss, val_acc = _get_loss_acc(dataset, weights)\n",
    "\n",
    "        plt.plot(loss[:plot_n_batches], colors[i], label=label)\n",
    "        label_accs.append((label, val_acc))\n",
    "        label_loss.append((label, loss[-1]))\n",
    "\n",
    "    plt.title(title)\n",
    "    plt.xlabel('Batches')\n",
    "    plt.ylabel('Loss')\n",
    "    plt.legend(bbox_to_anchor=(1.05, 1), loc=2, borderaxespad=0.)\n",
    "    plt.show()\n",
    "\n",
    "    print('After 858 Batches (2 Epochs):')\n",
    "    print('Validation Accuracy')\n",
    "    for label, val_acc in label_accs:\n",
    "        print('  {:7.3f}% -- {}'.format(val_acc*100, label))\n",
    "    print('Loss')\n",
    "    for label, loss in label_loss:\n",
    "        print('  {:7.3f}  -- {}'.format(loss, label))"
   ]
  },
  {
   "cell_type": "markdown",
   "metadata": {},
   "source": [
    "For the neural network, we'll test on a 3 layer neural network with ReLU activations and an Adam optimizer.  The lessons you learn apply to other neural networks, including different activations and optimizers.\n",
    "\n",
    "## Initialize Weights\n",
    "Let's start looking at some initial weights.\n",
    "### All Zeros or Ones\n",
    "If you follow the principle of [Occam's razor](https://en.wikipedia.org/wiki/Occam's_razor), you might think setting all the weights to 0 or 1 would be the best solution.  This is not the case.\n",
    "\n",
    "With every weight the same, all the neurons at each layer are producing the same output.  This makes it hard to decide which weights to adjust.\n",
    "\n",
    "Let's compare the loss with all ones and all zero weights using `helper.compare_init_weights`.  This function will run two different initial weights on the neural network above for 2 epochs.  It will plot the loss for the first 100 batches and print out stats after the 2 epochs (~860 batches). We plot the first 100 batches to better judge which weights performed better at the start.\n",
    "\n",
    "Run the cell below to see the difference between weights of all zeros against all ones."
   ]
  },
  {
   "cell_type": "code",
   "execution_count": null,
   "metadata": {},
   "outputs": [],
   "source": []
  }
 ],
 "metadata": {
  "kernelspec": {
   "display_name": "Python 3",
   "language": "python",
   "name": "python3"
  },
  "language_info": {
   "codemirror_mode": {
    "name": "ipython",
    "version": 3
   },
   "file_extension": ".py",
   "mimetype": "text/x-python",
   "name": "python",
   "nbconvert_exporter": "python",
   "pygments_lexer": "ipython3",
   "version": "3.7.2"
  }
 },
 "nbformat": 4,
 "nbformat_minor": 2
}
