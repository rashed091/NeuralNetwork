{
 "cells": [
  {
   "cell_type": "markdown",
   "metadata": {
    "slideshow": {
     "slide_type": "slide"
    }
   },
   "source": [
    "$$\n",
    "\\newcommand{\\mat}[1]{\\boldsymbol {#1}}\n",
    "\\newcommand{\\mattr}[1]{\\boldsymbol {#1}^\\top}\n",
    "\\newcommand{\\matinv}[1]{\\boldsymbol {#1}^{-1}}\n",
    "\\newcommand{\\vec}[1]{\\boldsymbol {#1}}\n",
    "\\newcommand{\\vectr}[1]{\\boldsymbol {#1}^\\top}\n",
    "\\newcommand{\\rvar}[1]{\\mathrm {#1}}\n",
    "\\newcommand{\\rvec}[1]{\\boldsymbol{\\mathrm{#1}}}\n",
    "\\newcommand{\\diag}{\\mathop{\\mathrm {diag}}}\n",
    "\\newcommand{\\set}[1]{\\mathbb {#1}}\n",
    "\\newcommand{\\norm}[1]{\\left\\lVert#1\\right\\rVert}\n",
    "\\newcommand{\\pderiv}[2]{\\frac{\\partial #1}{\\partial #2}}\n",
    "\\newcommand{\\bb}[1]{\\boldsymbol{#1}}\n",
    "$$\n",
    "\n",
    "# CS236781:   Deep Learning\n",
    "# Tutorial 3: Multilayer Perceptron"
   ]
  },
  {
   "cell_type": "markdown",
   "metadata": {
    "slideshow": {
     "slide_type": "slide"
    }
   },
   "source": [
    "## Introduction\n",
    "\n",
    "In this tutorial, we will cover:\n",
    "\n",
    "* Linear (fully connected) layers\n",
    "* Activation functions\n",
    "* 2-Layer MLP implementation from scratch\n",
    "* Back-propagation\n",
    "* N-layer MLP with PyTorch's `autograd` and `optim` modules"
   ]
  },
  {
   "cell_type": "code",
   "execution_count": 1,
   "metadata": {
    "slideshow": {
     "slide_type": "subslide"
    }
   },
   "outputs": [],
   "source": [
    "# Setup\n",
    "%matplotlib inline\n",
    "import os\n",
    "import numpy as np\n",
    "import sklearn\n",
    "import torch\n",
    "import matplotlib.pyplot as plt"
   ]
  },
  {
   "cell_type": "code",
   "execution_count": 2,
   "metadata": {
    "slideshow": {
     "slide_type": "fragment"
    }
   },
   "outputs": [],
   "source": [
    "plt.rcParams['font.size'] = 20"
   ]
  },
  {
   "cell_type": "markdown",
   "metadata": {
    "slideshow": {
     "slide_type": "slide"
    }
   },
   "source": [
    "## Reminder: Perceptrons and linear models"
   ]
  },
  {
   "cell_type": "markdown",
   "metadata": {
    "slideshow": {
     "slide_type": "fragment"
    }
   },
   "source": [
    "The following hypothesis class\n",
    "$$\n",
    "\\mathcal{H} =\n",
    "\\left\\{ h: \\mathcal{X}\\rightarrow\\mathcal{Y}\n",
    "~\\vert~\n",
    "h(\\vec{x}) = \\varphi(\\vectr{w}\\vec{x}+b); \\vec{w}\\in\\set{R}^D,~b\\in\\set{R}\\right\\}\n",
    "$$\n",
    "where $\\varphi(\\cdot)$ is some nonlinear function, is composed of functions representing the **perceptron** model."
   ]
  },
  {
   "cell_type": "markdown",
   "metadata": {
    "slideshow": {
     "slide_type": "subslide"
    }
   },
   "source": [
    "Schematic of a single perceptron, and it's inspiration, a biological neuron.\n",
    "\n",
    "| . | . |\n",
    "|---|---|\n",
    "| <img src=\"imgs/perceptron.png\" width=400 /> | <img src=\"imgs/neuron.png\" width=600 /> |"
   ]
  },
  {
   "cell_type": "markdown",
   "metadata": {
    "slideshow": {
     "slide_type": "fragment"
    }
   },
   "source": [
    "Last tutorial: we trained a **logistic regression** model by using\n",
    "$$\\varphi(\\vec{z})=\\sigma(\\vec{z})=\\frac{1}{1+\\exp(-\\vec{z})}\\in[0,1].$$"
   ]
  },
  {
   "cell_type": "markdown",
   "metadata": {
    "slideshow": {
     "slide_type": "subslide"
    }
   },
   "source": [
    "**Limitation**: logistic regression is still a linear classifier. In what sense is it linear though?\n",
    "\n",
    "$$\\hat{y} = \\sigma(\\vectr{w}\\vec{x}+b)$$"
   ]
  },
  {
   "cell_type": "markdown",
   "metadata": {
    "slideshow": {
     "slide_type": "fragment"
    }
   },
   "source": [
    "**Linear** in the sense that output depends only on a linear combination of weights and inputs.\n",
    "\n",
    "Decision boundaries are therefore straight lines:\n",
    "\n",
    "<center><img src=\"imgs/perceptron_db.png\" width=\"600\"/></center>"
   ]
  },
  {
   "cell_type": "markdown",
   "metadata": {
    "slideshow": {
     "slide_type": "subslide"
    }
   },
   "source": [
    "If we define $y(\\vec{x})=\\vectr{w}\\vec{x}+b$, then the **decision surface** of the classifier is $y(\\vec{x})=\\text{const}$ (usually zero)."
   ]
  },
  {
   "cell_type": "markdown",
   "metadata": {
    "slideshow": {
     "slide_type": "fragment"
    }
   },
   "source": [
    "<center><img src=\"imgs/linear_discriminant.png\" width=\"700\"/></center>"
   ]
  },
  {
   "cell_type": "markdown",
   "metadata": {
    "slideshow": {
     "slide_type": "subslide"
    }
   },
   "source": [
    "- For any $\\vec{x_1}, \\vec{x_2}$ on the decision boundary, $\\vectr{w}(\\vec{x_1}-\\vec{x_2})=0$ $\\Rightarrow \\vec{w}$ orthogonal to every vector in the surface.\n",
    "- For any $\\vec{x_1}$ on the decision boundary, $\\vectr{w}\\vec{x_1}=-b$. Since $\\frac{\\vectr{w}}{\\norm{\\vec{w}}}\\vec{x_1}$ is the length of the projection of $\\vec{x}$ onto $\\vec{w}$, then the distance of the boundary from origin is given by\n",
    "$\\frac{-b}{\\norm{\\vec{w}}}$.\n",
    "- For any point $\\vec{x}$, $\\frac{y(\\vec{x})}{\\norm{\\vec{w}}}$ is the **signed perpendicular distance** from the decision boundary."
   ]
  },
  {
   "cell_type": "markdown",
   "metadata": {
    "slideshow": {
     "slide_type": "subslide"
    }
   },
   "source": [
    "What if our data is not linearly separable? Can we still use e.g. logistic regression?"
   ]
  },
  {
   "cell_type": "markdown",
   "metadata": {
    "slideshow": {
     "slide_type": "fragment"
    }
   },
   "source": [
    "<center><img src=\"imgs/nonlinear_datasets.png\" width=\"1200\"/></center>"
   ]
  },
  {
   "cell_type": "markdown",
   "metadata": {
    "slideshow": {
     "slide_type": "subslide"
    }
   },
   "source": [
    "**Generalized linear model**: first apply a **fixed** nonlinear transformation to the data\n",
    "\n",
    "$$\\hat{y} = \\varphi(\\vectr{w}\\psi(\\vec{x})+b).$$"
   ]
  },
  {
   "cell_type": "markdown",
   "metadata": {
    "slideshow": {
     "slide_type": "fragment"
    }
   },
   "source": [
    "Now we can get nonlinear decision boundaries with respect to $\\vec{x}$.\n",
    "\n",
    "But how can we choose a nonlinear transformation? What if we want to **learn** it?"
   ]
  },
  {
   "cell_type": "markdown",
   "metadata": {
    "slideshow": {
     "slide_type": "slide"
    }
   },
   "source": [
    "## Multilayer Perceptron (MLP)"
   ]
  },
  {
   "cell_type": "markdown",
   "metadata": {
    "slideshow": {
     "slide_type": "fragment"
    }
   },
   "source": [
    "### Model\n",
    "\n",
    "<center><img src=\"imgs/mlp.png\" width=1000 /></center>\n",
    "\n",
    "Composed of $L$ hidden **layers**, each layer $l$ with $n_l$ **perceptron** (\"neuron\") units."
   ]
  },
  {
   "cell_type": "markdown",
   "metadata": {
    "slideshow": {
     "slide_type": "subslide"
    }
   },
   "source": [
    "Each layer $l$ operates on the output of the previous layer ($\\vec{y}_{l-1}$) and calculates:\n",
    "\n",
    "$$\n",
    "\\vec{y}_l = \\varphi\\left( \\mat{W}_l \\vec{y}_{l-1} + \\vec{b}_l \\right),~\n",
    "\\mat{W}_l\\in\\set{R}^{n_{l}\\times n_{l-1}},~ \\vec{b}_l\\in\\set{R}^{n_l}.\n",
    "$$\n",
    "\n",
    "- Note that both input and output are **vectors**. We can think of the above equation as describing a layer of **multiple perceptrons**.\n",
    "- We'll henceforth refer to such layers as **fully-connected** or FC layers.\n",
    "- The first layer accepts the input of the model, i.e. $\\vec{y}_0=\\vec{x}\\in\\set{R}^d$."
   ]
  },
  {
   "cell_type": "markdown",
   "metadata": {
    "slideshow": {
     "slide_type": "subslide"
    }
   },
   "source": [
    "Given an input sample $\\vec{x}^i$, the computed function of an $L$-layer MLP is:\n",
    "$$\n",
    "\\vec{y}_L^i= \\varphi \\left(\n",
    "\\mat{W}_L \\varphi \\left( \\cdots\n",
    "\\varphi \\left( \\mat{W}_1 \\vec{x}^i + \\vec{b}_1 \\right)\n",
    "\\cdots \\right)\n",
    "+ \\vec{b}_L \\right)\n",
    "$$\n",
    "\n",
    "- Universal approximator theorem: an MLP with $L>1$, can approximate (almost) any function given enough parameters (Cybenko, 1989). The MLP is therefore a **potent hypothesis class** (recall approximation error and expressiveness).\n",
    "\n",
    "  See [here](http://neuralnetworksanddeeplearning.com/chap4.html) for an intuitive explanation of the UAT."
   ]
  },
  {
   "cell_type": "markdown",
   "metadata": {
    "slideshow": {
     "slide_type": "subslide"
    }
   },
   "source": [
    "- This expression is fully differentiable w.r.t. parameters using the Chain Rule.\n"
   ]
  },
  {
   "cell_type": "markdown",
   "metadata": {
    "slideshow": {
     "slide_type": "subslide"
    }
   },
   "source": [
    "- Since it has a non-linear dependency on it's weights and inputs, non-linear decision boundaries are possible\n",
    "    - MLP with 1, 2 and 4 hidden layers, 3 neurons each\n",
    "    \n",
    "    <center><img src=\"imgs/overfit_1-2-4HL_3N.jpg\" width=\"1100\" alt=\"overfit1\"></center>"
   ]
  },
  {
   "cell_type": "markdown",
   "metadata": {
    "slideshow": {
     "slide_type": "slide"
    }
   },
   "source": [
    "### Activation functions "
   ]
  },
  {
   "cell_type": "markdown",
   "metadata": {
    "slideshow": {
     "slide_type": "subslide"
    }
   },
   "source": [
    "An **activation function** is the non-linear elementwise function $\\varphi(\\cdot)$ which operates on the affine part of the perceptron model.\n",
    "\n",
    "Why do we even need non-linearities in the first place? Isn't the depth enough?"
   ]
  },
  {
   "cell_type": "markdown",
   "metadata": {
    "slideshow": {
     "slide_type": "fragment"
    }
   },
   "source": [
    "Without them, the MLP model would be equivalent to a single affine transform."
   ]
  },
  {
   "cell_type": "markdown",
   "metadata": {
    "slideshow": {
     "slide_type": "subslide"
    }
   },
   "source": [
    "Common choices for the activation functions are:\n",
    "\n",
    "- The logistic function (sigmoid)\n",
    "    $$ \\varphi(t) = \\sigma(t) = \\frac{1}{1+e^{-t}} \\in  [0,1] $$\n",
    "- The hyperbolic tangent (a shifted and scaled sigmoid)\n",
    "    $$ \\varphi(t) = \\mathrm{tanh}(t) = \\frac{e^t - e^{-t}}{e^t +e^{-t}} \\in [-1,1]$$"
   ]
  },
  {
   "cell_type": "markdown",
   "metadata": {
    "slideshow": {
     "slide_type": "fragment"
    }
   },
   "source": [
    "- ReLU, rectified linear unit\n",
    "    $$ \\varphi(t) = \\max\\{t,0\\} $$\n",
    "Note that\n",
    "    $$ \\pderiv{\\varphi}{t} = \\begin{cases} 1, & t\\geq0 \\\\ 0, & t<0 \\end{cases} $$"
   ]
  },
  {
   "cell_type": "code",
   "execution_count": 3,
   "metadata": {
    "slideshow": {
     "slide_type": "subslide"
    }
   },
   "outputs": [],
   "source": [
    "# Plot some activation functions and their gradients\n",
    "\n",
    "# Activation functions\n",
    "relu = lambda x: np.maximum(0, x)\n",
    "sigmoid = lambda x: 1 / (1 + np.exp(-x))\n",
    "tanh = lambda x: (np.exp(x)-np.exp(-x)) / (np.exp(x)+np.exp(-x))\n",
    "\n",
    "# Their gradients\n",
    "g_relu = lambda x: np.array(relu(x) > 0, dtype=np.float)\n",
    "g_sigmoid = lambda x: sigmoid(x) * (1-sigmoid(x))\n",
    "g_tanh = lambda x: (1 - tanh(x) ** 2)"
   ]
  },
  {
   "cell_type": "code",
   "execution_count": 4,
   "metadata": {
    "slideshow": {
     "slide_type": "subslide"
    }
   },
   "outputs": [
    {
     "data": {
      "image/png": "[encoded data removed]",
      "text/plain": [
       "<Figure size 1152x360 with 2 Axes>"
      ]
     },
     "metadata": {
      "needs_background": "light"
     },
     "output_type": "display_data"
    }
   ],
   "source": [
    "x = np.linspace(-4, 4, num=1024)\n",
    "_, axes = plt.subplots(nrows=1, ncols=2, figsize=(16,5))\n",
    "axes[0].plot(x, relu(x), x, sigmoid(x), x, tanh(x))\n",
    "axes[1].plot(x, g_relu(x), x, g_sigmoid(x), x, g_tanh(x))\n",
    "legend_entries = (r'\\mathrm{ReLU}(x)', r'\\sigma(x)', r'\\mathrm{tanh}(x)')\n",
    "for ax, legend_prefix in zip(axes, ('', r'\\frac{\\partial}{\\partial x}')):\n",
    "    ax.grid(True)\n",
    "    ax.legend(tuple(f'${legend_prefix}{legend_entry}$' for legend_entry in legend_entries))\n",
    "    ax.set_ylim((-1.1,1.1))"
   ]
  },
  {
   "cell_type": "markdown",
   "metadata": {
    "slideshow": {
     "slide_type": "subslide"
    }
   },
   "source": [
    "Some reasons people cite for using ReLU are:\n",
    "\n",
    "- \"Nearly linear\", so easy to optimize\n",
    "- Mitigates vanishing gradients due to many layers (even though they can still be zero).\n",
    "- Promotes sparse weight vectors: \"dead neurons\" arguably cause sparsity in the next layer.\n",
    "- Much faster to compute than sigmoid and tanh."
   ]
  },
  {
   "cell_type": "markdown",
   "metadata": {
    "slideshow": {
     "slide_type": "slide"
    }
   },
   "source": [
    "## Part 1: Two-layer MLP from scratch"
   ]
  },
  {
   "cell_type": "markdown",
   "metadata": {
    "slideshow": {
     "slide_type": "fragment"
    }
   },
   "source": [
    "Let's solve a simple **regression** problem with a 2-layer MLP (one hidden layer, one output layer)."
   ]
  },
  {
   "cell_type": "markdown",
   "metadata": {
    "slideshow": {
     "slide_type": "slide"
    }
   },
   "source": [
    "We're trying to learn a continuous and perhaps non-deterministic function $y=f(\\vec{x})$.\n",
    "\n",
    "- Domain: $\\vec{x}^i \\in \\set{R}^{D_{\\text{in}}}$\n",
    "\n",
    "- Target: $y^i \\in \\set{R}^{D_{\\text{out}}}$\n",
    "\n",
    "- Model: $\\hat{y} =\\mat{W}_2~ \\varphi(\\mat{W}_1 \\vec{x}+ \\vec{b}_1) + \\vec{b}_2$<br>\n",
    "  i.e. a 2-layer MLP, where:\n",
    "    - $\\vec{x}\\in\\set{R}^{D_{\\text{in}}}$ sample (feature vector)\n",
    "    - $\\mat{W}_1\\in\\set{R}^{H\\times D_{\\text{in}}},\\ \\vec{b}_1\\in\\set{R}^{H}$\n",
    "    - $\\mat{W}_2\\in\\set{R}^{D_{\\text{out}}\\times H},\\ \\vec{b}_2\\in\\set{R}^{D_{\\text{out}}}$\n",
    "    - $\\varphi(\\cdot) = \\mathrm{ReLU}(\\cdot) = \\max\\{\\cdot,0\\}$\n",
    "    - $H$ is the hidden dimension\n",
    "    - We'll set $D_{\\text{out}}=1$ so output is a scalar\n",
    "   "
   ]
  },
  {
   "cell_type": "markdown",
   "metadata": {
    "slideshow": {
     "slide_type": "slide"
    }
   },
   "source": [
    " \n",
    "- MSE loss with L2 regularization:\n",
    "    $$\n",
    "    \\begin{align}\n",
    "    \\ell(\\vec{y},\\vec{\\hat y}) &= \\frac{1}{2}\\norm{\\vec{\\hat y} - \\vec{y}}^2 \\\\\n",
    "    L_{\\mathcal{S}} &= \\frac{1}{N}\\sum_{i=1}^{N}\\ell(\\vec{y},\\vec{\\hat y}) + \\frac{\\lambda}{2}\\left(\\norm{\\mat{W}_1}_F^2 + \\norm{\\mat{W}_2}_F^2 \\right)\n",
    "    \\end{align}\n",
    "    $$\n",
    "- Optimization scheme: Vanilla SGD"
   ]
  },
  {
   "cell_type": "markdown",
   "metadata": {
    "slideshow": {
     "slide_type": "slide"
    }
   },
   "source": [
    "### Computing the loss gradients with backpropagation"
   ]
  },
  {
   "cell_type": "markdown",
   "metadata": {
    "slideshow": {
     "slide_type": "fragment"
    }
   },
   "source": [
    "Let's write our model as \n",
    "$$\n",
    "\\hat{y} =\\mat{W}_2~ \\underbrace{\\mathrm{relu}(\\overbrace{\\mat{W}_1 \\vec{x}+ \\vec{b}_1}^{\\vec{z}})}_{\\vec{a}} + \\vec{b}_2,\n",
    "$$\n",
    "\n",
    "and manually derive the gradient of the point-wise loss $\\ell(\\vec{y},\\vec{\\hat y})$ using the **chain rule**."
   ]
  },
  {
   "cell_type": "markdown",
   "metadata": {
    "slideshow": {
     "slide_type": "subslide"
    }
   },
   "source": [
    "$$\n",
    "\\begin{align}\n",
    "&\\pderiv{\\ell}{\\vec{\\hat y}}=2\\cdot\\frac{1}{2}(\\vec{\\hat y}-\\vec{y}) = (\\vec{\\hat y}-\\vec{y})\\\\\n",
    "(\\ast)~~&\\pderiv{\\ell}{\\mat{W}_2}= \\pderiv{\\ell}{\\vec{\\hat y}}\\pderiv{\\vec{\\hat y}}{\\mat{W}_2}\n",
    "=(\\vec{\\hat y}-\\vec{y})\\vectr{a}\n",
    "\\end{align}\n",
    "$$"
   ]
  },
  {
   "cell_type": "markdown",
   "metadata": {
    "slideshow": {
     "slide_type": "subslide"
    }
   },
   "source": [
    "How do we continue into the nonlinearity? Recall that \n",
    "\n",
    "$$ \\pderiv{\\mathrm{relu}(x)}{x} = \\begin{cases} 1, & x\\geq0 \\\\ 0, & x<0 \\end{cases} $$\n",
    "\n",
    "and that we apply the non-linearity elementwise on input tensors.\n",
    "\n",
    "Also remember that the gradient of a vector w.r.t. another vector is a matrix of mixed derivatives, i.e. $\\pderiv{a_i}{z_j}$.\n",
    "\n",
    "Thus,\n",
    "\n",
    "$$\n",
    "\\pderiv{\\vec{a}}{\\vec{z}}=\\mathrm{diag}(\\mathbb{1}[\\vec{z}>0]).\n",
    "$$\n"
   ]
  },
  {
   "cell_type": "markdown",
   "metadata": {
    "slideshow": {
     "slide_type": "subslide"
    }
   },
   "source": [
    "And so,\n",
    "$$\n",
    "\\begin{align}\n",
    "&\\pderiv{\\ell}{\\vec{z}}=\\pderiv{\\ell}{\\vec{\\hat y}}\\pderiv{\\vec{\\hat y}}{\\vec{a}}\\pderiv{\\vec{a}}{\\vec{z}}\n",
    "=\\mathrm{diag}(\\mathbb{1}[\\vec{z}>0])\\mattr{W}_2(\\vec{\\hat y}-\\vec{y})\\\\\n",
    "(\\ast)~~&\\pderiv{\\ell}{\\mat{W}_1}=\\pderiv{\\ell}{\\vec{\\hat y}}\\pderiv{\\vec{\\hat y}}{\\vec{a}}\\pderiv{\\vec{a}}{\\vec{z}}\n",
    "\\pderiv{\\vec{z}}{\\mat{W}_1}\n",
    "=\\mathrm{diag}(\\mathbb{1}[\\vec{z}>0])\\mattr{W}_2(\\vec{\\hat y}-\\vec{y})\\vectr{x}\\\\\n",
    "\\end{align}\n",
    "$$"
   ]
  },
  {
   "cell_type": "markdown",
   "metadata": {
    "slideshow": {
     "slide_type": "subslide"
    }
   },
   "source": [
    "For the biases, we can easily see that:\n",
    "$$\n",
    "\\begin{align}\n",
    "(\\ast)~~&\\pderiv{\\ell}{\\vec{b}_1}=\\pderiv{\\ell}{\\vec{\\hat y}}\\pderiv{\\vec{\\hat y}}{\\vec{b}_2}\n",
    "=\\pderiv{\\ell}{\\vec{\\hat y}}I_{D_{\\text{out}}} \\\\\n",
    "(\\ast)~~&\\pderiv{\\ell}{\\vec{b}_2}=\\pderiv{\\ell}{\\vec{z}}\\pderiv{\\vec{z}}{\\vec{b}_1}\n",
    "=\\pderiv{\\ell}{\\vec{z}}I_{H}\\\\\n",
    "\\end{align}\n",
    "$$"
   ]
  },
  {
   "cell_type": "markdown",
   "metadata": {
    "slideshow": {
     "slide_type": "subslide"
    }
   },
   "source": [
    "The final gradients for weight update, including regularization will be\n",
    "\n",
    "$$\n",
    "\\nabla_{\\mat{W}_j}L_{\\mathcal{D}}=\\frac{1}{N}\\sum_{i=1}^{N} \\pderiv{\\ell_i}{\\mat{W}_j} + \\lambda\\mat{W}_j, \\ j=1,2.\n",
    "$$"
   ]
  },
  {
   "cell_type": "markdown",
   "metadata": {
    "slideshow": {
     "slide_type": "subslide"
    }
   },
   "source": [
    "Let's implement it from scratch using just `numpy`."
   ]
  },
  {
   "cell_type": "code",
   "execution_count": 5,
   "metadata": {
    "slideshow": {
     "slide_type": "subslide"
    }
   },
   "outputs": [],
   "source": [
    "# A simple MLP with one hidden layer\n",
    "\n",
    "# N: batch size\n",
    "# D_in: number of features\n",
    "N, D_in =  64, 10\n",
    "# H: hidden-layer\n",
    "# D_out: output dimension\n",
    "H, D_out =  100, 1\n",
    "\n",
    "# Random input data\n",
    "X = np.random.randn(N, D_in)\n",
    "y = np.random.randn(N, D_out)\n",
    "\n",
    "# Model weights and biases\n",
    "wstd = 0.01\n",
    "W1 = np.random.randn(H, D_in)*wstd\n",
    "b1 = np.random.randn(H,)*wstd + 0.1\n",
    "W2 = np.random.randn(D_out, H)*wstd\n",
    "b2 = np.random.randn(D_out,)*wstd + 0.1\n",
    "\n",
    "reg_lambda = 0.5\n",
    "learning_rate = 1e-3"
   ]
  },
  {
   "cell_type": "code",
   "execution_count": 6,
   "metadata": {
    "slideshow": {
     "slide_type": "subslide"
    }
   },
   "outputs": [
    {
     "name": "stdout",
     "output_type": "stream",
     "text": [
      ".........................................................................................................................................................................................................................................................."
     ]
    }
   ],
   "source": [
    "losses = []\n",
    "for epoch in range(250):\n",
    "    # Forward pass, hidden layer: A = relu(X W1), Shape: (N, H)\n",
    "    Z = X.dot(W1.T) + b1\n",
    "    A = np.maximum(Z, 0)\n",
    "    \n",
    "    # Forward pass, output layer: Y_hat = A W2, Shape: (N, D_out)\n",
    "    Y_hat = A.dot(W2.T) + b2\n",
    "    \n",
    "    # Loss calculation (MSE)\n",
    "    loss = np.mean((Y_hat - y) ** 2); losses.append(loss)\n",
    "    \n",
    "    # Backward pass:  Output layer\n",
    "    d_Y_hat = (1./N) * (Y_hat - y)\n",
    "    d_W2 = d_Y_hat.T.dot(A)\n",
    "    d_A = d_Y_hat.dot(W2)\n",
    "    d_b2 = np.sum(d_Y_hat, axis=0)\n",
    "    \n",
    "    # Backward pass: Hidden layer\n",
    "    d_Z = d_A * np.array(Z > 0, dtype=np.float)\n",
    "    d_W1 = d_Z.T.dot(X)\n",
    "    d_b1 = np.sum(d_Z, axis=0)\n",
    "    \n",
    "    # Backward pass: Regularization term\n",
    "    d_W2 += reg_lambda * W2\n",
    "    d_W1 += reg_lambda * W1\n",
    "    \n",
    "    # Gradient descent step\n",
    "    W2 -= d_W2 * learning_rate; b2 -= d_b2 * learning_rate\n",
    "    W1 -= d_W1 * learning_rate; b1 -= d_b1 * learning_rate\n",
    "    print('.', end='')"
   ]
  },
  {
   "cell_type": "code",
   "execution_count": 7,
   "metadata": {
    "slideshow": {
     "slide_type": "subslide"
    }
   },
   "outputs": [
    {
     "data": {
      "image/png": "[encoded data removed]",
      "text/plain": [
       "<Figure size 720x360 with 1 Axes>"
      ]
     },
     "metadata": {
      "needs_background": "light"
     },
     "output_type": "display_data"
    }
   ],
   "source": [
    "# Plot losses\n",
    "_, ax = plt.subplots(figsize=(10,5))\n",
    "ax.plot(losses)\n",
    "ax.set_ylabel('MSE loss'); ax.set_xlabel('Epoch');"
   ]
  },
  {
   "cell_type": "markdown",
   "metadata": {
    "slideshow": {
     "slide_type": "subslide"
    }
   },
   "source": [
    "Note that this implementation is not ideal, as it's:"
   ]
  },
  {
   "cell_type": "markdown",
   "metadata": {
    "slideshow": {
     "slide_type": "fragment"
    }
   },
   "source": [
    "- Non modular (hard to switch components)\n",
    "- Hard to extend (e.g. to add layers)\n",
    "- Error prone (hard-coded manual calculations)"
   ]
  },
  {
   "cell_type": "markdown",
   "metadata": {
    "slideshow": {
     "slide_type": "fragment"
    }
   },
   "source": [
    "But it works!\n",
    "- In HW2, you'll implement a from scratch MLP that addresses these concerns.\n",
    "- And now, we'll see how to address these issues using PyTorch's API."
   ]
  },
  {
   "cell_type": "markdown",
   "metadata": {
    "slideshow": {
     "slide_type": "slide"
    }
   },
   "source": [
    "## Part 2: N-Layer MLP using PyTorch"
   ]
  },
  {
   "cell_type": "markdown",
   "metadata": {
    "slideshow": {
     "slide_type": "fragment"
    }
   },
   "source": [
    "Let's create all our usual components:\n",
    "- Dataset\n",
    "- Model\n",
    "- Loss function\n",
    "- Optimizer\n",
    "\n",
    "But this time we'll create a modular implementation where each of these components is separate and can be changed independently of the others."
   ]
  },
  {
   "cell_type": "markdown",
   "metadata": {
    "slideshow": {
     "slide_type": "subslide"
    }
   },
   "source": [
    "### Dataset"
   ]
  },
  {
   "cell_type": "markdown",
   "metadata": {
    "slideshow": {
     "slide_type": "fragment"
    }
   },
   "source": [
    "As in the previous tutorial we'll tackle an image classification task, the MNIST database of handwritten digits."
   ]
  },
  {
   "cell_type": "code",
   "execution_count": 8,
   "metadata": {
    "slideshow": {
     "slide_type": "subslide"
    }
   },
   "outputs": [],
   "source": [
    "import torch\n",
    "import torch.utils.data\n",
    "import torchvision\n",
    "import torchvision.transforms\n",
    "\n",
    "root_dir = os.path.expanduser('~/.pytorch-datasets/')"
   ]
  },
  {
   "cell_type": "code",
   "execution_count": 9,
   "metadata": {
    "slideshow": {
     "slide_type": "subslide"
    }
   },
   "outputs": [
    {
     "name": "stdout",
     "output_type": "stream",
     "text": [
      "x0: torch.Size([1, 28, 28]), y0: 5\n"
     ]
    }
   ],
   "source": [
    "tf_ds = torchvision.transforms.ToTensor()\n",
    "\n",
    "batch_size = 512\n",
    "train_size = batch_size * 10\n",
    "test_size = batch_size * 2\n",
    "\n",
    "# Datasets and loaders\n",
    "ds_train = torchvision.datasets.MNIST(root=root_dir, download=True, train=True, transform=tf_ds)\n",
    "dl_train = torch.utils.data.DataLoader(ds_train, batch_size,\n",
    "                                       sampler=torch.utils.data.SubsetRandomSampler(range(0,train_size)))\n",
    "ds_test =  torchvision.datasets.MNIST(root=root_dir, download=True, train=False, transform=tf_ds)\n",
    "dl_test = torch.utils.data.DataLoader(ds_test, batch_size,\n",
    "                                       sampler=torch.utils.data.SubsetRandomSampler(range(0,test_size)))\n",
    "\n",
    "x0, y0 = ds_train[0]\n",
    "n_features = torch.numel(x0)\n",
    "n_classes = 10\n",
    "\n",
    "print(f'x0: {x0.shape}, y0: {y0}')"
   ]
  },
  {
   "cell_type": "code",
   "execution_count": 10,
   "metadata": {
    "slideshow": {
     "slide_type": "subslide"
    }
   },
   "outputs": [
    {
     "name": "stdout",
     "output_type": "stream",
     "text": [
      "x0: torch.Size([1, 28, 28]), y0: 5\n"
     ]
    },
    {
     "data": {
      "image/png": "[encoded data removed]",
      "text/plain": [
       "<Figure size 576x576 with 10 Axes>"
      ]
     },
     "metadata": {},
     "output_type": "display_data"
    }
   ],
   "source": [
    "import sys\n",
    "sys.path.append('..')\n",
    "import t02.plot_utils as plot_utils\n",
    "# Show first few samples\n",
    "print(f'x0: {x0.shape}, y0: {y0}')\n",
    "plot_utils.dataset_first_n(ds_train, 10, cmap='gray');"
   ]
  },
  {
   "cell_type": "markdown",
   "metadata": {
    "slideshow": {
     "slide_type": "subslide"
    }
   },
   "source": [
    "### Model Implementation"
   ]
  },
  {
   "cell_type": "markdown",
   "metadata": {
    "slideshow": {
     "slide_type": "fragment"
    }
   },
   "source": [
    "- The `torch.nn` module contains building blocks such as neural network layers,\n",
    "  loss functions, activations and more.\n",
    "- We'll use the `nn.Linear` which implements an single MLP layer.\n",
    "- We'll implement our model as a subclass of `nn.Module`, which means:\n",
    "    - Any tensors we set as properties will be registered as model parameters.\n",
    "    - We can nest `nn.Modules` and get all model parameters from the top-level `nn.Module`.\n",
    "    - Can be used as a function if we implement the `forward()` method."
   ]
  },
  {
   "cell_type": "markdown",
   "metadata": {
    "slideshow": {
     "slide_type": "subslide"
    }
   },
   "source": [
    "To understand `nn.Module`, lets look at a very basic one: the **fully-connected** layer."
   ]
  },
  {
   "cell_type": "code",
   "execution_count": 11,
   "metadata": {
    "slideshow": {
     "slide_type": "fragment"
    }
   },
   "outputs": [
    {
     "data": {
      "text/plain": [
       "tensor([[-0.1030, -0.5513, -0.6309,  0.0593, -0.2175],\n",
       "        [ 0.6484,  1.4268, -1.0803, -0.1156, -1.1538],\n",
       "        [-0.5654, -0.8594, -2.2088,  0.2150, -1.4707],\n",
       "        [ 0.2584,  0.0496,  0.1527, -0.0678,  0.1762],\n",
       "        [ 0.6603,  1.4002, -1.1770, -0.1036, -1.1531],\n",
       "        [ 0.3503,  0.3674,  0.3319, -0.1185,  0.0986],\n",
       "        [ 0.2631,  0.2872, -0.2657, -0.0607, -0.2615],\n",
       "        [ 0.5728,  0.8806, -0.1732, -0.1295, -0.2860],\n",
       "        [ 0.3024,  0.3032, -2.3026,  0.1133, -1.2017],\n",
       "        [ 0.7455,  1.0765, -0.3791, -0.1294, -0.2875]],\n",
       "       grad_fn=<AddmmBackward>)"
      ]
     },
     "execution_count": 11,
     "metadata": {},
     "output_type": "execute_result"
    }
   ],
   "source": [
    "import torch.nn as nn\n",
    "\n",
    "fc = nn.Linear(in_features=3, out_features=5, bias=True)\n",
    "\n",
    "# Input tensor with 10 samples of 3 features\n",
    "t = torch.randn(10, 3)\n",
    "\n",
    "# Forward pass, notice that grad_fn exists\n",
    "fc(t)"
   ]
  },
  {
   "cell_type": "markdown",
   "metadata": {
    "slideshow": {
     "slide_type": "subslide"
    }
   },
   "source": [
    "`nn.Modules` have registered **parameters**, which are tensors which `require_grad`."
   ]
  },
  {
   "cell_type": "code",
   "execution_count": 12,
   "metadata": {
    "slideshow": {
     "slide_type": "fragment"
    }
   },
   "outputs": [
    {
     "data": {
      "text/plain": [
       "[Parameter containing:\n",
       " tensor([[ 3.1666e-02,  3.1450e-01, -1.2618e-01],\n",
       "         [ 1.4958e-01,  4.8667e-01, -4.0530e-01],\n",
       "         [ 4.8005e-01,  4.4938e-01,  5.1673e-01],\n",
       "         [-5.8180e-02, -8.6231e-02,  4.6438e-04],\n",
       "         [ 1.3607e-01,  2.6630e-01,  4.4661e-01]], requires_grad=True),\n",
       " Parameter containing:\n",
       " tensor([ 0.3173,  0.3421, -0.5269, -0.0430, -0.3509], requires_grad=True)]"
      ]
     },
     "execution_count": 12,
     "metadata": {},
     "output_type": "execute_result"
    }
   ],
   "source": [
    "# Note parameter dimenstions\n",
    "list(fc.parameters())"
   ]
  },
  {
   "cell_type": "markdown",
   "metadata": {
    "slideshow": {
     "slide_type": "subslide"
    }
   },
   "source": [
    "We can create custom `nn.Module`s with arbitrary logic. \n",
    "\n",
    "Let's recreate a fully-connected layer ourselves:"
   ]
  },
  {
   "cell_type": "code",
   "execution_count": 13,
   "metadata": {
    "slideshow": {
     "slide_type": "fragment"
    }
   },
   "outputs": [],
   "source": [
    "class MyFullyConnectedLayer(nn.Module):\n",
    "    \n",
    "    def __init__(self, in_features, out_features):\n",
    "        super().__init__() # don't forget this!\n",
    "        W = torch.randn(out_features, in_features, requires_grad=True)\n",
    "        b = torch.randn(out_features, requires_grad=True)\n",
    "        \n",
    "        # Mark W,b for inclusion in list of parameters\n",
    "        self.register_parameter('W', nn.Parameter(W))\n",
    "        self.register_parameter('b', nn.Parameter(b))\n",
    "        \n",
    "    def forward(self, x):\n",
    "        # x assumed to be (N, in_features)\n",
    "        z = torch.matmul(x, self.W.transpose(0, 1)) + self.b\n",
    "        \n",
    "        # Our custom FC layer multiplies all outputs by 3 for no good reason\n",
    "        return 3 * z"
   ]
  },
  {
   "cell_type": "code",
   "execution_count": 14,
   "metadata": {
    "slideshow": {
     "slide_type": "subslide"
    }
   },
   "outputs": [],
   "source": [
    "myfc = MyFullyConnectedLayer(in_features=3, out_features=5)"
   ]
  },
  {
   "cell_type": "code",
   "execution_count": 15,
   "metadata": {
    "slideshow": {
     "slide_type": "fragment"
    }
   },
   "outputs": [
    {
     "data": {
      "text/plain": [
       "tensor([[ 0.8261,  1.4287, -0.8987,  7.9326, -0.0326],\n",
       "        [ 7.4284,  5.7318,  0.2626,  1.3584,  0.7620],\n",
       "        [11.9497, 17.7370, -5.6641, 16.5498,  2.6094],\n",
       "        [-2.4718, -2.8501,  2.3613,  1.1062, -1.3502],\n",
       "        [ 7.0152,  3.8893, -0.2924,  2.3507,  0.9344],\n",
       "        [-1.2455,  0.5577,  3.7205, -1.9115, -1.6644],\n",
       "        [ 1.2359,  2.0186,  1.5400,  1.9057, -0.6453],\n",
       "        [ 0.6302, -1.4235,  2.3078, -0.7524, -0.7796],\n",
       "        [ 4.8849, -6.9490, -6.7781, 15.7547,  2.8859],\n",
       "        [-0.8045, -7.9503,  1.2054,  0.6445, -0.3977]], grad_fn=<MulBackward0>)"
      ]
     },
     "execution_count": 15,
     "metadata": {},
     "output_type": "execute_result"
    }
   ],
   "source": [
    "myfc(t)"
   ]
  },
  {
   "cell_type": "code",
   "execution_count": 16,
   "metadata": {
    "slideshow": {
     "slide_type": "subslide"
    }
   },
   "outputs": [
    {
     "data": {
      "text/plain": [
       "[Parameter containing:\n",
       " tensor([[ 1.7687e-03, -9.3666e-01, -9.8843e-01],\n",
       "         [ 1.2307e+00, -1.8374e+00, -4.2177e-01],\n",
       "         [ 7.6348e-01,  5.9069e-01,  4.3314e-01],\n",
       "         [-1.3923e+00, -1.3588e+00, -4.0464e-01],\n",
       "         [-2.7838e-01, -2.4711e-01, -2.9683e-01]], requires_grad=True),\n",
       " Parameter containing:\n",
       " tensor([ 0.3769, -0.2922,  0.1276,  1.2379, -0.0616], requires_grad=True)]"
      ]
     },
     "execution_count": 16,
     "metadata": {},
     "output_type": "execute_result"
    }
   ],
   "source": [
    "list(myfc.parameters())"
   ]
  },
  {
   "cell_type": "markdown",
   "metadata": {
    "slideshow": {
     "slide_type": "subslide"
    }
   },
   "source": [
    "Quick visualization of our custom module's **computation graph**:"
   ]
  },
  {
   "cell_type": "code",
   "execution_count": 17,
   "metadata": {
    "scrolled": true,
    "slideshow": {
     "slide_type": "fragment"
    }
   },
   "outputs": [
    {
     "data": {
      "image/svg+xml": [
       "<?xml version=\"1.0\" encoding=\"UTF-8\" standalone=\"no\"?>\n",
       "<!DOCTYPE svg PUBLIC \"-//W3C//DTD SVG 1.1//EN\"\n",
       " \"http://www.w3.org/Graphics/SVG/1.1/DTD/svg11.dtd\">\n",
       "<!-- Generated by graphviz version 2.40.1 (20161225.0304)\n",
       " -->\n",
       "<!-- Title: %3 Pages: 1 -->\n",
       "<svg width=\"183pt\" height=\"283pt\"\n",
       " viewBox=\"0.00 0.00 183.00 283.00\" xmlns=\"http://www.w3.org/2000/svg\" xmlns:xlink=\"http://www.w3.org/1999/xlink\">\n",
       "<g id=\"graph0\" class=\"graph\" transform=\"scale(1 1) rotate(0) translate(4 279)\">\n",
       "<title>%3</title>\n",
       "<polygon fill=\"#ffffff\" stroke=\"transparent\" points=\"-4,4 -4,-279 179,-279 179,4 -4,4\"/>\n",
       "<!-- 43790834896 -->\n",
       "<g id=\"node1\" class=\"node\">\n",
       "<title>43790834896</title>\n",
       "<polygon fill=\"#caff70\" stroke=\"#000000\" points=\"149.5,-21 58.5,-21 58.5,0 149.5,0 149.5,-21\"/>\n",
       "<text text-anchor=\"middle\" x=\"104\" y=\"-7.4\" font-family=\"Times,serif\" font-size=\"12.00\" fill=\"#000000\">MulBackward0</text>\n",
       "</g>\n",
       "<!-- 43790832272 -->\n",
       "<g id=\"node2\" class=\"node\">\n",
       "<title>43790832272</title>\n",
       "<polygon fill=\"#d3d3d3\" stroke=\"#000000\" points=\"150,-78 58,-78 58,-57 150,-57 150,-78\"/>\n",
       "<text text-anchor=\"middle\" x=\"104\" y=\"-64.4\" font-family=\"Times,serif\" font-size=\"12.00\" fill=\"#000000\">AddBackward0</text>\n",
       "</g>\n",
       "<!-- 43790832272&#45;&gt;43790834896 -->\n",
       "<g id=\"edge1\" class=\"edge\">\n",
       "<title>43790832272&#45;&gt;43790834896</title>\n",
       "<path fill=\"none\" stroke=\"#000000\" d=\"M104,-56.7787C104,-49.6134 104,-39.9517 104,-31.3097\"/>\n",
       "<polygon fill=\"#000000\" stroke=\"#000000\" points=\"107.5001,-31.1732 104,-21.1732 100.5001,-31.1732 107.5001,-31.1732\"/>\n",
       "</g>\n",
       "<!-- 43863987088 -->\n",
       "<g id=\"node3\" class=\"node\">\n",
       "<title>43863987088</title>\n",
       "<polygon fill=\"#d3d3d3\" stroke=\"#000000\" points=\"102.5,-141.5 17.5,-141.5 17.5,-120.5 102.5,-120.5 102.5,-141.5\"/>\n",
       "<text text-anchor=\"middle\" x=\"60\" y=\"-127.9\" font-family=\"Times,serif\" font-size=\"12.00\" fill=\"#000000\">MmBackward</text>\n",
       "</g>\n",
       "<!-- 43863987088&#45;&gt;43790832272 -->\n",
       "<g id=\"edge2\" class=\"edge\">\n",
       "<title>43863987088&#45;&gt;43790832272</title>\n",
       "<path fill=\"none\" stroke=\"#000000\" d=\"M67.464,-120.2281C73.8234,-111.0503 83.116,-97.6394 90.7379,-86.6396\"/>\n",
       "<polygon fill=\"#000000\" stroke=\"#000000\" points=\"93.8276,-88.3259 96.6462,-78.1128 88.0739,-84.339 93.8276,-88.3259\"/>\n",
       "</g>\n",
       "<!-- 43864044880 -->\n",
       "<g id=\"node4\" class=\"node\">\n",
       "<title>43864044880</title>\n",
       "<polygon fill=\"#d3d3d3\" stroke=\"#000000\" points=\"120,-205 0,-205 0,-184 120,-184 120,-205\"/>\n",
       "<text text-anchor=\"middle\" x=\"60\" y=\"-191.4\" font-family=\"Times,serif\" font-size=\"12.00\" fill=\"#000000\">TransposeBackward0</text>\n",
       "</g>\n",
       "<!-- 43864044880&#45;&gt;43863987088 -->\n",
       "<g id=\"edge3\" class=\"edge\">\n",
       "<title>43864044880&#45;&gt;43863987088</title>\n",
       "<path fill=\"none\" stroke=\"#000000\" d=\"M60,-183.7281C60,-175.0091 60,-162.4699 60,-151.8068\"/>\n",
       "<polygon fill=\"#000000\" stroke=\"#000000\" points=\"63.5001,-151.6128 60,-141.6128 56.5001,-151.6129 63.5001,-151.6128\"/>\n",
       "</g>\n",
       "<!-- 43864045072 -->\n",
       "<g id=\"node5\" class=\"node\">\n",
       "<title>43864045072</title>\n",
       "<polygon fill=\"#add8e6\" stroke=\"#000000\" points=\"87,-275 33,-275 33,-241 87,-241 87,-275\"/>\n",
       "<text text-anchor=\"middle\" x=\"60\" y=\"-261.4\" font-family=\"Times,serif\" font-size=\"12.00\" fill=\"#000000\">W</text>\n",
       "<text text-anchor=\"middle\" x=\"60\" y=\"-248.4\" font-family=\"Times,serif\" font-size=\"12.00\" fill=\"#000000\"> (5, 3)</text>\n",
       "</g>\n",
       "<!-- 43864045072&#45;&gt;43864044880 -->\n",
       "<g id=\"edge4\" class=\"edge\">\n",
       "<title>43864045072&#45;&gt;43864044880</title>\n",
       "<path fill=\"none\" stroke=\"#000000\" d=\"M60,-240.9832C60,-233.1157 60,-223.6973 60,-215.4019\"/>\n",
       "<polygon fill=\"#000000\" stroke=\"#000000\" points=\"63.5001,-215.3686 60,-205.3687 56.5001,-215.3687 63.5001,-215.3686\"/>\n",
       "</g>\n",
       "<!-- 43863987152 -->\n",
       "<g id=\"node6\" class=\"node\">\n",
       "<title>43863987152</title>\n",
       "<polygon fill=\"#add8e6\" stroke=\"#000000\" points=\"175,-148 121,-148 121,-114 175,-114 175,-148\"/>\n",
       "<text text-anchor=\"middle\" x=\"148\" y=\"-134.4\" font-family=\"Times,serif\" font-size=\"12.00\" fill=\"#000000\">b</text>\n",
       "<text text-anchor=\"middle\" x=\"148\" y=\"-121.4\" font-family=\"Times,serif\" font-size=\"12.00\" fill=\"#000000\"> (5)</text>\n",
       "</g>\n",
       "<!-- 43863987152&#45;&gt;43790832272 -->\n",
       "<g id=\"edge5\" class=\"edge\">\n",
       "<title>43863987152&#45;&gt;43790832272</title>\n",
       "<path fill=\"none\" stroke=\"#000000\" d=\"M136.2088,-113.9832C130.3898,-105.5853 123.3464,-95.4204 117.3319,-86.7404\"/>\n",
       "<polygon fill=\"#000000\" stroke=\"#000000\" points=\"120.1034,-84.5949 111.531,-78.3687 114.3497,-88.5817 120.1034,-84.5949\"/>\n",
       "</g>\n",
       "</g>\n",
       "</svg>\n"
      ],
      "text/plain": [
       "<graphviz.dot.Digraph at 0xa32231350>"
      ]
     },
     "execution_count": 17,
     "metadata": {},
     "output_type": "execute_result"
    }
   ],
   "source": [
    "import torchviz\n",
    "torchviz.make_dot(myfc(t), params=dict(W=myfc.W, b=myfc.b))"
   ]
  },
  {
   "cell_type": "markdown",
   "metadata": {
    "slideshow": {
     "slide_type": "subslide"
    }
   },
   "source": [
    "Now that we know about `nn.Module`s, lets create an fairly-general MLP."
   ]
  },
  {
   "cell_type": "code",
   "execution_count": 18,
   "metadata": {
    "slideshow": {
     "slide_type": "subslide"
    }
   },
   "outputs": [],
   "source": [
    "class MLP(torch.nn.Module):\n",
    "    NLS = {'relu': torch.nn.ReLU, 'tanh': nn.Tanh, 'sigmoid': nn.Sigmoid, 'softmax': nn.Softmax, 'logsoftmax': nn.LogSoftmax}\n",
    "\n",
    "    def __init__(self, D_in: int, hidden_dims: list, D_out: int, nonlin='relu'):\n",
    "        super().__init__()\n",
    "        \n",
    "        all_dims = [D_in, *hidden_dims, D_out]\n",
    "        layers = []\n",
    "        \n",
    "        for in_dim, out_dim in zip(all_dims[:-1], all_dims[1:]):\n",
    "            layers += [\n",
    "                nn.Linear(in_dim, out_dim, bias=True),\n",
    "                MLP.NLS[nonlin]()\n",
    "            ]\n",
    "        \n",
    "        self.fc_layers = nn.Sequential(*layers[:-1])\n",
    "        self.log_softmax = nn.LogSoftmax(dim=1)\n",
    "\n",
    "    def forward(self, x):\n",
    "        x = torch.reshape(x, (x.shape[0], -1))\n",
    "        z = self.fc_layers(x)\n",
    "        y_pred = self.log_softmax(z)\n",
    "        return y_pred"
   ]
  },
  {
   "cell_type": "code",
   "execution_count": 19,
   "metadata": {
    "scrolled": true,
    "slideshow": {
     "slide_type": "subslide"
    }
   },
   "outputs": [
    {
     "name": "stdout",
     "output_type": "stream",
     "text": [
      "MLP(\n",
      "  (fc_layers): Sequential(\n",
      "    (0): Linear(in_features=784, out_features=32, bias=True)\n",
      "    (1): Tanh()\n",
      "    (2): Linear(in_features=32, out_features=64, bias=True)\n",
      "    (3): Tanh()\n",
      "    (4): Linear(in_features=64, out_features=128, bias=True)\n",
      "    (5): Tanh()\n",
      "    (6): Linear(in_features=128, out_features=64, bias=True)\n",
      "    (7): Tanh()\n",
      "    (8): Linear(in_features=64, out_features=10, bias=True)\n",
      "  )\n",
      "  (log_softmax): LogSoftmax()\n",
      ")\n"
     ]
    }
   ],
   "source": [
    "# Create an instance of the model: 5-layer MLP\n",
    "mlp5 = MLP(D_in=n_features, hidden_dims=[32, 64, 128, 64], D_out=n_classes, nonlin='tanh')\n",
    "\n",
    "print(mlp5)"
   ]
  },
  {
   "cell_type": "code",
   "execution_count": 20,
   "metadata": {
    "scrolled": true,
    "slideshow": {
     "slide_type": "fragment"
    }
   },
   "outputs": [
    {
     "name": "stdout",
     "output_type": "stream",
     "text": [
      "number of parameter tensors: 10\n"
     ]
    }
   ],
   "source": [
    "print(f'number of parameter tensors: {len(list(mlp5.parameters()))}')"
   ]
  },
  {
   "cell_type": "code",
   "execution_count": 21,
   "metadata": {
    "slideshow": {
     "slide_type": "fragment"
    }
   },
   "outputs": [
    {
     "name": "stdout",
     "output_type": "stream",
     "text": [
      "number of parameters: 44458\n"
     ]
    }
   ],
   "source": [
    "print(f'number of parameters: {np.sum([torch.numel(p) for p in mlp5.parameters()])}')"
   ]
  },
  {
   "cell_type": "code",
   "execution_count": 22,
   "metadata": {
    "slideshow": {
     "slide_type": "subslide"
    }
   },
   "outputs": [
    {
     "name": "stdout",
     "output_type": "stream",
     "text": [
      "y_hat0=tensor([[-2.4909, -2.4556, -2.2862, -2.2721, -2.3113, -2.2024, -2.1335, -2.4136,\n",
      "         -2.3220, -2.1986]], grad_fn=<LogSoftmaxBackward>),\n",
      "shape=torch.Size([1, 10])\n"
     ]
    }
   ],
   "source": [
    "# Test a forward pass\n",
    "y_hat0 = mlp5(x0)\n",
    "\n",
    "print(f'y_hat0={y_hat0},\\nshape={y_hat0.shape}')"
   ]
  },
  {
   "cell_type": "markdown",
   "metadata": {
    "slideshow": {
     "slide_type": "subslide"
    }
   },
   "source": [
    "### Loss and Optimizer"
   ]
  },
  {
   "cell_type": "markdown",
   "metadata": {
    "slideshow": {
     "slide_type": "fragment"
    }
   },
   "source": [
    "For the loss function, we'll use PyTorch's built in negative log-likelihood loss since our model outputs probabilities."
   ]
  },
  {
   "cell_type": "code",
   "execution_count": 23,
   "metadata": {
    "slideshow": {
     "slide_type": "subslide"
    }
   },
   "outputs": [
    {
     "data": {
      "text/plain": [
       "tensor(2.4556, grad_fn=<NllLossBackward>)"
      ]
     },
     "execution_count": 23,
     "metadata": {},
     "output_type": "execute_result"
    }
   ],
   "source": [
    "import torch.optim\n",
    "\n",
    "# Loss:\n",
    "# Note: NLLLoss assumes *log*-probabilities (given by our LogSoftmax layer)\n",
    "loss_fn = nn.NLLLoss()\n",
    "\n",
    "# Fake ground-truth labels\n",
    "yt = torch.randint(low=0, high=n_classes, size=(y_hat0.shape[0],))\n",
    "\n",
    "# Try out the loss\n",
    "loss_fn(y_hat0, yt)"
   ]
  },
  {
   "cell_type": "markdown",
   "metadata": {
    "slideshow": {
     "slide_type": "subslide"
    }
   },
   "source": [
    "As for the optimization scheme, we'll use a built in SGD optimizer from the `torch.optim` module.\n",
    "\n",
    "We won't need to calculate the loss gradient this time, as we'll use `autograd` for automatic differentiation."
   ]
  },
  {
   "cell_type": "code",
   "execution_count": 24,
   "metadata": {
    "slideshow": {
     "slide_type": "fragment"
    }
   },
   "outputs": [],
   "source": [
    "torch.manual_seed(42)\n",
    "\n",
    "# Model for training\n",
    "model = MLP(D_in=n_features, hidden_dims=[32, 32, 32], D_out=n_classes, nonlin='relu')\n",
    "\n",
    "# Optimizer over our model's parameters\n",
    "optimizer = torch.optim.SGD(params=model.parameters(), lr=5e-2, weight_decay=0.01, momentum=0.9)"
   ]
  },
  {
   "cell_type": "markdown",
   "metadata": {
    "slideshow": {
     "slide_type": "subslide"
    }
   },
   "source": [
    "### Training loop"
   ]
  },
  {
   "cell_type": "markdown",
   "metadata": {
    "slideshow": {
     "slide_type": "fragment"
    }
   },
   "source": [
    "This time we'll train over lazy-loaded batches from our data loader.\n",
    "\n",
    "Notice that except from our model's `__init__()` and `__forward()__`, we're using PyTorch facilities for the entire training implementation."
   ]
  },
  {
   "cell_type": "code",
   "execution_count": 25,
   "metadata": {
    "slideshow": {
     "slide_type": "subslide"
    }
   },
   "outputs": [
    {
     "name": "stdout",
     "output_type": "stream",
     "text": [
      "Epoch #1: Avg. loss=2.305134320259094\n",
      "Epoch #2: Avg. loss=2.2864507913589476\n",
      "Epoch #3: Avg. loss=2.256749725341797\n",
      "Epoch #4: Avg. loss=2.176988220214844\n",
      "Epoch #5: Avg. loss=1.9311089158058166\n",
      "Epoch #6: Avg. loss=1.4161055207252502\n",
      "Epoch #7: Avg. loss=0.9191412627696991\n",
      "Epoch #8: Avg. loss=0.676337045431137\n",
      "Epoch #9: Avg. loss=0.5613921701908111\n",
      "Epoch #10: Avg. loss=0.5014605939388275\n"
     ]
    }
   ],
   "source": [
    "num_epochs = 10\n",
    "for epoch_idx in range(num_epochs):\n",
    "    total_loss = 0\n",
    "    \n",
    "    for batch_idx, (X, y) in enumerate(dl_train):\n",
    "        # Forward pass\n",
    "        y_pred = model(X)\n",
    "\n",
    "        # Compute loss\n",
    "        loss = loss_fn(y_pred, y)\n",
    "        total_loss += loss.item()\n",
    "\n",
    "        # Backward pass\n",
    "        optimizer.zero_grad() # Zero gradients of all parameters\n",
    "        loss.backward()       # Run backprop algorithms to calculate gradients\n",
    "        \n",
    "        # Optimization step\n",
    "        optimizer.step()      # Use gradients to update model parameters\n",
    "        \n",
    "    print(f'Epoch #{epoch_idx+1}: Avg. loss={total_loss/len(dl_train)}')"
   ]
  },
  {
   "cell_type": "markdown",
   "metadata": {
    "slideshow": {
     "slide_type": "subslide"
    }
   },
   "source": [
    "Using the basic PyTorch building blocks we have arrived at a much more robust implementation:\n",
    "- Easy to change architecture: layers and activation functions\n",
    "- Easy to change loss\n",
    "- Easy to change optimization method\n",
    "- No need for manual gradient derivations"
   ]
  },
  {
   "cell_type": "markdown",
   "metadata": {
    "slideshow": {
     "slide_type": "skip"
    }
   },
   "source": [
    "## Image credits\n",
    "- MartinThoma [CC0], via Wikimedia Commons https://commons.wikimedia.org/wiki/File:Perceptron-unit.svg\n",
    "- Pattern Recognition and Machine Learning, C. M. Bishop, Springer, 2006\n",
    "- Sebastian Raschka https://sebastianraschka.com/Articles/2015_singlelayer_neurons.html\n",
    "- Favio Vázquez https://towardsdatascience.com/a-conversation-about-deep-learning-9a915983107\n",
    "- Fundamentals of Deep Learning, Nikhil Buduma, Oreilly 2017"
   ]
  }
 ],
 "metadata": {
  "celltoolbar": "Slideshow",
  "kernelspec": {
   "display_name": "Python 3",
   "language": "python",
   "name": "python3"
  },
  "language_info": {
   "codemirror_mode": {
    "name": "ipython",
    "version": 3
   },
   "file_extension": ".py",
   "mimetype": "text/x-python",
   "name": "python",
   "nbconvert_exporter": "python",
   "pygments_lexer": "ipython3",
   "version": "3.7.5"
  }
 },
 "nbformat": 4,
 "nbformat_minor": 4
}
