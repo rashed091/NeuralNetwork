{
 "cells": [
  {
   "cell_type": "markdown",
   "metadata": {},
   "source": [
    "# Intro to neural net training with autograd\n",
    "\n",
    "In this notebook, we'll practice\n",
    "\n",
    "* using the **autograd** Python package to compute gradients\n",
    "* using gradient descent to train a basic linear regression (a NN with 0 hidden layers)\n",
    "* using gradient descent to train a basic neural network for regression (NN with 1+ hidden layers)\n",
    "\n",
    "\n",
    "### Requirements:\n",
    "\n",
    "Follow the Python environment setup instructions here:\n",
    "https://www.cs.tufts.edu/comp/150BDL/2018f/setup_python_env.html\n",
    "\n",
    "All the specific Python packages you'll need are in the 'bdl_basic_env' conda environment:\n",
    "https://www.cs.tufts.edu/comp/150BDL/2018f/conda_envs/bdl_basic_env.yml"
   ]
  },
  {
   "cell_type": "code",
   "execution_count": 1,
   "metadata": {},
   "outputs": [],
   "source": [
    "import pickle\n",
    "import copy\n",
    "import time"
   ]
  },
  {
   "cell_type": "code",
   "execution_count": 2,
   "metadata": {},
   "outputs": [],
   "source": [
    "## Import plotting tools\n",
    "\n",
    "%matplotlib inline\n",
    "import matplotlib.pyplot as plt\n",
    "import seaborn as sns"
   ]
  },
  {
   "cell_type": "code",
   "execution_count": 3,
   "metadata": {},
   "outputs": [],
   "source": [
    "## Import numpy\n",
    "import numpy as np\n",
    "import pandas as pd"
   ]
  },
  {
   "cell_type": "code",
   "execution_count": 4,
   "metadata": {},
   "outputs": [],
   "source": [
    "## Import autograd\n",
    "import autograd.numpy as ag_np\n",
    "import autograd"
   ]
  },
  {
   "cell_type": "markdown",
   "metadata": {},
   "source": [
    "# PART 1: Using autograd's 'grad' function on univariate functions\n",
    "\n",
    "Suppose we have a mathematical function of interest $f(x)$. For now, we'll work with functions that have a scalar input and scalar output. \n",
    "\n",
    "Then we can of course ask: what is the derivative (aka *gradient*) of this function:\n",
    "\n",
    "$$\n",
    "g(x) \\triangleq \\frac{\\partial}{\\partial x} f(x)\n",
    "$$\n",
    "\n",
    "Instead of computing this gradient by hand via calculus/algebra, we can use autograd to do it for us.\n",
    "\n",
    "First, we need to implement the math function $f(x)$ as a **Python function** `f`.\n",
    "\n",
    "\n",
    "The Python function `f` needs to satisfy the following requirements:\n",
    "* INPUT 'x': scalar float\n",
    "* OUTPUT 'f(x)': scalar float\n",
    "* All internal operations are composed of calls to functions from `ag_np`, the `autograd` version of numpy\n",
    "\n",
    "**Important:**\n",
    "* You might be used to importing numpy as `import numpy as np`, and then using this shorthand for `np.cos(0.0)` or `np.square(5.0)` etc.\n",
    "* For autograd to work, you need to instead use **autograd's** provided numpy wrapper interface: `from autograd.numpy as ag_np`\n",
    "* The `ag_np` module has the same API as `numpy`, so you can call `ag_np.cos(0.0)`, `ag_np.square(5.0)`, etc.\n",
    "\n",
    "Now, if `f` meeds the above requirements, we can create a Python function `g` to compute derivatives of $f(x)$ by calling `autograd.grad`:\n",
    "\n",
    "```\n",
    "g = autograd.grad(f)\n",
    "```\n",
    "\n",
    "The symbol `g` is now a **Python function** that takes the same input as `f`, but produces the derivative at a given input.\n",
    "\n"
   ]
  },
  {
   "cell_type": "code",
   "execution_count": 5,
   "metadata": {},
   "outputs": [],
   "source": [
    "def f(x):\n",
    "    return ag_np.square(x)\n",
    "\n",
    "g = autograd.grad(f)"
   ]
  },
  {
   "cell_type": "code",
   "execution_count": 6,
   "metadata": {},
   "outputs": [
    {
     "data": {
      "text/plain": [
       "0.0"
      ]
     },
     "execution_count": 6,
     "metadata": {},
     "output_type": "execute_result"
    }
   ],
   "source": [
    "# 'g' is just a function. You can call it as usual, by providing a possible scalar float input\n",
    "\n",
    "g(0.0)"
   ]
  },
  {
   "cell_type": "code",
   "execution_count": 7,
   "metadata": {},
   "outputs": [
    {
     "data": {
      "text/plain": [
       "[-2.0, 2.0]"
      ]
     },
     "execution_count": 7,
     "metadata": {},
     "output_type": "execute_result"
    }
   ],
   "source": [
    "[g(-1.0), g(1.0)]"
   ]
  },
  {
   "cell_type": "markdown",
   "metadata": {},
   "source": [
    "### Plot to demonstrate the gradient function  side-by-side with original function"
   ]
  },
  {
   "cell_type": "code",
   "execution_count": 8,
   "metadata": {},
   "outputs": [
    {
     "data": {
      "text/plain": [
       "Text(0.5,1,u'gradient of f(x)')"
      ]
     },
     "execution_count": 8,
     "metadata": {},
     "output_type": "execute_result"
    },
    {
     "data": {
      "image/png": "[encoded data removed]",
      "text/plain": [
       "<matplotlib.figure.Figure at 0x1a1677eb50>"
      ]
     },
     "metadata": {
      "needs_background": "light"
     },
     "output_type": "display_data"
    }
   ],
   "source": [
    "x_grid_G = np.linspace(-10, 10, 100)\n",
    "\n",
    "fig_h, subplot_grid = plt.subplots(nrows=1, ncols=2, sharex=True, sharey=True, squeeze=False)\n",
    "subplot_grid[0,0].plot(x_grid_G, [f(x_g) for x_g in x_grid_G], 'k.-')\n",
    "subplot_grid[0,0].set_title('f(x) = x^2')\n",
    "\n",
    "subplot_grid[0,1].plot(x_grid_G, [g(x_g) for x_g in x_grid_G], 'b.-')\n",
    "subplot_grid[0,1].set_title('gradient of f(x)')\n"
   ]
  },
  {
   "cell_type": "markdown",
   "metadata": {},
   "source": [
    "## Exercise 1a:\n",
    "\n",
    "Consider the decaying periodic function below. Can you compute its derivative using autograd and plot the result?\n",
    "\n",
    "$$\n",
    "f(x) = e^{-x/10} * cos(x)\n",
    "$$"
   ]
  },
  {
   "cell_type": "code",
   "execution_count": 10,
   "metadata": {},
   "outputs": [
    {
     "data": {
      "image/png": "[encoded data removed]",
      "text/plain": [
       "<matplotlib.figure.Figure at 0x1a16a00190>"
      ]
     },
     "metadata": {
      "needs_background": "light"
     },
     "output_type": "display_data"
    }
   ],
   "source": [
    "def f(x):\n",
    "    return 0.0 # TODO compute the function above\n",
    "    \n",
    "g = f # TODO define g as gradient of f\n",
    "\n",
    "# TODO plot the result\n",
    "x_grid_G = np.linspace(-10, 10, 500)\n",
    "fig_h, subplot_grid = plt.subplots(nrows=1, ncols=2, sharex=True, sharey=True, squeeze=False)\n",
    "subplot_grid[0,0].plot(x_grid_G, [f(x_g) for x_g in x_grid_G], 'k.-');\n",
    "subplot_grid[0,0].set_title('f(x) = x^2');\n",
    "\n",
    "subplot_grid[0,1].plot(x_grid_G, [g(x_g) for x_g in x_grid_G], 'b.-');\n",
    "subplot_grid[0,1].set_title('gradient of f(x)');"
   ]
  },
  {
   "cell_type": "markdown",
   "metadata": {},
   "source": [
    "# PART 2: Using autograd's 'grad' function on functions with multivariate input\n"
   ]
  },
  {
   "cell_type": "markdown",
   "metadata": {},
   "source": [
    "Now, imagine the input $x$ could be a vector of size D. \n",
    "\n",
    "Our mathematical function $f(x)$ will map each input vector to a scalar.\n",
    "\n",
    "We want the gradient function\n",
    "\n",
    "\\begin{align}\n",
    "g(x) &\\triangleq \\nabla_x f(x)\n",
    "\\\\\n",
    "&= [\n",
    "    \\frac{\\partial}{\\partial x_1} f(x)\n",
    "    \\quad \\frac{\\partial}{\\partial x_2} f(x)\n",
    "    \\quad \\ldots \\quad \\frac{\\partial}{\\partial x_D} f(x)  ]\n",
    "\\end{align}\n",
    "\n",
    "Instead of computing this gradient by hand via calculus/algebra, we can use autograd to do it for us.\n",
    "\n",
    "First, we implement math function $f(x)$ as a **Python function** `f`.\n",
    "\n",
    "The Python function `f` needs to satisfy the following requirements:\n",
    "* INPUT 'x': numpy array of float\n",
    "* OUTPUT 'f(x)': scalar float\n",
    "* All internal operations are composed of calls to functions from `ag_np`, the `autograd` version of numpy\n"
   ]
  },
  {
   "cell_type": "code",
   "execution_count": 11,
   "metadata": {},
   "outputs": [],
   "source": [
    "def f(x_D):\n",
    "    return np.sum(np.square(x_D))\n",
    "\n",
    "g = autograd.grad(f)"
   ]
  },
  {
   "cell_type": "code",
   "execution_count": 12,
   "metadata": {},
   "outputs": [
    {
     "name": "stdout",
     "output_type": "stream",
     "text": [
      "[0. 0. 0. 0.]\n",
      "0.0\n",
      "[0. 0. 0. 0.]\n"
     ]
    }
   ],
   "source": [
    "x_D = np.zeros(4)\n",
    "print(x_D)\n",
    "print(f(x_D))\n",
    "print(g(x_D))"
   ]
  },
  {
   "cell_type": "code",
   "execution_count": 13,
   "metadata": {},
   "outputs": [
    {
     "name": "stdout",
     "output_type": "stream",
     "text": [
      "[1. 2. 3. 4.]\n",
      "30.0\n",
      "[2. 4. 6. 8.]\n"
     ]
    }
   ],
   "source": [
    "x_D = np.asarray([1., 2., 3., 4.])\n",
    "print(x_D)\n",
    "print(f(x_D))\n",
    "print(g(x_D))"
   ]
  },
  {
   "cell_type": "markdown",
   "metadata": {},
   "source": [
    "# Part 3: Using autograd gradients within gradient descent to solve multivariate optimization problems "
   ]
  },
  {
   "cell_type": "markdown",
   "metadata": {},
   "source": [
    "### Helper function: basic gradient descent\n",
    "\n",
    "Here's a very simple function that will perform many gradient descent steps to optimize a given function.\n",
    "\n",
    "Make sure you understand its basic properties (the gradient descent algorithm is one of the prereqs of this course)."
   ]
  },
  {
   "cell_type": "code",
   "execution_count": 14,
   "metadata": {},
   "outputs": [],
   "source": [
    "def run_many_iters_of_gradient_descent(f, g, init_x_D=None, n_iters=100, step_size=0.001):\n",
    "\n",
    "    # Copy the initial parameter vector\n",
    "    x_D = copy.deepcopy(init_x_D)\n",
    "\n",
    "    # Create data structs to track the per-iteration history of different quantities\n",
    "    history = dict(\n",
    "        iter=[],\n",
    "        f=[],\n",
    "        x_D=[],\n",
    "        g_D=[])\n",
    "\n",
    "    for iter_id in range(n_iters):\n",
    "        if iter_id > 0:\n",
    "            x_D = x_D - step_size * g(x_D)\n",
    "\n",
    "        history['iter'].append(iter_id)\n",
    "        history['f'].append(f(x_D))\n",
    "        history['x_D'].append(x_D)\n",
    "        history['g_D'].append(g(x_D))\n",
    "    return x_D, history"
   ]
  },
  {
   "cell_type": "markdown",
   "metadata": {},
   "source": [
    "### Worked Example 3a: Minimize f(x) = sum(square(x))\n",
    "\n",
    "It's easy to figure out that the vector with smallest L2 norm (smallest sum of squares) is the all-zero vector.\n",
    "\n",
    "Here's a quick example of showing that using gradient functions provided by autograd can help us solve the optimization problem:\n",
    "\n",
    "$$\n",
    "\\min_x  \\sum_{d=1}^D x_d^2\n",
    "$$"
   ]
  },
  {
   "cell_type": "code",
   "execution_count": 15,
   "metadata": {},
   "outputs": [],
   "source": [
    "def f(x_D):\n",
    "    return np.sum(np.square(x_D))\n",
    "\n",
    "g = autograd.grad(f)\n",
    "\n",
    "# Initialize at x_D = [-3, 4, -5, 6]\n",
    "init_x_D = np.asarray([-3.0, 4.0, -5.0, 6.0])"
   ]
  },
  {
   "cell_type": "code",
   "execution_count": 21,
   "metadata": {},
   "outputs": [],
   "source": [
    "opt_x_D, history = run_many_iters_of_gradient_descent(f, g, init_x_D, n_iters=1000, step_size=0.01)"
   ]
  },
  {
   "cell_type": "code",
   "execution_count": 26,
   "metadata": {},
   "outputs": [
    {
     "data": {
      "image/png": "[encoded data removed]",
      "text/plain": [
       "<matplotlib.figure.Figure at 0x1a168c0d90>"
      ]
     },
     "metadata": {
      "needs_background": "light"
     },
     "output_type": "display_data"
    }
   ],
   "source": [
    "# Make plots of how x parameter values evolve over iterations, and function values evolve over iterations\n",
    "# Expected result: f goes to zero. all x values goto zero.\n",
    "\n",
    "fig_h, subplot_grid = plt.subplots(\n",
    "    nrows=1, ncols=2, sharex=True, sharey=False, figsize=(15,3), squeeze=False)\n",
    "subplot_grid[0,0].plot(history['iter'], history['x_D'])\n",
    "subplot_grid[0,0].set_xlabel('iters')\n",
    "subplot_grid[0,0].set_ylabel('x_d')\n",
    "\n",
    "subplot_grid[0,1].plot(history['iter'], history['f'])\n",
    "subplot_grid[0,1].set_xlabel('iters')\n",
    "subplot_grid[0,1].set_ylabel('f(x)');"
   ]
  },
  {
   "cell_type": "markdown",
   "metadata": {},
   "source": [
    "### Try it Example 3b: Minimize the 'trid' function\n",
    "\n",
    "Given a 2-dimensional vector $x = [x_1, x_2]$, the trid function is:\n",
    "\n",
    "$$\n",
    "f(x) = (x_1-1)^2 + (x_2-1)^2 - x_1 x_2\n",
    "$$\n",
    "\n",
    "Background and Picture: <https://www.sfu.ca/~ssurjano/trid.html>\n",
    "\n",
    "Can you use autograd + gradient descent to find the optimal value $x^*$ that minimizes $f(x)$?\n",
    "\n",
    "You can initialize your gradient descent at [+1.0, -1.0]"
   ]
  },
  {
   "cell_type": "code",
   "execution_count": 23,
   "metadata": {},
   "outputs": [],
   "source": [
    "def f(x_D):\n",
    "    return 0.0 # TODO\n",
    "\n",
    "g = f # TODO"
   ]
  },
  {
   "cell_type": "code",
   "execution_count": 24,
   "metadata": {},
   "outputs": [],
   "source": [
    "# TODO call run_many_iters_of_gradient_descent() with appropriate args"
   ]
  },
  {
   "cell_type": "code",
   "execution_count": 27,
   "metadata": {},
   "outputs": [
    {
     "data": {
      "image/png": "[encoded data removed]",
      "text/plain": [
       "<matplotlib.figure.Figure at 0x1a16f46810>"
      ]
     },
     "metadata": {
      "needs_background": "light"
     },
     "output_type": "display_data"
    }
   ],
   "source": [
    "# TRID example\n",
    "# Make plots of how x parameter values evolve over iterations, and function values evolve over iterations\n",
    "# Expected result: ????\n",
    "\n",
    "fig_h, subplot_grid = plt.subplots(\n",
    "    nrows=1, ncols=2, sharex=True, sharey=False, figsize=(15,3), squeeze=False)\n",
    "subplot_grid[0,0].plot(history['iter'], history['x_D'])\n",
    "subplot_grid[0,0].set_xlabel('iters')\n",
    "subplot_grid[0,0].set_ylabel('x_d')\n",
    "\n",
    "subplot_grid[0,1].plot(history['iter'], history['f'])\n",
    "subplot_grid[0,1].set_xlabel('iters')\n",
    "subplot_grid[0,1].set_ylabel('f(x)');"
   ]
  },
  {
   "cell_type": "markdown",
   "metadata": {},
   "source": [
    "# Part 4: Solving linear regression with gradient descent + autograd"
   ]
  },
  {
   "cell_type": "markdown",
   "metadata": {},
   "source": [
    "We observe $N$ examples $(x_i, y_i)$ consisting of D-dimensional 'input' vectors $x_i$ and scalar outputs $y_i$.\n",
    "\n",
    "Consider the multivariate linear regression model:\n",
    "\n",
    "\\begin{align}\n",
    "y_i &\\sim \\mathcal{N}(w^T x_i, \\sigma^2), \\forall i \\in 1, 2, \\ldots N\n",
    "\\end{align}\n",
    "where we assume $\\sigma = 0.1$.\n",
    "\n",
    "One non-Bayesian way to train weights would be to just compute the maximum likelihood solution:\n",
    "\n",
    "\\begin{align}\n",
    "\\min_w  - \\log p(y | w, x)\n",
    "\\end{align}\n"
   ]
  },
  {
   "cell_type": "markdown",
   "metadata": {},
   "source": [
    "## Toy Data for linear regression task\n",
    "\n",
    "We'll generate data that comes from an idealized linear regression model.\n",
    "\n",
    "Each example has D=2 dimensions for x.\n",
    "\n",
    "The first dimension is weighted by +4.2.\n",
    "The second dimension is weighted by -4.2\n"
   ]
  },
  {
   "cell_type": "code",
   "execution_count": 31,
   "metadata": {},
   "outputs": [],
   "source": [
    "N = 300\n",
    "D = 2\n",
    "sigma = 0.1\n",
    "\n",
    "true_w_D = np.asarray([4.2, -4.2])\n",
    "true_bias = 0.1\n",
    "\n",
    "train_prng = np.random.RandomState(0)\n",
    "x_ND = train_prng.uniform(low=-5, high=5, size=(N,D))\n",
    "y_N = np.dot(x_ND, true_w_D) + true_bias + sigma * train_prng.randn(N)"
   ]
  },
  {
   "cell_type": "markdown",
   "metadata": {},
   "source": [
    "## Toy Data Visualization: Pairplots for all possible (x_d, y) combinations\n",
    "\n",
    "You can clearly see the slopes of the lines:\n",
    "* x1 vs y plot: slope is around +4\n",
    "* x2 vs y plot: slope is around -4"
   ]
  },
  {
   "cell_type": "code",
   "execution_count": 32,
   "metadata": {},
   "outputs": [
    {
     "data": {
      "image/png": "[encoded data removed]",
      "text/plain": [
       "<matplotlib.figure.Figure at 0x1a177ff3d0>"
      ]
     },
     "metadata": {
      "needs_background": "light"
     },
     "output_type": "display_data"
    }
   ],
   "source": [
    "sns.pairplot(\n",
    "    data=pd.DataFrame(np.hstack([x_ND, y_N[:,np.newaxis]]), columns=['x1', 'x2', 'y']));"
   ]
  },
  {
   "cell_type": "code",
   "execution_count": 33,
   "metadata": {},
   "outputs": [],
   "source": [
    "# Define the optimization problem as an AUTOGRAD-able function wrt the weights w_D\n",
    "def calc_neg_likelihood_linreg(w_D):\n",
    "    return 0.5 / ag_np.square(sigma) * ag_np.sum(ag_np.square(ag_np.dot(x_ND, w_D) - y_N))"
   ]
  },
  {
   "cell_type": "code",
   "execution_count": 34,
   "metadata": {},
   "outputs": [
    {
     "data": {
      "text/plain": [
       "4649826.583041586"
      ]
     },
     "execution_count": 34,
     "metadata": {},
     "output_type": "execute_result"
    }
   ],
   "source": [
    "## Test the function at an easy initial point\n",
    "init_w_D = np.zeros(2)\n",
    "calc_neg_likelihood_linreg(init_w_D)"
   ]
  },
  {
   "cell_type": "code",
   "execution_count": 35,
   "metadata": {},
   "outputs": [
    {
     "data": {
      "text/plain": [
       "array([-1053476.33939486,  1159525.45599207])"
      ]
     },
     "execution_count": 35,
     "metadata": {},
     "output_type": "execute_result"
    }
   ],
   "source": [
    "## Test the gradient at that easy point \n",
    "calc_grad_wrt_w = autograd.grad(calc_neg_likelihood_linreg)\n",
    "calc_grad_wrt_w(init_w_D)"
   ]
  },
  {
   "cell_type": "code",
   "execution_count": 36,
   "metadata": {},
   "outputs": [],
   "source": [
    "# Because the gradient's magnitude is very large, use very small step size\n",
    "opt_w_D, history = run_many_iters_of_gradient_descent(\n",
    "    calc_neg_likelihood_linreg, autograd.grad(calc_neg_likelihood_linreg), init_w_D,\n",
    "    n_iters=300, step_size=0.000001,\n",
    "    )"
   ]
  },
  {
   "cell_type": "code",
   "execution_count": 37,
   "metadata": {},
   "outputs": [
    {
     "data": {
      "image/png": "[encoded data removed]",
      "text/plain": [
       "<matplotlib.figure.Figure at 0x1a16d22290>"
      ]
     },
     "metadata": {
      "needs_background": "light"
     },
     "output_type": "display_data"
    }
   ],
   "source": [
    "# LinReg worked example\n",
    "# Make plots of how w_D parameter values evolve over iterations, and function values evolve over iterations\n",
    "# Expected result: x\n",
    "\n",
    "fig_h, subplot_grid = plt.subplots(\n",
    "    nrows=1, ncols=2, sharex=True, sharey=False, figsize=(15,3), squeeze=False)\n",
    "subplot_grid[0,0].plot(history['iter'], history['x_D'])\n",
    "subplot_grid[0,0].set_xlabel('iters')\n",
    "subplot_grid[0,0].set_ylabel('w_d')\n",
    "\n",
    "subplot_grid[0,1].plot(history['iter'], history['f'])\n",
    "subplot_grid[0,1].set_xlabel('iters')\n",
    "subplot_grid[0,1].set_ylabel('-1 * log p(y | w, x)');"
   ]
  },
  {
   "cell_type": "markdown",
   "metadata": {},
   "source": [
    "## Try it Example 4b: Solve the linear regression problem using a weights-and-bias representation"
   ]
  },
  {
   "cell_type": "markdown",
   "metadata": {},
   "source": [
    "The above example only uses weights on the dimensions of $x_i$, and thus can only learn linear models that pass through the origin.\n",
    "\n",
    "Can you instead optimize a model that includes a **bias** term $b>0$?\n",
    "\n",
    "\\begin{align}\n",
    "y_i &\\sim \\mathcal{N}(w^T x_i + b, \\sigma^2), \\forall i \\in 1, 2, \\ldots N\n",
    "\\end{align}\n",
    "where we assume $\\sigma = 0.1$.\n",
    "\n",
    "One non-Bayesian way to train weights would be to just compute the maximum likelihood solution:\n",
    "\n",
    "\\begin{align}\n",
    "\\min_{w,b}  - \\log p(y | w, b, x)\n",
    "\\end{align}\n"
   ]
  },
  {
   "cell_type": "markdown",
   "metadata": {},
   "source": [
    "An easy way to do this is to imagine that each observation vector $x_i$ is expanded into a $\\tilde{x}_i$ that contains a column of all ones.  Then, we can write the corresponding expanded weights as $\\tilde{w} = [w_1 w_2 b]$.\n",
    "\n",
    "\n",
    "\\begin{align}\n",
    "\\min_{\\tilde{w}}  - \\log p(y | \\tilde{w},\\tilde{x})\n",
    "\\end{align}\n"
   ]
  },
  {
   "cell_type": "code",
   "execution_count": null,
   "metadata": {},
   "outputs": [],
   "source": [
    "# Now, each expanded xtilde vector has size E = D+1 = 3\n",
    "\n",
    "xtilde_NE = np.hstack([x_ND, np.ones((N,1))])"
   ]
  },
  {
   "cell_type": "code",
   "execution_count": null,
   "metadata": {},
   "outputs": [],
   "source": [
    "# TODO: Define f to minimize that takes a COMBINED weights-and-bias vector wtilde_E of size E=3"
   ]
  },
  {
   "cell_type": "code",
   "execution_count": null,
   "metadata": {},
   "outputs": [],
   "source": [
    "# TODO: Compute gradient of f"
   ]
  },
  {
   "cell_type": "code",
   "execution_count": null,
   "metadata": {},
   "outputs": [],
   "source": [
    "# TODO run gradient descent and plot the results"
   ]
  },
  {
   "cell_type": "markdown",
   "metadata": {},
   "source": [
    "# Part 5 setup: Autograd for functions of data structures of arrays"
   ]
  },
  {
   "cell_type": "markdown",
   "metadata": {},
   "source": [
    "#### Useful Fact: autograd can take derivatives with respect to DATA STRUCTURES of parameters\n",
    "\n",
    "This can help us when it is natural to define models in terms of several parts (e.g. NN layers).\n",
    "\n",
    "We don't need to turn our many model parameters into one giant weights-and-biases vector. We can express our thoughts more naturally."
   ]
  },
  {
   "cell_type": "markdown",
   "metadata": {},
   "source": [
    "### Demo 1: gradient of a LIST of parameters"
   ]
  },
  {
   "cell_type": "code",
   "execution_count": 38,
   "metadata": {},
   "outputs": [],
   "source": [
    "def f(w_list_of_arr):\n",
    "    return ag_np.sum(ag_np.square(w_list_of_arr[0])) + ag_np.sum(ag_np.square(w_list_of_arr[1]))\n",
    "\n",
    "g = autograd.grad(f)"
   ]
  },
  {
   "cell_type": "code",
   "execution_count": 39,
   "metadata": {},
   "outputs": [
    {
     "name": "stdout",
     "output_type": "stream",
     "text": [
      "Type of the gradient is: \n",
      "<type 'list'>\n",
      "Result of the gradient is: \n"
     ]
    },
    {
     "data": {
      "text/plain": [
       "[array([0., 0., 0.]), array([0., 2., 4., 6., 8.])]"
      ]
     },
     "execution_count": 39,
     "metadata": {},
     "output_type": "execute_result"
    }
   ],
   "source": [
    "w_list_of_arr = [np.zeros(3), np.arange(5, dtype=np.float64)]\n",
    "\n",
    "print(\"Type of the gradient is: \")\n",
    "print(type(g(w_list_of_arr)))\n",
    "\n",
    "print(\"Result of the gradient is: \")\n",
    "g(w_list_of_arr)"
   ]
  },
  {
   "cell_type": "markdown",
   "metadata": {},
   "source": [
    "### Demo 2: gradient of DICT of parameters\n"
   ]
  },
  {
   "cell_type": "code",
   "execution_count": 40,
   "metadata": {},
   "outputs": [],
   "source": [
    "def f(dict_of_arr):\n",
    "    return ag_np.sum(ag_np.square(dict_of_arr['weights'])) + ag_np.sum(ag_np.square(dict_of_arr['bias']))\n",
    "g = autograd.grad(f)"
   ]
  },
  {
   "cell_type": "code",
   "execution_count": 41,
   "metadata": {},
   "outputs": [
    {
     "name": "stdout",
     "output_type": "stream",
     "text": [
      "Type of the gradient is: \n",
      "<type 'dict'>\n",
      "Result of the gradient is: \n"
     ]
    },
    {
     "data": {
      "text/plain": [
       "{'bias': array(8.4), 'weights': array([0., 2., 4., 6., 8.])}"
      ]
     },
     "execution_count": 41,
     "metadata": {},
     "output_type": "execute_result"
    }
   ],
   "source": [
    "dict_of_arr = dict(weights=np.arange(5, dtype=np.float64), bias=4.2)\n",
    "\n",
    "print(\"Type of the gradient is: \")\n",
    "print(type(g(dict_of_arr)))\n",
    "\n",
    "print(\"Result of the gradient is: \")\n",
    "g(dict_of_arr)"
   ]
  },
  {
   "cell_type": "markdown",
   "metadata": {},
   "source": [
    "# Part 5: Neural Networks and Autograd"
   ]
  },
  {
   "cell_type": "markdown",
   "metadata": {},
   "source": [
    "### Let's use a convenient data structure for NN model parameters\n",
    "\n",
    "Use a list of dicts of arrays.\n",
    "\n",
    "Each entry in the list is a dict that represents the parameters of one \"layer\".\n",
    "\n",
    "Each layer-specific dict has two named attributes: a vector of weights 'w' and a vector of biases 'b'"
   ]
  },
  {
   "cell_type": "markdown",
   "metadata": {},
   "source": [
    "#### Here's a function to create NN params as a 'list-of-dicts' that match a provided set of dimensions"
   ]
  },
  {
   "cell_type": "code",
   "execution_count": 42,
   "metadata": {},
   "outputs": [],
   "source": [
    "def make_nn_params_as_list_of_dicts(\n",
    "        n_hiddens_per_layer_list=[5],\n",
    "        n_dims_input=1,\n",
    "        n_dims_output=1,\n",
    "        weight_fill_func=np.zeros,\n",
    "        bias_fill_func=np.zeros):\n",
    "    nn_param_list = []\n",
    "    n_hiddens_per_layer_list = [n_dims_input] + n_hiddens_per_layer_list + [n_dims_output]\n",
    "\n",
    "    # Given full network size list is [a, b, c, d, e]\n",
    "    # For loop should loop over (a,b) , (b,c) , (c,d) , (d,e)\n",
    "    for n_in, n_out in zip(n_hiddens_per_layer_list[:-1], n_hiddens_per_layer_list[1:]):\n",
    "        nn_param_list.append(\n",
    "            dict(\n",
    "                w=weight_fill_func((n_in, n_out)),\n",
    "                b=bias_fill_func((n_out,)),\n",
    "            ))\n",
    "    return nn_param_list"
   ]
  },
  {
   "cell_type": "markdown",
   "metadata": {},
   "source": [
    "#### Here's a function to pretty-print any given set of NN parameters to stdout, so we can inspect"
   ]
  },
  {
   "cell_type": "code",
   "execution_count": 43,
   "metadata": {},
   "outputs": [],
   "source": [
    "def pretty_print_nn_param_list(nn_param_list_of_dict):\n",
    "    \"\"\" Create pretty display of the parameters at each layer\n",
    "    \"\"\"\n",
    "    for ll, layer_dict in enumerate(nn_param_list_of_dict):\n",
    "        print(\"Layer %d\" % ll)\n",
    "        print(\"  w | size %9s | %s\" % (layer_dict['w'].shape, layer_dict['w'].flatten()))\n",
    "        print(\"  b | size %9s | %s\" % (layer_dict['b'].shape, layer_dict['b'].flatten()))"
   ]
  },
  {
   "cell_type": "markdown",
   "metadata": {},
   "source": [
    "## Example: NN with 0 hidden layers (equivalent to linear regression)\n",
    "\n",
    "For univariate regression: 1D -> 1D\n",
    "\n",
    "Will fill all parameters with zeros by default"
   ]
  },
  {
   "cell_type": "code",
   "execution_count": 46,
   "metadata": {},
   "outputs": [
    {
     "name": "stdout",
     "output_type": "stream",
     "text": [
      "Layer 0\n",
      "  w | size    (1, 1) | [0.]\n",
      "  b | size      (1,) | [0.]\n"
     ]
    }
   ],
   "source": [
    "nn_params = make_nn_params_as_list_of_dicts(n_hiddens_per_layer_list=[], n_dims_input=1, n_dims_output=1)\n",
    "pretty_print_nn_param_list(nn_params)"
   ]
  },
  {
   "cell_type": "markdown",
   "metadata": {},
   "source": [
    "## Example: NN with 0 hidden layers (equivalent to linear regression)\n",
    "\n",
    "For multivariate regression when |x_i| = 2: 2D -> 1D\n",
    "\n",
    "Will fill all parameters with zeros by default"
   ]
  },
  {
   "cell_type": "code",
   "execution_count": 48,
   "metadata": {},
   "outputs": [
    {
     "name": "stdout",
     "output_type": "stream",
     "text": [
      "Layer 0\n",
      "  w | size    (2, 1) | [0. 0.]\n",
      "  b | size      (1,) | [0.]\n"
     ]
    }
   ],
   "source": [
    "nn_params = make_nn_params_as_list_of_dicts(n_hiddens_per_layer_list=[], n_dims_input=2, n_dims_output=1)\n",
    "pretty_print_nn_param_list(nn_params)"
   ]
  },
  {
   "cell_type": "markdown",
   "metadata": {},
   "source": [
    "## Example: NN with 1 hidden layer of 3 hidden units"
   ]
  },
  {
   "cell_type": "code",
   "execution_count": 49,
   "metadata": {},
   "outputs": [
    {
     "name": "stdout",
     "output_type": "stream",
     "text": [
      "Layer 0\n",
      "  w | size    (2, 3) | [0. 0. 0. 0. 0. 0.]\n",
      "  b | size      (3,) | [0. 0. 0.]\n",
      "Layer 1\n",
      "  w | size    (3, 1) | [0. 0. 0.]\n",
      "  b | size      (1,) | [0.]\n"
     ]
    }
   ],
   "source": [
    "nn_params = make_nn_params_as_list_of_dicts(n_hiddens_per_layer_list=[3], n_dims_input=2, n_dims_output=1)\n",
    "pretty_print_nn_param_list(nn_params)"
   ]
  },
  {
   "cell_type": "markdown",
   "metadata": {},
   "source": [
    "## Example: NN with 1 hidden layer of 3 hidden units\n",
    "\n",
    "Use 'ones' as the fill function for weights"
   ]
  },
  {
   "cell_type": "code",
   "execution_count": 53,
   "metadata": {},
   "outputs": [
    {
     "name": "stdout",
     "output_type": "stream",
     "text": [
      "Layer 0\n",
      "  w | size    (2, 3) | [1. 1. 1. 1. 1. 1.]\n",
      "  b | size      (3,) | [0. 0. 0.]\n",
      "Layer 1\n",
      "  w | size    (3, 1) | [1. 1. 1.]\n",
      "  b | size      (1,) | [0.]\n"
     ]
    }
   ],
   "source": [
    "nn_params = make_nn_params_as_list_of_dicts(\n",
    "    n_hiddens_per_layer_list=[3], n_dims_input=2, n_dims_output=1,\n",
    "    weight_fill_func=np.ones)\n",
    "pretty_print_nn_param_list(nn_params)"
   ]
  },
  {
   "cell_type": "markdown",
   "metadata": {},
   "source": [
    "## Example: NN with 1 hidden layer of 3 hidden units\n",
    "\n",
    "Use random draws from standard normal as the fill function for weights"
   ]
  },
  {
   "cell_type": "code",
   "execution_count": 54,
   "metadata": {},
   "outputs": [
    {
     "name": "stdout",
     "output_type": "stream",
     "text": [
      "Layer 0\n",
      "  w | size    (2, 3) | [-1.89696697  0.10497134 -0.11371797  1.09290398  0.28420754  1.60185133]\n",
      "  b | size      (3,) | [0. 0. 0.]\n",
      "Layer 1\n",
      "  w | size    (3, 1) | [-1.35481542  1.56242066  0.28087651]\n",
      "  b | size      (1,) | [0.]\n"
     ]
    }
   ],
   "source": [
    "nn_params = make_nn_params_as_list_of_dicts(\n",
    "    n_hiddens_per_layer_list=[3], n_dims_input=2, n_dims_output=1,\n",
    "    weight_fill_func=lambda size_tuple: np.random.randn(*size_tuple))\n",
    "pretty_print_nn_param_list(nn_params)"
   ]
  },
  {
   "cell_type": "markdown",
   "metadata": {},
   "source": [
    "## Example: NN with 7 hidden layers of diff sizes\n",
    "\n",
    "Just shows how generic this framework is!"
   ]
  },
  {
   "cell_type": "code",
   "execution_count": 51,
   "metadata": {},
   "outputs": [
    {
     "name": "stdout",
     "output_type": "stream",
     "text": [
      "Layer 0\n",
      "  w | size    (2, 3) | [0. 0. 0. 0. 0. 0.]\n",
      "  b | size      (3,) | [0. 0. 0.]\n",
      "Layer 1\n",
      "  w | size    (3, 4) | [0. 0. 0. 0. 0. 0. 0. 0. 0. 0. 0. 0.]\n",
      "  b | size      (4,) | [0. 0. 0. 0.]\n",
      "Layer 2\n",
      "  w | size    (4, 5) | [0. 0. 0. 0. 0. 0. 0. 0. 0. 0. 0. 0. 0. 0. 0. 0. 0. 0. 0. 0.]\n",
      "  b | size      (5,) | [0. 0. 0. 0. 0.]\n",
      "Layer 3\n",
      "  w | size    (5, 6) | [0. 0. 0. 0. 0. 0. 0. 0. 0. 0. 0. 0. 0. 0. 0. 0. 0. 0. 0. 0. 0. 0. 0. 0.\n",
      " 0. 0. 0. 0. 0. 0.]\n",
      "  b | size      (6,) | [0. 0. 0. 0. 0. 0.]\n",
      "Layer 4\n",
      "  w | size    (6, 5) | [0. 0. 0. 0. 0. 0. 0. 0. 0. 0. 0. 0. 0. 0. 0. 0. 0. 0. 0. 0. 0. 0. 0. 0.\n",
      " 0. 0. 0. 0. 0. 0.]\n",
      "  b | size      (5,) | [0. 0. 0. 0. 0.]\n",
      "Layer 5\n",
      "  w | size    (5, 4) | [0. 0. 0. 0. 0. 0. 0. 0. 0. 0. 0. 0. 0. 0. 0. 0. 0. 0. 0. 0.]\n",
      "  b | size      (4,) | [0. 0. 0. 0.]\n",
      "Layer 6\n",
      "  w | size    (4, 3) | [0. 0. 0. 0. 0. 0. 0. 0. 0. 0. 0. 0.]\n",
      "  b | size      (3,) | [0. 0. 0.]\n",
      "Layer 7\n",
      "  w | size    (3, 1) | [0. 0. 0.]\n",
      "  b | size      (1,) | [0.]\n"
     ]
    }
   ],
   "source": [
    "nn_params = make_nn_params_as_list_of_dicts(\n",
    "    n_hiddens_per_layer_list=[3, 4, 5, 6, 5, 4, 3], n_dims_input=2, n_dims_output=1)\n",
    "pretty_print_nn_param_list(nn_params)"
   ]
  },
  {
   "cell_type": "markdown",
   "metadata": {},
   "source": [
    "## Setup: Function that performs **prediction**"
   ]
  },
  {
   "cell_type": "code",
   "execution_count": 55,
   "metadata": {},
   "outputs": [],
   "source": [
    "def predict_y_given_x_with_NN(x=None, nn_param_list=None, activation_func=ag_np.tanh):\n",
    "    \"\"\" Predict y value given x value via feed-forward neural net\n",
    "    \n",
    "    Args\n",
    "    ----\n",
    "    x : array_like, n_examples x n_input_dims\n",
    "    \n",
    "    Returns\n",
    "    -------\n",
    "    y : array_like, n_examples\n",
    "    \"\"\"\n",
    "    for layer_id, layer_dict in enumerate(nn_param_list):\n",
    "        if layer_id == 0:\n",
    "            if x.ndim > 1:\n",
    "                in_arr = x\n",
    "            else:\n",
    "                if x.size == nn_param_list[0]['w'].shape[0]:\n",
    "                    in_arr = x[ag_np.newaxis,:]\n",
    "                else:\n",
    "                    in_arr = x[:,ag_np.newaxis]                    \n",
    "        else:\n",
    "            in_arr = activation_func(out_arr)\n",
    "        out_arr = ag_np.dot(in_arr, layer_dict['w']) + layer_dict['b']\n",
    "    return ag_np.squeeze(out_arr)"
   ]
  },
  {
   "cell_type": "markdown",
   "metadata": {},
   "source": [
    "### Example: Make predictions with 0-layer NN whose parameters  are filled with the 'true' params for our toy dataset"
   ]
  },
  {
   "cell_type": "code",
   "execution_count": 58,
   "metadata": {},
   "outputs": [],
   "source": [
    "true_nn_params = make_nn_params_as_list_of_dicts(n_hiddens_per_layer_list=[], n_dims_input=2, n_dims_output=1)\n",
    "true_nn_params[0]['w'][:] = true_w_D[:,np.newaxis]\n",
    "true_nn_params[0]['b'][:] = true_bias"
   ]
  },
  {
   "cell_type": "code",
   "execution_count": 59,
   "metadata": {},
   "outputs": [
    {
     "data": {
      "text/plain": [
       "Text(0,0.5,u'predicted y|x')"
      ]
     },
     "execution_count": 59,
     "metadata": {},
     "output_type": "execute_result"
    },
    {
     "data": {
      "image/png": "[encoded data removed]",
      "text/plain": [
       "<matplotlib.figure.Figure at 0x1a16a23ad0>"
      ]
     },
     "metadata": {
      "needs_background": "light"
     },
     "output_type": "display_data"
    }
   ],
   "source": [
    "yhat_N = predict_y_given_x_with_NN(x_ND, true_nn_params)\n",
    "assert yhat_N.size == N\n",
    "\n",
    "plt.plot(yhat_N, y_N, 'k.')\n",
    "plt.xlabel('true y')\n",
    "plt.ylabel('predicted y|x')"
   ]
  },
  {
   "cell_type": "markdown",
   "metadata": {},
   "source": [
    "### Example: Make predictions with 0-layer NN whose parameters  are filled with all zeros"
   ]
  },
  {
   "cell_type": "code",
   "execution_count": 61,
   "metadata": {},
   "outputs": [
    {
     "data": {
      "text/plain": [
       "Text(0,0.5,u'predicted y|x')"
      ]
     },
     "execution_count": 61,
     "metadata": {},
     "output_type": "execute_result"
    },
    {
     "data": {
      "image/png": "[encoded data removed]",
      "text/plain": [
       "<matplotlib.figure.Figure at 0x1a16c23950>"
      ]
     },
     "metadata": {
      "needs_background": "light"
     },
     "output_type": "display_data"
    }
   ],
   "source": [
    "zero_nn_params = make_nn_params_as_list_of_dicts(n_hiddens_per_layer_list=[], n_dims_input=2, n_dims_output=1)\n",
    "yhat_N = predict_y_given_x_with_NN(x_ND, zero_nn_params)\n",
    "assert yhat_N.size == N\n",
    "\n",
    "plt.plot(yhat_N, y_N, 'k.')\n",
    "plt.xlabel('true y')\n",
    "plt.ylabel('predicted y|x')"
   ]
  },
  {
   "cell_type": "markdown",
   "metadata": {},
   "source": [
    "## Setup: Gradient descent implementation that can use list-of-dict parameters (not just arrays)"
   ]
  },
  {
   "cell_type": "code",
   "execution_count": 67,
   "metadata": {},
   "outputs": [],
   "source": [
    "def run_many_iters_of_gradient_descent_with_list_of_dict(f, g, init_x_list_of_dict=None, n_iters=100, step_size=0.001):\n",
    "\n",
    "    # Copy the initial parameter vector\n",
    "    x_list_of_dict = copy.deepcopy(init_x_list_of_dict)\n",
    "\n",
    "    # Create data structs to track the per-iteration history of different quantities\n",
    "    history = dict(\n",
    "        iter=[],\n",
    "        f=[],\n",
    "        x=[],\n",
    "        g=[])\n",
    "    start_time = time.time()\n",
    "    for iter_id in range(n_iters):\n",
    "        if iter_id > 0:\n",
    "            # Gradient is a list of layer-specific dicts\n",
    "            grad_list_of_dict = g(x_list_of_dict)\n",
    "            for layer_id, x_layer_dict in enumerate(x_list_of_dict):\n",
    "                for key in x_layer_dict.keys():\n",
    "                    x_layer_dict[key] = x_layer_dict[key] - step_size * grad_list_of_dict[layer_id][key]\n",
    "                    \n",
    "        fval = f(x_list_of_dict)\n",
    "        history['iter'].append(iter_id)\n",
    "        history['f'].append(fval)\n",
    "        history['x'].append(copy.deepcopy(x_list_of_dict))\n",
    "        history['g'].append(g(x_list_of_dict))\n",
    "\n",
    "        if iter_id < 3 or (iter_id+1) % 50 == 0:\n",
    "            print(\"completed iter %5d/%d after %7.1f sec | loss %.6e\" % (\n",
    "                iter_id+1, n_iters, time.time()-start_time, fval))\n",
    "    return x_list_of_dict, history"
   ]
  },
  {
   "cell_type": "markdown",
   "metadata": {},
   "source": [
    "# Worked Exercise 5a: Train 0-layer NN via gradient descent on LINEAR toy data"
   ]
  },
  {
   "cell_type": "code",
   "execution_count": 68,
   "metadata": {},
   "outputs": [],
   "source": [
    "def nn_regression_loss_function(nn_params):\n",
    "    yhat_N = predict_y_given_x_with_NN(x_ND, nn_params)\n",
    "    return 0.5 / ag_np.square(sigma) * ag_np.sum(np.square(y_N - yhat_N))"
   ]
  },
  {
   "cell_type": "code",
   "execution_count": 69,
   "metadata": {},
   "outputs": [
    {
     "name": "stdout",
     "output_type": "stream",
     "text": [
      "completed iter     1/100 after     0.1 sec | loss 1.632803e+02\n",
      "completed iter     2/100 after     0.4 sec | loss 1.626805e+02\n",
      "completed iter     3/100 after     0.5 sec | loss 1.622965e+02\n",
      "completed iter    50/100 after     9.2 sec | loss 1.598157e+02\n",
      "completed iter   100/100 after    20.8 sec | loss 1.596883e+02\n"
     ]
    }
   ],
   "source": [
    "fromtrue_opt_nn_params, fromtrue_history = run_many_iters_of_gradient_descent_with_list_of_dict(\n",
    "    nn_regression_loss_function,\n",
    "    autograd.grad(nn_regression_loss_function),\n",
    "    true_nn_params,\n",
    "    n_iters=100,\n",
    "    step_size=0.000001)"
   ]
  },
  {
   "cell_type": "code",
   "execution_count": 74,
   "metadata": {},
   "outputs": [
    {
     "name": "stdout",
     "output_type": "stream",
     "text": [
      "Layer 0\n",
      "  w | size    (2, 1) | [ 4.20137427 -4.2023327 ]\n",
      "  b | size      (1,) | [0.08737985]\n"
     ]
    }
   ],
   "source": [
    "pretty_print_nn_param_list(fromtrue_opt_nn_params)"
   ]
  },
  {
   "cell_type": "code",
   "execution_count": 70,
   "metadata": {},
   "outputs": [
    {
     "data": {
      "text/plain": [
       "[<matplotlib.lines.Line2D at 0x1a178d3f10>]"
      ]
     },
     "execution_count": 70,
     "metadata": {},
     "output_type": "execute_result"
    },
    {
     "data": {
      "image/png": "[encoded data removed]",
      "text/plain": [
       "<matplotlib.figure.Figure at 0x1a17898b50>"
      ]
     },
     "metadata": {
      "needs_background": "light"
     },
     "output_type": "display_data"
    }
   ],
   "source": [
    "plt.plot(fromtrue_history['iter'], fromtrue_history['f'], 'k.-')"
   ]
  },
  {
   "cell_type": "code",
   "execution_count": 71,
   "metadata": {},
   "outputs": [
    {
     "name": "stdout",
     "output_type": "stream",
     "text": [
      "completed iter     1/100 after     0.1 sec | loss 4.649827e+06\n",
      "completed iter     2/100 after     0.3 sec | loss 2.520065e+06\n",
      "completed iter     3/100 after     0.6 sec | loss 1.367394e+06\n",
      "completed iter    50/100 after     9.4 sec | loss 1.634750e+02\n",
      "completed iter   100/100 after    20.2 sec | loss 1.598624e+02\n"
     ]
    }
   ],
   "source": [
    "fromzero_opt_nn_params, fromzero_history = run_many_iters_of_gradient_descent_with_list_of_dict(\n",
    "    nn_regression_loss_function,\n",
    "    autograd.grad(nn_regression_loss_function),\n",
    "    zero_nn_params,\n",
    "    n_iters=100,\n",
    "    step_size=0.000001)"
   ]
  },
  {
   "cell_type": "code",
   "execution_count": 72,
   "metadata": {},
   "outputs": [
    {
     "name": "stdout",
     "output_type": "stream",
     "text": [
      "Layer 0\n",
      "  w | size    (2, 1) | [ 4.20137256 -4.2023501 ]\n",
      "  b | size      (1,) | [0.08325989]\n"
     ]
    }
   ],
   "source": [
    "pretty_print_nn_param_list(fromzero_opt_nn_params)"
   ]
  },
  {
   "cell_type": "code",
   "execution_count": 75,
   "metadata": {},
   "outputs": [
    {
     "data": {
      "text/plain": [
       "[<matplotlib.lines.Line2D at 0x1a17cb2e90>]"
      ]
     },
     "execution_count": 75,
     "metadata": {},
     "output_type": "execute_result"
    },
    {
     "data": {
      "image/png": "[encoded data removed]",
      "text/plain": [
       "<matplotlib.figure.Figure at 0x1a16bf7a10>"
      ]
     },
     "metadata": {
      "needs_background": "light"
     },
     "output_type": "display_data"
    }
   ],
   "source": [
    "plt.plot(fromzero_history['iter'], fromzero_history['f'], 'k.-')"
   ]
  },
  {
   "cell_type": "code",
   "execution_count": null,
   "metadata": {},
   "outputs": [],
   "source": []
  },
  {
   "cell_type": "markdown",
   "metadata": {},
   "source": [
    "# Create more complex non-linear toy dataset\n",
    "\n",
    "True method *regression from QUADRATIC features*:\n",
    "\n",
    "$$\n",
    "y \\sim \\text{Normal}( w_1 x_1 + w_2 x_2 + w_3 x_1^2 + w_4 x_2^2 + b, \\sigma^2)\n",
    "$$"
   ]
  },
  {
   "cell_type": "code",
   "execution_count": 76,
   "metadata": {},
   "outputs": [],
   "source": [
    "N = 300\n",
    "D = 2\n",
    "sigma = 0.1\n",
    "\n",
    "wsq_D = np.asarray([-2.0, 2.0])\n",
    "w_D = np.asarray([4.2, -4.2])\n",
    "\n",
    "train_prng = np.random.RandomState(0)\n",
    "x_ND = train_prng.uniform(low=-5, high=5, size=(N,D))\n",
    "y_N = (\n",
    "    np.dot(np.square(x_ND), wsq_D)\n",
    "    + np.dot(x_ND, w_D)\n",
    "    + sigma * train_prng.randn(N))"
   ]
  },
  {
   "cell_type": "code",
   "execution_count": 77,
   "metadata": {},
   "outputs": [
    {
     "data": {
      "image/png": "[encoded data removed]",
      "text/plain": [
       "<matplotlib.figure.Figure at 0x1a17877850>"
      ]
     },
     "metadata": {
      "needs_background": "light"
     },
     "output_type": "display_data"
    }
   ],
   "source": [
    "sns.pairplot(\n",
    "    data=pd.DataFrame(np.hstack([x_ND, y_N[:,np.newaxis]]), columns=['x1', 'x2', 'y']));"
   ]
  },
  {
   "cell_type": "code",
   "execution_count": 78,
   "metadata": {},
   "outputs": [],
   "source": [
    "def nonlinear_toy_nn_regression_loss_function(nn_params):\n",
    "    yhat_N = predict_y_given_x_with_NN(x_ND, nn_params)\n",
    "    return 0.5 / ag_np.square(sigma) * ag_np.sum(np.square(y_N - yhat_N))"
   ]
  },
  {
   "cell_type": "code",
   "execution_count": 79,
   "metadata": {},
   "outputs": [],
   "source": [
    "# Initialize 1-layer, 10 hidden unit network with small random noise on weights\n",
    "\n",
    "H10_init_nn_params = make_nn_params_as_list_of_dicts(\n",
    "    n_hiddens_per_layer_list=[10], n_dims_input=2, n_dims_output=1,\n",
    "    weight_fill_func=lambda sz_tuple: 0.1 * np.random.randn(*sz_tuple))"
   ]
  },
  {
   "cell_type": "code",
   "execution_count": 80,
   "metadata": {},
   "outputs": [
    {
     "name": "stdout",
     "output_type": "stream",
     "text": [
      "completed iter     1/300 after     0.1 sec | loss 1.194825e+07\n",
      "completed iter     2/300 after     0.3 sec | loss 1.163953e+07\n",
      "completed iter     3/300 after     0.6 sec | loss 1.117648e+07\n",
      "completed iter    50/300 after     9.1 sec | loss 2.276573e+06\n",
      "completed iter   100/300 after    18.9 sec | loss 2.803082e+06\n",
      "completed iter   150/300 after    29.4 sec | loss 1.879504e+06\n",
      "completed iter   200/300 after    39.9 sec | loss 1.785398e+06\n",
      "completed iter   250/300 after    50.0 sec | loss 1.680417e+06\n",
      "completed iter   300/300 after    60.4 sec | loss 1.588551e+06\n"
     ]
    }
   ],
   "source": [
    "H10_opt_nn_params, H10_history = run_many_iters_of_gradient_descent_with_list_of_dict(\n",
    "    nonlinear_toy_nn_regression_loss_function,\n",
    "    autograd.grad(nonlinear_toy_nn_regression_loss_function),\n",
    "    H10_init_nn_params,\n",
    "    n_iters=300,\n",
    "    step_size=0.000001)"
   ]
  },
  {
   "cell_type": "markdown",
   "metadata": {},
   "source": [
    "#### Plot objective function vs iters"
   ]
  },
  {
   "cell_type": "code",
   "execution_count": null,
   "metadata": {},
   "outputs": [],
   "source": [
    "plt.plot(H10_history['iter'], H10_history['f'], 'k.-')\n",
    "plt.title('10 hidden units');"
   ]
  },
  {
   "cell_type": "markdown",
   "metadata": {},
   "source": [
    "#### Plot predicted y vs. true y for each example as a scatterplot"
   ]
  },
  {
   "cell_type": "code",
   "execution_count": null,
   "metadata": {},
   "outputs": [],
   "source": [
    "yhat_N = predict_y_given_x_with_NN(x_ND, H10_opt_nn_params)\n",
    "\n",
    "plt.plot(yhat_N, y_N, 'k.');\n",
    "plt.xlabel('predicted y|x');\n",
    "plt.ylabel('true y');"
   ]
  },
  {
   "cell_type": "code",
   "execution_count": null,
   "metadata": {},
   "outputs": [],
   "source": [
    "_, subplot_grid = plt.subplots(nrows=1, ncols=2, sharex=True, sharey=False, figsize=(10,3), squeeze=False)\n",
    "subplot_grid[0,0].plot(x_ND[:,0], y_N, 'k.');\n",
    "subplot_grid[0,0].plot(x_ND[:,0], yhat_N, 'b.')\n",
    "subplot_grid[0,0].set_xlabel('x_0');\n",
    "\n",
    "subplot_grid[0,1].plot(x_ND[:,1], y_N, 'k.');\n",
    "subplot_grid[0,1].plot(x_ND[:,1], yhat_N, 'b.')\n",
    "subplot_grid[0,1].set_xlabel('x_1');"
   ]
  },
  {
   "cell_type": "markdown",
   "metadata": {},
   "source": [
    "## More units! Try 1 layer with H=30 hidden units"
   ]
  },
  {
   "cell_type": "code",
   "execution_count": null,
   "metadata": {},
   "outputs": [],
   "source": [
    "# Initialize 1-layer, 30 hidden unit network with small random noise on weights\n",
    "H30_init_nn_params = make_nn_params_as_list_of_dicts(\n",
    "    n_hiddens_per_layer_list=[30], n_dims_input=2, n_dims_output=1,\n",
    "    weight_fill_func=lambda sz_tuple: 0.1 * np.random.randn(*sz_tuple))"
   ]
  },
  {
   "cell_type": "code",
   "execution_count": null,
   "metadata": {},
   "outputs": [],
   "source": [
    "H30_opt_nn_params, H30_history = run_many_iters_of_gradient_descent_with_list_of_dict(\n",
    "    nonlinear_toy_nn_regression_loss_function,\n",
    "    autograd.grad(nonlinear_toy_nn_regression_loss_function),\n",
    "    H30_init_nn_params,\n",
    "    n_iters=300,\n",
    "    step_size=0.000001)"
   ]
  },
  {
   "cell_type": "markdown",
   "metadata": {},
   "source": [
    "#### Plot objective function vs iterations"
   ]
  },
  {
   "cell_type": "code",
   "execution_count": null,
   "metadata": {},
   "outputs": [],
   "source": [
    "plt.plot(H30_history['iter'], H30_history['f'], 'k.-');\n",
    "plt.title('30 hidden units');"
   ]
  },
  {
   "cell_type": "markdown",
   "metadata": {},
   "source": [
    "#### Plot predicted y value vs true y value for each example"
   ]
  },
  {
   "cell_type": "code",
   "execution_count": null,
   "metadata": {},
   "outputs": [],
   "source": [
    "yhat_N = predict_y_given_x_with_NN(x_ND, H30_opt_nn_params)\n",
    "\n",
    "plt.plot(yhat_N, y_N, 'k.');\n",
    "plt.xlabel('predicted y|x');\n",
    "plt.ylabel('true y');"
   ]
  },
  {
   "cell_type": "code",
   "execution_count": null,
   "metadata": {},
   "outputs": [],
   "source": [
    "_, subplot_grid = plt.subplots(nrows=1, ncols=2, sharex=True, sharey=False, figsize=(10,3), squeeze=False)\n",
    "subplot_grid[0,0].plot(x_ND[:,0], y_N, 'k.');\n",
    "subplot_grid[0,0].plot(x_ND[:,0], yhat_N, 'b.')\n",
    "subplot_grid[0,0].set_xlabel('x_0');\n",
    "\n",
    "subplot_grid[0,1].plot(x_ND[:,1], y_N, 'k.');\n",
    "subplot_grid[0,1].plot(x_ND[:,1], yhat_N, 'b.')\n",
    "subplot_grid[0,1].set_xlabel('x_1');"
   ]
  },
  {
   "cell_type": "markdown",
   "metadata": {},
   "source": [
    "## Even more units! Try 1 layer with H=100 hidden units"
   ]
  },
  {
   "cell_type": "code",
   "execution_count": null,
   "metadata": {},
   "outputs": [],
   "source": [
    "# Initialize 1-layer, 100 hidden unit network with small random noise on weights\n",
    "H100_init_nn_params = make_nn_params_as_list_of_dicts(\n",
    "    n_hiddens_per_layer_list=[100], n_dims_input=2, n_dims_output=1,\n",
    "    weight_fill_func=lambda sz_tuple: 0.05 * np.random.randn(*sz_tuple))"
   ]
  },
  {
   "cell_type": "code",
   "execution_count": null,
   "metadata": {},
   "outputs": [],
   "source": [
    "H100_opt_nn_params, H100_history = run_many_iters_of_gradient_descent_with_list_of_dict(\n",
    "    nonlinear_toy_nn_regression_loss_function,\n",
    "    autograd.grad(nonlinear_toy_nn_regression_loss_function),\n",
    "    H100_init_nn_params,\n",
    "    n_iters=600,\n",
    "    step_size=0.0000005)"
   ]
  },
  {
   "cell_type": "code",
   "execution_count": null,
   "metadata": {},
   "outputs": [],
   "source": [
    "yhat_N = predict_y_given_x_with_NN(x_ND, H100_opt_nn_params)\n",
    "\n",
    "plt.plot(yhat_N, y_N, 'k.');\n",
    "plt.xlabel('predicted y|x');\n",
    "plt.ylabel('true y');"
   ]
  },
  {
   "cell_type": "code",
   "execution_count": null,
   "metadata": {},
   "outputs": [],
   "source": [
    "_, subplot_grid = plt.subplots(nrows=1, ncols=2, sharex=True, sharey=False, figsize=(10,3), squeeze=False)\n",
    "subplot_grid[0,0].plot(x_ND[:,0], y_N, 'k.');\n",
    "subplot_grid[0,0].plot(x_ND[:,0], yhat_N, 'b.')\n",
    "subplot_grid[0,0].set_xlabel('x_0');\n",
    "\n",
    "subplot_grid[0,1].plot(x_ND[:,1], y_N, 'k.');\n",
    "subplot_grid[0,1].plot(x_ND[:,1], yhat_N, 'b.')\n",
    "subplot_grid[0,1].set_xlabel('x_1');"
   ]
  },
  {
   "cell_type": "markdown",
   "metadata": {},
   "source": [
    "# Try it yourself!\n",
    "\n",
    "* Can you train a prediction network on the non-linear toy data so it has ZERO training error? Is this even possible?\n",
    "\n",
    "* Can you make the network train faster? What happens if you play with the step_size?\n",
    "\n",
    "* What if you made the network **deeper** (more layers)?\n",
    "\n",
    "* What other dataset would you want to try out this regression on?"
   ]
  },
  {
   "cell_type": "code",
   "execution_count": null,
   "metadata": {},
   "outputs": [],
   "source": []
  }
 ],
 "metadata": {
  "kernelspec": {
   "display_name": "Python 2",
   "language": "python",
   "name": "python2"
  },
  "language_info": {
   "codemirror_mode": {
    "name": "ipython",
    "version": 2
   },
   "file_extension": ".py",
   "mimetype": "text/x-python",
   "name": "python",
   "nbconvert_exporter": "python",
   "pygments_lexer": "ipython2",
   "version": "2.7.15"
  }
 },
 "nbformat": 4,
 "nbformat_minor": 2
}
