{
 "cells": [
  {
   "cell_type": "markdown",
   "metadata": {},
   "source": [
    "To perform supervised learning, we must decide how we’re going to rep-\n",
    "resent functions/hypotheses h in a computer. As an initial choice, let’s say\n",
    "we decide to approximate $y$ as a linear function of $x$:\n",
    "\n",
    "$$h_{\\theta} = \\theta_0 + \\theta_1x$$\n",
    "\n",
    "Here, the $θ_i’s$ are the parameters (also called weights) parameterizing the\n",
    "space of linear functions mapping from $X$ to $Y$. When there is no risk of\n",
    "confusion, we will drop the $\\theta$ subscript in $h_{\\theta}(x)$, and write it more simply as\n",
    "$h(x)$. To simplify our notation, we also introduce the convention of letting\n",
    "$x_0 = 1$ (this is the intercept term), so that\n",
    "\n",
    "$$h(x) = \\sum_{i=1}^m \\theta_ix_i = \\theta^Tx$$\n",
    "\n",
    "where on the right-hand side above we are viewing $\\theta$ and $x$ both as vectors,\n",
    "and here $n$ is the number of input variables (not counting $x_0$). Now, given a training set, how do we pick, or learn, the parameters $\\theta$? One reasonable method seems to be to make $h(x)$ close to $y$, at least for the training examples we have. To formalize this, we will define a function that measures, for each value of the $θ’s$, how close the $h(x^{(i)})$'s are to the corresponding $y^{(i)}$'s. We define the cost or loss function $L(h({x}),y)$, is some measure of prediction error. \n",
    "\n",
    "The loss function is equal to the negated conditional log-likelihood\n",
    "\\begin{align*}\n",
    "L(h({x}),y) &= - \\log p(\\mathcal{D}|{w})\\\\\n",
    "&= - \\sum_m \\log p(y_m|{x}_m,{w})\n",
    "\\end{align*}\n",
    "\n",
    "Given some data, we can approximate the expected risk with the empirical risk given by\n",
    "\\begin{align*}\n",
    "R_{\\mathcal{D}}(h) &= \\frac{1}{m} \\sum_m L(h({x}_m),y_m)\n",
    "\\end{align*}\n",
    "Also, with infinite data, empirical risk is the expected risk\n",
    "\\begin{align*}\n",
    "\\lim_{m \\to \\infty} R_{\\mathcal{D}}(h) &= R(h)\n",
    "\\end{align*}\n",
    "\n",
    "This gives us an empirical risk (or cross-entropy) of\n",
    "\\begin{align*}\n",
    "R_{\\mathcal{D}}(h) = \\frac{1}{m} \\sum_m \\|y_m - h({x})\\|_2^2\n",
    "\\end{align*}\n",
    "In this case, empirical risk is often referred to as the residual-sum-of-squares (RSS) or mean-square-error (MSE). The cost function used here defined as:\n",
    "\n",
    "$$J(\\theta) = \\frac{1}{2m}\\sum_{i=1}^m(h_{\\theta}(x^{(i)})-y^{(i)})^2$$\n",
    "\n",
    "We want to choose $\\theta$ so as to minimize $J(\\theta)$. To do so, let’s use a search\n",
    "algorithm that starts with some “initial guess” for $\\theta$, and that repeatedly\n",
    "changes $\\theta$ to make $J(\\theta)$ smaller, until hopefully we converge to a value of\n",
    "$\\theta$ that minimizes $J(\\theta)$. Specifically, let’s consider the gradient descent\n",
    "algorithm, which starts with some initial $\\theta$, and repeatedly performs the\n",
    "update:\n",
    "\n",
    "$$\\theta_j = \\theta_j - \\alpha \\frac{\\partial}{\\partial{\\theta_{j}}}J(\\theta)$$\n",
    "\n",
    "\n",
    "(This update is simultaneously performed for all values of $j = 0, . . . , n.$)\n",
    "Here, $\\alpha$ is called the learning rate. This is a very natural algorithm that\n",
    "repeatedly takes a step in the direction of steepest decrease of $J$.\n",
    "In order to implement this algorithm, we have to work out what is the\n",
    "partial derivative term on the right hand side. Let’s first work it out for the\n",
    "case of if we have only one training example $(x, y)$, so that we can neglect\n",
    "the sum in the definition of $J$. We have:\n",
    "\\begin{align}\n",
    "\\frac{\\partial}{\\partial{\\theta_{j}}}J(\\theta) &= \\frac{\\partial}{\\partial{\\theta_{j}}}\\frac{1}{2}(h_{\\theta}(x)-y)^2\\\\\n",
    "&= 2.\\frac{1}{2}(h_{\\theta}(x)-y)\\frac{\\partial}{\\partial{\\theta_{j}}}(h_{\\theta}(x)-y)\\\\\n",
    "&= (h_{\\theta}(x)-y)\\frac{\\partial}{\\partial{\\theta_{j}}}(\\sum_{i=0}^{n}\\theta_i x_i-y)\\\\\n",
    "&= (h_{\\theta}(x)-y)x_j\n",
    "\\end{align}\n",
    "\n",
    "Using the rule for a single training example, we derive the gradient descent algorithm for linear regression:\n",
    "\n",
    "\\begin{align}\n",
    "repeat \\{\\\\\n",
    "&\\theta_j = \\theta_j - \\alpha \\frac{1}{m}\\sum_{i=1}^m(h_{\\theta}(x^{(i)})-y^{(i)}).x^{(i)}_j\\\\\n",
    "\\}\n",
    "\\end{align}\n",
    "\n",
    "Simultaneously update all values of $j = 0, . . . , n.$"
   ]
  },
  {
   "cell_type": "markdown",
   "metadata": {},
   "source": [
    "## Numerical Example"
   ]
  },
  {
   "cell_type": "code",
   "execution_count": 1,
   "metadata": {},
   "outputs": [
    {
     "data": {
      "image/png": "[encoded data removed]",
      "text/plain": [
       "<matplotlib.figure.Figure at 0x7f9333491fd0>"
      ]
     },
     "metadata": {},
     "output_type": "display_data"
    }
   ],
   "source": [
    "%matplotlib inline\n",
    "import numpy as np\n",
    "import matplotlib.pyplot as plt\n",
    "from numpy import newaxis, r_, c_, mat\n",
    "from numpy.linalg import *\n",
    "\n",
    "data = np.loadtxt('./Data/ex1data2.txt', delimiter=',')\n",
    "X = mat(data[:, :2])\n",
    "y = c_[data[:, 2]]\n",
    "m = X.shape[0]\n",
    "\n",
    "plt.scatter(X[:,0],X[:,1])\n",
    "plt.show()"
   ]
  },
  {
   "cell_type": "markdown",
   "metadata": {},
   "source": [
    "### Feature Normalization\n",
    "Standardization of a dataset is a common requirement for many machine learning estimators: they might behave badly if the individual feature do not more or less look like standard normally distributed data (e.g. Gaussian with 0 mean and unit variance).\n",
    "#### Z-score normalization\n",
    "The result of **standardization** (or **Z-score normalization**) is that the features will be rescaled so that they'll have the properties of a standard normal distribution with $\\mu = 0$ and $\\sigma = 1$, where $\\mu$ is the mean (average) and $\\sigma$ is the standard deviation from the mean; standard scores (also called ***z*** scores) of the samples are calculated as follows:\n",
    "\n",
    "\\begin{equation} z = \\frac{x - \\mu}{\\sigma}\\end{equation} \n",
    "\n",
    "#### Min-Max scaling\n",
    "Standardizing the features so that they are centered around 0 with a standard deviation of 1 is not only important if we are comparing measurements that have different units, but it is also a general requirement for many machine learning algorithms. An alternative approach to Z-score normalization (or standardization) is the so-called **Min-Max scaling** (often also simply called \"normalization\" - a common cause for ambiguities). In this approach, the data is scaled to a fixed range - usually 0 to 1. The cost of having this bounded range - in contrast to standardization - is that we will end up with smaller standard deviations, which can suppress the effect of outliers.\n",
    "\n",
    "A Min-Max scaling is typically done via the following equation:\n",
    "\n",
    "\\begin{equation} X_{norm} = \\frac{X - X_{min}}{X_{max}-X_{min}} \\end{equation}"
   ]
  },
  {
   "cell_type": "code",
   "execution_count": 3,
   "metadata": {
    "scrolled": false
   },
   "outputs": [],
   "source": [
    "def featureNormalize(X):\n",
    "    X_norm = X.A\n",
    " \n",
    "    mu = X_norm.mean(axis=0)\n",
    "    X_norm -= mu # broadcasting\n",
    " \n",
    "    sigma = X_norm.std(axis=0)\n",
    "    X_norm /= sigma\n",
    " \n",
    "    return mat(X_norm), mu, sigma"
   ]
  },
  {
   "cell_type": "markdown",
   "metadata": {},
   "source": [
    "\\begin{align*}\n",
    "h_{\\theta} = y_{predicted} = {w}^T{x}\n",
    "\\end{align*}\n",
    "\\begin{align*}\n",
    "J(\\theta) = \\frac{1}{2m} \\sum_{i=1}^m (y_i - y_{predicted})^2\n",
    "\\end{align*}\n",
    "Here, $\\theta=w$"
   ]
  },
  {
   "cell_type": "code",
   "execution_count": 22,
   "metadata": {
    "collapsed": true
   },
   "outputs": [],
   "source": [
    "def computeCost(X, y, theta):\n",
    "    m = X.shape[0]\n",
    " \n",
    "    predictions = X*theta\n",
    "    sqrErrors = (predictions - y).A ** 2\n",
    "    return 1./(2*m) * sqrErrors.sum()"
   ]
  },
  {
   "cell_type": "markdown",
   "metadata": {},
   "source": [
    "$$\\theta_j = \\theta_j - \\alpha \\frac{1}{m}\\sum_{i=1}^{m}(h_{\\theta}(x^{(i)}) - y^{(i)}).x^{(i)}_j$$"
   ]
  },
  {
   "cell_type": "code",
   "execution_count": 23,
   "metadata": {},
   "outputs": [],
   "source": [
    "def gradientDescent(X, y, theta, alpha, num_iters):\n",
    "    m = X.shape[0]\n",
    " \n",
    "    J_history = np.zeros(num_iters)\n",
    "    for i in range(num_iters):\n",
    "        theta = theta - alpha/m * X.T * (X*theta - y)\n",
    "        J_history[i] = computeCost(X, y, theta)\n",
    "    return theta, J_history\n"
   ]
  },
  {
   "cell_type": "markdown",
   "metadata": {},
   "source": [
    "#### Regularized ridge linear regression\n",
    "\\begin{align*}\n",
    "\\text{min}_{\\theta}\\;\\; J(\\theta) &= \\frac{1}{2m} \\sum_{i=1}^{m}\\big[(h_{\\theta}(x^{(i)}) - y^{(i)})^2 + \\lambda\\sum_{j=1}^n\\theta_j^2\\big]\\\\\n",
    "\\theta_j &= \\theta_j(1-\\alpha\\frac{\\lambda}{m})-\\alpha\\frac{1}{2m} \\sum_{i=1}^{m}[(h_{\\theta}(x^{(i)}) - y^{(i)}).x_j^{(i)}\n",
    "\\end{align*}"
   ]
  },
  {
   "cell_type": "code",
   "execution_count": 19,
   "metadata": {
    "collapsed": true
   },
   "outputs": [],
   "source": [
    "def ridgeGradientDescent(X, y, theta, alpha, num_iters):\n",
    "    m = X.shape[0]\n",
    " \n",
    "    J_history = np.zeros(num_iters)\n",
    "    for i in range(num_iters):\n",
    "        theta = theta - alpha/m * X.T * (X*theta - y)\n",
    "        J_history[i] = computeCostMulti(X, y, theta)\n",
    "    return theta, J_history"
   ]
  },
  {
   "cell_type": "markdown",
   "metadata": {},
   "source": [
    "$$\\theta_{MLE} = \\left({X}^T{X}\\right)^{-1}{X}^T{y}$$"
   ]
  },
  {
   "cell_type": "code",
   "execution_count": 20,
   "metadata": {
    "collapsed": true
   },
   "outputs": [],
   "source": [
    "#Closed form solution of linear regression\n",
    "def normalEqn(X, y):\n",
    "    theta = pinv(X.T * X) * X.T * y\n",
    "    return theta"
   ]
  },
  {
   "cell_type": "code",
   "execution_count": 46,
   "metadata": {},
   "outputs": [
    {
     "name": "stdout",
     "output_type": "stream",
     "text": [
      "Normalizing Features ...\n"
     ]
    },
    {
     "data": {
      "image/png": "[encoded data removed]",
      "text/plain": [
       "<matplotlib.figure.Figure at 0x7f33fcbb6080>"
      ]
     },
     "metadata": {},
     "output_type": "display_data"
    },
    {
     "name": "stdout",
     "output_type": "stream",
     "text": [
      "Theta (last) computed from gradient descent:\n",
      "[[ 340412.65957447]\n",
      " [ 109447.79646964]\n",
      " [  -6578.35485416]]\n",
      "\n",
      "Predicted price of a 1650 sq-ft, 3 br house (using gradient descent):\n",
      " $293081.464335\n",
      "Theta computed from the normal equations:\n",
      "[[ 89597.90954435]\n",
      " [   139.21067402]\n",
      " [ -8738.01911278]]\n",
      "\n",
      "Predicted price of a 1650 sq-ft, 3 br house (using normal equations):\n",
      " $293081.464335\n"
     ]
    }
   ],
   "source": [
    "#Main Function\n",
    "if __name__ == '__main__':\n",
    "    data = np.loadtxt('./Data/ex1data2.txt', delimiter=',')\n",
    "    X = mat(data[:, :2])\n",
    "    y = c_[data[:, 2]]\n",
    "    m = X.shape[0]\n",
    " \n",
    "    #plt.plot(X[0],X[1])\n",
    "    # =================== Part 1: Feature Normalization\n",
    "    \n",
    " \n",
    "    print('Normalizing Features ...')\n",
    "    X, mu, sigma = featureNormalize(X)\n",
    " \n",
    "    # =================== Part 2: Gradient descent\n",
    " \n",
    "    X = c_[np.ones(m), X]\n",
    " \n",
    "    iterations = 100\n",
    " \n",
    "    for alpha in [0.01, 0.03, 0.1, 0.3, 1.]: # divergence at 3.0\n",
    "        theta = c_[np.zeros(3)]\n",
    "        theta, J_history = gradientDescent(X, y, theta, alpha, iterations)\n",
    " \n",
    "        # Plot the convergence graph\n",
    "        plt.plot(r_[:iterations], J_history, linewidth=1)\n",
    " \n",
    "    plt.xlabel('Number of iterations')\n",
    "    plt.ylabel('Cost J')\n",
    "    plt.show()\n",
    " \n",
    "    print('Theta (last) computed from gradient descent:')\n",
    "    print(theta)\n",
    "    print('')\n",
    " \n",
    "    house = [1650, 3]\n",
    "    house = (house - mu) / sigma\n",
    "    price = r_[1, house].dot(theta)\n",
    " \n",
    "    print('Predicted price of a 1650 sq-ft, 3 br house ' \\\n",
    "          '(using gradient descent):\\n $%f' % price)\n",
    " \n",
    "    #raw_input('Press any key to continue\\n')\n",
    " \n",
    "    # =================== Part 3: Normal equations\n",
    " \n",
    "    data = np.loadtxt('./Data/ex1data2.txt', delimiter=',')\n",
    "    X = mat(data[:, :2])\n",
    "    y = c_[data[:, 2]]\n",
    "    m = X.shape[0]\n",
    " \n",
    "    X = c_[np.ones(m), X]\n",
    " \n",
    "    theta = normalEqn(X, y)\n",
    " \n",
    "    print('Theta computed from the normal equations:')\n",
    "    print(theta)\n",
    "    print('')\n",
    " \n",
    "    house = [1650, 3];\n",
    "    price = r_[1, house].dot(theta);\n",
    " \n",
    "    print('Predicted price of a 1650 sq-ft, 3 br house ' \\\n",
    "          '(using normal equations):\\n $%f' % price)"
   ]
  }
 ],
 "metadata": {
  "kernelspec": {
   "display_name": "Python 3",
   "language": "python",
   "name": "python3"
  },
  "language_info": {
   "codemirror_mode": {
    "name": "ipython",
    "version": 3
   },
   "file_extension": ".py",
   "mimetype": "text/x-python",
   "name": "python",
   "nbconvert_exporter": "python",
   "pygments_lexer": "ipython3",
   "version": "3.7.3"
  }
 },
 "nbformat": 4,
 "nbformat_minor": 1
}
