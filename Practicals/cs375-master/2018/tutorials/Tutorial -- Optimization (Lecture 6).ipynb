{
 "cells": [
  {
   "cell_type": "code",
   "execution_count": 20,
   "metadata": {
    "collapsed": true
   },
   "outputs": [],
   "source": [
    "\"\"\"The purpose of this tutorial is to introduce you to:\n",
    "   (1) how gradient-based optimization of neural networks \n",
    "       operates in concrete practice, and \n",
    "   (2) how different forms of learning rules lead to more or less \n",
    "       efficient learning as a function of the shape of the optimization\n",
    "       landscape \n",
    "\n",
    "This tutorial should be used in conjunction with the lecture:\n",
    "\n",
    "    http://cs375.stanford.edu/lectures/lecture6_optimization.pdf\n",
    "\n",
    "\"\"\";"
   ]
  },
  {
   "cell_type": "code",
   "execution_count": 1,
   "metadata": {
    "collapsed": true
   },
   "outputs": [],
   "source": [
    "%matplotlib inline\n",
    "\n",
    "import matplotlib\n",
    "import matplotlib.pyplot as plt\n",
    "\n",
    "#the above imports the plotting library matplotlib"
   ]
  },
  {
   "cell_type": "code",
   "execution_count": 2,
   "metadata": {
    "collapsed": true
   },
   "outputs": [],
   "source": [
    "#standard imports\n",
    "import time\n",
    "import numpy as np\n",
    "import h5py\n"
   ]
  },
  {
   "cell_type": "code",
   "execution_count": 3,
   "metadata": {
    "collapsed": true
   },
   "outputs": [],
   "source": [
    "#We're not using the GPU here, so we set the \n",
    "#\"CUDA_VISIBLE_DEVICES\" environment variable to -1\n",
    "#which tells tensorflow to only use the CPU\n",
    "\n",
    "import os\n",
    "os.environ[\"CUDA_VISIBLE_DEVICES\"]=\"-1\"    \n",
    "import tensorflow as tf"
   ]
  },
  {
   "cell_type": "markdown",
   "metadata": {
    "collapsed": true
   },
   "source": [
    "## Gradient Descent"
   ]
  },
  {
   "cell_type": "code",
   "execution_count": 4,
   "metadata": {},
   "outputs": [],
   "source": [
    "#let's define a model which \"believes\" that the output data\n",
    "#is scalar power of a scalar input, e.g. :\n",
    "#      y ~ x^p\n",
    "\n",
    "#defining the scalar input data variable \n",
    "batch_size = 200\n",
    "\n",
    "#the \"placeholder\" mechanis is similar in effect to\n",
    "#            x = tf.get_variable('x', shape=(batch_size,), dtype=tf.float32)\n",
    "#except we don't have to define a fixed name \"x\"\n",
    "x = tf.placeholder(shape=(batch_size,), dtype=tf.float32)\n",
    "\n",
    "#define the scalar power variable\n",
    "initial_power = tf.zeros(shape=())\n",
    "power = tf.get_variable('pow', initializer=initial_power, dtype=tf.float32)\n",
    "\n",
    "#define the model\n",
    "model = x**power\n",
    "\n",
    "#the output data needs a variable too\n",
    "y = tf.placeholder(shape=(batch_size,), dtype=tf.float32)"
   ]
  },
  {
   "cell_type": "code",
   "execution_count": 5,
   "metadata": {},
   "outputs": [],
   "source": [
    "#the error rate of the model is mean L2 distance across \n",
    "#the batch of data\n",
    "power_loss = tf.reduce_mean((model - y)**2)"
   ]
  },
  {
   "cell_type": "code",
   "execution_count": 6,
   "metadata": {},
   "outputs": [],
   "source": [
    "#now, our goal is to use gradient descent to \n",
    "#figure out the parameter of our model -- namely, the power variable\n",
    "grad = tf.gradients(power_loss, power)[0]"
   ]
  },
  {
   "cell_type": "code",
   "execution_count": 7,
   "metadata": {
    "collapsed": true
   },
   "outputs": [],
   "source": [
    "#Let's fit (optimize) the model.   \n",
    "#to do that we'll have to first of course define a tensorflow session\n",
    "sess = tf.Session()"
   ]
  },
  {
   "cell_type": "code",
   "execution_count": 8,
   "metadata": {
    "collapsed": true
   },
   "outputs": [],
   "source": [
    "#... and initialize the power variable\n",
    "initializer = tf.global_variables_initializer()\n",
    "sess.run(initializer)"
   ]
  },
  {
   "cell_type": "code",
   "execution_count": 9,
   "metadata": {
    "collapsed": true
   },
   "outputs": [],
   "source": [
    "#ok ... so let's test the case where the true input-output relationship\n",
    "#is x --> x^2\n",
    "xval = np.arange(0, 2, .01)\n",
    "yval = np.arange(0, 2, .01)**2"
   ]
  },
  {
   "cell_type": "code",
   "execution_count": 10,
   "metadata": {},
   "outputs": [],
   "source": [
    "#OK\n",
    "initial_guess = 0\n",
    "assign_op = tf.assign(power, initial_guess)\n",
    "sess.run(assign_op)\n",
    "\n",
    "gradval = sess.run(grad, feed_dict={x: xval, y: yval})"
   ]
  },
  {
   "cell_type": "code",
   "execution_count": 11,
   "metadata": {},
   "outputs": [
    {
     "data": {
      "text/plain": [
       "-1.5306325"
      ]
     },
     "execution_count": 11,
     "metadata": {},
     "output_type": "execute_result"
    }
   ],
   "source": [
    "gradval"
   ]
  },
  {
   "cell_type": "code",
   "execution_count": 12,
   "metadata": {},
   "outputs": [
    {
     "name": "stdout",
     "output_type": "stream",
     "text": [
      "1.530632495880127\n"
     ]
    }
   ],
   "source": [
    "#ok so this is telling us to do:\n",
    "\n",
    "new_guess = initial_guess + -1 * (gradval)\n",
    "print(new_guess)"
   ]
  },
  {
   "cell_type": "code",
   "execution_count": 13,
   "metadata": {},
   "outputs": [
    {
     "data": {
      "text/plain": [
       "-0.56193405"
      ]
     },
     "execution_count": 13,
     "metadata": {},
     "output_type": "execute_result"
    }
   ],
   "source": [
    "#ok so let's assign the new guess to the power variable\n",
    "assign_op = tf.assign(power, new_guess)\n",
    "sess.run(assign_op)\n",
    "\n",
    "#... and get the gradient again\n",
    "gradval = sess.run(grad, feed_dict={x: xval, y: yval})\n",
    "\n",
    "gradval"
   ]
  },
  {
   "cell_type": "code",
   "execution_count": 17,
   "metadata": {},
   "outputs": [
    {
     "name": "stdout",
     "output_type": "stream",
     "text": [
      "2.09256654978\n"
     ]
    }
   ],
   "source": [
    "new_guess = new_guess + -1 * (gradval)\n",
    "print(new_guess)"
   ]
  },
  {
   "cell_type": "code",
   "execution_count": 18,
   "metadata": {},
   "outputs": [
    {
     "name": "stdout",
     "output_type": "stream",
     "text": [
      "('gradient: %.3f', 0.17790559)\n",
      "('power: %.3f', 1.9146609604358673)\n"
     ]
    }
   ],
   "source": [
    "#... and one more time ...\n",
    "assign_op = tf.assign(power, new_guess)\n",
    "sess.run(assign_op)\n",
    "\n",
    "#... get the gradient again\n",
    "gradval = sess.run(grad, feed_dict={x: xval, y: yval})\n",
    "print('gradient: %.3f', gradval)\n",
    "\n",
    "#... do the update\n",
    "new_guess = new_guess + -1 * (gradval)\n",
    "print('power: %.3f', new_guess)\n",
    "\n",
    "#ok so we're hovering back and forth around guess of 2.... which is right!"
   ]
  },
  {
   "cell_type": "code",
   "execution_count": 19,
   "metadata": {},
   "outputs": [
    {
     "data": {
      "text/plain": [
       "<matplotlib.text.Text at 0x7f3c9c1043d0>"
      ]
     },
     "execution_count": 19,
     "metadata": {},
     "output_type": "execute_result"
    },
    {
     "data": {
      "image/png": "[encoded data removed]",
      "text/plain": [
       "<matplotlib.figure.Figure at 0x7f3ca6deab10>"
      ]
     },
     "metadata": {},
     "output_type": "display_data"
    }
   ],
   "source": [
    "#OK let's do this in a real loop and keep track of useful stuff along the way\n",
    "xval = np.arange(0, 2, .01)\n",
    "yval = np.arange(0, 2, .01)**2\n",
    "\n",
    "#start the guess off at 0 again\n",
    "assign_op = tf.assign(power, 0)\n",
    "sess.run(assign_op)\n",
    "\n",
    "#let's keep track of the guess along the way\n",
    "powers = []\n",
    "\n",
    "#and the loss, which should go down\n",
    "losses = []\n",
    "\n",
    "#and the grads just for luck\n",
    "grads = []\n",
    "\n",
    "#let's iterate the gradient descent process 20 timesteps\n",
    "num_iterations = 20\n",
    "\n",
    "#for each timestep ...\n",
    "for i in range(num_iterations):\n",
    "    \n",
    "    #... get the current derivative (grad), the current guess of \"power\"\n",
    "    #and the loss, given the input and output training data (xval & yval)\n",
    "    cur_power, cur_loss, gradval = sess.run([power, power_loss, grad], \n",
    "                                        feed_dict={x: xval, y: yval})\n",
    "\n",
    "    #... keep track of interesting stuff along the way\n",
    "    powers.append(cur_power)\n",
    "    losses.append(cur_loss)\n",
    "    grads.append(gradval)\n",
    "    \n",
    "    #... now do the gradient descent step\n",
    "    new_power = cur_power - gradval\n",
    "    \n",
    "    #... and actually update the value of the power variable\n",
    "    assign_op = tf.assign(power, new_power)\n",
    "    sess.run(assign_op)\n",
    "    \n",
    "    #and then, the loop runs again\n",
    "    \n",
    "plt.plot(powers, label='estimated power')\n",
    "plt.plot(losses, label='loss')\n",
    "plt.plot(grads, label='gradients')\n",
    "plt.xlabel('iterations')\n",
    "plt.legend(loc='lower right')\n",
    "plt.title('Estimating a quadratic')"
   ]
  },
  {
   "cell_type": "code",
   "execution_count": 20,
   "metadata": {},
   "outputs": [
    {
     "data": {
      "text/plain": [
       "<matplotlib.text.Text at 0x7f3c64f72750>"
      ]
     },
     "execution_count": 20,
     "metadata": {},
     "output_type": "execute_result"
    },
    {
     "data": {
      "image/png": "[encoded data removed]",
      "text/plain": [
       "<matplotlib.figure.Figure at 0x7f3c9c04ac10>"
      ]
     },
     "metadata": {},
     "output_type": "display_data"
    }
   ],
   "source": [
    "##ok now let's try that again except where y ~ x^3\n",
    "\n",
    "#all we need to do is change the data\n",
    "xval = np.arange(0, 2, .01)\n",
    "yval = np.arange(0, 2, .01)**3\n",
    "\n",
    "#The rest of the code remains the same\n",
    "assign_op = tf.assign(power, 0)\n",
    "sess.run(assign_op)\n",
    "\n",
    "powers = []\n",
    "losses = []\n",
    "grads = []\n",
    "\n",
    "num_iterations = 20\n",
    "for i in range(num_iterations):    \n",
    "    cur_power, cur_loss, gradval = sess.run([power, power_loss, grad], \n",
    "                                        feed_dict={x: xval, y: yval})\n",
    "    powers.append(cur_power)\n",
    "    losses.append(cur_loss)\n",
    "    grads.append(gradval)\n",
    "\n",
    "    new_power = cur_power - gradval\n",
    "\n",
    "    assign_op = tf.assign(power, new_power)\n",
    "    sess.run(assign_op)\n",
    "    \n",
    "    \n",
    "plt.plot(powers, label='estimated power')\n",
    "plt.plot(losses, label='loss')\n",
    "plt.xlabel('iterations')\n",
    "plt.legend(loc='center right')\n",
    "plt.title('Failing to estimate a cubic')\n",
    "    \n",
    "#wait ... this did *not* work.  why? "
   ]
  },
  {
   "cell_type": "code",
   "execution_count": 21,
   "metadata": {},
   "outputs": [
    {
     "data": {
      "text/plain": [
       "[6.0235572,\n",
       " 0.87862968,\n",
       " 16.070698,\n",
       " inf,\n",
       " nan,\n",
       " nan,\n",
       " nan,\n",
       " nan,\n",
       " nan,\n",
       " nan,\n",
       " nan,\n",
       " nan,\n",
       " nan,\n",
       " nan,\n",
       " nan,\n",
       " nan,\n",
       " nan,\n",
       " nan,\n",
       " nan,\n",
       " nan]"
      ]
     },
     "execution_count": 21,
     "metadata": {},
     "output_type": "execute_result"
    }
   ],
   "source": [
    "#whoa ... the loss must have diverged to infinity (or close) really early\n",
    "losses\n",
    "#why? "
   ]
  },
  {
   "cell_type": "code",
   "execution_count": 22,
   "metadata": {},
   "outputs": [
    {
     "data": {
      "text/plain": [
       "[-2.3299172,\n",
       " -2.1364195,\n",
       " 33.202091,\n",
       " nan,\n",
       " nan,\n",
       " nan,\n",
       " nan,\n",
       " nan,\n",
       " nan,\n",
       " nan,\n",
       " nan,\n",
       " nan,\n",
       " nan,\n",
       " nan,\n",
       " nan,\n",
       " nan,\n",
       " nan,\n",
       " nan,\n",
       " nan,\n",
       " nan]"
      ]
     },
     "execution_count": 22,
     "metadata": {},
     "output_type": "execute_result"
    }
   ],
   "source": [
    "#let's look at the gradients\n",
    "grads\n",
    "#hm.  the gradient was getting big at the end. "
   ]
  },
  {
   "cell_type": "code",
   "execution_count": 23,
   "metadata": {
    "collapsed": true
   },
   "outputs": [],
   "source": [
    "#after all, the taylor series only works in the close-to-the-value limit. \n",
    "#we must have been been taking too big steps.  \n",
    "#how do we fix this? "
   ]
  },
  {
   "cell_type": "markdown",
   "metadata": {},
   "source": [
    "### With Learning Rate"
   ]
  },
  {
   "cell_type": "code",
   "execution_count": 15,
   "metadata": {},
   "outputs": [],
   "source": [
    "def gradient_descent(loss, \n",
    "                     target,\n",
    "                     initial_guess,\n",
    "                     learning_rate,\n",
    "                     training_data,\n",
    "                     num_iterations):\n",
    "    \n",
    "    #assign initial value to the target\n",
    "    initial_op = tf.assign(target, initial_guess)\n",
    "\n",
    "    #get the gradient\n",
    "    grad = tf.gradients(loss, target)[0]\n",
    "    \n",
    "    #actually do the gradient descent step directly in tensorflow\n",
    "    newval = tf.add(target, tf.multiply(-grad, learning_rate))\n",
    "    \n",
    "    #the optimizer step actually performs the parameter update\n",
    "    optimizer_op = tf.assign(target, newval)\n",
    "    \n",
    "    #NB:  none of the four steps above are actually running anything yet\n",
    "    #They are just formal graph computations. \n",
    "    #to actually do anything, you have to run stuff in a session. \n",
    " \n",
    "    #set up containers for stuff we want to keep track of\n",
    "    targetvals = []\n",
    "    losses = []\n",
    "    gradvals = []\n",
    "    \n",
    "    #first actually run the initialization operation\n",
    "    sess.run(initial_op)\n",
    "    \n",
    "    #now take gradient steps in a loop\n",
    "    for i in range(num_iterations):\n",
    "        #just by virtue of calling \"run\" on the \"optimizer\" op, \n",
    "        #the optimization occurs ... \n",
    "        output = sess.run({'opt': optimizer_op,\n",
    "                           'grad': grad, \n",
    "                           'target': target,\n",
    "                           'loss': loss\n",
    "                          }, \n",
    "                          feed_dict=training_data)\n",
    "        targetvals.append(output['target'])\n",
    "        losses.append(output['loss'])\n",
    "        gradvals.append(output['grad'])\n",
    "                \n",
    "    return losses, targetvals, gradvals\n",
    "    "
   ]
  },
  {
   "cell_type": "code",
   "execution_count": 19,
   "metadata": {},
   "outputs": [
    {
     "data": {
      "text/plain": [
       "<matplotlib.text.Text at 0x7f3704731950>"
      ]
     },
     "execution_count": 19,
     "metadata": {},
     "output_type": "execute_result"
    },
    {
     "data": {
      "image/png": "[encoded data removed]",
      "text/plain": [
       "<matplotlib.figure.Figure at 0x7f370fecca50>"
      ]
     },
     "metadata": {},
     "output_type": "display_data"
    }
   ],
   "source": [
    "xval = np.arange(0, 2, .01)\n",
    "yval = np.arange(0, 2, .01)**3\n",
    "data_dict = {x: xval, y:yval}\n",
    "\n",
    "losses, powers, grads = gradient_descent(loss=power_loss,\n",
    "                                         target=power,\n",
    "                                         initial_guess=0,\n",
    "                                         learning_rate=.25,   #chose learning rate < 1\n",
    "                                         training_data=data_dict,\n",
    "                                         num_iterations=20)\n",
    "plt.plot(powers, label='estimated power')\n",
    "plt.plot(losses, label='loss')\n",
    "plt.legend(loc='upper right')\n",
    "plt.title('Estimating a cubic')\n",
    "\n",
    "#ok -- now the result stably converges!"
   ]
  },
  {
   "cell_type": "code",
   "execution_count": 26,
   "metadata": {},
   "outputs": [
    {
     "data": {
      "text/plain": [
       "<matplotlib.text.Text at 0x7f3c64c85290>"
      ]
     },
     "execution_count": 26,
     "metadata": {},
     "output_type": "execute_result"
    },
    {
     "data": {
      "image/png": "[encoded data removed]",
      "text/plain": [
       "<matplotlib.figure.Figure at 0x7f3c64d9b510>"
      ]
     },
     "metadata": {},
     "output_type": "display_data"
    }
   ],
   "source": [
    "#and also for a higher power .... \n",
    "xval = np.arange(0, 2, .01)\n",
    "yval = np.arange(0, 2, .01)**4\n",
    "data_dict = {x: xval, y:yval}\n",
    "\n",
    "losses, powers, grads = gradient_descent(loss=power_loss,\n",
    "                                         target=power,\n",
    "                                         initial_guess=0,\n",
    "                                         learning_rate=0.1,\n",
    "                                         training_data=data_dict,\n",
    "                                         num_iterations=100)\n",
    "plt.plot(powers, label='estimated power')\n",
    "plt.plot(losses, label='loss')\n",
    "plt.legend(loc='upper right')\n",
    "plt.title('Estimating a quartic')"
   ]
  },
  {
   "cell_type": "code",
   "execution_count": 27,
   "metadata": {},
   "outputs": [
    {
     "data": {
      "text/plain": [
       "<matplotlib.text.Text at 0x7f3c64bb9e10>"
      ]
     },
     "execution_count": 27,
     "metadata": {},
     "output_type": "execute_result"
    },
    {
     "data": {
      "image/png": "[encoded data removed]",
      "text/plain": [
       "<matplotlib.figure.Figure at 0x7f3c64f68510>"
      ]
     },
     "metadata": {},
     "output_type": "display_data"
    }
   ],
   "source": [
    "#what about when the data is actually not of the right form?\n",
    "\n",
    "xval = np.arange(0, 2, .01)\n",
    "yval = np.sin(xval)\n",
    "\n",
    "data_dict = {x: xval, y:yval}\n",
    "\n",
    "losses, powers, grads = gradient_descent(loss=power_loss,\n",
    "                                          target=power,\n",
    "                                          initial_guess=0,\n",
    "                                          learning_rate=0.1,\n",
    "                                          training_data=data_dict,\n",
    "                                          num_iterations=20)\n",
    "plt.plot(powers, label='estimated power')\n",
    "plt.plot(losses, label='loss')\n",
    "plt.legend(loc='center right')\n",
    "plt.title('Estimating sine with a power, not converged yet')\n",
    "\n",
    "#doesn't look like it's converged yet -- maybe we need to run it longer? "
   ]
  },
  {
   "cell_type": "code",
   "execution_count": 28,
   "metadata": {},
   "outputs": [
    {
     "data": {
      "text/plain": [
       "<matplotlib.text.Text at 0x7f3c64a07850>"
      ]
     },
     "execution_count": 28,
     "metadata": {},
     "output_type": "execute_result"
    },
    {
     "data": {
      "image/png": "[encoded data removed]",
      "text/plain": [
       "<matplotlib.figure.Figure at 0x7f3c64ee7210>"
      ]
     },
     "metadata": {},
     "output_type": "display_data"
    }
   ],
   "source": [
    "#sine(x) now with more iterations\n",
    "\n",
    "xval = np.arange(0, 2, .01)\n",
    "yval = np.sin(xval)\n",
    "\n",
    "data_dict = {x: xval, y:yval}\n",
    "\n",
    "losses, powers, grads = gradient_descent(loss=power_loss,\n",
    "                                        target=power,\n",
    "                                        initial_guess=0,\n",
    "                                        learning_rate=0.1,\n",
    "                                        training_data=data_dict,\n",
    "                                        num_iterations=100)  #<-- more iterations\n",
    "\n",
    "plt.plot(powers, label='estimated power')\n",
    "plt.plot(losses, label='loss')\n",
    "plt.legend(loc='center right')\n",
    "plt.title('Estimating sine with a power (badly)')\n",
    "\n",
    "#ok it's converged but not to a great loss.  This is unsurprising \n",
    "#since x^p is a bad model for sine(x)"
   ]
  },
  {
   "cell_type": "code",
   "execution_count": 29,
   "metadata": {
    "collapsed": true
   },
   "outputs": [],
   "source": [
    "#how should we improve? \n",
    "#THE MACHINE LEARNING ANSWER:  well, let's have more parameters in our model!\n",
    "\n",
    "#actually, let's write a model using the Taylor series idea more explicitly:\n",
    "#    y ~ sum_i a_i x^i  \n",
    "#for some coefficients a_i that we have to learn"
   ]
  },
  {
   "cell_type": "code",
   "execution_count": 30,
   "metadata": {
    "collapsed": true
   },
   "outputs": [],
   "source": [
    "#let's go out to x^5, so approx_order = 7 (remember, we're 0-indexing in python)\n",
    "approximation_order = 6\n",
    "\n",
    "#ok so now let's define the variabe we'll be using\n",
    "#instead of \"power\" this will be coefficients of the powers\n",
    "#with one coefficient for each power from 0 to approximation_order-1\n",
    "coefficients = tf.get_variable('coefficients', \n",
    "                        initializer = tf.zeros(shape=(approximation_order,)),\n",
    "                        dtype=tf.float32)"
   ]
  },
  {
   "cell_type": "code",
   "execution_count": 31,
   "metadata": {
    "collapsed": true
   },
   "outputs": [],
   "source": [
    "#gotta run the initializer again b/c we just defined a new trainable variable\n",
    "initializer = tf.global_variables_initializer()\n",
    "sess.run(initializer)"
   ]
  },
  {
   "cell_type": "code",
   "execution_count": 32,
   "metadata": {},
   "outputs": [
    {
     "data": {
      "text/plain": [
       "array([ 0.,  0.,  0.,  0.,  0.,  0.], dtype=float32)"
      ]
     },
     "execution_count": 32,
     "metadata": {},
     "output_type": "execute_result"
    }
   ],
   "source": [
    "sess.run(coefficients)"
   ]
  },
  {
   "cell_type": "code",
   "execution_count": 33,
   "metadata": {},
   "outputs": [],
   "source": [
    "#Ok let's define the model\n",
    "\n",
    "#here's the vector of exponents\n",
    "powervec = tf.range(0, approximation_order, dtype=tf.float32)\n",
    "\n",
    "#we want to do essentially:\n",
    "#     sum_i coefficient_i * x^powervec[i]\n",
    "#but to do x^powervec, we need to create an additional dimension on x\n",
    "x_expanded = tf.expand_dims(x, axis=1)\n",
    "\n",
    "#ok, now we can actually do x^powervec\n",
    "x_exponentiated = x_expanded**powervec\n",
    "\n",
    "#now multiply by the coefficient variable\n",
    "x_multiplied_by_coefficients = coefficients * x_exponentiated\n",
    "\n",
    "#and add up over the 1st dimension e.g. dong the sum_i\n",
    "polynomial_model = tf.reduce_sum(x_multiplied_by_coefficients, axis=1)\n",
    "\n",
    "#the loss is again l2 difference between prediction and desired output\n",
    "polynomial_loss = tf.reduce_mean((polynomial_model - y)**2)"
   ]
  },
  {
   "cell_type": "code",
   "execution_count": 34,
   "metadata": {},
   "outputs": [
    {
     "data": {
      "text/plain": [
       "array([ 0.,  0.,  0.,  0.,  0.,  0.,  0.,  0.,  0.,  0.,  0.,  0.,  0.,\n",
       "        0.,  0.,  0.,  0.,  0.,  0.,  0.,  0.,  0.,  0.,  0.,  0.,  0.,\n",
       "        0.,  0.,  0.,  0.,  0.,  0.,  0.,  0.,  0.,  0.,  0.,  0.,  0.,\n",
       "        0.,  0.,  0.,  0.,  0.,  0.,  0.,  0.,  0.,  0.,  0.,  0.,  0.,\n",
       "        0.,  0.,  0.,  0.,  0.,  0.,  0.,  0.,  0.,  0.,  0.,  0.,  0.,\n",
       "        0.,  0.,  0.,  0.,  0.,  0.,  0.,  0.,  0.,  0.,  0.,  0.,  0.,\n",
       "        0.,  0.,  0.,  0.,  0.,  0.,  0.,  0.,  0.,  0.,  0.,  0.,  0.,\n",
       "        0.,  0.,  0.,  0.,  0.,  0.,  0.,  0.,  0.,  0.,  0.,  0.,  0.,\n",
       "        0.,  0.,  0.,  0.,  0.,  0.,  0.,  0.,  0.,  0.,  0.,  0.,  0.,\n",
       "        0.,  0.,  0.,  0.,  0.,  0.,  0.,  0.,  0.,  0.,  0.,  0.,  0.,\n",
       "        0.,  0.,  0.,  0.,  0.,  0.,  0.,  0.,  0.,  0.,  0.,  0.,  0.,\n",
       "        0.,  0.,  0.,  0.,  0.,  0.,  0.,  0.,  0.,  0.,  0.,  0.,  0.,\n",
       "        0.,  0.,  0.,  0.,  0.,  0.,  0.,  0.,  0.,  0.,  0.,  0.,  0.,\n",
       "        0.,  0.,  0.,  0.,  0.,  0.,  0.,  0.,  0.,  0.,  0.,  0.,  0.,\n",
       "        0.,  0.,  0.,  0.,  0.,  0.,  0.,  0.,  0.,  0.,  0.,  0.,  0.,\n",
       "        0.,  0.,  0.,  0.,  0.], dtype=float32)"
      ]
     },
     "execution_count": 34,
     "metadata": {},
     "output_type": "execute_result"
    }
   ],
   "source": [
    "xval = np.arange(-2, 2, .02)\n",
    "yval = np.sin(xval)\n",
    "\n",
    "data_dict = {x: xval, y:yval}\n",
    "\n",
    "#starting out at 0 since the coefficients were all intialized to 0\n",
    "sess.run(polynomial_model, feed_dict=data_dict)"
   ]
  },
  {
   "cell_type": "code",
   "execution_count": 35,
   "metadata": {
    "collapsed": true
   },
   "outputs": [],
   "source": [
    "#ok let's try it\n",
    "losses, coefvals, grads = gradient_descent(loss=polynomial_loss,\n",
    "                                        target=coefficients,\n",
    "                                        initial_guess=np.zeros(approximation_order),\n",
    "                                        learning_rate=0.1,  \n",
    "                                        training_data=data_dict,\n",
    "                                        num_iterations=100)  \n"
   ]
  },
  {
   "cell_type": "code",
   "execution_count": 36,
   "metadata": {},
   "outputs": [
    {
     "name": "stdout",
     "output_type": "stream",
     "text": [
      "100\n"
     ]
    },
    {
     "data": {
      "text/plain": [
       "(6,)"
      ]
     },
     "execution_count": 36,
     "metadata": {},
     "output_type": "execute_result"
    }
   ],
   "source": [
    "#ok, so for each timstep we have 6 values -- the coefficients\n",
    "print(len(coefvals))\n",
    "\n",
    "coefvals[-1].shape"
   ]
  },
  {
   "cell_type": "code",
   "execution_count": 37,
   "metadata": {},
   "outputs": [
    {
     "data": {
      "text/plain": [
       "array([ nan,  nan,  nan,  nan,  nan,  nan], dtype=float32)"
      ]
     },
     "execution_count": 37,
     "metadata": {},
     "output_type": "execute_result"
    }
   ],
   "source": [
    "#here's the last set of coefficients learned\n",
    "coefvals[-1]\n",
    "#whoa -- what's going on?  "
   ]
  },
  {
   "cell_type": "code",
   "execution_count": 38,
   "metadata": {},
   "outputs": [],
   "source": [
    "#let's lower the learning rate\n",
    "losses, coefvals, grads = gradient_descent(loss=polynomial_loss,\n",
    "                                        target=coefficients,\n",
    "                                        initial_guess=np.zeros(approximation_order),\n",
    "                                        learning_rate=0.005,  #<-- lowered learning rate\n",
    "                                        training_data=data_dict,\n",
    "                                        num_iterations=100)  \n"
   ]
  },
  {
   "cell_type": "code",
   "execution_count": 39,
   "metadata": {},
   "outputs": [
    {
     "data": {
      "text/plain": [
       "array([-0.00102979,  0.25239715, -0.00184434,  0.20770763,  0.00133661,\n",
       "       -0.032684  ], dtype=float32)"
      ]
     },
     "execution_count": 39,
     "metadata": {},
     "output_type": "execute_result"
    }
   ],
   "source": [
    "#ok not quite as bad\n",
    "coefvals[-1]"
   ]
  },
  {
   "cell_type": "code",
   "execution_count": 40,
   "metadata": {},
   "outputs": [
    {
     "data": {
      "text/plain": [
       "[<matplotlib.lines.Line2D at 0x7f3c6489ffd0>]"
      ]
     },
     "execution_count": 40,
     "metadata": {},
     "output_type": "execute_result"
    },
    {
     "data": {
      "image/png": "[encoded data removed]",
      "text/plain": [
       "<matplotlib.figure.Figure at 0x7f3ca51d4ad0>"
      ]
     },
     "metadata": {},
     "output_type": "display_data"
    }
   ],
   "source": [
    "#let's visualize what we learned\n",
    "x0 = coefvals[-1]\n",
    "assign_op = tf.assign(coefficients, x0)\n",
    "sess.run(assign_op)\n",
    "\n",
    "plt.plot(xval, yval)\n",
    "plt.plot(xval, sess.run(polynomial_model, feed_dict={x:xval}))\n",
    "\n",
    "\n",
    "#ok, fine, but not great"
   ]
  },
  {
   "cell_type": "code",
   "execution_count": 41,
   "metadata": {},
   "outputs": [
    {
     "data": {
      "text/plain": [
       "<matplotlib.text.Text at 0x7f3c64544a10>"
      ]
     },
     "execution_count": 41,
     "metadata": {},
     "output_type": "execute_result"
    },
    {
     "data": {
      "image/png": "[encoded data removed]",
      "text/plain": [
       "<matplotlib.figure.Figure at 0x7f3c647edd50>"
      ]
     },
     "metadata": {},
     "output_type": "display_data"
    }
   ],
   "source": [
    "#what if we let it run longer? \n",
    "losses, coefvals, grads = gradient_descent(loss=polynomial_loss,\n",
    "                                        target=coefficients,\n",
    "                                        initial_guess=np.zeros(approximation_order),\n",
    "                                        learning_rate=0.005,  \n",
    "                                        training_data=data_dict,\n",
    "                                        num_iterations=5000)  #<-- more iterations\n",
    "\n",
    "x0 = coefvals[-1]\n",
    "assign_op = tf.assign(coefficients, x0)\n",
    "sess.run(assign_op)\n",
    "\n",
    "plt.figure(figsize=(10, 3))\n",
    "plt.subplot(1, 2, 1)\n",
    "plt.plot(xval, sess.run(polynomial_model, feed_dict={x:xval}))\n",
    "plt.plot(xval, yval)\n",
    "\n",
    "plt.subplot(1, 2, 2)\n",
    "plt.plot(losses)\n",
    "plt.xlabel('iterations')\n",
    "plt.ylabel('loss')\n",
    "plt.title('Loss with Gradient Descent')\n",
    "\n",
    "\n",
    "#ok much better"
   ]
  },
  {
   "cell_type": "code",
   "execution_count": 42,
   "metadata": {},
   "outputs": [
    {
     "data": {
      "text/plain": [
       "array([-0.00102551,  0.90462953,  0.0028135 , -0.07157703, -0.00094981,\n",
       "       -0.01200764], dtype=float32)"
      ]
     },
     "execution_count": 42,
     "metadata": {},
     "output_type": "execute_result"
    }
   ],
   "source": [
    "coefvals[-1]"
   ]
  },
  {
   "cell_type": "code",
   "execution_count": 43,
   "metadata": {},
   "outputs": [
    {
     "data": {
      "text/plain": [
       "<tf.Variable 'Variable:0' shape=(6,) dtype=float64_ref>"
      ]
     },
     "execution_count": 43,
     "metadata": {},
     "output_type": "execute_result"
    }
   ],
   "source": [
    "tf.Variable(np.zeros(6))"
   ]
  },
  {
   "cell_type": "markdown",
   "metadata": {},
   "source": [
    "### With momentum"
   ]
  },
  {
   "cell_type": "code",
   "execution_count": 44,
   "metadata": {},
   "outputs": [],
   "source": [
    "def gradient_descent_with_momentum(loss, \n",
    "                     target,\n",
    "                     initial_guess,\n",
    "                     learning_rate,\n",
    "                     momentum,\n",
    "                     training_data,\n",
    "                     num_iterations):\n",
    "    \n",
    "    #set target to initial guess\n",
    "    initial_op = tf.assign(target, initial_guess)\n",
    "    #get gradient\n",
    "    grad = tf.gradients(loss, target)[0]\n",
    "    #set up the variable for the gradient accumulation\n",
    "    grad_shp = grad.shape.as_list()\n",
    "    #needs to be specified as float32 to interact properly with other things (but numpy defaults to float64)\n",
    "    grad_accum = tf.Variable(np.zeros(grad_shp).astype(np.float32))\n",
    "    #gradplus = grad + momentum * grad_accum\n",
    "    gradplus = tf.add(grad, tf.multiply(grad_accum, momentum))\n",
    "    #newval = oldval - learning_rate * gradplus\n",
    "    newval = tf.add(target, tf.multiply(-gradplus, learning_rate))\n",
    "    #the optimizer step actually performs the parameter update\n",
    "    optimizer_op = tf.assign(target, newval)\n",
    "    #this step updates grad_accum \n",
    "    update_accum = tf.assign(grad_accum, gradplus)\n",
    "    \n",
    "    #run initialization\n",
    "    sess.run(initial_op)\n",
    "    #necessary b/c we've defined a new variable (\"grad_accum\") above\n",
    "    init_op = tf.global_variables_initializer()\n",
    "    sess.run(init_op)\n",
    "    \n",
    "    #run the loop\n",
    "    targetvals = []\n",
    "    losses = []\n",
    "    gradvals = []  \n",
    "    times = []\n",
    "    for i in range(num_iterations):\n",
    "        t0 = time.time()\n",
    "        output = sess.run({'opt': optimizer_op, #have to have this for optimization to occur\n",
    "                           'accum': update_accum, #have to have this for grad_accum to update\n",
    "                           'grad': grad, #the rest of these are just for keeping track\n",
    "                           'target': target,  \n",
    "                           'loss': loss\n",
    "                          }, \n",
    "                          feed_dict=training_data)\n",
    "        times.append(time.time() - t0)\n",
    "        targetvals.append(output['target'])\n",
    "        losses.append(output['loss'])\n",
    "        gradvals.append(output['grad'])\n",
    "                \n",
    "    print('Average time per iteration --> %.5f' % np.mean(times))\n",
    "    return losses, targetvals, gradvals\n",
    "    "
   ]
  },
  {
   "cell_type": "code",
   "execution_count": 45,
   "metadata": {},
   "outputs": [
    {
     "name": "stdout",
     "output_type": "stream",
     "text": [
      "Average time per iteration --> 0.00134\n"
     ]
    },
    {
     "data": {
      "text/plain": [
       "<matplotlib.text.Text at 0x7f3c64681850>"
      ]
     },
     "execution_count": 45,
     "metadata": {},
     "output_type": "execute_result"
    },
    {
     "data": {
      "image/png": "[encoded data removed]",
      "text/plain": [
       "<matplotlib.figure.Figure at 0x7f3c645b6e90>"
      ]
     },
     "metadata": {},
     "output_type": "display_data"
    }
   ],
   "source": [
    "losses, coefvals, grads = gradient_descent_with_momentum(loss=polynomial_loss,\n",
    "                                        target=coefficients,\n",
    "                                        initial_guess=np.zeros(approximation_order),\n",
    "                                        learning_rate=0.01,  #<-- can use higher learning rate!\n",
    "                                        momentum=0.9,\n",
    "                                        training_data=data_dict,\n",
    "                                        num_iterations=250)  #<-- can get away from fewer iterations!\n",
    "\n",
    "x0 = coefvals[-1]\n",
    "assign_op = tf.assign(coefficients, x0)\n",
    "sess.run(assign_op)\n",
    "\n",
    "plt.figure(figsize=(10, 3))\n",
    "plt.subplot(1, 2, 1)\n",
    "plt.plot(xval, sess.run(polynomial_model, feed_dict={x:xval}))\n",
    "plt.plot(xval, yval)\n",
    "\n",
    "plt.subplot(1, 2, 2)\n",
    "plt.plot(losses)\n",
    "plt.xlabel('iterations')\n",
    "plt.ylabel('loss')\n",
    "plt.title('Loss with Gradient Descent')\n",
    "\n",
    "#so momentum is really useful "
   ]
  },
  {
   "cell_type": "markdown",
   "metadata": {},
   "source": [
    "### Tensorflow's Built-In Optimizers"
   ]
  },
  {
   "cell_type": "code",
   "execution_count": 46,
   "metadata": {
    "collapsed": true
   },
   "outputs": [],
   "source": [
    "def tf_builtin_optimization(loss,\n",
    "                            optimizer_class,\n",
    "                            target,\n",
    "                            training_data,\n",
    "                            num_iterations,\n",
    "                            optimizer_args=(),\n",
    "                            optimizer_kwargs={},\n",
    "                           ):\n",
    "    \n",
    "    #construct the optimizer\n",
    "    optimizer = optimizer_class(*optimizer_args, \n",
    "                                **optimizer_kwargs)\n",
    "    #formal tensorflow optimizers will always have a \"minimize\" method\n",
    "    #this is how you actually get the optimizer op\n",
    "    optimizer_op = optimizer.minimize(loss)\n",
    "    \n",
    "    init_op = tf.global_variables_initializer()\n",
    "    sess.run(init_op)\n",
    "\n",
    "    targetvals = []\n",
    "    losses = []\n",
    "    times = []\n",
    "    for i in range(num_iterations):\n",
    "        t0 = time.time()\n",
    "        output = sess.run({'opt': optimizer_op,\n",
    "                           'target': target,\n",
    "                           'loss': loss}, \n",
    "                          feed_dict=training_data)\n",
    "        times.append(time.time() - t0)\n",
    "        targetvals.append(output['target'])\n",
    "        losses.append(output['loss'])\n",
    "    \n",
    "    print('Average time per iteration --> %.5f' % np.mean(times))\n",
    "    return np.array(losses), targetvals"
   ]
  },
  {
   "cell_type": "code",
   "execution_count": 47,
   "metadata": {},
   "outputs": [
    {
     "name": "stdout",
     "output_type": "stream",
     "text": [
      "Average time per iteration --> 0.00125\n"
     ]
    },
    {
     "data": {
      "text/plain": [
       "<matplotlib.text.Text at 0x7f3c641f29d0>"
      ]
     },
     "execution_count": 47,
     "metadata": {},
     "output_type": "execute_result"
    },
    {
     "data": {
      "image/png": "[encoded data removed]",
      "text/plain": [
       "<matplotlib.figure.Figure at 0x7f3c643208d0>"
      ]
     },
     "metadata": {},
     "output_type": "display_data"
    }
   ],
   "source": [
    "xval = np.arange(-2, 2, .02)\n",
    "yval = np.sin(xval)\n",
    "\n",
    "data_dict = {x: xval, y:yval}\n",
    "\n",
    "losses, coefvals = tf_builtin_optimization(loss=polynomial_loss,\n",
    "                              optimizer_class=tf.train.GradientDescentOptimizer,\n",
    "                              target=coefficients,\n",
    "                              training_data=data_dict,\n",
    "                              num_iterations=5000,\n",
    "                              optimizer_args=(0.005,),\n",
    "                              )  #<-- more iterations\n",
    "\n",
    "x0 = coefvals[-1]\n",
    "assign_op = tf.assign(coefficients, x0)\n",
    "sess.run(assign_op)\n",
    "\n",
    "plt.figure(figsize=(10, 3))\n",
    "plt.subplot(1, 2, 1)\n",
    "plt.plot(xval, sess.run(polynomial_model, feed_dict={x:xval}))\n",
    "plt.plot(xval, yval)\n",
    "\n",
    "plt.subplot(1, 2, 2)\n",
    "plt.plot(losses)\n",
    "plt.xlabel('iterations')\n",
    "plt.ylabel('loss')\n",
    "plt.title('Loss with Gradient Descent')\n",
    "\n",
    "\n",
    "#right ok, we recovered what we did before by hand, now using\n",
    "#the standard tensorflow tools"
   ]
  },
  {
   "cell_type": "code",
   "execution_count": 48,
   "metadata": {},
   "outputs": [
    {
     "name": "stdout",
     "output_type": "stream",
     "text": [
      "Average time per iteration --> 0.00133\n"
     ]
    },
    {
     "data": {
      "text/plain": [
       "<matplotlib.text.Text at 0x7f3c4dfeefd0>"
      ]
     },
     "execution_count": 48,
     "metadata": {},
     "output_type": "execute_result"
    },
    {
     "data": {
      "image/png": "[encoded data removed]",
      "text/plain": [
       "<matplotlib.figure.Figure at 0x7f3c6492e690>"
      ]
     },
     "metadata": {},
     "output_type": "display_data"
    }
   ],
   "source": [
    "#Let's use the Momentum Optimizer. standard parameters for learning \n",
    "#are learning_rate = 0.01 and momentum = 0.9\n",
    "\n",
    "xval = np.arange(-2, 2, .02)\n",
    "yval = np.sin(xval )\n",
    "data_dict = {x: xval, y:yval}\n",
    "\n",
    "losses, coefvals = tf_builtin_optimization(loss=polynomial_loss,\n",
    "                              optimizer_class=tf.train.MomentumOptimizer,\n",
    "                              target=coefficients,\n",
    "                              training_data=data_dict,\n",
    "                              num_iterations=250, \n",
    "                              optimizer_kwargs={'learning_rate': 0.01,\n",
    "                                                'momentum': 0.9}) \n",
    "x0 = coefvals[-1]\n",
    "assign_op = tf.assign(coefficients, x0)\n",
    "sess.run(assign_op)\n",
    "\n",
    "plt.figure(figsize=(10, 3))\n",
    "plt.subplot(1, 2, 1)\n",
    "plt.plot(xval, sess.run(polynomial_model, feed_dict={x:xval}))\n",
    "plt.plot(xval, yval)\n",
    "\n",
    "plt.subplot(1, 2, 2)\n",
    "plt.plot(losses)\n",
    "plt.xlabel('iterations')\n",
    "plt.ylabel('loss')\n",
    "plt.title('Loss with Momentum Optimizer')\n",
    "\n",
    "#again reproducing what we see before by hand"
   ]
  },
  {
   "cell_type": "code",
   "execution_count": 49,
   "metadata": {},
   "outputs": [
    {
     "name": "stdout",
     "output_type": "stream",
     "text": [
      "Average time per iteration --> 0.00146\n"
     ]
    },
    {
     "data": {
      "text/plain": [
       "<matplotlib.text.Text at 0x7f3c4dd982d0>"
      ]
     },
     "execution_count": 49,
     "metadata": {},
     "output_type": "execute_result"
    },
    {
     "data": {
      "image/png": "[encoded data removed]",
      "text/plain": [
       "<matplotlib.figure.Figure at 0x7f3c4df1bfd0>"
      ]
     },
     "metadata": {},
     "output_type": "display_data"
    }
   ],
   "source": [
    "#and we can try some other stuff, such as the Adam Optimizer\n",
    "\n",
    "losses, coefvals = tf_builtin_optimization(loss=polynomial_loss,\n",
    "                              optimizer_class=tf.train.AdamOptimizer,\n",
    "                              target=coefficients,\n",
    "                              training_data=data_dict,\n",
    "                              num_iterations=500,\n",
    "                              optimizer_kwargs={'learning_rate': 0.01})                                            \n",
    "                            \n",
    "x0 = coefvals[-1]\n",
    "assign_op = tf.assign(coefficients, x0)\n",
    "sess.run(assign_op)\n",
    "\n",
    "plt.figure(figsize=(10, 3))\n",
    "plt.subplot(1, 2, 1)\n",
    "plt.plot(xval, sess.run(polynomial_model, feed_dict={x:xval}))\n",
    "plt.plot(xval, yval)\n",
    "\n",
    "plt.subplot(1, 2, 2)\n",
    "plt.plot(losses)\n",
    "plt.xlabel('iterations')\n",
    "plt.ylabel('loss')\n",
    "plt.title('Loss with Adam optimizer')\n",
    "\n",
    "#Adam as usualy requires a bit more steps than Momentum -- but the advantage of Adam\n",
    "#is that sometimes Momentum blows up and Adam is usually more stable\n",
    "#(compare the loss traces! even though Momentum didn't below up above, it's\n",
    "#loss is much more jaggedy -- signs up potential blowup)"
   ]
  },
  {
   "cell_type": "code",
   "execution_count": 50,
   "metadata": {},
   "outputs": [
    {
     "name": "stdout",
     "output_type": "stream",
     "text": [
      "Average time per iteration --> 0.00169\n"
     ]
    },
    {
     "data": {
      "text/plain": [
       "<matplotlib.text.Text at 0x7f3c4db55850>"
      ]
     },
     "execution_count": 50,
     "metadata": {},
     "output_type": "execute_result"
    },
    {
     "data": {
      "image/png": "[encoded data removed]",
      "text/plain": [
       "<matplotlib.figure.Figure at 0x7f3c4dc54f50>"
      ]
     },
     "metadata": {},
     "output_type": "display_data"
    }
   ],
   "source": [
    "#so hm ... maybe because Adam is more stable we can jack up the \n",
    "#initial learning rate and thus converge even faster than with Momentum\n",
    "\n",
    "losses, coefvals = tf_builtin_optimization(loss=polynomial_loss,\n",
    "                              optimizer_class=tf.train.AdamOptimizer,\n",
    "                              target=coefficients,\n",
    "                              training_data=data_dict,\n",
    "                              num_iterations=150,\n",
    "                              optimizer_kwargs={'learning_rate': 0.5})                                            \n",
    "                            \n",
    "x0 = coefvals[-1]\n",
    "assign_op = tf.assign(coefficients, x0)\n",
    "sess.run(assign_op)\n",
    "\n",
    "plt.figure(figsize=(10, 3))\n",
    "plt.subplot(1, 2, 1)\n",
    "plt.plot(xval, sess.run(polynomial_model, feed_dict={x:xval}))\n",
    "plt.plot(xval, yval)\n",
    "\n",
    "plt.subplot(1, 2, 2)\n",
    "plt.plot(losses)\n",
    "plt.xlabel('iterations')\n",
    "plt.ylabel('loss')\n",
    "plt.title('Loss with Adam optimizer\\nhigh initial learning rate')\n",
    "\n",
    "#indeed we can!"
   ]
  },
  {
   "cell_type": "markdown",
   "metadata": {
    "collapsed": true
   },
   "source": [
    "### Newton's Method  (Second Order)"
   ]
  },
  {
   "cell_type": "code",
   "execution_count": 51,
   "metadata": {},
   "outputs": [],
   "source": [
    "def newtons_method(loss, \n",
    "                   target,\n",
    "                   initial_guess,\n",
    "                   training_data,\n",
    "                   num_iterations,\n",
    "                   grad2clip=1.):\n",
    "    \n",
    "    #create initialization operation\n",
    "    initial_op = tf.assign(target, initial_guess)    \n",
    "\n",
    "    grad = tf.gradients(loss, target)[0]\n",
    "    #to actually compute the second order correction \n",
    "    #we split the one-variable and multi-variable cases up -- for ease of working\n",
    "    \n",
    "    if len(target.shape) == 0:   #one-variable case\n",
    "        #actually get the second derivative\n",
    "        grad2 = tf.gradients(grad, target)[0]\n",
    "        \n",
    "        #now morally we want to compute:\n",
    "        #    newval = target - grad / grad2\n",
    "        #BUT there is often numerical instability caused by dividing\n",
    "        #by grad2 if grad2 is small... so we have to clip grad2 by a clip value\n",
    "        clippedgrad2 = tf.maximum(grad2, grad2clip)\n",
    "        \n",
    "        #and now we can do the newton's formula update\n",
    "        newval = tf.add(target, -tf.divide(grad, clippedgrad2))\n",
    "    else:\n",
    "        #in the multi-variable case, we first compute the hessian matrix\n",
    "        #thank gosh tensorflow has this built in finally!\n",
    "        hess = tf.hessians(loss, target)[0]\n",
    "        #now we take it's inverse\n",
    "        hess_inv = tf.matrix_inverse(hess)\n",
    "        #now we get H^{-1} grad, e.g. multiple the matrix by the vector\n",
    "        hess_inv_grad = tf.tensordot(hess_inv, grad, 1)\n",
    "        #again we have to clip for numerical stability\n",
    "        hess_inv_grad = tf.clip_by_value(hess_inv_grad, -grad2clip, grad2clip)\n",
    "        #and get the new value for the parameters\n",
    "        newval = tf.add(target, -hess_inv_grad)\n",
    "    \n",
    "    #the rest of the code is just as in the gradient descent case\n",
    "    optimizer_op = tf.assign(target, newval)    \n",
    "    targetvals = []\n",
    "    losses = []\n",
    "    gradvals = []\n",
    "    sess.run(initial_op)\n",
    "    for i in range(num_iterations):        \n",
    "        output = sess.run({'opt': optimizer_op,\n",
    "                           'grad': grad, \n",
    "                           'target': target,\n",
    "                           'loss': loss}, \n",
    "                          feed_dict=training_data)\n",
    "        targetvals.append(output['target'])\n",
    "        losses.append(output['loss'])\n",
    "        gradvals.append(output['grad'])\n",
    "    return losses, targetvals, gradvals\n"
   ]
  },
  {
   "cell_type": "code",
   "execution_count": 52,
   "metadata": {},
   "outputs": [
    {
     "data": {
      "text/plain": [
       "<matplotlib.text.Text at 0x7f3c4d930bd0>"
      ]
     },
     "execution_count": 52,
     "metadata": {},
     "output_type": "execute_result"
    },
    {
     "data": {
      "image/png": "[encoded data removed]",
      "text/plain": [
       "<matplotlib.figure.Figure at 0x7f3c64653290>"
      ]
     },
     "metadata": {},
     "output_type": "display_data"
    }
   ],
   "source": [
    "xval = np.arange(0, 2, .01)\n",
    "yval = np.arange(0, 2, .01)**2\n",
    "data_dict = {x: xval, y:yval}\n",
    "\n",
    "losses, powers, grads = newtons_method(loss=power_loss,\n",
    "                                       target=power,\n",
    "                                       initial_guess=0,\n",
    "                                       training_data=data_dict,\n",
    "                                       num_iterations=20,\n",
    "                                       grad2clip=1)\n",
    "\n",
    "\n",
    "plt.plot(powers, label='estimated power')\n",
    "plt.plot(losses, label='loss')\n",
    "plt.legend(loc='upper right')\n",
    "plt.title(\"Newton's Method on Quadractic\")\n",
    "\n",
    "#whoa -- much faster than before"
   ]
  },
  {
   "cell_type": "code",
   "execution_count": 53,
   "metadata": {},
   "outputs": [
    {
     "data": {
      "text/plain": [
       "<matplotlib.text.Text at 0x7f3c4d6d3590>"
      ]
     },
     "execution_count": 53,
     "metadata": {},
     "output_type": "execute_result"
    },
    {
     "data": {
      "image/png": "[encoded data removed]",
      "text/plain": [
       "<matplotlib.figure.Figure at 0x7f3c4d79dfd0>"
      ]
     },
     "metadata": {},
     "output_type": "display_data"
    }
   ],
   "source": [
    "xval = np.arange(0, 2, .01)\n",
    "yval = np.arange(0, 2, .01)**3\n",
    "data_dict = {x: xval, y:yval}\n",
    "\n",
    "losses, powers, grads = newtons_method(loss=power_loss,\n",
    "                                       target=power,\n",
    "                                       initial_guess=0,\n",
    "                                       training_data=data_dict,\n",
    "                                       num_iterations=20,\n",
    "                                       grad2clip=1)\n",
    "\n",
    "\n",
    "plt.plot(powers, label='estimated power')\n",
    "plt.plot(losses, label='loss')\n",
    "plt.legend(loc='upper right')\n",
    "plt.title(\"Newton's Method on a Cubic\")\n"
   ]
  },
  {
   "cell_type": "code",
   "execution_count": 54,
   "metadata": {},
   "outputs": [
    {
     "data": {
      "text/plain": [
       "<matplotlib.text.Text at 0x7f3c4d289710>"
      ]
     },
     "execution_count": 54,
     "metadata": {},
     "output_type": "execute_result"
    },
    {
     "data": {
      "image/png": "[encoded data removed]",
      "text/plain": [
       "<matplotlib.figure.Figure at 0x7f3c4d5569d0>"
      ]
     },
     "metadata": {},
     "output_type": "display_data"
    }
   ],
   "source": [
    "xval = np.arange(-2, 2, .02)\n",
    "yval = np.sin(xval)\n",
    "\n",
    "data_dict = {x: xval, y:yval}\n",
    "\n",
    "losses, coefvals, grads = newtons_method(loss=polynomial_loss,\n",
    "                                        target=coefficients,\n",
    "                                        initial_guess=np.zeros(approximation_order),\n",
    "                                        training_data=data_dict,\n",
    "                                        num_iterations=2)\n",
    "\n",
    "x0 = coefvals[-1]\n",
    "assign_op = tf.assign(coefficients, x0)\n",
    "sess.run(assign_op)\n",
    "\n",
    "plt.figure(figsize=(10, 3))\n",
    "plt.subplot(1, 2, 1)\n",
    "plt.plot(xval, yval)\n",
    "plt.plot(xval, sess.run(polynomial_model, feed_dict={x:xval}))\n",
    "\n",
    "\n",
    "plt.subplot(1, 2, 2)\n",
    "plt.plot(losses)\n",
    "plt.xlabel('iterations')\n",
    "plt.ylabel('loss')\n",
    "\n",
    "#no joke -- the error goes to 0 after 1 update step\n"
   ]
  },
  {
   "cell_type": "code",
   "execution_count": 55,
   "metadata": {},
   "outputs": [
    {
     "data": {
      "text/plain": [
       "<matplotlib.text.Text at 0x7f3c4ce31510>"
      ]
     },
     "execution_count": 55,
     "metadata": {},
     "output_type": "execute_result"
    },
    {
     "data": {
      "image/png": "[encoded data removed]",
      "text/plain": [
       "<matplotlib.figure.Figure at 0x7f3c4cf42890>"
      ]
     },
     "metadata": {},
     "output_type": "display_data"
    }
   ],
   "source": [
    "#let's try something a little more complicated \n",
    "\n",
    "xval = np.arange(-2, 2, .02)\n",
    "yval = np.cos(2 * xval) + np.sin(xval + 1)\n",
    "\n",
    "data_dict = {x: xval, y:yval}\n",
    "\n",
    "losses, coefvals, grads = newtons_method(loss=polynomial_loss,\n",
    "                                        target=coefficients,\n",
    "                                        initial_guess=np.zeros(approximation_order),\n",
    "                                        training_data=data_dict,\n",
    "                                        num_iterations=5)\n",
    "\n",
    "x0 = coefvals[-1]\n",
    "assign_op = tf.assign(coefficients, x0)\n",
    "sess.run(assign_op)\n",
    "\n",
    "plt.figure(figsize=(10, 3))\n",
    "plt.subplot(1, 2, 1)\n",
    "plt.plot(xval, yval)\n",
    "plt.plot(xval, sess.run(polynomial_model, feed_dict={x:xval}))\n",
    "\n",
    "\n",
    "plt.subplot(1, 2, 2)\n",
    "plt.plot(losses)\n",
    "plt.xlabel('iterations')\n",
    "plt.ylabel('loss')\n",
    "\n",
    "#really fast -- actually Newton's method always converges this fast if\n",
    "#the model is polynomial\n"
   ]
  },
  {
   "cell_type": "code",
   "execution_count": 56,
   "metadata": {},
   "outputs": [
    {
     "name": "stdout",
     "output_type": "stream",
     "text": [
      "Average time per iteration --> 0.00107\n"
     ]
    },
    {
     "data": {
      "text/plain": [
       "<matplotlib.text.Text at 0x7f3c4d27fed0>"
      ]
     },
     "execution_count": 56,
     "metadata": {},
     "output_type": "execute_result"
    },
    {
     "data": {
      "image/png": "[encoded data removed]",
      "text/plain": [
       "<matplotlib.figure.Figure at 0x7f3c4cd7fcd0>"
      ]
     },
     "metadata": {},
     "output_type": "display_data"
    }
   ],
   "source": [
    "#just to put the above in context, let's compare to momentum\n",
    "\n",
    "xval = np.arange(-2, 2, .02)\n",
    "yval = np.cos(2 * xval) + np.sin(xval + 1)\n",
    "\n",
    "data_dict = {x: xval, y:yval}\n",
    "\n",
    "losses, coefvals = tf_builtin_optimization(loss=polynomial_loss,\n",
    "                              optimizer_class=tf.train.MomentumOptimizer,\n",
    "                              target=coefficients,\n",
    "                              training_data=data_dict,\n",
    "                              num_iterations=200,\n",
    "                              optimizer_kwargs={'learning_rate': 0.01,\n",
    "                                                'momentum': 0.9},\n",
    "                              ) \n",
    "x0 = coefvals[-1]\n",
    "assign_op = tf.assign(coefficients, x0)\n",
    "sess.run(assign_op)\n",
    "\n",
    "plt.figure(figsize=(10, 3))\n",
    "plt.subplot(1, 2, 1)\n",
    "plt.plot(xval, yval)\n",
    "plt.plot(xval, sess.run(polynomial_model, feed_dict={x:xval}))\n",
    "\n",
    "\n",
    "plt.subplot(1, 2, 2)\n",
    "plt.plot(losses)\n",
    "plt.xlabel('iterations')\n",
    "plt.ylabel('loss')"
   ]
  },
  {
   "cell_type": "markdown",
   "metadata": {},
   "source": [
    "### Using External Optimizers"
   ]
  },
  {
   "cell_type": "code",
   "execution_count": 59,
   "metadata": {
    "collapsed": true
   },
   "outputs": [],
   "source": [
    "#actually, let's use an *external* optimizer -- not do \n",
    "#the optimization itself in tensorflow\n",
    "from scipy.optimize import minimize\n",
    "\n",
    "#you can see all the methods for optimization here:  \n",
    "#   https://docs.scipy.org/doc/scipy/reference/generated/scipy.optimize.minimize.html#scipy.optimize.minimize"
   ]
  },
  {
   "cell_type": "code",
   "execution_count": 60,
   "metadata": {},
   "outputs": [
    {
     "data": {
      "text/plain": [
       "<matplotlib.text.Text at 0x7f3c4ca75690>"
      ]
     },
     "execution_count": 60,
     "metadata": {},
     "output_type": "execute_result"
    },
    {
     "data": {
      "image/png": "[encoded data removed]",
      "text/plain": [
       "<matplotlib.figure.Figure at 0x7f3c4ca9c890>"
      ]
     },
     "metadata": {},
     "output_type": "display_data"
    }
   ],
   "source": [
    "#Ok here's the model we want to learn\n",
    "xval = np.arange(-2, 2, .02)\n",
    "yval = np.cosh(2 * xval) + np.sin(xval + 1)\n",
    "\n",
    "plt.plot(xval, yval)\n",
    "plt.title(\"Target to Learn\")"
   ]
  },
  {
   "cell_type": "code",
   "execution_count": 61,
   "metadata": {},
   "outputs": [
    {
     "data": {
      "text/plain": [
       "<tf.Tensor 'Mean_1:0' shape=() dtype=float32>"
      ]
     },
     "execution_count": 61,
     "metadata": {},
     "output_type": "execute_result"
    }
   ],
   "source": [
    "polynomial_loss"
   ]
  },
  {
   "cell_type": "code",
   "execution_count": 62,
   "metadata": {
    "collapsed": true
   },
   "outputs": [],
   "source": [
    "#we need to make a python function from our tensorflow model\n",
    "#(actually we could simply write the model directly in numpy\n",
    "#but ... since we already have it in Tensorflow might as well use it\n",
    "\n",
    "def func_loss(vals):\n",
    "    data_dict = {x: xval, \n",
    "                 y: yval,\n",
    "                 coefficients: vals}\n",
    "    lossval = sess.run(polynomial_loss, feed_dict=data_dict)\n",
    "    losses.append(lossval)\n",
    "    return lossval"
   ]
  },
  {
   "cell_type": "code",
   "execution_count": 63,
   "metadata": {},
   "outputs": [
    {
     "data": {
      "text/plain": [
       "<matplotlib.text.Text at 0x7f3c4c8ffe90>"
      ]
     },
     "execution_count": 63,
     "metadata": {},
     "output_type": "execute_result"
    },
    {
     "data": {
      "image/png": "[encoded data removed]",
      "text/plain": [
       "<matplotlib.figure.Figure at 0x7f3c4c990110>"
      ]
     },
     "metadata": {},
     "output_type": "display_data"
    }
   ],
   "source": [
    "#Ok, so let's use a method that doesn't care about the derivative\n",
    "#specifically \"Nelder-Mead\" -- this is a simplex-based method\n",
    "\n",
    "losses = []\n",
    "result = minimize(func_loss, \n",
    "                  x0=np.zeros(6),\n",
    "                  method='Nelder-Mead')\n",
    "\n",
    "x0 = result.x\n",
    "assign_op = tf.assign(coefficients, x0)\n",
    "sess.run(assign_op)\n",
    "\n",
    "plt.figure(figsize=(10, 3))\n",
    "plt.subplot(1, 2, 1)\n",
    "plt.plot(xval, yval, label='True')\n",
    "plt.plot(xval, sess.run(polynomial_model, feed_dict={x:xval}), label='Appox.')\n",
    "plt.legend(loc='upper center')\n",
    "\n",
    "plt.subplot(1, 2, 2)\n",
    "plt.plot(losses)\n",
    "plt.xlabel('iterations')\n",
    "plt.ylabel('loss')\n",
    "plt.title('Loss with Nelder-Mead')\n"
   ]
  },
  {
   "cell_type": "code",
   "execution_count": 64,
   "metadata": {
    "collapsed": true
   },
   "outputs": [],
   "source": [
    "#OK now let's try a method that *does* care about the derivative\n",
    "#specifically, a method called L-BFGS -- this is basically \n",
    "#an approximate version of the newton's method. \n",
    "#It's called a \"quasi-second-order\" method because it uses only \n",
    "#first derivatives to get an approximation to the second derivative\n",
    "\n",
    "#to use it, we need *do* need to calculate the derivative\n",
    "#... and here's why tensorflow STILL matters even if we're using \n",
    "#an external optimizer\n",
    "\n",
    "polynomial_grad = tf.gradients(polynomial_loss, coefficients)[0]"
   ]
  },
  {
   "cell_type": "code",
   "execution_count": 65,
   "metadata": {
    "collapsed": true
   },
   "outputs": [],
   "source": [
    "#we need to create a function that returns loss and loss derivative\n",
    "def func_loss_with_grad(vals):\n",
    "    data_dict = {x: xval, \n",
    "                 y:yval,\n",
    "                 coefficients: vals}\n",
    "    lossval, g = sess.run([polynomial_loss, polynomial_grad], \n",
    "                    feed_dict=data_dict)\n",
    "    losses.append(lossval)\n",
    "    return lossval, g.astype(np.float64)"
   ]
  },
  {
   "cell_type": "code",
   "execution_count": 66,
   "metadata": {},
   "outputs": [
    {
     "data": {
      "text/plain": [
       "<matplotlib.text.Text at 0x7f3c4c6f08d0>"
      ]
     },
     "execution_count": 66,
     "metadata": {},
     "output_type": "execute_result"
    },
    {
     "data": {
      "image/png": "[encoded data removed]",
      "text/plain": [
       "<matplotlib.figure.Figure at 0x7f3c4c7858d0>"
      ]
     },
     "metadata": {},
     "output_type": "display_data"
    }
   ],
   "source": [
    "#Ok, so let's see what happens with L-BFGS\n",
    "losses = []\n",
    "result = minimize(func_loss_with_grad, \n",
    "                  x0=np.zeros(6),\n",
    "                  method='L-BFGS-B', #approximation of newton's method\n",
    "                  jac=True  #<-- meaning, we're telling minimizer \n",
    "                            #to use the derivative info -- the so-called\n",
    "                            #\"jacobian\"\n",
    "                 )\n",
    "\n",
    "x0 = result.x\n",
    "assign_op = tf.assign(coefficients, x0)\n",
    "sess.run(assign_op)\n",
    "\n",
    "plt.figure(figsize=(10, 3))\n",
    "plt.subplot(1, 2, 1)\n",
    "plt.plot(xval, yval, label='True')\n",
    "plt.plot(xval, sess.run(polynomial_model, feed_dict={x:xval}), label='Appox.')\n",
    "plt.legend(loc='upper center')\n",
    "\n",
    "plt.subplot(1, 2, 2)\n",
    "plt.plot(losses)\n",
    "plt.xlabel('iterations')\n",
    "plt.ylabel('loss')\n",
    "plt.title('Loss with L-BFGS')\n",
    "\n",
    "#substantially better than the non-derivative-based method\n",
    "#-- fewer interations are needed, loss curve is stabler, and final \n",
    "#results are better\n"
   ]
  },
  {
   "cell_type": "markdown",
   "metadata": {},
   "source": [
    "## Deploying it in a real case"
   ]
  },
  {
   "cell_type": "code",
   "execution_count": 67,
   "metadata": {
    "collapsed": true
   },
   "outputs": [],
   "source": [
    "#ok let's load the neural data \n",
    "DATA_PATH = \"/home/chengxuz/Class/psych253_2018/data/ventral_neural_data.hdf5\"\n",
    "Ventral_Dataset = h5py.File(DATA_PATH)\n",
    "\n",
    "categories = Ventral_Dataset['image_meta']['category'][:]   #array of category labels for all images  --> shape == (5760,)\n",
    "unique_categories = np.unique(categories)                #array of unique category labels --> shape == (8,)\n",
    "\n",
    "var_levels = Ventral_Dataset['image_meta']['variation_level'][:] \n",
    "\n",
    "Neural_Data = Ventral_Dataset['time_averaged_trial_averaged'][:]\n",
    "\n",
    "num_neurons = Neural_Data.shape[1]\n",
    "num_categories = 8 "
   ]
  },
  {
   "cell_type": "code",
   "execution_count": 68,
   "metadata": {},
   "outputs": [
    {
     "data": {
      "text/plain": [
       "array(['Fruits', 'Fruits', 'Fruits', 'Fruits', 'Fruits', 'Fruits',\n",
       "       'Fruits', 'Fruits', 'Fruits', 'Fruits'],\n",
       "      dtype='|S7')"
      ]
     },
     "execution_count": 68,
     "metadata": {},
     "output_type": "execute_result"
    }
   ],
   "source": [
    "categories[:10]"
   ]
  },
  {
   "cell_type": "code",
   "execution_count": 69,
   "metadata": {
    "collapsed": true
   },
   "outputs": [],
   "source": [
    "#we'll construct 8 one-vs-all vectors with {-1, 1} values\n",
    "category_matrix = np.array([2 * (categories == c) - 1 for \n",
    "                             c in unique_categories]).T.astype(int)"
   ]
  },
  {
   "cell_type": "code",
   "execution_count": 70,
   "metadata": {},
   "outputs": [
    {
     "data": {
      "text/plain": [
       "array([-1, -1, -1, -1, -1,  1, -1, -1])"
      ]
     },
     "execution_count": 70,
     "metadata": {},
     "output_type": "execute_result"
    }
   ],
   "source": [
    "category_matrix[0]"
   ]
  },
  {
   "cell_type": "code",
   "execution_count": 71,
   "metadata": {
    "collapsed": true
   },
   "outputs": [],
   "source": [
    "sess = tf.Session()"
   ]
  },
  {
   "cell_type": "code",
   "execution_count": 72,
   "metadata": {
    "collapsed": true
   },
   "outputs": [],
   "source": [
    "#first, get initializers for W and b\n",
    "initial_weights = tf.random_uniform(shape=(num_neurons, num_categories),\n",
    "                  minval=-1,\n",
    "                  maxval=1,\n",
    "                  seed=0)\n",
    "\n",
    "initial_bias = tf.zeros(shape=(num_categories,))"
   ]
  },
  {
   "cell_type": "code",
   "execution_count": 73,
   "metadata": {
    "collapsed": true
   },
   "outputs": [],
   "source": [
    "#now construct the TF variables\n",
    "weights = tf.get_variable('weights', \n",
    "                           dtype=tf.float32,\n",
    "                           initializer=initial_weights)\n",
    "                         \n",
    "bias = tf.get_variable('bias', \n",
    "                       dtype=tf.float32,\n",
    "                       initializer=initial_bias)#initialize variables\n",
    "init_op = tf.global_variables_initializer()\n",
    "sess.run(init_op)"
   ]
  },
  {
   "cell_type": "code",
   "execution_count": 74,
   "metadata": {
    "collapsed": true
   },
   "outputs": [],
   "source": [
    "#input slots for data and labels\n",
    "#note the batch size is \"None\" -- effectively meaning batches of \n",
    "#varying sizes can be used\n",
    "neural_data = tf.placeholder(shape=(None, num_neurons),\n",
    "                              dtype=tf.float32)\n",
    "\n",
    "category_labels = tf.placeholder(shape=(None, num_categories),\n",
    "                                 dtype=tf.float32)"
   ]
  },
  {
   "cell_type": "code",
   "execution_count": 75,
   "metadata": {
    "collapsed": true
   },
   "outputs": [],
   "source": [
    "#now construct margins\n",
    "margins = tf.matmul(neural_data, weights) + bias\n",
    "\n",
    "#the hinge loss\n",
    "hinge_loss = tf.maximum(0., 1. - category_labels * margins)\n",
    "\n",
    "#and take the mean of the loss over the batch\n",
    "hinge_loss_mean = tf.reduce_mean(hinge_loss)"
   ]
  },
  {
   "cell_type": "code",
   "execution_count": 76,
   "metadata": {
    "collapsed": true
   },
   "outputs": [],
   "source": [
    "#simple interface for using tensorflow built-in optimizer\n",
    "#as seen yesterclass\n",
    "\n",
    "def tf_optimize(loss,\n",
    "                optimizer_class,\n",
    "                target,\n",
    "                training_data,\n",
    "                num_iterations,\n",
    "                optimizer_args=(),\n",
    "                optimizer_kwargs=None,\n",
    "                sess=None,\n",
    "                initial_guesses=None):\n",
    "                           \n",
    "    if sess is None:\n",
    "        sess = tf.Session()\n",
    "        \n",
    "    if optimizer_kwargs is None:\n",
    "        optimizer_kwargs = {}\n",
    "    \n",
    "    #construct the optimizer\n",
    "    optimizer = optimizer_class(*optimizer_args, \n",
    "                                **optimizer_kwargs)\n",
    "    optimizer_op = optimizer.minimize(loss)\n",
    "    \n",
    "    #initialize variables\n",
    "    init_op = tf.global_variables_initializer()\n",
    "    sess.run(init_op)\n",
    "    \n",
    "    if initial_guesses is not None:\n",
    "        for k, v in initial_guesses.items():\n",
    "            op = tf.assign(k, v)\n",
    "            sess.run(op)\n",
    "\n",
    "    targetvals = []\n",
    "    losses = []\n",
    "    times = []\n",
    "    for i in range(num_iterations):\n",
    "        t0 = time.time()\n",
    "        output = sess.run({'opt': optimizer_op,\n",
    "                           'target': target,\n",
    "                           'loss': loss}, \n",
    "                           feed_dict=training_data)\n",
    "        times.append(time.time() - t0)\n",
    "        targetvals.append(output['target'])\n",
    "        losses.append(output['loss'])\n",
    "    \n",
    "    print('Average time per iteration --> %.5f' % np.mean(times))\n",
    "    return np.array(losses), targetvals"
   ]
  },
  {
   "cell_type": "code",
   "execution_count": 77,
   "metadata": {
    "collapsed": true
   },
   "outputs": [],
   "source": [
    "#let's just focus on one batch of data for the moment\n",
    "\n",
    "batch_size = 640\n",
    "data_batch = Neural_Data[0: batch_size]\n",
    "label_batch = category_matrix[0: batch_size]\n",
    "\n",
    "data_dict = {neural_data: data_batch,\n",
    "             category_labels: label_batch}"
   ]
  },
  {
   "cell_type": "code",
   "execution_count": 78,
   "metadata": {},
   "outputs": [
    {
     "name": "stdout",
     "output_type": "stream",
     "text": [
      "('weights shape:', (296, 8))\n",
      "('biases:', array([ 0.,  0.,  0.,  0.,  0.,  0.,  0.,  0.], dtype=float32))\n"
     ]
    },
    {
     "data": {
      "image/png": "[encoded data removed]",
      "text/plain": [
       "<matplotlib.figure.Figure at 0x7f3c4db24b50>"
      ]
     },
     "metadata": {},
     "output_type": "display_data"
    }
   ],
   "source": [
    "#let's look at the weights and biases before training\n",
    "weight_vals, bias_vals = sess.run([weights, bias])\n",
    "\n",
    "#right, it's num_neurons x num_categories\n",
    "print('weights shape:', weight_vals.shape)\n",
    "\n",
    "#let's look at some of the weights\n",
    "plt.hist(weight_vals[:, 0])\n",
    "plt.xlabel('Weight Value')\n",
    "plt.ylabel('Neuron Count')\n",
    "plt.title('Weights for Animals vs All')\n",
    "\n",
    "print('biases:', bias_vals)"
   ]
  },
  {
   "cell_type": "code",
   "execution_count": 79,
   "metadata": {},
   "outputs": [
    {
     "name": "stdout",
     "output_type": "stream",
     "text": [
      "Average time per iteration --> 0.00345\n"
     ]
    }
   ],
   "source": [
    "#ok so we'll use the Momentum optimizer to find weights and bias\n",
    "#for this classification problem\n",
    "losses, targs = tf_optimize(loss=hinge_loss_mean,\n",
    "            optimizer_class=tf.train.MomentumOptimizer,\n",
    "            target=[],\n",
    "            training_data=data_dict,\n",
    "            num_iterations=100,\n",
    "            optimizer_kwargs={'learning_rate': 1, 'momentum': 0.9},\n",
    "            sess=sess)"
   ]
  },
  {
   "cell_type": "code",
   "execution_count": 80,
   "metadata": {},
   "outputs": [
    {
     "data": {
      "text/plain": [
       "[<matplotlib.lines.Line2D at 0x7f3c4c408fd0>]"
      ]
     },
     "execution_count": 80,
     "metadata": {},
     "output_type": "execute_result"
    },
    {
     "data": {
      "image/png": "[encoded data removed]",
      "text/plain": [
       "<matplotlib.figure.Figure at 0x7f3c4c8334d0>"
      ]
     },
     "metadata": {},
     "output_type": "display_data"
    }
   ],
   "source": [
    "#losses decrease almost to 0\n",
    "plt.plot(losses)"
   ]
  },
  {
   "cell_type": "code",
   "execution_count": 81,
   "metadata": {},
   "outputs": [
    {
     "name": "stdout",
     "output_type": "stream",
     "text": [
      "('biases:', array([-5.6579237 , -5.38999081, -6.01903248, -5.87763357, -5.83938694,\n",
      "       -5.5426507 , -5.03545904, -5.47604179], dtype=float32))\n"
     ]
    },
    {
     "data": {
      "image/png": "[encoded data removed]",
      "text/plain": [
       "<matplotlib.figure.Figure at 0x7f3ca51d4210>"
      ]
     },
     "metadata": {},
     "output_type": "display_data"
    }
   ],
   "source": [
    "weight_vals, bias_vals = sess.run([weights, bias])\n",
    "\n",
    "#right, it's num_neurons x num_categories\n",
    "weight_vals.shape\n",
    "\n",
    "#let's look at some of the weights\n",
    "plt.hist(weight_vals[:, 2])\n",
    "plt.xlabel('Weight Value')\n",
    "plt.ylabel('Neuron Count')\n",
    "plt.title('Weights for Faces vs All')\n",
    "\n",
    "print('biases:', bias_vals)\n",
    "\n",
    "#ok so things have been learned!"
   ]
  },
  {
   "cell_type": "code",
   "execution_count": 82,
   "metadata": {},
   "outputs": [
    {
     "name": "stdout",
     "output_type": "stream",
     "text": [
      "Training accuracy: 99.53%\n"
     ]
    }
   ],
   "source": [
    "#how good are the results on training? \n",
    "\n",
    "#actually get the predictions by first getting the margins\n",
    "margin_vals = sess.run(margins, feed_dict = data_dict)\n",
    "#now taking the argmax across categories\n",
    "pred_inds = margin_vals.argmax(axis=1)\n",
    "#compare prediction to actual\n",
    "correct = pred_inds == label_batch.argmax(axis=1)\n",
    "pct = correct.sum() / float(len(correct)) * 100\n",
    "print('Training accuracy: %.2f%%' % pct)\n",
    "\n",
    "#Right, very accurate on training"
   ]
  },
  {
   "cell_type": "markdown",
   "metadata": {},
   "source": [
    "### Stochastic Gradient Descent"
   ]
  },
  {
   "cell_type": "code",
   "execution_count": 140,
   "metadata": {},
   "outputs": [],
   "source": [
    "class BatchReader(object):\n",
    "    \n",
    "    def __init__(self, data_dict, batch_size, shuffle=True, shuffle_seed=0, pad=True):\n",
    "        self.data_dict = data_dict        \n",
    "        self.batch_size = batch_size\n",
    "        _k = data_dict.keys()[0]\n",
    "        self.data_length = data_dict[_k].shape[0]\n",
    "        self.total_batches = (self.data_length - 1) // self.batch_size + 1\n",
    "        self.curr_batch_num = 0\n",
    "        self.curr_epoch = 1\n",
    "        self.pad = pad\n",
    "        self.shuffle = shuffle\n",
    "        self.shuffle_seed = shuffle_seed\n",
    "        \n",
    "        if self.shuffle:\n",
    "            self.rng = np.random.RandomState(seed=self.shuffle_seed)\n",
    "            self.perm = self.rng.permutation(self.data_length)\n",
    "        \n",
    "    def __iter__(self):\n",
    "        return self\n",
    "\n",
    "    def next(self):\n",
    "        return self.get_next_batch()\n",
    "        \n",
    "    def get_next_batch(self):\n",
    "        data = self.get_batch(self.curr_batch_num)\n",
    "        self.increment_batch_num()\n",
    "        return data\n",
    "\n",
    "    def increment_batch_num(self):\n",
    "        m = self.total_batches\n",
    "        if (self.curr_batch_num >= m - 1):\n",
    "            self.curr_epoch += 1\n",
    "            if self.shuffle:\n",
    "                self.perm = self.rng.permutation(self.data_length)\n",
    "        self.curr_batch_num = (self.curr_batch_num + 1) % m\n",
    "\n",
    "    def get_batch(self, cbn):\n",
    "        data = {}\n",
    "        startv = cbn * self.batch_size\n",
    "        endv = (cbn + 1) * self.batch_size\n",
    "        if self.pad and endv > self.data_length:\n",
    "            startv = self.data_length - self.batch_size\n",
    "            endv = startv + self.batch_size\n",
    "        for k in self.data_dict:\n",
    "            if self.shuffle:\n",
    "                data[k] = self.data_dict[k][self.perm[startv: endv]]\n",
    "            else:\n",
    "                data[k] = self.data_dict[k][startv: endv]\n",
    "        return data\n"
   ]
  },
  {
   "cell_type": "code",
   "execution_count": 141,
   "metadata": {},
   "outputs": [],
   "source": [
    "class TF_Optimizer(object):\n",
    "    \"\"\"Make the tensorflow SGD-style optimizer into a scikit-learn compatible class\n",
    "       Uses BatchReader for stochastically getting data batches.\n",
    "       \n",
    "       model_func: function which returns tensorflow nodes for\n",
    "                     predictions, data_input\n",
    "        \n",
    "       loss_func: function which takes model_func prediction output node and \n",
    "                  returns tensorflow nodes for\n",
    "                     loss, label_input\n",
    "                     \n",
    "       optimizer_class: which tensorflow optimizer class to when learning the model parameters\n",
    "       \n",
    "       batch_size: which batch size to use in training\n",
    "       \n",
    "       train_iterations: how many iterations to run the optimizer for \n",
    "           --> this should really be picked automatically by like when the training\n",
    "               error plateaus\n",
    "               \n",
    "        model_kwargs:  dictionary of additional arguments for the model_func\n",
    "        \n",
    "        loss_kwargs: dictionary of additional arguments for the loss_func\n",
    "        \n",
    "        optimizer_args, optimizer_kwargs: additional position and keyword args for the\n",
    "         optimizer class\n",
    "         \n",
    "        sess: tf session to use (will be constructed if not passed) \n",
    "        \n",
    "        train_shuffle: whether to shuffle example order during training\n",
    "       \n",
    "    \"\"\" \n",
    "    \n",
    "    def __init__(self, \n",
    "                 model_func,\n",
    "                 loss_func, \n",
    "                 optimizer_class,\n",
    "                 batch_size,\n",
    "                 train_iterations,\n",
    "                 model_kwargs=None,\n",
    "                 loss_kwargs=None,\n",
    "                 optimizer_args=(),\n",
    "                 optimizer_kwargs=None,\n",
    "                 sess=None,\n",
    "                 train_shuffle=False\n",
    "                 ):\n",
    "                        \n",
    "        self.model_func = model_func\n",
    "        if model_kwargs is None:\n",
    "            model_kwargs = {}\n",
    "        self.model_kwargs = model_kwargs\n",
    "        self.loss_func = loss_func\n",
    "        if loss_kwargs is None:\n",
    "            loss_kwargs = {}\n",
    "        self.loss_kwargs = loss_kwargs\n",
    "        self.train_shuffle=train_shuffle\n",
    "        \n",
    "        self.train_iterations = train_iterations\n",
    "        self.batch_size = batch_size\n",
    "     \n",
    "        if sess is None:\n",
    "            sess = tf.Session()\n",
    "        self.sess = sess\n",
    "                \n",
    "        if optimizer_kwargs is None:\n",
    "            optimizer_kwargs = {}\n",
    "        self.optimizer = optimizer_class(*optimizer_args, \n",
    "                                         **optimizer_kwargs)\n",
    "        \n",
    "    def fit(self, train_data, train_labels):\n",
    "        self.model, self.data_holder = self.model_func(**self.model_kwargs)\n",
    "        self.loss, self.labels_holder = self.loss_func(self.model, **self.loss_kwargs)\n",
    "        \n",
    "        self.optimizer_op = self.optimizer.minimize(self.loss)\n",
    "            \n",
    "        data_dict = {self.data_holder: train_data,\n",
    "                     self.labels_holder: train_labels}\n",
    "        train_data = BatchReader(data_dict=data_dict,\n",
    "                                 batch_size=self.batch_size,\n",
    "                                 shuffle=self.train_shuffle,\n",
    "                                 shuffle_seed=0,\n",
    "                                 pad=True)\n",
    "        \n",
    "        init_op = tf.global_variables_initializer()\n",
    "        sess.run(init_op)\n",
    "        \n",
    "        self.losses = []                      \n",
    "        for i in range(self.train_iterations):\n",
    "            data_batch = train_data.next()\n",
    "            output = self.sess.run({'opt': self.optimizer_op,\n",
    "                                    'loss': self.loss}, \n",
    "                                    feed_dict=data_batch)\n",
    "            self.losses.append(output['loss'])\n",
    "                \n",
    "    def predict(self, test_data):\n",
    "        data_dict = {self.data_holder: test_data}\n",
    "        test_data = BatchReader(data_dict=data_dict,\n",
    "                             batch_size=self.batch_size,\n",
    "                             shuffle=False,\n",
    "                             pad=False)                  \n",
    "        preds = []\n",
    "        for i in range(test_data.total_batches):\n",
    "            data_batch = test_data.get_batch(i)\n",
    "            pred_batch = self.sess.run(self.model, feed_dict=data_batch)\n",
    "            preds.append(pred_batch)\n",
    "        return np.row_stack(preds)\n"
   ]
  },
  {
   "cell_type": "code",
   "execution_count": 147,
   "metadata": {
    "collapsed": true
   },
   "outputs": [],
   "source": [
    "def binarize_labels(labels):\n",
    "    \"\"\"takes discrete-valued labels and binarizes them into {-1, 1}-value format\n",
    "       returns:\n",
    "           binarized_labels: of shape (num_stimuli, num_categories)\n",
    "           unique_labels: actual labels indicating order of first axis in binarized_labels\n",
    "    \"\"\"\n",
    "    unique_labels = np.unique(labels)\n",
    "    num_classes = len(unique_labels)\n",
    "    binarized_labels = np.array([2 * (labels == c) - 1 for \n",
    "                                    c in unique_labels]).T.astype(int)\n",
    "    return binarized_labels, unique_labels\n",
    "    \n",
    "\n",
    "class TF_OVA_Classifier(TF_Optimizer):\n",
    "    \"\"\"\n",
    "    Subclass of TFOptimizer for use with categorizers. Basically, this class \n",
    "    handles data binarization (in the fit method) and un-binarization \n",
    "    (in the predict method), so that we can use the class with the function:\n",
    "    \n",
    "         train_and_test_scikit_classifier\n",
    "    \n",
    "    that we've previously defined. \n",
    "    \n",
    "    The predict method here implements a one-vs-all approach for multi-class problems.\n",
    "    \"\"\"\n",
    "    \n",
    "    def fit(self, train_data, train_labels):\n",
    "        #binarize labels\n",
    "        num_features = train_data.shape[1]\n",
    "        binarized_labels, classes_ = binarize_labels(train_labels)\n",
    "        #set .classes_ attribute, since this is needed by train_and_test_scikit_classifier\n",
    "        self.classes_ = classes_\n",
    "        num_classes = len(classes_)\n",
    "        #pass number of features and classes to the model construction \n",
    "        #function that will be called when the fit method is called\n",
    "        self.model_kwargs['num_features'] = num_features\n",
    "        self.model_kwargs['num_classes'] = num_classes\n",
    "        #now actually call the optimizer fit method\n",
    "        TF_Optimizer.fit(self, train_data=train_data, \n",
    "                              train_labels=binarized_labels)\n",
    "  \n",
    "    def decision_function(self, test_data):\n",
    "        #returns what are effectively the margins (for a linear classifier)\n",
    "        return TF_Optimizer.predict(self, test_data)\n",
    "    \n",
    "    def predict(self, test_data):\n",
    "        #use the one-vs-all rule for multiclass prediction. \n",
    "        preds = self.decision_function(test_data)\n",
    "        preds = np.argmax(preds, axis=1)\n",
    "        classes_ = self.classes_\n",
    "        return classes_[preds]"
   ]
  },
  {
   "cell_type": "code",
   "execution_count": 148,
   "metadata": {
    "collapsed": true
   },
   "outputs": [],
   "source": [
    "def linear_classifier(num_features, num_classes):\n",
    "    \"\"\"generic form of a linear classifier, e.g. the model\n",
    "          margins = np.dot(data, weight) + bias\n",
    "    \"\"\"\n",
    "    initial_weights = tf.zeros(shape=(num_features, \n",
    "                                      num_classes), \n",
    "                               dtype=tf.float32)\n",
    "    weights = tf.Variable(initial_weights, \n",
    "                          dtype=tf.float32,\n",
    "                          name='weights')\n",
    "    initial_bias = tf.zeros(shape=(num_classes,))\n",
    "    bias = tf.Variable(initial_bias, \n",
    "                       dtype=tf.float32,\n",
    "                       name='bias')\n",
    "                           \n",
    "    data = tf.placeholder(shape=(None, num_features), dtype=tf.float32, name='data')\n",
    "    margins = tf.add(tf.matmul(data, weights), bias, name='margins')\n",
    "    return margins, data\n",
    "\n",
    "\n",
    "def hinge_loss(margins):\n",
    "    \"\"\"standard SVM hinge loss\n",
    "    \"\"\"\n",
    "    num_classes = margins.shape.as_list()[1]\n",
    "    category_labels = tf.placeholder(shape=(None, num_classes),\n",
    "                                     dtype=tf.float32, \n",
    "                                     name='labels')\n",
    "    h = tf.maximum(0., 1. - category_labels * margins, name='hinge_loss')\n",
    "    hinge_loss_mean = tf.reduce_mean(h, name='hinge_loss_mean')\n",
    "    return hinge_loss_mean, category_labels"
   ]
  },
  {
   "cell_type": "code",
   "execution_count": 149,
   "metadata": {
    "collapsed": true
   },
   "outputs": [],
   "source": [
    "#construct the classifier instance ... just like with scikit-learn\n",
    "cls = TF_OVA_Classifier(model_func=linear_classifier,\n",
    "              loss_func=hinge_loss, \n",
    "              batch_size=2500,\n",
    "              train_iterations=1000,\n",
    "              train_shuffle=True,\n",
    "              optimizer_class=tf.train.MomentumOptimizer,\n",
    "              optimizer_kwargs = {'learning_rate':10.,\n",
    "                                  'momentum': 0.99\n",
    "                                 },\n",
    "              sess=sess\n",
    "              )"
   ]
  },
  {
   "cell_type": "code",
   "execution_count": 150,
   "metadata": {},
   "outputs": [
    {
     "data": {
      "text/plain": [
       "<matplotlib.text.Text at 0x7f3c4c0ea890>"
      ]
     },
     "execution_count": 150,
     "metadata": {},
     "output_type": "execute_result"
    },
    {
     "data": {
      "image/png": "[encoded data removed]",
      "text/plain": [
       "<matplotlib.figure.Figure at 0x7f3c4c296050>"
      ]
     },
     "metadata": {},
     "output_type": "display_data"
    }
   ],
   "source": [
    "#ok let's try out our classifier on medium-variation data\n",
    "data_subset = Neural_Data[var_levels=='V3']\n",
    "categories_subset = categories[var_levels=='V3']\n",
    "\n",
    "cls.fit(data_subset, categories_subset)\n",
    "\n",
    "plt.plot(cls.losses)\n",
    "plt.xlabel('number of iterations')\n",
    "plt.ylabel('Hinge loss')"
   ]
  },
  {
   "cell_type": "code",
   "execution_count": 151,
   "metadata": {},
   "outputs": [
    {
     "name": "stdout",
     "output_type": "stream",
     "text": [
      "Training accuracy was 99.77%\n"
     ]
    }
   ],
   "source": [
    "#ok how good was the actual training accuracy? \n",
    "preds = cls.predict(data_subset)\n",
    "acc = (preds == categories_subset).sum()\n",
    "pct = acc / float(len(preds)) * 100\n",
    "\n",
    "print('Training accuracy was %.2f%%' % pct)"
   ]
  },
  {
   "cell_type": "markdown",
   "metadata": {},
   "source": [
    "#### Side note on getting relevant tensors"
   ]
  },
  {
   "cell_type": "code",
   "execution_count": 152,
   "metadata": {},
   "outputs": [
    {
     "name": "stdout",
     "output_type": "stream",
     "text": [
      "Tensor(\"margins:0\", shape=(?, 8), dtype=float32)\n"
     ]
    }
   ],
   "source": [
    "#here's the linear mode constructed above:\n",
    "lin_model = cls.model\n",
    "print(lin_model)"
   ]
  },
  {
   "cell_type": "code",
   "execution_count": 153,
   "metadata": {},
   "outputs": [
    {
     "data": {
      "text/plain": [
       "[<tf.Tensor 'MatMul_1:0' shape=(?, 8) dtype=float32>,\n",
       " <tf.Tensor 'bias_1/read:0' shape=(8,) dtype=float32>]"
      ]
     },
     "execution_count": 153,
     "metadata": {},
     "output_type": "execute_result"
    }
   ],
   "source": [
    "#suppose we want to access the weights / bias used in this model?\n",
    "#these can be accessed by the \"op.inputs\" attribute in TF\n",
    "\n",
    "#first, we see that this is the stage of the caluation\n",
    "#where the linear model (the margins) is put together by adding \n",
    "#the result of the matrix multiplication (\"MatMul_[somenumber]\")\n",
    "#to the bias\n",
    "list(lin_model.op.inputs)"
   ]
  },
  {
   "cell_type": "code",
   "execution_count": 154,
   "metadata": {},
   "outputs": [
    {
     "data": {
      "text/plain": [
       "<tf.Tensor 'bias_1/read:0' shape=(8,) dtype=float32>"
      ]
     },
     "execution_count": 154,
     "metadata": {},
     "output_type": "execute_result"
    }
   ],
   "source": [
    "#so bias is just the first of these inputs\n",
    "bias_tensor = lin_model.op.inputs[1]\n",
    "bias_tensor"
   ]
  },
  {
   "cell_type": "code",
   "execution_count": 155,
   "metadata": {},
   "outputs": [
    {
     "data": {
      "text/plain": [
       "[<tf.Tensor 'data_3:0' shape=(?, 296) dtype=float32>,\n",
       " <tf.Tensor 'weights_1/read:0' shape=(296, 8) dtype=float32>]"
      ]
     },
     "execution_count": 155,
     "metadata": {},
     "output_type": "execute_result"
    }
   ],
   "source": [
    "#if we follow up the calculation graph by taking apart\n",
    "#whatever was the inputs to the matmul stage, we see\n",
    "#the data and the weights\n",
    "matmul_tensor = lin_model.op.inputs[0]\n",
    "list(matmul_tensor.op.inputs)"
   ]
  },
  {
   "cell_type": "code",
   "execution_count": 156,
   "metadata": {},
   "outputs": [
    {
     "data": {
      "text/plain": [
       "<tf.Tensor 'weights_1/read:0' shape=(296, 8) dtype=float32>"
      ]
     },
     "execution_count": 156,
     "metadata": {},
     "output_type": "execute_result"
    }
   ],
   "source": [
    "#so the weights tensor is just the first of *these* inputs\n",
    "weights_tensor = matmul_tensor.op.inputs[1]\n",
    "weights_tensor"
   ]
  },
  {
   "cell_type": "code",
   "execution_count": 157,
   "metadata": {},
   "outputs": [
    {
     "data": {
      "text/plain": [
       "<tf.Tensor 'weights_1/read:0' shape=(296, 8) dtype=float32>"
      ]
     },
     "execution_count": 157,
     "metadata": {},
     "output_type": "execute_result"
    }
   ],
   "source": [
    "#putting this together, we could have done:\n",
    "weights_tensor = lin_model.op.inputs[0].op.inputs[1]\n",
    "weights_tensor"
   ]
  },
  {
   "cell_type": "markdown",
   "metadata": {},
   "source": [
    "#### Regularization"
   ]
  },
  {
   "cell_type": "code",
   "execution_count": 159,
   "metadata": {
    "collapsed": true
   },
   "outputs": [],
   "source": [
    "#we can define other loss functions -- such as L2 regularization\n",
    "\n",
    "def hinge_loss_l2reg(margins, C, square=False):\n",
    "    #starts off the same as regular hinge loss\n",
    "    num_classes = margins.shape.as_list()[1]\n",
    "    category_labels = tf.placeholder(shape=(None, num_classes),\n",
    "                                     dtype=tf.float32, \n",
    "                                     name='labels')\n",
    "    h = tf.maximum(0., 1 - category_labels * margins)\n",
    "    #allows for squaring the hinge_loss optionally, as done in sklearn\n",
    "    if square:\n",
    "        h = h**2\n",
    "    hinge_loss = tf.reduce_mean(h)\n",
    "    \n",
    "    #but how let's get the weights from the margins,\n",
    "    #using the method just explored above\n",
    "    weights = margins.op.inputs[0].op.inputs[1]\n",
    "    #and get sum-square of the weights -- the 0.5 is for historical reasons\n",
    "    reg_loss = 0.5*tf.reduce_mean(weights**2) \n",
    "    \n",
    "    #total up the loss from the two terms with constant C for weighting \n",
    "    total_loss = C * hinge_loss + reg_loss\n",
    "    \n",
    "    return total_loss, category_labels"
   ]
  },
  {
   "cell_type": "code",
   "execution_count": 160,
   "metadata": {
    "collapsed": true
   },
   "outputs": [],
   "source": [
    "cls = TF_OVA_Classifier(model_func=linear_classifier,\n",
    "              loss_func=hinge_loss_l2reg, \n",
    "              loss_kwargs={'C':1},\n",
    "              batch_size=2500,\n",
    "              train_iterations=1000,\n",
    "              train_shuffle=True,\n",
    "              optimizer_class=tf.train.MomentumOptimizer,\n",
    "              optimizer_kwargs = {'learning_rate':10.,\n",
    "                                  'momentum': 0.99\n",
    "                                 },\n",
    "              sess=sess,\n",
    "              )"
   ]
  },
  {
   "cell_type": "code",
   "execution_count": 161,
   "metadata": {},
   "outputs": [
    {
     "name": "stdout",
     "output_type": "stream",
     "text": [
      "Regularized training accuracy was 93.87%\n"
     ]
    },
    {
     "data": {
      "image/png": "[encoded data removed]",
      "text/plain": [
       "<matplotlib.figure.Figure at 0x7f3c4c00ce90>"
      ]
     },
     "metadata": {},
     "output_type": "display_data"
    }
   ],
   "source": [
    "data_subset = Neural_Data[var_levels=='V3']\n",
    "categories_subset = categories[var_levels=='V3']\n",
    "\n",
    "cls.fit(data_subset, categories_subset)\n",
    "\n",
    "plt.plot(cls.losses)\n",
    "plt.xlabel('number of iterations')\n",
    "plt.ylabel('Regularized Hinge loss')\n",
    "\n",
    "preds = cls.predict(data_subset)\n",
    "acc = (preds == categories_subset).sum()\n",
    "pct = acc / float(len(preds)) * 100\n",
    "\n",
    "print('Regularized training accuracy was %.2f%%' % pct)\n",
    "\n",
    "#unsuprisingly training accuracy goes down a bit with regularization\n",
    "#compared to before w/o regularization"
   ]
  },
  {
   "cell_type": "markdown",
   "metadata": {},
   "source": [
    "### Integrating with cross validation tools"
   ]
  },
  {
   "cell_type": "code",
   "execution_count": 163,
   "metadata": {
    "collapsed": true
   },
   "outputs": [],
   "source": [
    "import cross_validation as cv"
   ]
  },
  {
   "cell_type": "code",
   "execution_count": 164,
   "metadata": {
    "collapsed": true
   },
   "outputs": [],
   "source": [
    "meta_array = np.core.records.fromarrays(Ventral_Dataset['image_meta'].values(),\n",
    "                                        names=Ventral_Dataset['image_meta'].keys())"
   ]
  },
  {
   "cell_type": "code",
   "execution_count": 165,
   "metadata": {
    "collapsed": true
   },
   "outputs": [],
   "source": [
    "#the whole point of creating the TF_OVA_Classifier above\n",
    "#was that we could simply stick it into the cross-validation regime\n",
    "#that we'd previously set up for scikit-learn style classifiers\n",
    "#so now let's test it out\n",
    "\n",
    "#create some train/test splits\n",
    "splits = cv.get_splits(meta_array, \n",
    "              lambda x: x['object_name'],  #we're balancing splits by object\n",
    "              5,  \n",
    "              5,  \n",
    "              35,  \n",
    "              train_filter=lambda x: (x['variation_level'] == 'V3'),\n",
    "              test_filter=lambda x: (x['variation_level'] == 'V3'),)\n",
    "    \n",
    "    \n",
    "#here are the arguments to the classifier\n",
    "model_args = {'model_func': linear_classifier,\n",
    "              'loss_func': hinge_loss_l2reg, \n",
    "              'loss_kwargs': {'C':5e-2, #<-- a good regularization value\n",
    "                             },   \n",
    "              'batch_size': 2500,\n",
    "              'train_iterations': 1000,  #<-- about the right number of steps\n",
    "              'train_shuffle': True,\n",
    "              'optimizer_class':tf.train.MomentumOptimizer,\n",
    "              'optimizer_kwargs': {'learning_rate':.1,\n",
    "                                   'momentum': 0.9},\n",
    "              'sess': sess}\n",
    "\n",
    "#so now it should work just like before\n",
    "res = cv.train_and_test_scikit_classifier(features=Neural_Data,\n",
    "                                       labels=categories,\n",
    "                                       splits=splits,\n",
    "                                       model_class=TF_OVA_Classifier,\n",
    "                                       model_args=model_args)\n"
   ]
  },
  {
   "cell_type": "code",
   "execution_count": 166,
   "metadata": {},
   "outputs": [
    {
     "data": {
      "text/plain": [
       "0.85875000000000001"
      ]
     },
     "execution_count": 166,
     "metadata": {},
     "output_type": "execute_result"
    }
   ],
   "source": [
    "#yep!\n",
    "res[0]['test']['mean_accuracy']"
   ]
  },
  {
   "cell_type": "code",
   "execution_count": 167,
   "metadata": {
    "collapsed": true
   },
   "outputs": [],
   "source": [
    "#### Logistic Regression with Softmax loss "
   ]
  },
  {
   "cell_type": "code",
   "execution_count": 168,
   "metadata": {
    "collapsed": true
   },
   "outputs": [],
   "source": [
    "def softmax_loss_l2reg(margins, C):\n",
    "    \"\"\"this shows how to write softmax logistic regression \n",
    "       using tensorflow\n",
    "    \"\"\"\n",
    "    num_classes = margins.shape.as_list()[1]\n",
    "    category_labels = tf.placeholder(shape=(None, num_classes),\n",
    "                                     dtype=tf.float32, \n",
    "                                     name='labels')\n",
    "    \n",
    "    #get the softmax from the margins\n",
    "    probs = tf.nn.softmax(margins) \n",
    "    #extract just the prob value for the correct category\n",
    "    #(we have the (cats + 1)/2 thing because the category_labels\n",
    "    #come in as {-1, +1} values but we need {0,1} for this purpose)\n",
    "    probs_cat_vec = probs * ((category_labels + 1.) / 2.)\n",
    "    #sum up over categories (actually only one term, that for\n",
    "    #the correct category, contributes on each row)\n",
    "    probs_cat = tf.reduce_mean(probs_cat_vec, axis=1)\n",
    "    #-log \n",
    "    neglogprob = -tf.log(probs_cat)\n",
    "    #average over the batch\n",
    "    log_loss = tf.reduce_mean(neglogprob)\n",
    "    \n",
    "    weights = cls.model.op.inputs[0].op.inputs[1]\n",
    "    reg_loss = 0.5*tf.reduce_mean(tf.square(weights)) \n",
    "    \n",
    "    total_loss = C * log_loss + reg_loss\n",
    "    return total_loss, category_labels"
   ]
  },
  {
   "cell_type": "code",
   "execution_count": 169,
   "metadata": {
    "collapsed": true
   },
   "outputs": [],
   "source": [
    "model_args={'model_func': linear_classifier,\n",
    "            'model_kwargs': {},\n",
    "            'loss_func': softmax_loss_l2reg, \n",
    "            'loss_kwargs': {'C': 5e-3},\n",
    "            'batch_size': 2500,\n",
    "            'train_iterations': 1000,\n",
    "            'train_shuffle': True,\n",
    "            'optimizer_class':tf.train.MomentumOptimizer,\n",
    "            'optimizer_kwargs': {'learning_rate': 1.,\n",
    "                                 'momentum': 0.9\n",
    "                                 },\n",
    "            'sess': sess}\n",
    "\n",
    "res = cv.train_and_test_scikit_classifier(features=Neural_Data,\n",
    "                                       labels=categories,\n",
    "                                       splits=splits,\n",
    "                                       model_class=TF_OVA_Classifier,\n",
    "                                       model_args=model_args)\n"
   ]
  },
  {
   "cell_type": "code",
   "execution_count": 170,
   "metadata": {},
   "outputs": [
    {
     "data": {
      "text/plain": [
       "0.85437499999999988"
      ]
     },
     "execution_count": 170,
     "metadata": {},
     "output_type": "execute_result"
    }
   ],
   "source": [
    "res[0]['test']['mean_accuracy']\n",
    "#ok works reasonably well"
   ]
  },
  {
   "cell_type": "code",
   "execution_count": null,
   "metadata": {
    "collapsed": true
   },
   "outputs": [],
   "source": []
  }
 ],
 "metadata": {
  "kernelspec": {
   "display_name": "Python 3",
   "language": "python",
   "name": "python3"
  },
  "language_info": {
   "codemirror_mode": {
    "name": "ipython",
    "version": 3
   },
   "file_extension": ".py",
   "mimetype": "text/x-python",
   "name": "python",
   "nbconvert_exporter": "python",
   "pygments_lexer": "ipython3",
   "version": "3.7.3"
  }
 },
 "nbformat": 4,
 "nbformat_minor": 2
}
