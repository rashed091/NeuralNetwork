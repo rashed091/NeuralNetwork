{
 "cells": [
  {
   "cell_type": "code",
   "execution_count": 1,
   "metadata": {},
   "outputs": [],
   "source": [
    "%matplotlib inline \n",
    "import matplotlib.pyplot as plt\n",
    "import pymongo as pm\n",
    "import numpy as np\n",
    "\n",
    "x = np.linspace(-2, 2, 101)[np.random.RandomState(0).permutation(101)]\n",
    "y = x ** 3 - 1"
   ]
  },
  {
   "cell_type": "markdown",
   "metadata": {},
   "source": [
    "### 1.) Insert x and y into the database \"tasks\", collection \"polyfunction\" on host \"localhost\", port \"24444\", read it out again in sorted order print \"x\" and plot \"y\""
   ]
  },
  {
   "cell_type": "code",
   "execution_count": 2,
   "metadata": {
    "scrolled": true
   },
   "outputs": [
    {
     "data": {
      "text/plain": [
       "<pymongo.results.InsertManyResult at 0x7fc37c2c0230>"
      ]
     },
     "execution_count": 2,
     "metadata": {},
     "output_type": "execute_result"
    }
   ],
   "source": [
    "port = 24444\n",
    "host = 'localhost'\n",
    "connection = pm.MongoClient(port = port, host = host)\n",
    "\n",
    "entries = []\n",
    "for i in range(101):\n",
    "    entries.append({'x': x[i], 'y': y[i]})\n",
    "connection['tasks']['polyfunction'].insert_many(entries)"
   ]
  },
  {
   "cell_type": "code",
   "execution_count": 3,
   "metadata": {},
   "outputs": [
    {
     "name": "stdout",
     "output_type": "stream",
     "text": [
      "[-2.0, -2.0, -1.96, -1.96, -1.92, -1.92, -1.88, -1.88, -1.84, -1.84, -1.8, -1.8, -1.76, -1.76, -1.72, -1.72, -1.68, -1.68, -1.6400000000000001, -1.6400000000000001, -1.6, -1.6, -1.56, -1.56, -1.52, -1.52, -1.48, -1.48, -1.44, -1.44, -1.4, -1.4, -1.3599999999999999, -1.3599999999999999, -1.3199999999999998, -1.3199999999999998, -1.28, -1.28, -1.24, -1.24, -1.2, -1.2, -1.1600000000000001, -1.1600000000000001, -1.12, -1.12, -1.08, -1.08, -1.04, -1.04, -1.0, -1.0, -0.96, -0.96, -0.9199999999999999, -0.9199999999999999, -0.8799999999999999, -0.8799999999999999, -0.8400000000000001, -0.8400000000000001, -0.8, -0.8, -0.76, -0.76, -0.72, -0.72, -0.6799999999999999, -0.6799999999999999, -0.6399999999999999, -0.6399999999999999, -0.5999999999999999, -0.5999999999999999, -0.56, -0.56, -0.52, -0.52, -0.48, -0.48, -0.43999999999999995, -0.43999999999999995, -0.3999999999999999, -0.3999999999999999, -0.3599999999999999, -0.3599999999999999, -0.32000000000000006, -0.32000000000000006, -0.28, -0.28, -0.24, -0.24, -0.19999999999999996, -0.19999999999999996, -0.15999999999999992, -0.15999999999999992, -0.11999999999999988, -0.11999999999999988, -0.08000000000000007, -0.08000000000000007, -0.040000000000000036, -0.040000000000000036, 0.0, 0.0, 0.040000000000000036, 0.040000000000000036, 0.08000000000000007, 0.08000000000000007, 0.1200000000000001, 0.1200000000000001, 0.16000000000000014, 0.16000000000000014, 0.20000000000000018, 0.20000000000000018, 0.2400000000000002, 0.2400000000000002, 0.28000000000000025, 0.28000000000000025, 0.31999999999999984, 0.31999999999999984, 0.3599999999999999, 0.3599999999999999, 0.3999999999999999, 0.3999999999999999, 0.43999999999999995, 0.43999999999999995, 0.48, 0.48, 0.52, 0.52, 0.56, 0.56, 0.6000000000000001, 0.6000000000000001, 0.6400000000000001, 0.6400000000000001, 0.6800000000000002, 0.6800000000000002, 0.7200000000000002, 0.7200000000000002, 0.7600000000000002, 0.7600000000000002, 0.8000000000000003, 0.8000000000000003, 0.8399999999999999, 0.8399999999999999, 0.8799999999999999, 0.8799999999999999, 0.9199999999999999, 0.9199999999999999, 0.96, 0.96, 1.0, 1.0, 1.04, 1.04, 1.08, 1.08, 1.12, 1.12, 1.1600000000000001, 1.1600000000000001, 1.2000000000000002, 1.2000000000000002, 1.2400000000000002, 1.2400000000000002, 1.2800000000000002, 1.2800000000000002, 1.3200000000000003, 1.3200000000000003, 1.3599999999999999, 1.3599999999999999, 1.4, 1.4, 1.44, 1.44, 1.48, 1.48, 1.52, 1.52, 1.56, 1.56, 1.6, 1.6, 1.6400000000000001, 1.6400000000000001, 1.6800000000000002, 1.6800000000000002, 1.7200000000000002, 1.7200000000000002, 1.7600000000000002, 1.7600000000000002, 1.8000000000000003, 1.8000000000000003, 1.8399999999999999, 1.8399999999999999, 1.88, 1.88, 1.92, 1.92, 1.96, 1.96, 2.0, 2.0]\n"
     ]
    },
    {
     "data": {
      "image/png": "[encoded data removed]",
      "text/plain": [
       "<matplotlib.figure.Figure at 0x7fc3f99b3f10>"
      ]
     },
     "metadata": {},
     "output_type": "display_data"
    }
   ],
   "source": [
    "entries = connection['tasks']['polyfunction'].find({'x': {'$exists' : True}}, projection=['x', 'y']).sort([('x',pm.ASCENDING)])\n",
    "x = [entry['x'] for entry in entries]\n",
    "print(x)\n",
    "entries = connection['tasks']['polyfunction'].find({'x': {'$exists' : True}}, projection=['x', 'y']).sort([('x',pm.ASCENDING)])\n",
    "y = [entry['y'] for entry in entries]\n",
    "plt.plot(x,y)\n",
    "plt.grid()"
   ]
  },
  {
   "cell_type": "markdown",
   "metadata": {},
   "source": [
    "### 2.) Run the script below which trains a MLP for the 10-way MNIST classification task "
   ]
  },
  {
   "cell_type": "code",
   "execution_count": 4,
   "metadata": {},
   "outputs": [
    {
     "name": "stderr",
     "output_type": "stream",
     "text": [
      "INFO:tfutils:No seed specified for model 0... Defaulting to seed: 0.\n",
      "INFO:tfutils:No prefix specified for model 0... Defaulting to prefix: model_0.\n",
      "INFO:tfutils:No devices specified for model 0... Defaulting to gpus: ['/gpu:0'].\n",
      "INFO:tfutils:thres_loss not specified for model 0... Defaulting thres_loss to: 100.\n",
      "INFO:tfutils:train_loop not specified for model 0... Using default training loop.\n",
      "INFO:tfutils:validate_fist not specified for model 0... Defaulting validate_first to: True.\n",
      "INFO:tfutils:minibatch_size not specified for training data_params... Defaulting minibatch_size to: 256 (identical to the batch size).\n"
     ]
    },
    {
     "name": "stdout",
     "output_type": "stream",
     "text": [
      "Extracting /tmp/train-images-idx3-ubyte.gz\n",
      "Extracting /tmp/train-labels-idx1-ubyte.gz\n",
      "Extracting /tmp/t10k-images-idx3-ubyte.gz\n",
      "Extracting /tmp/t10k-labels-idx1-ubyte.gz\n"
     ]
    },
    {
     "name": "stderr",
     "output_type": "stream",
     "text": [
      "INFO:tfutils:Initialized from scratch first\n",
      "WARNING:tfutils:Skipping version check and info...\n",
      "INFO:tfutils:Training beginning ...\n",
      "INFO:tfutils:Saving model with path prefix /home/mrowca/.tfutils/localhost:24444/mnist/simple/exp1/checkpoint ... \n"
     ]
    },
    {
     "name": "stdout",
     "output_type": "stream",
     "text": [
      "mnist/b2/Momentum\n",
      "global_step\n",
      "mnist/W1/Momentum\n",
      "Variable_5\n",
      "mnist/b3/Momentum\n",
      "mnist/W3/Momentum\n",
      "mnist/b1\n",
      "mnist/b2\n",
      "mnist/b3\n",
      "Variable_3\n",
      "Variable_2\n",
      "Variable_1\n",
      "mnist/W2/Momentum\n",
      "Variable\n",
      "Variable_4\n",
      "mnist/b1/Momentum\n",
      "mnist/W3\n",
      "mnist/W2\n",
      "mnist/W1\n"
     ]
    },
    {
     "name": "stderr",
     "output_type": "stream",
     "text": [
      "INFO:tfutils:... done saving with path prefix /home/mrowca/.tfutils/localhost:24444/mnist/simple/exp1/checkpoint-0\n",
      "INFO:tfutils:Putting filters into <gridfs.GridFS object at 0x7fc3e1dc0750> database\n",
      "INFO:tfutils:... done putting filters into database.\n",
      "INFO:tfutils:Step 1 (1045 ms) -- loss: 2.3336, learning_rate: 0.5000\n",
      "INFO:tfutils:Step 2 (162 ms) -- loss: 2.3157, learning_rate: 0.5000\n",
      "INFO:tfutils:Step 3 (67 ms) -- loss: 2.2865, learning_rate: 0.5000\n",
      "INFO:tfutils:Step 4 (7 ms) -- loss: 2.3179, learning_rate: 0.5000\n",
      "INFO:tfutils:Step 5 (15 ms) -- loss: 2.3315, learning_rate: 0.5000\n",
      "INFO:tfutils:Step 6 (7 ms) -- loss: 2.2947, learning_rate: 0.5000\n",
      "INFO:tfutils:Step 7 (60 ms) -- loss: 2.2632, learning_rate: 0.5000\n",
      "INFO:tfutils:Step 8 (9 ms) -- loss: 2.2829, learning_rate: 0.5000\n",
      "INFO:tfutils:Step 9 (44 ms) -- loss: 2.2809, learning_rate: 0.5000\n",
      "INFO:tfutils:Step 10 (127 ms) -- loss: 2.2501, learning_rate: 0.5000\n",
      "INFO:tfutils:Step 11 (7 ms) -- loss: 2.1887, learning_rate: 0.5000\n",
      "INFO:tfutils:Step 12 (57 ms) -- loss: 2.1364, learning_rate: 0.5000\n",
      "INFO:tfutils:Step 13 (8 ms) -- loss: 2.1501, learning_rate: 0.5000\n",
      "INFO:tfutils:Step 14 (49 ms) -- loss: 2.1132, learning_rate: 0.5000\n",
      "INFO:tfutils:Step 15 (9 ms) -- loss: 2.0760, learning_rate: 0.5000\n",
      "INFO:tfutils:Step 16 (67 ms) -- loss: 1.9810, learning_rate: 0.5000\n",
      "INFO:tfutils:Step 17 (40 ms) -- loss: 2.0395, learning_rate: 0.5000\n",
      "INFO:tfutils:Step 18 (8 ms) -- loss: 1.8932, learning_rate: 0.5000\n",
      "INFO:tfutils:Step 19 (53 ms) -- loss: 1.7787, learning_rate: 0.5000\n",
      "INFO:tfutils:Step 20 (50 ms) -- loss: 1.6833, learning_rate: 0.5000\n",
      "INFO:tfutils:Step 21 (14 ms) -- loss: 1.5864, learning_rate: 0.5000\n",
      "INFO:tfutils:Step 22 (9 ms) -- loss: 1.5510, learning_rate: 0.5000\n",
      "INFO:tfutils:Step 23 (42 ms) -- loss: 1.4746, learning_rate: 0.5000\n",
      "INFO:tfutils:Step 24 (10 ms) -- loss: 1.3281, learning_rate: 0.5000\n",
      "INFO:tfutils:Step 25 (43 ms) -- loss: 1.3633, learning_rate: 0.5000\n",
      "INFO:tfutils:Step 26 (61 ms) -- loss: 1.2305, learning_rate: 0.5000\n",
      "INFO:tfutils:Step 27 (11 ms) -- loss: 1.2406, learning_rate: 0.5000\n",
      "INFO:tfutils:Step 28 (61 ms) -- loss: 1.1504, learning_rate: 0.5000\n",
      "INFO:tfutils:Step 29 (23 ms) -- loss: 1.0898, learning_rate: 0.5000\n",
      "INFO:tfutils:Step 30 (7 ms) -- loss: 1.0724, learning_rate: 0.5000\n",
      "INFO:tfutils:Step 31 (8 ms) -- loss: 1.0774, learning_rate: 0.5000\n",
      "INFO:tfutils:Step 32 (40 ms) -- loss: 1.0082, learning_rate: 0.5000\n",
      "INFO:tfutils:Step 33 (48 ms) -- loss: 0.9849, learning_rate: 0.5000\n",
      "INFO:tfutils:Step 34 (9 ms) -- loss: 0.8894, learning_rate: 0.5000\n",
      "INFO:tfutils:Step 35 (29 ms) -- loss: 0.7975, learning_rate: 0.5000\n",
      "INFO:tfutils:Step 36 (16 ms) -- loss: 0.8746, learning_rate: 0.5000\n",
      "INFO:tfutils:Step 37 (51 ms) -- loss: 0.8725, learning_rate: 0.5000\n",
      "INFO:tfutils:Step 38 (6 ms) -- loss: 0.8897, learning_rate: 0.5000\n",
      "INFO:tfutils:Step 39 (12 ms) -- loss: 0.7192, learning_rate: 0.5000\n",
      "INFO:tfutils:Step 40 (9 ms) -- loss: 0.7168, learning_rate: 0.5000\n",
      "INFO:tfutils:Step 41 (7 ms) -- loss: 0.6343, learning_rate: 0.5000\n",
      "INFO:tfutils:Step 42 (16 ms) -- loss: 0.6681, learning_rate: 0.5000\n",
      "INFO:tfutils:Step 43 (43 ms) -- loss: 0.6656, learning_rate: 0.5000\n",
      "INFO:tfutils:Step 44 (7 ms) -- loss: 0.6070, learning_rate: 0.5000\n",
      "INFO:tfutils:Step 45 (8 ms) -- loss: 0.6312, learning_rate: 0.5000\n",
      "INFO:tfutils:Step 46 (8 ms) -- loss: 0.6700, learning_rate: 0.5000\n",
      "INFO:tfutils:Step 47 (9 ms) -- loss: 0.6591, learning_rate: 0.5000\n",
      "INFO:tfutils:Step 48 (8 ms) -- loss: 0.4785, learning_rate: 0.5000\n",
      "INFO:tfutils:Step 49 (8 ms) -- loss: 0.6386, learning_rate: 0.5000\n",
      "INFO:tfutils:Step 50 (9 ms) -- loss: 0.5528, learning_rate: 0.5000\n",
      "INFO:tfutils:Step 51 (8 ms) -- loss: 0.5473, learning_rate: 0.5000\n",
      "INFO:tfutils:Step 52 (9 ms) -- loss: 0.4909, learning_rate: 0.5000\n",
      "INFO:tfutils:Step 53 (10 ms) -- loss: 0.4616, learning_rate: 0.5000\n",
      "INFO:tfutils:Step 54 (46 ms) -- loss: 0.3895, learning_rate: 0.5000\n",
      "INFO:tfutils:Step 55 (8 ms) -- loss: 0.4834, learning_rate: 0.5000\n",
      "INFO:tfutils:Step 56 (8 ms) -- loss: 0.4587, learning_rate: 0.5000\n",
      "INFO:tfutils:Step 57 (95 ms) -- loss: 0.4177, learning_rate: 0.5000\n",
      "INFO:tfutils:Step 58 (10 ms) -- loss: 0.4820, learning_rate: 0.5000\n",
      "INFO:tfutils:Step 59 (9 ms) -- loss: 0.4258, learning_rate: 0.5000\n",
      "INFO:tfutils:Step 60 (12 ms) -- loss: 0.4408, learning_rate: 0.5000\n",
      "INFO:tfutils:Step 61 (7 ms) -- loss: 0.4623, learning_rate: 0.5000\n",
      "INFO:tfutils:Step 62 (7 ms) -- loss: 0.5384, learning_rate: 0.5000\n",
      "INFO:tfutils:Step 63 (10 ms) -- loss: 0.3793, learning_rate: 0.5000\n",
      "INFO:tfutils:Step 64 (18 ms) -- loss: 0.4432, learning_rate: 0.5000\n",
      "INFO:tfutils:Step 65 (6 ms) -- loss: 0.3482, learning_rate: 0.5000\n",
      "INFO:tfutils:Step 66 (12 ms) -- loss: 0.3677, learning_rate: 0.5000\n",
      "INFO:tfutils:Step 67 (6 ms) -- loss: 0.4312, learning_rate: 0.5000\n",
      "INFO:tfutils:Step 68 (8 ms) -- loss: 0.4798, learning_rate: 0.5000\n",
      "INFO:tfutils:Step 69 (98 ms) -- loss: 0.4989, learning_rate: 0.5000\n",
      "INFO:tfutils:Step 70 (8 ms) -- loss: 0.4585, learning_rate: 0.5000\n",
      "INFO:tfutils:Step 71 (59 ms) -- loss: 0.3968, learning_rate: 0.5000\n",
      "INFO:tfutils:Step 72 (9 ms) -- loss: 0.3976, learning_rate: 0.5000\n",
      "INFO:tfutils:Step 73 (8 ms) -- loss: 0.3959, learning_rate: 0.5000\n",
      "INFO:tfutils:Step 74 (7 ms) -- loss: 0.4078, learning_rate: 0.5000\n",
      "INFO:tfutils:Step 75 (8 ms) -- loss: 0.4575, learning_rate: 0.5000\n",
      "INFO:tfutils:Step 76 (110 ms) -- loss: 0.3974, learning_rate: 0.5000\n",
      "INFO:tfutils:Step 77 (29 ms) -- loss: 0.3920, learning_rate: 0.5000\n",
      "INFO:tfutils:Step 78 (9 ms) -- loss: 0.4877, learning_rate: 0.5000\n",
      "INFO:tfutils:Step 79 (9 ms) -- loss: 0.4009, learning_rate: 0.5000\n",
      "INFO:tfutils:Step 80 (9 ms) -- loss: 0.3719, learning_rate: 0.5000\n",
      "INFO:tfutils:Step 81 (9 ms) -- loss: 0.3367, learning_rate: 0.5000\n",
      "INFO:tfutils:Step 82 (11 ms) -- loss: 0.2894, learning_rate: 0.5000\n",
      "INFO:tfutils:Step 83 (10 ms) -- loss: 0.3872, learning_rate: 0.5000\n",
      "INFO:tfutils:Step 84 (10 ms) -- loss: 0.5510, learning_rate: 0.5000\n",
      "INFO:tfutils:Step 85 (17 ms) -- loss: 0.4946, learning_rate: 0.5000\n",
      "INFO:tfutils:Step 86 (8 ms) -- loss: 0.4263, learning_rate: 0.5000\n",
      "INFO:tfutils:Step 87 (7 ms) -- loss: 0.4969, learning_rate: 0.5000\n",
      "INFO:tfutils:Step 88 (27 ms) -- loss: 0.2943, learning_rate: 0.5000\n",
      "INFO:tfutils:Step 89 (9 ms) -- loss: 0.3714, learning_rate: 0.5000\n",
      "INFO:tfutils:Step 90 (61 ms) -- loss: 0.3918, learning_rate: 0.5000\n",
      "INFO:tfutils:Step 91 (9 ms) -- loss: 0.3575, learning_rate: 0.5000\n",
      "INFO:tfutils:Step 92 (33 ms) -- loss: 0.4647, learning_rate: 0.5000\n",
      "INFO:tfutils:Step 93 (40 ms) -- loss: 0.3187, learning_rate: 0.5000\n",
      "INFO:tfutils:Step 94 (10 ms) -- loss: 0.4479, learning_rate: 0.5000\n",
      "INFO:tfutils:Step 95 (8 ms) -- loss: 0.3397, learning_rate: 0.5000\n",
      "INFO:tfutils:Step 96 (10 ms) -- loss: 0.3222, learning_rate: 0.5000\n",
      "INFO:tfutils:Step 97 (9 ms) -- loss: 0.4387, learning_rate: 0.5000\n",
      "INFO:tfutils:Step 98 (10 ms) -- loss: 0.3997, learning_rate: 0.5000\n",
      "INFO:tfutils:Step 99 (34 ms) -- loss: 0.4144, learning_rate: 0.5000\n",
      "INFO:tfutils:Step 100 (8 ms) -- loss: 0.3831, learning_rate: 0.5000\n",
      "INFO:tfutils:Saving model with path prefix /home/mrowca/.tfutils/localhost:24444/mnist/simple/exp1/checkpoint ... \n",
      "INFO:tfutils:... done saving with path prefix /home/mrowca/.tfutils/localhost:24444/mnist/simple/exp1/checkpoint-100\n",
      "INFO:tfutils:Putting filters into <gridfs.GridFS object at 0x7fc3e1dc0750> database\n",
      "INFO:tfutils:... done putting filters into database.\n"
     ]
    },
    {
     "data": {
      "text/plain": [
       "[[ObjectId('59dd49581742f9997ce35a8f'), ObjectId('59dd495c1742f9997ce35a95')]]"
      ]
     },
     "execution_count": 4,
     "metadata": {},
     "output_type": "execute_result"
    }
   ],
   "source": [
    "import tensorflow as tf\n",
    "from __future__ import division\n",
    "from tfutils import base, data, optimizer, utils\n",
    "\n",
    "# delete exp1\n",
    "connection['mnist']['simple.files'].delete_many({'exp_id' : 'exp1'})\n",
    "\n",
    "def mnist_model(inputs, train=True, **kwargs):\n",
    "    # trainable variables randomly initialized\n",
    "    with tf.variable_scope(\"mnist\"):\n",
    "        W1 = tf.get_variable('W1', [784,128], tf.float32, tf.random_normal_initializer(stddev=0.1))\n",
    "        b1 = tf.get_variable('b1', [128], tf.float32, tf.random_normal_initializer(stddev=0.1))\n",
    "        W2 = tf.get_variable('W2', [128,32], tf.float32, tf.random_normal_initializer(stddev=0.1))\n",
    "        b2 = tf.get_variable('b2', [32], tf.float32, tf.random_normal_initializer(stddev=0.1))\n",
    "        W3 = tf.get_variable('W3', [32,10], tf.float32, tf.random_normal_initializer(stddev=0.1))\n",
    "        b3 = tf.get_variable('b3', [10], tf.float32, tf.random_normal_initializer(stddev=0.1))\n",
    "        \n",
    "        # hidden layers\n",
    "        h1 = tf.nn.sigmoid(tf.matmul(inputs['images'], W1) + b1, name='hidden1')\n",
    "        h2 = tf.nn.sigmoid(tf.matmul(h1, W2) + b2, name='hidden2')\n",
    "        # output\n",
    "        output = tf.matmul(h2, W3) + b3\n",
    "\n",
    "    return output, {}\n",
    "\n",
    "params = {}\n",
    "\n",
    "params['load_params'] = {\n",
    "    'do_restore': False}\n",
    "\n",
    "params['save_params'] = {\n",
    "    'host': 'localhost',\n",
    "    'port': 24444,\n",
    "    'dbname': 'mnist',\n",
    "    'collname': 'simple',\n",
    "    'exp_id': 'exp1',\n",
    "    'save_valid_freq': 200,\n",
    "    'save_filters_freq': 100,\n",
    "    'cache_filters_freq': 100}\n",
    "\n",
    "params['train_params'] = {\n",
    "    'data_params': {'func': data.MNIST,\n",
    "                    'batch_size': 256,\n",
    "                    'group': 'train',\n",
    "                    'n_threads': 1},\n",
    "    'queue_params': {'queue_type': 'random',\n",
    "                     'batch_size': 256},\n",
    "    'num_steps': 100}\n",
    "\n",
    "params['model_params'] = {\n",
    "    'func': mnist_model} \n",
    "\n",
    "params['learning_rate_params'] = {\n",
    "    'learning_rate': 0.5,\n",
    "    'decay_steps': 500,\n",
    "    'decay_rate': 0.95,\n",
    "    'staircase': True}\n",
    "\n",
    "params['optimizer_params'] = {\n",
    "    'func': optimizer.ClipOptimizer,\n",
    "    'optimizer_class': tf.train.MomentumOptimizer,\n",
    "    'momentum': 0.9,\n",
    "    'clip': True,\n",
    "}\n",
    "\n",
    "params['loss_params'] = {\n",
    "    'targets': ['labels'],\n",
    "    'loss_per_case_func': tf.nn.sparse_softmax_cross_entropy_with_logits,\n",
    "    'agg_func': tf.reduce_mean\n",
    "}\n",
    "\n",
    "params['skip_check'] = True\n",
    "\n",
    "base.train_from_params(**params)"
   ]
  },
  {
   "cell_type": "markdown",
   "metadata": {},
   "source": [
    "### 3.) Now let's load the trained model from the database and test it on the validation set using TFUtils. There are 10,000 examples in the MNIST test set.\n",
    "### Fill in the blanks marked with EDIT!"
   ]
  },
  {
   "cell_type": "code",
   "execution_count": 5,
   "metadata": {},
   "outputs": [
    {
     "name": "stderr",
     "output_type": "stream",
     "text": [
      "INFO:tfutils:No seed specified for model 0... Defaulting to seed: 0.\n",
      "INFO:tfutils:No prefix specified for model 0... Defaulting to prefix: model_0.\n",
      "INFO:tfutils:No devices specified for model 0... Defaulting to gpus: ['/gpu:0'].\n",
      "INFO:tfutils:Initialized from scratch first\n",
      "WARNING:tfutils:Skipping version check and info...\n",
      "INFO:tfutils:Loading checkpoint from mnist.simple.files\n",
      "INFO:tfutils:Cache file found at /home/mrowca/.tfutils/localhost:24444/mnist/simple/exp1/checkpoint-100, using that to load\n"
     ]
    },
    {
     "name": "stdout",
     "output_type": "stream",
     "text": [
      "Extracting /tmp/train-images-idx3-ubyte.gz\n",
      "Extracting /tmp/train-labels-idx1-ubyte.gz\n",
      "Extracting /tmp/t10k-images-idx3-ubyte.gz\n",
      "Extracting /tmp/t10k-labels-idx1-ubyte.gz\n"
     ]
    },
    {
     "name": "stderr",
     "output_type": "stream",
     "text": [
      "WARNING:tfutils:Skipping version check and info...\n",
      "INFO:tfutils:Loading checkpoint from mnist.simple.files\n",
      "INFO:tfutils:Cache file found at /home/mrowca/.tfutils/localhost:24444/mnist/simple/exp1/checkpoint-100, using that to load\n",
      "INFO:tfutils:Restoring variables from record 59dd495c1742f9997ce35a95 (step 100)...\n",
      "INFO:tfutils:Saved Vars:\n",
      "['global_step', 'mnist/W1/Momentum', 'mnist/b3/Momentum', 'mnist/b2', 'mnist/W3/Momentum', 'mnist/b1', 'Variable_5', 'mnist/b3', 'Variable_3', 'mnist/W1', 'Variable_1', 'mnist/W2/Momentum', 'Variable', 'Variable_4', 'mnist/b1/Momentum', 'mnist/W3', 'mnist/W2', 'mnist/b2/Momentum', 'Variable_2']\n",
      "INFO:tfutils:No variable mapping specified.\n",
      "INFO:tfutils:Saved shapes:\n",
      "{'Variable_4': [32, 10], 'global_step': [], 'mnist/W1/Momentum': [784, 128], 'mnist/b3/Momentum': [10], 'mnist/W3/Momentum': [32, 10], 'mnist/b1': [128], 'mnist/b2': [32], 'mnist/b3': [10], 'Variable_3': [32], 'mnist/b2/Momentum': [32], 'Variable_1': [128], 'mnist/W2/Momentum': [128, 32], 'Variable': [784, 128], 'Variable_5': [10], 'mnist/b1/Momentum': [128], 'mnist/W3': [32, 10], 'mnist/W2': [128, 32], 'mnist/W1': [784, 128], 'Variable_2': [128, 32]}\n",
      "INFO:tfutils:Restored Vars:\n",
      "[u'mnist/b1', u'mnist/b2', u'mnist/b3', u'mnist/W3', u'mnist/W2', u'mnist/W1']\n",
      "INFO:tfutils:... done restoring.\n",
      "INFO:tfutils:Unrestored Vars:\n",
      "[]\n",
      "valid0: 100%|██████████| 100/100 [00:00<00:00, 585.26it/s]\n",
      "INFO:tfutils:Validation -- valid0: {}\n",
      "INFO:tfutils:Inserting record into database.\n"
     ]
    },
    {
     "name": "stdout",
     "output_type": "stream",
     "text": [
      "[0.8934]\n"
     ]
    }
   ],
   "source": [
    "def top1_func(inputs, outputs): \n",
    "    return {'top1': tf.nn.in_top_k(outputs, inputs['labels'], 1)}\n",
    "\n",
    "def online_agg(agg_res, res, step):\n",
    "    \"\"\"\n",
    "    Appends the value for each key\n",
    "    \"\"\"\n",
    "    if agg_res is None:\n",
    "        agg_res = {k: [] for k in res}\n",
    "    for k, v in res.items():\n",
    "        agg_res[k].append(v)\n",
    "    return agg_res\n",
    "\n",
    "def agg_mean(x):\n",
    "    return {k: np.mean(v) for k, v in x.items()}\n",
    "\n",
    "params = {}\n",
    "\n",
    "params['load_params'] = {\n",
    "    'host': 'localhost',\n",
    "    'port': 24444,\n",
    "    'dbname': 'mnist',\n",
    "    'collname': 'simple',\n",
    "    'exp_id': 'exp1',\n",
    "    'do_restore': True}\n",
    "\n",
    "params['validation_params'] = {'valid0': {\n",
    "    'data_params': {'func': data.MNIST,\n",
    "                    'batch_size': 100,\n",
    "                    'group': 'test',\n",
    "                    'n_threads': 1},\n",
    "    'queue_params': {'queue_type': 'fifo',\n",
    "                     'batch_size': 100},\n",
    "    'targets': {'func': top1_func},\n",
    "    'num_steps': 100,\n",
    "    'agg_func': agg_mean,\n",
    "    'online_agg_func': online_agg,}}\n",
    "\n",
    "params['model_params'] = {\n",
    "    'func': mnist_model}\n",
    "\n",
    "params['skip_check'] = True\n",
    "\n",
    "base.test_from_params(**params)\n",
    "\n",
    "# Extract record from database\n",
    "q_val = {'exp_id' : 'exp1', 'validation_results' : {'$exists' : True}, 'validates': {'$exists': True}}\n",
    "val_steps = connection['mnist']['simple.files'].find(q_val, projection = ['validation_results'])\n",
    "top1 = [val_steps[i]['validation_results']['valid0']['top1'] \n",
    "        for i in range(val_steps.count())]\n",
    "print(top1)"
   ]
  },
  {
   "cell_type": "markdown",
   "metadata": {},
   "source": [
    "### 4.) Execute the script below to load the meta data"
   ]
  },
  {
   "cell_type": "code",
   "execution_count": 6,
   "metadata": {},
   "outputs": [
    {
     "data": {
      "text/plain": [
       "('obj',\n",
       " 'rxz',\n",
       " 'rxy',\n",
       " 'ryz',\n",
       " 'ty',\n",
       " 'tz',\n",
       " 's',\n",
       " 'bg_id',\n",
       " 'size',\n",
       " 'var',\n",
       " '_id',\n",
       " 'filename',\n",
       " 'id',\n",
       " 'category',\n",
       " 'rxz_semantic',\n",
       " 'rxy_semantic',\n",
       " 'ryz_semantic')"
      ]
     },
     "execution_count": 6,
     "metadata": {},
     "output_type": "execute_result"
    }
   ],
   "source": [
    "#load from tfrecords\n",
    "import cPickle\n",
    "import numpy as np\n",
    "data_path = '/home/mrowca/neural_data.pkl' # CHANGE THIS TO '/datasets/neural_data/neural_data.pkl'\n",
    "with open(data_path) as f:\n",
    "    data = cPickle.load(f)\n",
    "meta = data['meta']\n",
    "IT_features = data['IT']\n",
    "meta.dtype.names"
   ]
  },
  {
   "cell_type": "markdown",
   "metadata": {},
   "source": [
    "### 5.) Select all files with 'Animals' or 'Cars' with a rotation in the xy-plane of more than 45 degrees and print how many there are:"
   ]
  },
  {
   "cell_type": "code",
   "execution_count": 7,
   "metadata": {},
   "outputs": [
    {
     "name": "stdout",
     "output_type": "stream",
     "text": [
      "81\n"
     ]
    }
   ],
   "source": [
    "files = meta[(meta['category'] == 'Cars') & (meta['rxz'] > 45)]['filename']\n",
    "print(len(files))"
   ]
  },
  {
   "cell_type": "markdown",
   "metadata": {},
   "source": [
    "### 6.) Select all objects with 'GORILLA' that either have a variation level of 'V0' or a size 's' bigger 1 or both, and print the object names, their sizes 's' and variation levels as tuples:"
   ]
  },
  {
   "cell_type": "code",
   "execution_count": 8,
   "metadata": {},
   "outputs": [
    {
     "name": "stdout",
     "output_type": "stream",
     "text": [
      "('GORILLA', 1.0, 'V0')\n",
      "('GORILLA', 1.0, 'V0')\n",
      "('GORILLA', 1.0, 'V0')\n",
      "('GORILLA', 1.0, 'V0')\n",
      "('GORILLA', 1.0, 'V0')\n",
      "('GORILLA', 1.0, 'V0')\n",
      "('GORILLA', 1.0, 'V0')\n",
      "('GORILLA', 1.0, 'V0')\n",
      "('GORILLA', 1.0, 'V0')\n",
      "('GORILLA', 1.0, 'V0')\n",
      "('GORILLA', 1.0862499999999999, 'V3')\n",
      "('GORILLA', 1.0374999999999999, 'V3')\n",
      "('GORILLA', 1.0325, 'V3')\n",
      "('GORILLA', 1.1174999999999999, 'V3')\n",
      "('GORILLA', 1.2962499999999999, 'V3')\n",
      "('GORILLA', 1.1012499999999998, 'V3')\n",
      "('GORILLA', 1.17875, 'V3')\n",
      "('GORILLA', 1.22, 'V3')\n",
      "('GORILLA', 1.25, 'V3')\n",
      "('GORILLA', 1.23, 'V3')\n",
      "('GORILLA', 1.1874999999999998, 'V3')\n",
      "('GORILLA', 1.0725, 'V3')\n",
      "('GORILLA', 1.2937499999999997, 'V3')\n",
      "('GORILLA', 1.0499999999999998, 'V3')\n",
      "('GORILLA', 1.17875, 'V3')\n",
      "('GORILLA', 1.1199999999999999, 'V3')\n",
      "('GORILLA', 1.20875, 'V3')\n",
      "('GORILLA', 1.2974999999999999, 'V3')\n",
      "('GORILLA', 1.15625, 'V3')\n",
      "('GORILLA', 1.16875, 'V3')\n",
      "('GORILLA', 1.2849999999999999, 'V3')\n",
      "('GORILLA', 1.2662499999999999, 'V3')\n",
      "('GORILLA', 1.2737499999999997, 'V3')\n",
      "('GORILLA', 1.5674999999999999, 'V6')\n",
      "('GORILLA', 1.45625, 'V6')\n",
      "('GORILLA', 1.3774999999999999, 'V6')\n",
      "('GORILLA', 1.0024999999999999, 'V6')\n",
      "('GORILLA', 1.0225, 'V6')\n",
      "('GORILLA', 1.3512499999999998, 'V6')\n",
      "('GORILLA', 1.48875, 'V6')\n",
      "('GORILLA', 1.2374999999999998, 'V6')\n",
      "('GORILLA', 1.595, 'V6')\n",
      "('GORILLA', 1.5199999999999998, 'V6')\n",
      "('GORILLA', 1.1199999999999999, 'V6')\n",
      "('GORILLA', 1.3300000000000001, 'V6')\n",
      "('GORILLA', 1.4637499999999999, 'V6')\n",
      "('GORILLA', 1.0049999999999999, 'V6')\n",
      "('GORILLA', 1.05375, 'V6')\n",
      "('GORILLA', 1.4224999999999999, 'V6')\n",
      "('GORILLA', 1.0274999999999999, 'V6')\n",
      "('GORILLA', 1.1312499999999999, 'V6')\n",
      "('GORILLA', 1.21, 'V6')\n",
      "('GORILLA', 1.3137499999999998, 'V6')\n",
      "('GORILLA', 1.3387499999999999, 'V6')\n",
      "('GORILLA', 1.5887499999999999, 'V6')\n",
      "('GORILLA', 1.1937499999999999, 'V6')\n",
      "('GORILLA', 1.0712499999999998, 'V6')\n",
      "('GORILLA', 1.4762500000000001, 'V6')\n",
      "('GORILLA', 1.0212499999999998, 'V6')\n",
      "('GORILLA', 1.5649999999999999, 'V6')\n"
     ]
    }
   ],
   "source": [
    "objects = meta[(meta['obj'] == 'GORILLA') & ((meta['var'] == 'V0') | (meta['s'] > 1))]\n",
    "tuples = [(obj['obj'], obj['s'], obj['var']) for obj in objects]\n",
    "for tpl in tuples:\n",
    "    print(tpl)"
   ]
  },
  {
   "cell_type": "markdown",
   "metadata": {},
   "source": [
    "### 7.) Perform a 8-way classification on the categories, using 20 splits, a 'svm.LinearSVC' classifier a 'C' of 5e-3 on variation level 'V0' for train and test.\n",
    "### Fill in the blanks marked with EDIT!"
   ]
  },
  {
   "cell_type": "code",
   "execution_count": 9,
   "metadata": {},
   "outputs": [
    {
     "name": "stdout",
     "output_type": "stream",
     "text": [
      "Can't import separate mcc package\n",
      "Can't import asgd.\n"
     ]
    },
    {
     "name": "stderr",
     "output_type": "stream",
     "text": [
      "/usr/local/lib/python2.7/dist-packages/sklearn/cross_validation.py:44: DeprecationWarning: This module was deprecated in version 0.18 in favor of the model_selection module into which all the refactored classes and functions are moved. Also note that the interface of the new CV iterators are different from that of this module. This module will be removed in 0.20.\n",
      "  \"This module will be removed in 0.20.\", DeprecationWarning)\n",
      "/usr/local/lib/python2.7/dist-packages/sklearn/grid_search.py:43: DeprecationWarning: This module was deprecated in version 0.18 in favor of the model_selection module into which all the refactored classes and functions are moved. This module will be removed in 0.20.\n",
      "  DeprecationWarning)\n",
      "/usr/local/lib/python2.7/dist-packages/sklearn/lda.py:6: DeprecationWarning: lda.LDA has been moved to discriminant_analysis.LinearDiscriminantAnalysis in 0.17 and will be removed in 0.19\n",
      "  \"in 0.17 and will be removed in 0.19\", DeprecationWarning)\n",
      "/usr/local/lib/python2.7/dist-packages/sklearn/qda.py:6: DeprecationWarning: qda.QDA has been moved to discriminant_analysis.QuadraticDiscriminantAnalysis in 0.17 and will be removed in 0.19.\n",
      "  \"in 0.17 and will be removed in 0.19.\", DeprecationWarning)\n"
     ]
    },
    {
     "name": "stdout",
     "output_type": "stream",
     "text": [
      "Overall accuracy of IT features on 8-way classification task: 90.80%\n"
     ]
    }
   ],
   "source": [
    "from dldata.metrics.utils import compute_metric_base\n",
    "# Definition of classification experiment\n",
    "category_eval_spec = {\n",
    "    'npc_train': None,\n",
    "    'npc_test': 2,\n",
    "    'num_splits': 20,\n",
    "    'npc_validate': 0,\n",
    "    'metric_screen': 'classifier',\n",
    "    'metric_labels': None,\n",
    "    'metric_kwargs': {'model_type': 'svm.LinearSVC',\n",
    "                      'model_kwargs': {'C':5e-3}\n",
    "                     },\n",
    "    'labelfunc': 'category',\n",
    "    'train_q': {'var': ['V0']},\n",
    "    'test_q': {'var': ['V0']},\n",
    "    'split_by': 'obj'\n",
    "}\n",
    "# Execute classification experiment\n",
    "res = compute_metric_base(IT_features, meta, category_eval_spec)\n",
    "\n",
    "# Print results\n",
    "print('Overall accuracy of IT features on 8-way classification task: %.2f%%' % \\\n",
    "      ((np.array(res['result_summary']['accbal']).mean(0) - 0.5) * 2.0 * 100.0))"
   ]
  },
  {
   "cell_type": "markdown",
   "metadata": {},
   "source": [
    "### 8.) Plot the confusion matrix"
   ]
  },
  {
   "cell_type": "code",
   "execution_count": 10,
   "metadata": {},
   "outputs": [
    {
     "data": {
      "image/png": "[encoded data removed]",
      "text/plain": [
       "<matplotlib.figure.Figure at 0x7fc3e1fd6850>"
      ]
     },
     "metadata": {},
     "output_type": "display_data"
    }
   ],
   "source": [
    "# Confusion matrix\n",
    "fig = plt.figure(figsize=(8, 8))\n",
    "m = fig.gca().matshow(np.array(res['result_summary']['cms']).mean(2))\n",
    "plt.xticks(range(8), res['result_summary']['labelset'])\n",
    "plt.yticks(range(8), res['result_summary']['labelset'])\n",
    "plt.colorbar(m)\n",
    "plt.title('8-way categorization task - across category confusion matrix')\n",
    "ax = plt.gca()\n",
    "ax.xaxis.tick_bottom()"
   ]
  }
 ],
 "metadata": {
  "kernelspec": {
   "display_name": "Python 2",
   "language": "python",
   "name": "python2"
  },
  "language_info": {
   "codemirror_mode": {
    "name": "ipython",
    "version": 2
   },
   "file_extension": ".py",
   "mimetype": "text/x-python",
   "name": "python",
   "nbconvert_exporter": "python",
   "pygments_lexer": "ipython2",
   "version": "2.7.12"
  }
 },
 "nbformat": 4,
 "nbformat_minor": 2
}
