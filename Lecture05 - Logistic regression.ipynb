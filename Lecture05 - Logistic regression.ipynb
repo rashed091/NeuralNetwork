{
 "cells": [
  {
   "cell_type": "markdown",
   "metadata": {},
   "source": [
    "Let’s now talk about the classification problem. This is just like the regression\n",
    "problem, except that the values $y$ we now want to predict take on only\n",
    "a small number of discrete values. For now, we will focus on the binary\n",
    "classification problem in which y can take on only two values, $0$ and $1$.\n",
    "(Most of what we say here will also generalize to the multiple-class case.)\n",
    "For instance, if we are trying to build a spam classifier for email, then $x^{(i)}$ may be some features of a piece of email, and y may be $1$ if it is a piece\n",
    "of spam mail, and 0 otherwise. $0$ is also called the negative class, and $1$ the positive class, and they are sometimes also denoted by the symbols “$-$” and “$+$.” Given $x^{(i)}$, the corresponding $y^{(i)}$ is also called the label for the training example.\n",
    "\n",
    "\n",
    "We could approach the classification problem ignoring the fact that $y$ is\n",
    "discrete-valued, and use our old linear regression algorithm to try to predict\n",
    "$y$ given $x$. However, it is easy to construct examples where this method\n",
    "performs very poorly. Intuitively, it also doesn’t make sense for $h_{\\theta}(x)$ to take\n",
    "values larger than $1$ or smaller than $0$ when we know that $y\\in{0, 1}$.\n",
    "To fix this, let’s change the form for our hypotheses $h_{\\theta}(x)$. We will choose\n",
    "\n",
    "$$h_{\\theta} = g(\\theta^Tx) = \\frac{1}{1+\\exp{(-\\theta^Tx)}}$$\n",
    "\n",
    "where\n",
    "\n",
    "$$g(z) = \\frac{1}{1+\\exp{(-z)}}$$\n",
    "\n",
    "and $z = \\theta^Tx$. $g$ is called the logistic function or the sigmoid function. Here is a plot\n",
    "showing $g(z)$:\n"
   ]
  },
  {
   "cell_type": "code",
   "execution_count": 1,
   "metadata": {},
   "outputs": [
    {
     "data": {
      "image/png": "[encoded data removed]",
      "text/plain": [
       "<Figure size 432x288 with 1 Axes>"
      ]
     },
     "metadata": {
      "needs_background": "light"
     },
     "output_type": "display_data"
    }
   ],
   "source": [
    "%matplotlib inline\n",
    "import torch\n",
    "import torch.nn as nn\n",
    "import numpy as np\n",
    "import matplotlib.pyplot as plt\n",
    "\n",
    "x = torch.linspace(-5, 5, 200)\n",
    "\n",
    "sigmoid = nn.Sigmoid()\n",
    "y_sigmoid = sigmoid(x)\n",
    "\n",
    "plt.plot(x.numpy(), y_sigmoid.numpy(), c='red', label='sigmoid')\n",
    "plt.show()"
   ]
  },
  {
   "cell_type": "markdown",
   "metadata": {},
   "source": [
    "Notice that $g(z)$ tends towards $1$ as $z\\rightarrow \\infty$, and $g(z)$ tends towards $0$ as\n",
    "$z\\rightarrow -\\infty$. Moreover, $g(z)$, and hence also $h(x)$, is always bounded between\n",
    "$0$ and $1$. As before, we are keeping the convention of letting $x_0 = 1$, so that we can write $\\theta_0 + \\sum_{i=1}^{m}\\theta_ix_i = \\theta^Tx$.  Before moving on, here’s a useful property of the derivative of the sigmoid function, which we write as $g'$:\n",
    "\n",
    "\\begin{align*}\n",
    "g'(z) &= \\frac{d}{dz}\\frac{1}{1+\\exp{(-z)}}\\\\\n",
    "&= \\frac{1}{(1+\\exp{(-z))^2}}\\exp(-z)\\\\\n",
    "&= \\frac{1}{1+\\exp(-z)} . \\big(1-\\frac{1}{1+\\exp(-z)}\\big)\\\\\n",
    "&= g(z).(1-g(z))\n",
    "\\end{align*}\n",
    "\n",
    "So, given the logistic regression model, how do we fit $\\theta$ for it?  Following\n",
    "how we saw least squares regression could be derived as the maximum likelihood\n",
    "estimator under a set of assumptions, let’s endow our classification\n",
    "model with a set of probabilistic assumptions, and then fit the parameters\n",
    "via maximum likelihood. Let us assume\n",
    "\n",
    "\\begin{align*}\n",
    "P(y=1|x;\\theta) &= h_{\\theta}(x)\\\\\n",
    "P(y=0|x;\\theta) &= 1 - h_{\\theta}(x)\n",
    "\\end{align*}\n",
    "\n",
    "Note that this can be written more compactly as\n",
    "\n",
    "$$P(y|x;\\theta) = (h_{\\theta}(x))^y \\;(1 - h_{\\theta}(x))^{1-y}$$\n",
    "\n",
    "Assuming that the m training examples were generated independently, we\n",
    "can then write down the likelihood of the parameters as\n",
    "\n",
    "\\begin{align*}\n",
    "L(\\theta) &= p(\\hat{y}|X;\\theta)\\\\\n",
    "&= \\prod_{i=1}^m p(y^{(i)}|x^{(i)};\\theta)\\\\\n",
    "&= \\prod_{i=1}^m (h_{\\theta}(x^{(i)}))^{y^{(i)}} \\;(1 - h_{\\theta}(x^{(i)}))^{1-y^{(i)}}\n",
    "\\end{align*}\n",
    "\n",
    "As before, it will be easier to maximize the log likelihood:\n",
    "\\begin{align*}\n",
    "\\ell(\\theta) &= log\\;L(\\theta)\\\\\n",
    "&= \\sum_{i=1}^m {y^{(i)}}log\\;(h_{\\theta}(x^{(i)})) + (1-y^{(i)})\\;log\\;(1 - h_{\\theta}(x^{(i)}))\n",
    "\\end{align*}"
   ]
  },
  {
   "cell_type": "markdown",
   "metadata": {},
   "source": [
    "How do we maximize the likelihood? Similar to our derivation in the case\n",
    "of linear regression, we can use gradient ascent. Written in vectorial notation,\n",
    "our updates will therefore be given by $\\theta = \\theta + \\alpha\\nabla_{\\theta}\\ell(\\theta)$. (Note the positive\n",
    "rather than negative sign in the update formula, since we’re maximizing,\n",
    "rather than minimizing, a function now.) Let’s start by working with just\n",
    "one training example $(x, y)$, and take derivatives to derive the stochastic\n",
    "gradient ascent rule:\n",
    "\n",
    "\\begin{align*}\n",
    "\\frac{\\partial}{\\partial\\theta_j}\\ell(\\theta) &= \\frac{\\partial}{\\partial\\theta} \\big[{y}\\;log\\;(h_{\\theta}(x)) + (1-y)\\;log\\;(1 - h_{\\theta}(x))\\big]\\\\\n",
    "&= \\big[ {y}\\frac{1}{g(\\theta^Tx)} - (1-y)\\frac{1}{(1 - g(\\theta^Tx))} \\big]\\;\\frac{\\partial}{\\partial\\theta} g(\\theta^Tx)\\\\\n",
    "&= \\big[ {y}\\frac{1}{g(\\theta^Tx)} - (1-y)\\frac{1}{(1 - g(\\theta^Tx))} \\big]\\; (g(\\theta^Tx).(1-g(\\theta^Tx)))\\frac{\\partial}{\\partial\\theta}\\theta^T x \\\\\n",
    "&= \\big[ {y}(1 - g(\\theta^Tx)) - (1-y)g(\\theta^Tx) \\big]\\;x_j\\\\\n",
    "&= \\big[y - yg(\\theta^Tx) - g(\\theta^Tx) + yg(\\theta^Tx) \\big]\\;x_j\\\\\n",
    "&= \\big[y - h_{\\theta}(x)\\big]\\;x_j\n",
    "\\end{align*}\n",
    "\n",
    "Using the above equation, we derive the gradient descent algorithm for logistic regression:\n",
    "\n",
    "\\begin{align}\n",
    "repeat \\{\\\\\n",
    "&\\theta_j = \\theta_j - \\alpha \\frac{1}{m}\\sum_{i=1}^m(y^{(i)} - h_{\\theta}(x^{(i)})).x^{(i)}_j\\\\\n",
    "\\}\n",
    "\\end{align}\n",
    "\n",
    "#### Regularized logistic regression\n",
    "\n",
    "\\begin{align*}\n",
    "min_{\\theta}\\;J(\\theta)= \\big[-\\frac{1}{m} \\sum_{i=1}^m {y^{(i)}}log\\;(h_{\\theta}(x^{(i)})) + (1-y^{(i)})\\;log\\;(1 - h_{\\theta}(x^{(i)}))\\big] + \\frac{\\lambda}{2m}\\sum_{j=1}^m \\theta_j^2\n",
    "\\end{align*}\n",
    "\n",
    "\\begin{align}\n",
    "repeat \\{\\\\\n",
    "&\\theta_0 = \\theta_0 - \\alpha \\frac{1}{m}\\sum_{i=1}^m(y^{(i)} - h_{\\theta}(x^{(i)})).x^{(i)}_0\\\\\n",
    "&\\theta_j = \\theta_j - \\alpha\\big[\\frac{1}{m}\\sum_{i=1}^m(y^{(i)} - h_{\\theta}(x^{(i)})).x^{(i)}_j-\\frac{\\lambda}{m}\\theta_j\\big]\\\\\n",
    "\\}\n",
    "\\end{align}"
   ]
  },
  {
   "cell_type": "markdown",
   "metadata": {},
   "source": [
    "### Maximum a posteriori (MAP)\n",
    "\n",
    "We use Maximum likelihood estimation as our cost function to find the optimized $w*$.\n",
    "\n",
    "$$\n",
    "\\begin{split}\n",
    "w^* = \\arg\\max_w (P(Y \\vert X, w)) & = \\arg\\max_w \\prod^n_{i=1} P( y_i \\vert x_i, w)\n",
    "\\end{split}\n",
    "$$\n",
    "\n",
    "Alternatively, we can use Maximum a posteriori (MAP) to find the optimized $w*$. \n",
    "\n",
    "$$\n",
    "P(w \\vert x, y)\n",
    "$$\n",
    "\n",
    "In this section, we go through the process of how some cost functions are defined using MAP.\n",
    "\n",
    "Using Baye's theorem:\n",
    "\n",
    "$$\n",
    "\\begin{split}\n",
    "p(w \\vert x, y) & = \\frac{p(y \\vert x, w) p(w \\vert x)}{p(y \\vert x)} \\\\\n",
    "& = \\frac{p(y \\vert x, w) p(w)}{p(y \\vert x)} \\quad & \\text{ w is not depend on x}\\\\\n",
    "\\end{split}\n",
    "$$\n",
    "\n",
    "Take the negative log\n",
    "\n",
    "$$\n",
    "\\begin{split}\n",
    "-\\log p(w \\vert x, y) & = - \\log p(y \\vert x, w) - \\log p(w \\vert x) - \\log p(y \\vert x) \\\\\n",
    "& = -\\log p(y \\vert x, w) - \\log p(w \\vert x) - C^{'} \\\\\n",
    "\\end{split}\n",
    "$$\n",
    "\n",
    "The total cost for all training data is\n",
    "\n",
    "$$\n",
    "\\begin{split}\n",
    "J(w) & = - \\sum^N_{i=1} \\log p(y_i \\vert x_i, w) - \\sum^d_{j=1} \\log p(w_j) - C \\\\\n",
    "\\end{split}\n",
    "$$\n",
    "\n",
    "Compute the prior with the assumption that it has a Gaussian distribution of $ \\mu=0, \\sigma^2 = \\frac{1}{\\lambda}$:\n",
    "\n",
    "$$\n",
    "\\begin{split}\n",
    "p(w_j) & =  \\frac{1}{\\sqrt{2 \\pi \\frac{1}{\\lambda}}} e^{-\\frac{(w_j - 0)^{2}}{2\\frac{1}{\\lambda}} } \\\\\n",
    "\\log p(w_j) & = - \\log {\\sqrt{2 \\pi \\frac{1}{\\lambda}}} + \\log e^{- \\frac{\\lambda}{2}w_j^2}  \\\\\n",
    "& = C^{'} - \\frac{\\lambda}{2}w_j^2 \\\\\n",
    "- \\sum^d_{j=1} \\log p(w_j) &= C + \\frac{\\lambda}{2} \\| w \\|^2 \\quad \\text{ L-2 regularization}\n",
    "\\end{split}\n",
    "$$\n",
    "\n",
    "If the likelihood is also gaussian distributed:\n",
    "\n",
    "$$\n",
    "\\begin{split}\n",
    "p(y_i \\vert x_i, w) & \\propto e^{ - \\frac{(w^T x_i - y_i)^2}{2 \\sigma^2} } \\\\\n",
    "- \\sum^N_{i=1} \\log p(y_i \\vert x_i, w) & = \\frac{1}{2 \\sigma^2} \\| w^T x_i - y_i \\|^2 \\\\\n",
    "\\end{split}\n",
    "$$\n",
    "\n",
    "So for a Gaussian distribution prior and likelihood, the cost function is\n",
    "\n",
    "$$\n",
    "\\begin{split}\n",
    "J(w) & = - \\sum^N_{i=1} \\log p(y_i \\vert x_i, w) - \\sum^d_{j=1} \\log p(w_j) - C \\\\\n",
    "&=  \\frac{1}{2 \\sigma^2} \\| w^T x_i - y_i \\|^2 + \\frac{\\lambda}{2} \\| w \\|^2 + constant\n",
    "\\end{split}\n",
    "$$\n",
    "\n",
    "which is the same as the MSE with L2-regularization.\n",
    "\n",
    "If the likeliness is computed from a logistic function, the corresponding cost function is:\n",
    "\n",
    "$$\n",
    "\\begin{split}\n",
    "p(y_i \\vert x_i, w) & = \\frac{1}{ 1 + e^{- y_i w^T x_i} } \\\\\n",
    "J(w) & = - \\sum^N_{i=1} \\log p(y_i \\vert x_i, w) - \\sum^d_{j=1} \\log p(w_j) - C \\\\\n",
    "&= \\sum^N_{i=1} \\log(1 + e^{- y_i w^T x_i})  + \\frac{\\lambda}{2} \\| w \\|^2 + constant\n",
    "\\end{split}\n",
    "$$\n"
   ]
  },
  {
   "cell_type": "markdown",
   "metadata": {},
   "source": [
    "### Implementation"
   ]
  },
  {
   "cell_type": "code",
   "execution_count": 2,
   "metadata": {},
   "outputs": [],
   "source": [
    "# Load data\n",
    "data = np.loadtxt('data/ex2data1.txt', delimiter=',')\n",
    "X = torch.from_numpy(data[:, :2]).float()\n",
    "y = torch.from_numpy(data[:, 2]).float()"
   ]
  },
  {
   "cell_type": "code",
   "execution_count": 4,
   "metadata": {},
   "outputs": [
    {
     "name": "stdout",
     "output_type": "stream",
     "text": [
      "Epoch [100/1000], Loss: 1105.2411\n",
      "Epoch [200/1000], Loss: 1105.2411\n",
      "Epoch [300/1000], Loss: 1105.2411\n",
      "Epoch [400/1000], Loss: 1105.2411\n",
      "Epoch [500/1000], Loss: 1105.2411\n",
      "Epoch [600/1000], Loss: 1105.2411\n",
      "Epoch [700/1000], Loss: 1105.2411\n",
      "Epoch [800/1000], Loss: 1105.2411\n",
      "Epoch [900/1000], Loss: 1105.2411\n",
      "Epoch [1000/1000], Loss: 1105.2411\n",
      "Final Weights: tensor([[0.2199, 0.2499]])\n",
      "Final Bias: tensor([-0.2935])\n",
      "tensor(60)\n"
     ]
    }
   ],
   "source": [
    "class LogisticReg(nn.Module):\n",
    "    def __init__(self):\n",
    "        super(LogisticReg, self).__init__()\n",
    "        \n",
    "        self.linear = nn.Linear(2, 1)\n",
    "        \n",
    "    def forward(self, x):\n",
    "        y_pred = torch.sigmoid(self.linear(x))\n",
    "        return y_pred\n",
    "    \n",
    "\n",
    "# Model\n",
    "model = LogisticReg()\n",
    "\n",
    "criterion = nn.BCELoss(reduction='sum')\n",
    "optimizer = torch.optim.SGD(model.parameters(), lr=0.01)\n",
    "\n",
    "\n",
    "for epoch in range(1000):\n",
    "    y_pred = model(X)\n",
    "    loss = criterion(y_pred[:,0], y)\n",
    "    \n",
    "    optimizer.zero_grad()\n",
    "    loss.backward()\n",
    "    optimizer.step()\n",
    "    if (epoch+1) % 100 == 0:\n",
    "        print ('Epoch [{}/{}], Loss: {:.4f}'.format(epoch+1, 1000, loss.item()))\n",
    "print ('Final Weights: {}'.format(model.linear.weight.data))\n",
    "print ('Final Bias: {}'.format(model.linear.bias.data))\n",
    "\n",
    "\n",
    "out = model(X)\n",
    "\n",
    "print((out[:,0] == y).sum())"
   ]
  },
  {
   "cell_type": "markdown",
   "metadata": {},
   "source": [
    "### Softmax classifier\n",
    "\n",
    "For many classification problems, we categorize an input to one of the many classes. For example, we can classify an image to one of the 100 possible object classes. We use a softmax classifier to compute K probabilities, one per class for an input image and the combined probabilities remains 1.\n",
    "\n",
    "<div class=\"imgcap\">\n",
    "<img src=\"images/deep_learner2.jpg\" style=\"border:none;width:70%;\">\n",
    "</div>\n",
    "\n",
    "The network computes K scores per image. The probability that an image belongs to the class $$ i $$ will be.\n",
    "$$\n",
    "p_i =  \\frac{e^{score_i}}{\\sum_{c \\in y} e^{score_c}} \n",
    "$$\n",
    "For example, the school bus above may have a score of (3.2, 0.8, 0) for the class school bus, truck and airplane respectively. The probability for the corresponding class is\n",
    "$$\n",
    "p_{\\text{bus}} =  \\frac{e^{3.2}}{ e^{3.2} + e^{0.8} + e^0} = 0.88\n",
    "$$\n",
    "\n",
    "$$\n",
    "p_{\\text{truck}} =  \\frac{e^{0.2}}{ e^{3.2} + e^{0.8} + e^0} = 0.08\n",
    "$$\n",
    "\n",
    "$$\n",
    "p_{\\text{airplane}} =  \\frac{e^0}{ e^{3.2} + e^{0.8} + e^0} = 0.04\n",
    "$$"
   ]
  },
  {
   "cell_type": "code",
   "execution_count": 2,
   "metadata": {},
   "outputs": [
    {
     "name": "stdout",
     "output_type": "stream",
     "text": [
      "[0.88379809 0.08017635 0.03602556]\n"
     ]
    }
   ],
   "source": [
    "def softmax(z):\n",
    "    z -= np.max(z)\n",
    "    return np.exp(z) / np.sum(np.exp(z))\n",
    "\n",
    "a = np.array([3.2, 0.8, 0])\n",
    "print(softmax(a))"
   ]
  },
  {
   "cell_type": "code",
   "execution_count": 3,
   "metadata": {},
   "outputs": [
    {
     "name": "stdout",
     "output_type": "stream",
     "text": [
      "[0.88379809 0.08017635 0.03602556]\n"
     ]
    }
   ],
   "source": [
    "smax = nn.Softmax(dim=0)\n",
    "x = torch.from_numpy(a)\n",
    "z = smax(x)\n",
    "print(z.numpy())"
   ]
  },
  {
   "cell_type": "markdown",
   "metadata": {},
   "source": [
    "To avoid the numerical stability problem caused by adding large exponential values, we subtract the inputs by its maximum. Adding or subtract a number from the input does not change the probability value in softmax.\n",
    "$$\n",
    "softmax(z) = \\frac{e^{z_i -max}}{\\sum e^{z_c  - max}} =  \\frac{e^{-max} e^{z_i}}{e^{-max} \\sum e^{z_c}} = \\frac{e^{z_i}}{\\sum e^{z_c}}\n",
    "$$\n",
    "```python\n",
    "z -= np.max(z)\n",
    "```\n",
    "\n",
    "**logits** is defined as a mean to measure odd.\n",
    "$$\n",
    "logits = \\log(\\frac{p}{1-p})\n",
    "$$\n",
    "If we combine the softmax equation with the logits equation, it is easy to see that the score is the logit. \n",
    "$$\n",
    "p = softmax(score) = softmax(z_i) = \\frac{e^{z_i}}{\\sum e^{z_c}} \\\\\n",
    "logits = z_i = score\n",
    "$$\n",
    "That is why in many literatures and APIs, logit and score are interchangeable when a softmax classifier is used. However, other function's output can be a logit. Sigmoid function output is also a logit.\n",
    "\n",
    "> Softmax is the most common classifier among others."
   ]
  },
  {
   "cell_type": "code",
   "execution_count": 2,
   "metadata": {},
   "outputs": [],
   "source": [
    "import torch\n",
    "import torch.nn as nn\n",
    "import torchvision.transforms as transforms\n",
    "import torchvision.datasets as data\n",
    "import matplotlib.pyplot as plt\n",
    "import numpy as np\n",
    "\n",
    "train_dataset = data.MNIST(root='./data', train=True,\n",
    "                           transform=transforms.ToTensor(), download=True)\n",
    "\n",
    "test_dataset = data.MNIST(root='./data', train=False,\n",
    "                          transform=transforms.ToTensor())\n",
    "\n",
    "batch_size = 100\n",
    "train_loader = torch.utils.data.DataLoader(\n",
    "    dataset=train_dataset, batch_size=batch_size, shuffle=True)\n",
    "\n",
    "test_loader = torch.utils.data.DataLoader(\n",
    "    dataset=test_dataset, batch_size=batch_size, shuffle=False)"
   ]
  },
  {
   "cell_type": "code",
   "execution_count": 3,
   "metadata": {},
   "outputs": [
    {
     "name": "stdout",
     "output_type": "stream",
     "text": [
      "tensor(5)\n"
     ]
    },
    {
     "data": {
      "image/png": "[encoded data removed]",
      "text/plain": [
       "<Figure size 432x288 with 1 Axes>"
      ]
     },
     "metadata": {
      "needs_background": "light"
     },
     "output_type": "display_data"
    }
   ],
   "source": [
    "img = train_dataset[0][0].numpy().reshape(28, 28)\n",
    "print(train_dataset[0][1])\n",
    "plt.imshow(img)\n",
    "plt.show()"
   ]
  },
  {
   "cell_type": "code",
   "execution_count": 4,
   "metadata": {},
   "outputs": [],
   "source": [
    "class LogisticRegressionModel(nn.Module):\n",
    "    def __init__(self, input_dim, output_dim):\n",
    "        super(LogisticRegressionModel, self).__init__()\n",
    "        self.linear = nn.Linear(input_dim, output_dim)\n",
    "\n",
    "    def forward(self, x):\n",
    "        out = self.linear(x)\n",
    "        return out "
   ]
  },
  {
   "cell_type": "code",
   "execution_count": 5,
   "metadata": {},
   "outputs": [],
   "source": [
    "epochs = int(3000 / (len(train_dataset) / batch_size))\n",
    "input_dim = 28 * 28\n",
    "output_dim = 10\n",
    "learning_rate = 0.001\n",
    "\n",
    "model = LogisticRegressionModel(input_dim, output_dim)\n",
    "criterion = nn.CrossEntropyLoss()\n",
    "optimizer = torch.optim.SGD(model.parameters(), lr=learning_rate)"
   ]
  },
  {
   "cell_type": "code",
   "execution_count": 6,
   "metadata": {},
   "outputs": [
    {
     "name": "stdout",
     "output_type": "stream",
     "text": [
      "Iteration: 500, Loss: 1.8531372547149658, Accuracy: 68.05\n",
      "Iteration: 1000, Loss: 1.550645351409912, Accuracy: 76.14999999999999\n",
      "Iteration: 1500, Loss: 1.3934663534164429, Accuracy: 79.45\n",
      "Iteration: 2000, Loss: 1.1908916234970093, Accuracy: 81.3\n",
      "Iteration: 2500, Loss: 1.0140771865844727, Accuracy: 82.52000000000001\n",
      "Iteration: 3000, Loss: 0.9862807989120483, Accuracy: 83.04\n"
     ]
    }
   ],
   "source": [
    "iter = 0\n",
    "for epoch in range(epochs):\n",
    "    for i, (images, labels) in enumerate(train_loader):\n",
    "        images = images.reshape(-1, 28 * 28).requires_grad_()\n",
    "        labels = labels\n",
    "\n",
    "        optimizer.zero_grad()\n",
    "\n",
    "        outputs = model(images)\n",
    "\n",
    "        loss = criterion(outputs, labels)\n",
    "        loss.backward()\n",
    "\n",
    "        optimizer.step()\n",
    "\n",
    "        iter += 1\n",
    "\n",
    "        if iter % 500 == 0:\n",
    "            correct = 0\n",
    "            total = 0\n",
    "            for images, labels in test_loader:\n",
    "                images = images.reshape(-1, 28 * 28).requires_grad_()\n",
    "\n",
    "                outputs = model(images)\n",
    "\n",
    "                _, predict = torch.max(outputs.data, 1)\n",
    "\n",
    "                total += labels.size(0)\n",
    "\n",
    "                correct += (predict == labels).sum()\n",
    "\n",
    "            accuracy = 100 * (correct.item() / total)\n",
    "\n",
    "            print('Iteration: {}, Loss: {}, Accuracy: {}'.format(\n",
    "                iter, loss.item(), accuracy))"
   ]
  },
  {
   "cell_type": "code",
   "execution_count": 7,
   "metadata": {},
   "outputs": [],
   "source": [
    "save_model = False\n",
    "if save_model:\n",
    "    torch.save(model, 'logistic_model.pth')"
   ]
  },
  {
   "cell_type": "code",
   "execution_count": null,
   "metadata": {},
   "outputs": [],
   "source": []
  }
 ],
 "metadata": {
  "kernelspec": {
   "display_name": "Python 3",
   "language": "python",
   "name": "python3"
  },
  "language_info": {
   "codemirror_mode": {
    "name": "ipython",
    "version": 3
   },
   "file_extension": ".py",
   "mimetype": "text/x-python",
   "name": "python",
   "nbconvert_exporter": "python",
   "pygments_lexer": "ipython3",
   "version": "3.7.3"
  }
 },
 "nbformat": 4,
 "nbformat_minor": 1
}
