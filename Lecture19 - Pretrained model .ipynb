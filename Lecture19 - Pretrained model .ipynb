{
 "cells": [
  {
   "cell_type": "code",
   "execution_count": 3,
   "metadata": {},
   "outputs": [],
   "source": [
    "from torchvision import models\n",
    "from torchsummary import summary"
   ]
  },
  {
   "cell_type": "code",
   "execution_count": 2,
   "metadata": {},
   "outputs": [
    {
     "name": "stdout",
     "output_type": "stream",
     "text": [
      "['alexnet', 'densenet121', 'densenet161', 'densenet169', 'densenet201', 'inception_v3', 'resnet101', 'resnet152', 'resnet18', 'resnet34', 'resnet50', 'squeezenet1_0', 'squeezenet1_1', 'vgg11', 'vgg11_bn', 'vgg13', 'vgg13_bn', 'vgg16', 'vgg16_bn', 'vgg19', 'vgg19_bn']\n"
     ]
    }
   ],
   "source": [
    "model_names = sorted(name for name in models.__dict__\n",
    "    if name.islower() and not name.startswith(\"__\")\n",
    "    and callable(models.__dict__[name]))\n",
    "print (model_names)"
   ]
  },
  {
   "cell_type": "code",
   "execution_count": 8,
   "metadata": {},
   "outputs": [],
   "source": [
    "model_name = 'vgg19_bn'\n",
    "vgg_19bn = models.__dict__[model_name](pretrained=True) # Set false to train from scratch"
   ]
  },
  {
   "cell_type": "code",
   "execution_count": 7,
   "metadata": {},
   "outputs": [
    {
     "name": "stdout",
     "output_type": "stream",
     "text": [
      "----------------------------------------------------------------\n",
      "        Layer (type)               Output Shape         Param #\n",
      "================================================================\n",
      "            Conv2d-1           [-1, 64, 28, 28]           1,792\n",
      "       BatchNorm2d-2           [-1, 64, 28, 28]             128\n",
      "              ReLU-3           [-1, 64, 28, 28]               0\n",
      "            Conv2d-4           [-1, 64, 28, 28]          36,928\n",
      "       BatchNorm2d-5           [-1, 64, 28, 28]             128\n",
      "              ReLU-6           [-1, 64, 28, 28]               0\n",
      "         MaxPool2d-7           [-1, 64, 14, 14]               0\n",
      "            Conv2d-8          [-1, 128, 14, 14]          73,856\n",
      "       BatchNorm2d-9          [-1, 128, 14, 14]             256\n",
      "             ReLU-10          [-1, 128, 14, 14]               0\n",
      "           Conv2d-11          [-1, 128, 14, 14]         147,584\n",
      "      BatchNorm2d-12          [-1, 128, 14, 14]             256\n",
      "             ReLU-13          [-1, 128, 14, 14]               0\n",
      "        MaxPool2d-14            [-1, 128, 7, 7]               0\n",
      "           Conv2d-15            [-1, 256, 7, 7]         295,168\n",
      "      BatchNorm2d-16            [-1, 256, 7, 7]             512\n",
      "             ReLU-17            [-1, 256, 7, 7]               0\n",
      "           Conv2d-18            [-1, 256, 7, 7]         590,080\n",
      "      BatchNorm2d-19            [-1, 256, 7, 7]             512\n",
      "             ReLU-20            [-1, 256, 7, 7]               0\n",
      "           Conv2d-21            [-1, 256, 7, 7]         590,080\n",
      "      BatchNorm2d-22            [-1, 256, 7, 7]             512\n",
      "             ReLU-23            [-1, 256, 7, 7]               0\n",
      "           Conv2d-24            [-1, 256, 7, 7]         590,080\n",
      "      BatchNorm2d-25            [-1, 256, 7, 7]             512\n",
      "             ReLU-26            [-1, 256, 7, 7]               0\n",
      "        MaxPool2d-27            [-1, 256, 3, 3]               0\n",
      "           Conv2d-28            [-1, 512, 3, 3]       1,180,160\n",
      "      BatchNorm2d-29            [-1, 512, 3, 3]           1,024\n",
      "             ReLU-30            [-1, 512, 3, 3]               0\n",
      "           Conv2d-31            [-1, 512, 3, 3]       2,359,808\n",
      "      BatchNorm2d-32            [-1, 512, 3, 3]           1,024\n",
      "             ReLU-33            [-1, 512, 3, 3]               0\n",
      "           Conv2d-34            [-1, 512, 3, 3]       2,359,808\n",
      "      BatchNorm2d-35            [-1, 512, 3, 3]           1,024\n",
      "             ReLU-36            [-1, 512, 3, 3]               0\n",
      "           Conv2d-37            [-1, 512, 3, 3]       2,359,808\n",
      "      BatchNorm2d-38            [-1, 512, 3, 3]           1,024\n",
      "             ReLU-39            [-1, 512, 3, 3]               0\n",
      "        MaxPool2d-40            [-1, 512, 1, 1]               0\n",
      "           Conv2d-41            [-1, 512, 1, 1]       2,359,808\n",
      "      BatchNorm2d-42            [-1, 512, 1, 1]           1,024\n",
      "             ReLU-43            [-1, 512, 1, 1]               0\n",
      "           Conv2d-44            [-1, 512, 1, 1]       2,359,808\n",
      "      BatchNorm2d-45            [-1, 512, 1, 1]           1,024\n",
      "             ReLU-46            [-1, 512, 1, 1]               0\n",
      "           Conv2d-47            [-1, 512, 1, 1]       2,359,808\n",
      "      BatchNorm2d-48            [-1, 512, 1, 1]           1,024\n",
      "             ReLU-49            [-1, 512, 1, 1]               0\n",
      "           Conv2d-50            [-1, 512, 1, 1]       2,359,808\n",
      "      BatchNorm2d-51            [-1, 512, 1, 1]           1,024\n",
      "             ReLU-52            [-1, 512, 1, 1]               0\n",
      "        MaxPool2d-53            [-1, 512, 1, 1]               0\n",
      "AdaptiveAvgPool2d-54            [-1, 512, 7, 7]               0\n",
      "           Linear-55                 [-1, 4096]     102,764,544\n",
      "             ReLU-56                 [-1, 4096]               0\n",
      "          Dropout-57                 [-1, 4096]               0\n",
      "           Linear-58                 [-1, 4096]      16,781,312\n",
      "             ReLU-59                 [-1, 4096]               0\n",
      "          Dropout-60                 [-1, 4096]               0\n",
      "           Linear-61                 [-1, 1000]       4,097,000\n",
      "================================================================\n",
      "Total params: 143,678,248\n",
      "Trainable params: 143,678,248\n",
      "Non-trainable params: 0\n",
      "----------------------------------------------------------------\n",
      "Input size (MB): 0.01\n",
      "Forward/backward pass size (MB): 5.62\n",
      "Params size (MB): 548.09\n",
      "Estimated Total Size (MB): 553.72\n",
      "----------------------------------------------------------------\n"
     ]
    }
   ],
   "source": [
    "summary(vgg_19bn, (3, 28, 28))"
   ]
  },
  {
   "cell_type": "code",
   "execution_count": null,
   "metadata": {},
   "outputs": [],
   "source": []
  }
 ],
 "metadata": {
  "kernelspec": {
   "display_name": "Python 3",
   "language": "python",
   "name": "python3"
  },
  "language_info": {
   "codemirror_mode": {
    "name": "ipython",
    "version": 3
   },
   "file_extension": ".py",
   "mimetype": "text/x-python",
   "name": "python",
   "nbconvert_exporter": "python",
   "pygments_lexer": "ipython3",
   "version": "3.7.3"
  }
 },
 "nbformat": 4,
 "nbformat_minor": 2
}
