{
 "cells": [
  {
   "cell_type": "markdown",
   "metadata": {},
   "source": [
    "# First Order Optimization Algorithms"
   ]
  },
  {
   "cell_type": "code",
   "execution_count": 1,
   "metadata": {},
   "outputs": [],
   "source": [
    "import numpy as np\n",
    "\n",
    "X = 10*(2 * np.random.rand(100, 1) - 1)\n",
    "y = 2*X + 3 + 15*np.random.rand(100, 1)\n",
    "X_b = np.c_[np.ones((100, 1)), X]"
   ]
  },
  {
   "cell_type": "code",
   "execution_count": 3,
   "metadata": {},
   "outputs": [
    {
     "data": {
      "image/png": "[encoded data removed]",
      "text/plain": [
       "<matplotlib.figure.Figure at 0x107e02e80>"
      ]
     },
     "metadata": {},
     "output_type": "display_data"
    }
   ],
   "source": [
    "import matplotlib.pyplot as plt\n",
    "%matplotlib inline\n",
    "\n",
    "plt.scatter(X, y)\n",
    "plt.show()"
   ]
  },
  {
   "cell_type": "markdown",
   "metadata": {},
   "source": [
    "# Batch Gradient Descent"
   ]
  },
  {
   "cell_type": "code",
   "execution_count": 5,
   "metadata": {},
   "outputs": [
    {
     "name": "stdout",
     "output_type": "stream",
     "text": [
      "[[6.16441033]\n",
      " [2.15480713]]\n"
     ]
    },
    {
     "data": {
      "image/png": "[encoded data removed]",
      "text/plain": [
       "<matplotlib.figure.Figure at 0x10f7c7be0>"
      ]
     },
     "metadata": {},
     "output_type": "display_data"
    },
    {
     "name": "stdout",
     "output_type": "stream",
     "text": [
      "Mean squared error : [33.55575123]\n"
     ]
    }
   ],
   "source": [
    "# Batch Gradient Descent\n",
    "\n",
    "epochs = 500\n",
    "alpha = 0.001    # learning rate\n",
    "m = 100\n",
    "\n",
    "theta = np.random.rand(2, 1)\n",
    "for epoch in range(epochs):\n",
    "    gradient = 2 / m * X_b.T.dot(X_b.dot(theta) - y)\n",
    "    theta = theta - alpha*(gradient)\n",
    "\n",
    "print(theta)\n",
    "\n",
    "plt.scatter(X, y)\n",
    "plt.plot(X_b, X_b.dot(theta))\n",
    "plt.show()\n",
    "\n",
    "error = np.sum(((X_b.dot(theta) - y)**2), axis=0)/100\n",
    "print('Mean squared error :', error)"
   ]
  },
  {
   "cell_type": "markdown",
   "metadata": {},
   "source": [
    "# Stochastic Gradient Descent"
   ]
  },
  {
   "cell_type": "code",
   "execution_count": 4,
   "metadata": {},
   "outputs": [
    {
     "name": "stdout",
     "output_type": "stream",
     "text": [
      "[[11.13611587]\n",
      " [ 1.91271524]]\n",
      "Mean squared error : [18.16292301]\n"
     ]
    },
    {
     "data": {
      "image/png": "[encoded data removed]",
      "text/plain": [
       "<matplotlib.figure.Figure at 0x10f7eb198>"
      ]
     },
     "metadata": {},
     "output_type": "display_data"
    }
   ],
   "source": [
    "n_epochs = 50\n",
    "t0, t1 = 5, 1000\n",
    "\n",
    "learning_schedule = lambda t: t0/(t+t1)\n",
    "\n",
    "theta = np.random.randn(2, 1)\n",
    "plt.scatter(X, y)\n",
    "\n",
    "for epoch in range(n_epochs):\n",
    "    for i in range(m):\n",
    "        random_index = np.random.randint(m)\n",
    "        xi = X_b[random_index:random_index+1]\n",
    "        yi = y[random_index:random_index+1]\n",
    "        gradient = (2* xi.T.dot(xi.dot(theta) - yi))\n",
    "        eta = learning_schedule(epoch*m+i)\n",
    "        theta = theta - eta*gradient\n",
    "\n",
    "plt.plot(X, X_b.dot(theta), color='orange')\n",
    "print(theta)\n",
    "error = np.sum(((X_b.dot(theta) - y)**2), axis=0)/100\n",
    "print('Mean squared error :', error)"
   ]
  },
  {
   "cell_type": "markdown",
   "metadata": {},
   "source": [
    "# Mini_Batch Gradient Descent"
   ]
  },
  {
   "cell_type": "code",
   "execution_count": 5,
   "metadata": {},
   "outputs": [
    {
     "name": "stdout",
     "output_type": "stream",
     "text": [
      "[[10.9847181]\n",
      " [ 2.0770969]]\n",
      "Mean squared error : [17.39577712]\n"
     ]
    },
    {
     "data": {
      "image/png": "[encoded data removed]",
      "text/plain": [
       "<matplotlib.figure.Figure at 0x10fa06668>"
      ]
     },
     "metadata": {},
     "output_type": "display_data"
    }
   ],
   "source": [
    "# Mini_Batch Gradient Descent\n",
    "\n",
    "n_epochs = 100\n",
    "t0, t1 = 5, 1000\n",
    "batch_size = 50\n",
    "\n",
    "learning_schedule = lambda t: t0/(t+t1)\n",
    "\n",
    "theta = np.random.randn(2, 1)\n",
    "plt.scatter(X, y)\n",
    "\n",
    "for epoch in range(n_epochs):\n",
    "    for i in range(m):\n",
    "        \n",
    "        # Sample Mini batch\n",
    "        shuffle_index = np.random.permutation(m)\n",
    "        xi = X_b[shuffle_index[:batch_size]]\n",
    "        yi = y[shuffle_index[:batch_size]]\n",
    "        \n",
    "        # Compute Gradient\n",
    "        gradient = (2* xi.T.dot(xi.dot(theta) - yi))/(batch_size)\n",
    "        \n",
    "        # Update learning rate\n",
    "        eta = learning_schedule(epoch*m+i)\n",
    "        \n",
    "        # Update weights\n",
    "        theta = theta - eta*gradient\n",
    "        \n",
    "        \n",
    "plt.plot(X, X_b.dot(theta), color='orange')\n",
    "print(theta)\n",
    "error = np.sum(((X_b.dot(theta) - y)**2), axis=0)/100\n",
    "print('Mean squared error :', error)"
   ]
  },
  {
   "cell_type": "markdown",
   "metadata": {},
   "source": [
    "# Momentum"
   ]
  },
  {
   "cell_type": "code",
   "execution_count": 6,
   "metadata": {},
   "outputs": [
    {
     "name": "stdout",
     "output_type": "stream",
     "text": [
      "[[11.00725212]\n",
      " [ 2.07947008]]\n",
      "Mean squared error : [17.3961284]\n"
     ]
    },
    {
     "data": {
      "image/png": "[encoded data removed]",
      "text/plain": [
       "<matplotlib.figure.Figure at 0x10f7d1940>"
      ]
     },
     "metadata": {},
     "output_type": "display_data"
    }
   ],
   "source": [
    "# Adapting alpha over time is less important than shrinking eta over time\n",
    "\n",
    "\n",
    "n_epochs = 50\n",
    "t0, t1 = 5, 1000\n",
    "batch_size = 50\n",
    "alpha = 0.9\n",
    "\n",
    "learning_schedule = lambda t: t0/(t+t1)\n",
    "\n",
    "theta = np.random.randn(2, 1)\n",
    "v = np.random.randn(2, 1)\n",
    "plt.scatter(X, y)\n",
    "\n",
    "for epoch in range(n_epochs):\n",
    "    for i in range(m):\n",
    "        \n",
    "        # Sample Mini batch\n",
    "        shuffle_index = np.random.permutation(m)\n",
    "        xi = X_b[shuffle_index[:batch_size]]\n",
    "        yi = y[shuffle_index[:batch_size]]\n",
    "        \n",
    "        # Compute Gradient\n",
    "        gradient = (2* xi.T.dot(xi.dot(theta) - yi))/(batch_size)\n",
    "        \n",
    "        # Update learning rate\n",
    "        eta = learning_schedule(epoch*m+i)\n",
    "        \n",
    "        # Compute velocity update\n",
    "        v = alpha*v - eta*gradient\n",
    "        \n",
    "        # Update Weights\n",
    "        theta = theta + v\n",
    "        \n",
    "plt.plot(X, X_b.dot(theta), color='orange')\n",
    "print(theta)\n",
    "error = np.sum(((X_b.dot(theta) - y)**2), axis=0)/100\n",
    "print('Mean squared error :', error)"
   ]
  },
  {
   "cell_type": "markdown",
   "metadata": {},
   "source": [
    "# Nesterov Accelarated Gradient"
   ]
  },
  {
   "cell_type": "code",
   "execution_count": 7,
   "metadata": {},
   "outputs": [
    {
     "name": "stdout",
     "output_type": "stream",
     "text": [
      "[[10.81468556]\n",
      " [ 2.08401428]]\n",
      "Mean squared error : [17.42647231]\n"
     ]
    },
    {
     "data": {
      "image/png": "[encoded data removed]",
      "text/plain": [
       "<matplotlib.figure.Figure at 0x10fb189b0>"
      ]
     },
     "metadata": {},
     "output_type": "display_data"
    }
   ],
   "source": [
    "n_epochs = 10\n",
    "t0, t1 = 5, 1000\n",
    "batch_size = 50\n",
    "alpha = 0.9\n",
    "\n",
    "learning_schedule = lambda t: t0/(t+t1)\n",
    "\n",
    "theta = np.random.randn(2, 1)\n",
    "v = np.random.randn(2, 1)\n",
    "plt.scatter(X, y)\n",
    "\n",
    "for epoch in range(n_epochs):\n",
    "    for i in range(m):\n",
    "        \n",
    "        # Sample Mini batch\n",
    "        shuffle_index = np.random.permutation(m)\n",
    "        xi = X_b[shuffle_index[:batch_size]]\n",
    "        yi = y[shuffle_index[:batch_size]]\n",
    "        \n",
    "        # Apply interim update\n",
    "        theta = theta + alpha*v\n",
    "        \n",
    "        # Compute Gradient\n",
    "        gradient = (2* xi.T.dot(xi.dot(theta) - yi))/(batch_size)\n",
    "        \n",
    "        # Update learning rate\n",
    "        eta = learning_schedule(epoch*m+i)\n",
    "        \n",
    "        # Compute velocity update\n",
    "        v = alpha*v - eta*gradient\n",
    "        \n",
    "        # Update Weights\n",
    "        theta = theta + v\n",
    "        \n",
    "plt.plot(X, X_b.dot(theta), color='orange')\n",
    "print(theta)\n",
    "error = np.sum(((X_b.dot(theta) - y)**2), axis=0)/100\n",
    "print('Mean squared error :', error)"
   ]
  },
  {
   "cell_type": "markdown",
   "metadata": {},
   "source": [
    "# AdaGrad"
   ]
  },
  {
   "cell_type": "code",
   "execution_count": 23,
   "metadata": {},
   "outputs": [
    {
     "name": "stdout",
     "output_type": "stream",
     "text": [
      "[[10.97276947]\n",
      " [ 2.10200414]]\n",
      "Mean squared error : [17.41251102]\n"
     ]
    },
    {
     "data": {
      "image/png": "[encoded data removed]",
      "text/plain": [
       "<matplotlib.figure.Figure at 0x10fce8c88>"
      ]
     },
     "metadata": {},
     "output_type": "display_data"
    }
   ],
   "source": [
    "n_epochs = 200\n",
    "batch_size = 50\n",
    "eta = 1\n",
    "r = 0\n",
    "delta = 10**-7\n",
    "\n",
    "theta = np.random.randn(2, 1)\n",
    "\n",
    "plt.scatter(X, y)\n",
    "\n",
    "for epoch in range(n_epochs):\n",
    "    for i in range(m):\n",
    "        \n",
    "        # Sample Mini batch\n",
    "        shuffle_index = np.random.permutation(m)\n",
    "        xi = X_b[shuffle_index[:batch_size]]\n",
    "        yi = y[shuffle_index[:batch_size]]\n",
    "        \n",
    "        # Compute Gradient\n",
    "        gradient = (2* xi.T.dot(xi.dot(theta) - yi))/(batch_size)\n",
    "        \n",
    "        # Accumulate squared gradient\n",
    "        r = r + np.multiply(gradient, gradient)\n",
    "        \n",
    "        # Compute update\n",
    "        del_theta = - eta * np.multiply(1/(delta + np.sqrt(r)), gradient)\n",
    "        \n",
    "        # Update Weights\n",
    "        theta = theta + del_theta\n",
    "        \n",
    "plt.plot(X, X_b.dot(theta), color='orange')\n",
    "print(theta)\n",
    "error = np.sum(((X_b.dot(theta) - y)**2), axis=0)/100\n",
    "print('Mean squared error :', error)"
   ]
  },
  {
   "cell_type": "markdown",
   "metadata": {},
   "source": [
    "# RMSProp "
   ]
  },
  {
   "cell_type": "code",
   "execution_count": 25,
   "metadata": {},
   "outputs": [
    {
     "name": "stdout",
     "output_type": "stream",
     "text": [
      "[[10.88851468]\n",
      " [ 2.27414092]]\n",
      "Mean squared error : [18.48527688]\n"
     ]
    },
    {
     "data": {
      "image/png": "[encoded data removed]",
      "text/plain": [
       "<matplotlib.figure.Figure at 0x10f99fa20>"
      ]
     },
     "metadata": {},
     "output_type": "display_data"
    }
   ],
   "source": [
    "n_epochs = 200\n",
    "batch_size = 50\n",
    "eta = 0.5\n",
    "rho = 0.99\n",
    "r = 0\n",
    "delta = 10**-7\n",
    "\n",
    "theta = np.random.randn(2, 1)\n",
    "\n",
    "plt.scatter(X, y)\n",
    "\n",
    "for epoch in range(n_epochs):\n",
    "    for i in range(m):\n",
    "        \n",
    "        # Sample Mini batch\n",
    "        shuffle_index = np.random.permutation(m)\n",
    "        xi = X_b[shuffle_index[:batch_size]]\n",
    "        yi = y[shuffle_index[:batch_size]]\n",
    "        \n",
    "        # Compute Gradient\n",
    "        gradient = (2* xi.T.dot(xi.dot(theta) - yi))/(batch_size)\n",
    "        \n",
    "        # Accumulate squared gradient\n",
    "        r = rho*r + (1-rho)*np.multiply(gradient, gradient)\n",
    "        \n",
    "        # Compute update\n",
    "        del_theta = - eta * np.multiply(1/(delta + np.sqrt(r)), gradient)\n",
    "        \n",
    "        # Update Weights\n",
    "        theta = theta + del_theta\n",
    "        \n",
    "plt.plot(X, X_b.dot(theta), color='orange')\n",
    "print(theta)\n",
    "error = np.sum(((X_b.dot(theta) - y)**2), axis=0)/100\n",
    "print('Mean squared error :', error)"
   ]
  },
  {
   "cell_type": "markdown",
   "metadata": {},
   "source": [
    "# RMSProp with Nesterov Accelarated Gradient"
   ]
  },
  {
   "cell_type": "code",
   "execution_count": 27,
   "metadata": {},
   "outputs": [
    {
     "name": "stdout",
     "output_type": "stream",
     "text": [
      "[[10.46598686]\n",
      " [ 2.22632381]]\n",
      "Mean squared error : [18.19850191]\n"
     ]
    },
    {
     "data": {
      "image/png": "[encoded data removed]",
      "text/plain": [
       "<matplotlib.figure.Figure at 0x10f5fb2b0>"
      ]
     },
     "metadata": {},
     "output_type": "display_data"
    }
   ],
   "source": [
    "n_epochs = 200\n",
    "batch_size = 50\n",
    "eta = 0.5\n",
    "rho = 0.99\n",
    "r = 0\n",
    "delta = 10**-7\n",
    "\n",
    "theta = np.random.randn(2, 1)\n",
    "v = np.random.randn(2, 1)\n",
    "\n",
    "plt.scatter(X, y)\n",
    "\n",
    "for epoch in range(n_epochs):\n",
    "    for i in range(m):\n",
    "        \n",
    "        # Sample Mini batch\n",
    "        shuffle_index = np.random.permutation(m)\n",
    "        xi = X_b[shuffle_index[:batch_size]]\n",
    "        yi = y[shuffle_index[:batch_size]]\n",
    "        \n",
    "        # Compute interim update\n",
    "        theta = theta + alpha*v\n",
    "        \n",
    "        # Compute Gradient\n",
    "        gradient = (2* xi.T.dot(xi.dot(theta) - yi))/(batch_size)\n",
    "        \n",
    "        # Accumulate squared gradient\n",
    "        r = rho*r + (1-rho)*np.multiply(gradient, gradient)\n",
    "        \n",
    "        # Compute update\n",
    "        v = alpha*v - eta * np.multiply(1/(delta + np.sqrt(r)), gradient)\n",
    "        \n",
    "        # Update Weights\n",
    "        theta = theta + v\n",
    "        \n",
    "plt.plot(X, X_b.dot(theta), color='orange')\n",
    "print(theta)\n",
    "error = np.sum(((X_b.dot(theta) - y)**2), axis=0)/100\n",
    "print('Mean squared error :', error)"
   ]
  },
  {
   "cell_type": "markdown",
   "metadata": {},
   "source": [
    "# Adam"
   ]
  },
  {
   "cell_type": "code",
   "execution_count": 28,
   "metadata": {},
   "outputs": [
    {
     "name": "stdout",
     "output_type": "stream",
     "text": [
      "[[10.99686518]\n",
      " [ 2.06875964]]\n",
      "Mean squared error : [17.39792754]\n"
     ]
    },
    {
     "data": {
      "image/png": "[encoded data removed]",
      "text/plain": [
       "<matplotlib.figure.Figure at 0x10f5b67f0>"
      ]
     },
     "metadata": {},
     "output_type": "display_data"
    }
   ],
   "source": [
    "n_epochs = 200\n",
    "batch_size = 50\n",
    "eta = 0.001\n",
    "rho1 = 0.9\n",
    "rho2 = 0.999\n",
    "r = 0\n",
    "s = 0\n",
    "t = 0\n",
    "delta = 10**-7\n",
    "\n",
    "theta = np.random.randn(2, 1)\n",
    "\n",
    "plt.scatter(X, y)\n",
    "\n",
    "for epoch in range(n_epochs):\n",
    "    for i in range(m):\n",
    "        \n",
    "        # Sample Mini batch\n",
    "        shuffle_index = np.random.permutation(m)\n",
    "        xi = X_b[shuffle_index[:batch_size]]\n",
    "        yi = y[shuffle_index[:batch_size]]\n",
    "        \n",
    "        # Compute Gradient\n",
    "        gradient = (2* xi.T.dot(xi.dot(theta) - yi))/(batch_size)\n",
    "        \n",
    "        # Update time step\n",
    "        t = t+1\n",
    "        \n",
    "        # Update biased first moment\n",
    "        s = rho1*s + (1-rho1)*gradient\n",
    "        \n",
    "        # Update biased second moment\n",
    "        r = rho2*r + (1-rho2)*np.multiply(gradient, gradient)\n",
    "        \n",
    "        # Correct bias in first moment\n",
    "        s_hat = s / (1+rho1**t)\n",
    "        \n",
    "        # Correct bias in first moment\n",
    "        r_hat = r / (1+rho2**t)\n",
    "        \n",
    "        # Compute update\n",
    "        del_theta = - eta * np.multiply(1/(delta + np.sqrt(r_hat)), s_hat)\n",
    "        \n",
    "        # Update Weights\n",
    "        theta = theta + del_theta\n",
    "        \n",
    "plt.plot(X, X_b.dot(theta), color='orange')\n",
    "print(theta)\n",
    "error = np.sum(((X_b.dot(theta) - y)**2), axis=0)/100\n",
    "print('Mean squared error :', error)"
   ]
  },
  {
   "cell_type": "markdown",
   "metadata": {},
   "source": [
    "# ADADelta"
   ]
  },
  {
   "cell_type": "code",
   "execution_count": 33,
   "metadata": {},
   "outputs": [
    {
     "name": "stdout",
     "output_type": "stream",
     "text": [
      "[[11.07040088]\n",
      " [ 1.82982257]]\n",
      "Mean squared error : [19.13386243]\n"
     ]
    },
    {
     "data": {
      "image/png": "[encoded data removed]",
      "text/plain": [
       "<matplotlib.figure.Figure at 0x10fef96a0>"
      ]
     },
     "metadata": {},
     "output_type": "display_data"
    }
   ],
   "source": [
    "def rms(x, eta):\n",
    "    return np.sqrt(np.mean(x**2) + eta)\n",
    "\n",
    "\n",
    "n_epochs = 10\n",
    "batch_size = 50\n",
    "eta = 0.0001\n",
    "rho = 0.9\n",
    "r = 0\n",
    "del_theta = 0\n",
    "\n",
    "theta = np.random.randn(2, 1)\n",
    "\n",
    "plt.scatter(X, y)\n",
    "\n",
    "for epoch in range(n_epochs):\n",
    "    for i in range(m):\n",
    "        \n",
    "        # Sample Mini batch\n",
    "        shuffle_index = np.random.permutation(m)\n",
    "        xi = X_b[shuffle_index[:batch_size]]\n",
    "        yi = y[shuffle_index[:batch_size]]\n",
    "        \n",
    "        # Compute Gradient\n",
    "        gradient = (2* xi.T.dot(xi.dot(theta) - yi))/(batch_size)\n",
    "        \n",
    "        # Accumulate Gradient\n",
    "        r = rho*r + (1-rho)*np.square(gradient)\n",
    "        \n",
    "        # Compute Update\n",
    "        del_theta = - rms(del_theta, eta) / rms(gradient, eta) * gradient\n",
    "        \n",
    "        # Update Weights\n",
    "        theta = theta + del_theta\n",
    "        \n",
    "plt.plot(X, X_b.dot(theta), color='orange')\n",
    "print(theta)\n",
    "error = np.sum(((X_b.dot(theta) - y)**2), axis=0)/100\n",
    "print('Mean squared error :', error)"
   ]
  },
  {
   "cell_type": "markdown",
   "metadata": {},
   "source": [
    "# Linear Conjugate Gradient Method"
   ]
  },
  {
   "cell_type": "code",
   "execution_count": 52,
   "metadata": {},
   "outputs": [
    {
     "name": "stdout",
     "output_type": "stream",
     "text": [
      "[[11.04619736]\n",
      " [ 2.01361873]]\n",
      "Mean squared error : [17.51121583]\n"
     ]
    },
    {
     "data": {
      "image/png": "[encoded data removed]",
      "text/plain": [
       "<matplotlib.figure.Figure at 0x11040e518>"
      ]
     },
     "metadata": {},
     "output_type": "display_data"
    }
   ],
   "source": [
    "from scipy.optimize import minimize\n",
    "\n",
    "np.seterr(all='ignore')\n",
    "\n",
    "import warnings\n",
    "warnings.filterwarnings('ignore')\n",
    "\n",
    "n_epochs = 20\n",
    "batch_size = 50\n",
    "eta = 0\n",
    "rho = 0\n",
    "r = 0\n",
    "prevGrad = []\n",
    "\n",
    "theta = np.random.randn(2, 1)\n",
    "\n",
    "plt.scatter(X, y)\n",
    "\n",
    "for epoch in range(n_epochs):\n",
    "    for i in range(m):\n",
    "        \n",
    "        # Sample Mini batch\n",
    "        shuffle_index = np.random.permutation(m)\n",
    "        xi = X_b[shuffle_index[:batch_size]]\n",
    "        yi = y[shuffle_index[:batch_size]]\n",
    "        \n",
    "        # Compute Gradient\n",
    "        gradient = (2* xi.T.dot(xi.dot(theta) - yi))/(batch_size)\n",
    "        \n",
    "        # Compute beta\n",
    "        if prevGrad!=[]:\n",
    "            beta = ((gradient - prevGrad).T.dot(gradient)) / (prevGrad.T.dot(prevGrad))\n",
    "        else:\n",
    "            beta = 0\n",
    "        \n",
    "        # Compute Search Direction\n",
    "        rho = -gradient + beta*rho\n",
    "        \n",
    "        \n",
    "        # Compute learning rate\n",
    "        eta = np.random.rand(1)\n",
    "        \n",
    "        def fun(eta):\n",
    "            return np.mean((xi.dot(theta +eta*rho) - yi)**2)\n",
    "        \n",
    "        res = minimize(fun, eta)\n",
    "        \n",
    "        eta = res.x\n",
    "        \n",
    "        # Update Weights\n",
    "        theta = theta + eta[0]*rho\n",
    "        \n",
    "        # Update previous gradient\n",
    "        prevGrad = gradient\n",
    "        \n",
    "plt.plot(X, X_b.dot(theta), color='orange')\n",
    "print(theta)\n",
    "error = np.sum(((X_b.dot(theta) - y)**2), axis=0)/100\n",
    "print('Mean squared error :', error)"
   ]
  },
  {
   "cell_type": "markdown",
   "metadata": {},
   "source": [
    "# Non Linear Conjugate Gradient Method"
   ]
  },
  {
   "cell_type": "code",
   "execution_count": 53,
   "metadata": {},
   "outputs": [
    {
     "name": "stdout",
     "output_type": "stream",
     "text": [
      "[[11.47895774]\n",
      " [ 2.1952011 ]]\n",
      "Mean squared error : [18.10820775]\n"
     ]
    },
    {
     "data": {
      "image/png": "[encoded data removed]",
      "text/plain": [
       "<matplotlib.figure.Figure at 0x111e07278>"
      ]
     },
     "metadata": {},
     "output_type": "display_data"
    }
   ],
   "source": [
    "from scipy.optimize import minimize\n",
    "\n",
    "np.seterr(all='ignore')\n",
    "\n",
    "import warnings\n",
    "warnings.filterwarnings('ignore')\n",
    "\n",
    "n_epochs = 20\n",
    "batch_size = 50\n",
    "eta = 0\n",
    "rho = 0\n",
    "r = 0\n",
    "prevGrad = []\n",
    "\n",
    "theta = np.random.randn(2, 1)\n",
    "\n",
    "plt.scatter(X, y)\n",
    "\n",
    "for epoch in range(n_epochs):\n",
    "    for i in range(m):\n",
    "        \n",
    "        # Sample Mini batch\n",
    "        shuffle_index = np.random.permutation(m)\n",
    "        xi = X_b[shuffle_index[:batch_size]]\n",
    "        yi = y[shuffle_index[:batch_size]]\n",
    "        \n",
    "        # Compute Gradient\n",
    "        gradient = (2* xi.T.dot(xi.dot(theta) - yi))/(batch_size)\n",
    "        \n",
    "        # Compute beta and set beta = 0 if i%20==0\n",
    "        if prevGrad!=[] and i%20!=0:\n",
    "            beta = ((gradient - prevGrad).T.dot(gradient)) / (prevGrad.T.dot(prevGrad))\n",
    "        else:\n",
    "            beta = 0\n",
    "        \n",
    "        # Compute Search Direction\n",
    "        rho = -gradient + beta*rho\n",
    "        \n",
    "        \n",
    "        # Compute learning rate\n",
    "        eta = np.random.rand(1)\n",
    "        \n",
    "        def fun(eta):\n",
    "            return np.mean((xi.dot(theta +eta*rho) - yi)**2)\n",
    "        \n",
    "        res = minimize(fun, eta)\n",
    "        \n",
    "        eta = res.x\n",
    "        \n",
    "        # Update Weights\n",
    "        theta = theta + eta[0]*rho\n",
    "        \n",
    "        # Update previous gradient\n",
    "        prevGrad = gradient\n",
    "        \n",
    "plt.plot(X, X_b.dot(theta), color='orange')\n",
    "print(theta)\n",
    "error = np.sum(((X_b.dot(theta) - y)**2), axis=0)/100\n",
    "print('Mean squared error :', error)"
   ]
  },
  {
   "cell_type": "markdown",
   "metadata": {},
   "source": [
    "# ADAMax"
   ]
  },
  {
   "cell_type": "code",
   "execution_count": 12,
   "metadata": {},
   "outputs": [
    {
     "name": "stdout",
     "output_type": "stream",
     "text": [
      "[[9.41807629]\n",
      " [2.02831283]]\n",
      "Mean squared error : [21.50756579]\n"
     ]
    },
    {
     "data": {
      "image/png": "[encoded data removed]",
      "text/plain": [
       "<matplotlib.figure.Figure at 0x10fa55e48>"
      ]
     },
     "metadata": {},
     "output_type": "display_data"
    }
   ],
   "source": [
    "n_epochs = 200\n",
    "batch_size = 50\n",
    "eta = 0.002\n",
    "rho1 = 0.9\n",
    "rho2 = 0.999\n",
    "r = 0\n",
    "s = 0\n",
    "t = 0\n",
    "\n",
    "theta = np.random.randn(2, 1)\n",
    "\n",
    "plt.scatter(X, y)\n",
    "\n",
    "for epoch in range(n_epochs):\n",
    "    for i in range(m):\n",
    "        \n",
    "        # Sample Mini batch\n",
    "        shuffle_index = np.random.permutation(m)\n",
    "        xi = X_b[shuffle_index[:batch_size]]\n",
    "        yi = y[shuffle_index[:batch_size]]\n",
    "        \n",
    "        # Compute Gradient\n",
    "        gradient = (2* xi.T.dot(xi.dot(theta) - yi))/(batch_size)\n",
    "        \n",
    "        # Update time step\n",
    "        t = t+1\n",
    "        \n",
    "        # Update biased first moment\n",
    "        s = rho1*s + (1-rho1)*gradient\n",
    "        \n",
    "        # Update biased second moment\n",
    "        r = max(rho2*r, np.linalg.norm(gradient, 1))\n",
    "        \n",
    "        # Update Weights\n",
    "        theta = theta - eta/(1-rho1**t)*np.divide(s, r)\n",
    "        \n",
    "plt.plot(X, X_b.dot(theta), color='orange')\n",
    "print(theta)\n",
    "error = np.sum(((X_b.dot(theta) - y)**2), axis=0)/100\n",
    "print('Mean squared error :', error)"
   ]
  },
  {
   "cell_type": "code",
   "execution_count": null,
   "metadata": {},
   "outputs": [],
   "source": []
  }
 ],
 "metadata": {
  "kernelspec": {
   "display_name": "Python 3",
   "language": "python",
   "name": "python3"
  },
  "language_info": {
   "codemirror_mode": {
    "name": "ipython",
    "version": 3
   },
   "file_extension": ".py",
   "mimetype": "text/x-python",
   "name": "python",
   "nbconvert_exporter": "python",
   "pygments_lexer": "ipython3",
   "version": "3.6.5"
  }
 },
 "nbformat": 4,
 "nbformat_minor": 2
}
