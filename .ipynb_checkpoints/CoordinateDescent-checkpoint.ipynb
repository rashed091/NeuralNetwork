{
 "cells": [
  {
   "cell_type": "code",
   "execution_count": 50,
   "metadata": {},
   "outputs": [],
   "source": [
    "import numpy as np\n",
    "\n",
    "X1 = np.random.rand(100, 1) # First variable\n",
    "X2 = np.random.rand(100, 1) # Second variable\n",
    "X3 = np.random.rand(100, 1) # Third variable\n",
    "\n",
    "y = 3*X1 + 7*X2 - 5*X3 + 5*(2*np.random.randn(100, 1) - 1) - 2 "
   ]
  },
  {
   "cell_type": "code",
   "execution_count": 51,
   "metadata": {},
   "outputs": [
    {
     "data": {
      "text/plain": [
       "(100, 4)"
      ]
     },
     "execution_count": 51,
     "metadata": {},
     "output_type": "execute_result"
    }
   ],
   "source": [
    "ones = np.ones((100, 1))\n",
    "\n",
    "X_b = np.c_[ones, X1, X2, X3]\n",
    "X_b.shape"
   ]
  },
  {
   "cell_type": "code",
   "execution_count": 74,
   "metadata": {},
   "outputs": [],
   "source": [
    "zeros = np.zeros((100, 1))\n",
    "\n",
    "X_b1 = np.c_[ones, X1, zeros, zeros]\n",
    "X_b2 = np.c_[ones, zeros, X2, zeros]\n",
    "X_b3 = np.c_[ones, zeros, zeros, X3]"
   ]
  },
  {
   "cell_type": "code",
   "execution_count": 75,
   "metadata": {},
   "outputs": [],
   "source": [
    "eta = 0.001\n",
    "batch_size=32\n",
    "m = 100\n",
    "n_epochs = 100\n",
    "\n",
    "theta = np.random.rand(4, 1)"
   ]
  },
  {
   "cell_type": "code",
   "execution_count": 77,
   "metadata": {},
   "outputs": [
    {
     "name": "stdout",
     "output_type": "stream",
     "text": [
      "Mean Squared error [102.38724352]\n"
     ]
    }
   ],
   "source": [
    "# Optimizing w.r.t to first variable\n",
    "\n",
    "for epoch in range(n_epochs):\n",
    "    for i in range(m):\n",
    "        \n",
    "        # Sample Mini batch\n",
    "        shuffle_index = np.random.permutation(m)\n",
    "        xi = X_b3[shuffle_index[:batch_size]]\n",
    "        yi = y[shuffle_index[:batch_size]]\n",
    "        \n",
    "        # Compute Gradient\n",
    "        gradient = (2* xi.T.dot(xi.dot(theta) - yi))/(batch_size)\n",
    "        \n",
    "        # Update weights\n",
    "        theta = theta - eta*gradient\n",
    "\n",
    "error = np.sum(((X_b.dot(theta) - y)**2), axis=0)/100\n",
    "print('Mean Squared error', error)"
   ]
  },
  {
   "cell_type": "code",
   "execution_count": 78,
   "metadata": {},
   "outputs": [
    {
     "name": "stdout",
     "output_type": "stream",
     "text": [
      "Mean Squared error [93.90947098]\n"
     ]
    }
   ],
   "source": [
    "# Optimizing w.r.t to second variable\n",
    "\n",
    "for epoch in range(n_epochs):\n",
    "    for i in range(m):\n",
    "        \n",
    "        # Sample Mini batch\n",
    "        shuffle_index = np.random.permutation(m)\n",
    "        xi = X_b2[shuffle_index[:batch_size]]\n",
    "        yi = y[shuffle_index[:batch_size]]\n",
    "        \n",
    "        # Compute Gradient\n",
    "        gradient = (2* xi.T.dot(xi.dot(theta) - yi))/(batch_size)\n",
    "        \n",
    "        # Update weights\n",
    "        theta = theta - eta*gradient\n",
    "\n",
    "error = np.sum(((X_b.dot(theta) - y)**2), axis=0)/100\n",
    "print('Mean Squared error', error)"
   ]
  },
  {
   "cell_type": "code",
   "execution_count": 76,
   "metadata": {},
   "outputs": [
    {
     "name": "stdout",
     "output_type": "stream",
     "text": [
      "Mean Squared error [90.5504389]\n"
     ]
    }
   ],
   "source": [
    "# Optimizing w.r.t to third variable\n",
    "\n",
    "for epoch in range(n_epochs):\n",
    "    for i in range(m):\n",
    "        \n",
    "        # Sample Mini batch\n",
    "        shuffle_index = np.random.permutation(m)\n",
    "        xi = X_b1[shuffle_index[:batch_size]]\n",
    "        yi = y[shuffle_index[:batch_size]]\n",
    "        \n",
    "        # Compute Gradient\n",
    "        gradient = (2* xi.T.dot(xi.dot(theta) - yi))/(batch_size)\n",
    "        \n",
    "        # Update weights\n",
    "        theta = theta - eta*gradient\n",
    "\n",
    "error = np.sum(((X_b.dot(theta) - y)**2), axis=0)/100\n",
    "print('Mean Squared error', error)"
   ]
  },
  {
   "cell_type": "code",
   "execution_count": null,
   "metadata": {},
   "outputs": [],
   "source": []
  }
 ],
 "metadata": {
  "kernelspec": {
   "display_name": "Python 3",
   "language": "python",
   "name": "python3"
  },
  "language_info": {
   "codemirror_mode": {
    "name": "ipython",
    "version": 3
   },
   "file_extension": ".py",
   "mimetype": "text/x-python",
   "name": "python",
   "nbconvert_exporter": "python",
   "pygments_lexer": "ipython3",
   "version": "3.6.5"
  }
 },
 "nbformat": 4,
 "nbformat_minor": 2
}
