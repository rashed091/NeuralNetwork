{
 "cells": [
  {
   "cell_type": "code",
   "execution_count": 1,
   "metadata": {},
   "outputs": [],
   "source": [
    "import numpy as np\n",
    "\n",
    "X = 10*(2 * np.random.rand(100, 1) - 1)\n",
    "y = 2*X + 3 + 15*np.random.rand(100, 1)\n",
    "X_b = np.c_[np.ones((100, 1)), X]\n",
    "m=100"
   ]
  },
  {
   "cell_type": "code",
   "execution_count": 2,
   "metadata": {},
   "outputs": [
    {
     "data": {
      "image/png": "[encoded data removed]",
      "text/plain": [
       "<matplotlib.figure.Figure at 0x106641c50>"
      ]
     },
     "metadata": {},
     "output_type": "display_data"
    }
   ],
   "source": [
    "import matplotlib.pyplot as plt\n",
    "%matplotlib inline\n",
    "\n",
    "plt.scatter(X, y)\n",
    "plt.show()"
   ]
  },
  {
   "cell_type": "markdown",
   "metadata": {},
   "source": [
    "# Newton's Method"
   ]
  },
  {
   "cell_type": "code",
   "execution_count": 10,
   "metadata": {},
   "outputs": [
    {
     "name": "stdout",
     "output_type": "stream",
     "text": [
      "[[1.5537361 ]\n",
      " [1.70810974]]\n",
      "Mean squared error : [87.15029586]\n"
     ]
    },
    {
     "data": {
      "image/png": "[encoded data removed]",
      "text/plain": [
       "<matplotlib.figure.Figure at 0x10fff2f28>"
      ]
     },
     "metadata": {},
     "output_type": "display_data"
    }
   ],
   "source": [
    "n_epochs = 200\n",
    "eta = 0.0001\n",
    "batch_size = 50\n",
    "\n",
    "theta = np.random.randn(2, 1)\n",
    "plt.scatter(X, y)\n",
    "\n",
    "for epoch in range(n_epochs):\n",
    "    for i in range(m):\n",
    "        \n",
    "        # Sample Mini batch\n",
    "        shuffle_index = np.random.permutation(m)\n",
    "        xi = X_b[shuffle_index[:batch_size]]\n",
    "        yi = y[shuffle_index[:batch_size]]\n",
    "        \n",
    "        # Compute Gradient\n",
    "        gradient = (2* xi.T.dot(xi.dot(theta) - yi))/(batch_size)\n",
    "        \n",
    "        # Compute Hessian\n",
    "        H = (2*(xi**2).T.dot(xi.dot(theta))) / batch_size\n",
    "        \n",
    "        # Compute Hessian inverse\n",
    "        Hinv = np.linalg.inv(H.T.dot(H)).dot(H.T)\n",
    "        \n",
    "        delta = Hinv.dot(gradient)\n",
    "        \n",
    "        # Update weights\n",
    "        theta = theta - eta*delta\n",
    "        \n",
    "        \n",
    "plt.plot(X, X_b.dot(theta), color='orange')\n",
    "print(theta)\n",
    "error = np.sum(((X_b.dot(theta) - y)**2), axis=0)/100\n",
    "print('Mean squared error :', error)"
   ]
  }
 ],
 "metadata": {
  "kernelspec": {
   "display_name": "Python 3",
   "language": "python",
   "name": "python3"
  },
  "language_info": {
   "codemirror_mode": {
    "name": "ipython",
    "version": 3
   },
   "file_extension": ".py",
   "mimetype": "text/x-python",
   "name": "python",
   "nbconvert_exporter": "python",
   "pygments_lexer": "ipython3",
   "version": "3.6.5"
  }
 },
 "nbformat": 4,
 "nbformat_minor": 2
}
