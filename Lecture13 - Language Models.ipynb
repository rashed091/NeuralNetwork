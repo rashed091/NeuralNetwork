{
 "cells": [
  {
   "cell_type": "markdown",
   "metadata": {},
   "source": [
    "I will often omit the random variable in writing probabilities, using $P(x)$ to mean $P(X = x)$.\n",
    "\n",
    "When the distinction is important, I will use\n",
    "- $P(x)$ for true probabilities\n",
    "- $\\hat P(x)$ for estimated probabilities\n",
    "- $P_E(x)$ for estimated probabilities using a particular estimation method $E$"
   ]
  },
  {
   "cell_type": "markdown",
   "metadata": {},
   "source": [
    "In 48 packages, I find1 2620 M&Ms, as follows:\n",
    "\n",
    "- Red : 372\n",
    "- Orange : 544\n",
    "- Yellow : 369\n",
    "- Green : 483\n",
    "- Blue : 481\n",
    "- Brown : 371\n",
    "\n",
    "Intuitive way to estimate discrete probabilities:\n",
    "\n",
    "$$\n",
    "P_{RF} = \\frac{C(x)}{N}\n",
    "$$\n",
    "\n",
    "where $C(x)$ is the count of x in a large dataset, and $N$ is the total number of items in the dataset."
   ]
  },
  {
   "cell_type": "code",
   "execution_count": null,
   "metadata": {},
   "outputs": [],
   "source": []
  }
 ],
 "metadata": {
  "kernelspec": {
   "display_name": "Python 3",
   "language": "python",
   "name": "python3"
  },
  "language_info": {
   "codemirror_mode": {
    "name": "ipython",
    "version": 3
   },
   "file_extension": ".py",
   "mimetype": "text/x-python",
   "name": "python",
   "nbconvert_exporter": "python",
   "pygments_lexer": "ipython3",
   "version": "3.7.2"
  }
 },
 "nbformat": 4,
 "nbformat_minor": 2
}
