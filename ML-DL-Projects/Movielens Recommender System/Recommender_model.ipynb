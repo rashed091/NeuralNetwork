{
 "cells": [
  {
   "cell_type": "markdown",
   "metadata": {},
   "source": [
    "# Recommender Models\n",
    "\n",
    "By Karl Heyer\n",
    "\n",
    "In this project we're going to build a recommender system based on the [Movielens Data Set](http://files.grouplens.org/datasets/movielens/ml-latest-small.zip). The Movielens data contains approximately 100,000 user movie reviews rating a given movie 0.5-5. The recommender model will generate movie recommendations for a user based on their past movie ratings."
   ]
  },
  {
   "cell_type": "markdown",
   "metadata": {},
   "source": [
    "# Contents\n",
    "1. Model Architecture\n",
    "2. Data Analysis\n",
    "3. Model Setup\n",
    "4. Model Exploration\n",
    "    * 4.1 Basic Embedding Scaled\n",
    "    * 4.2 Mini Net\n",
    "    * 4.3 Net with Bias\n",
    "5. Building a Recommender\n",
    "6. Model Interpretations\n",
    "7. User Recommendations\n",
    "8. New User Onboarding\n",
    "9. Generic User Model\n",
    "10. Conclusions"
   ]
  },
  {
   "cell_type": "markdown",
   "metadata": {},
   "source": [
    "# 1. Model Architecture\n",
    "In this project we are going to build a recommender system based on matrix factorization. Then we will explore other architectures that can build off this approach.\n",
    "\n",
    "## Recommender Systems\n",
    "A recommender system is an information filtering system that tries to predict a user's rating for some item. In this case our item will be a movie. The recommender system uses user rating data to learn the complex relationship between different users and different products. Recommender systems basically ask the following questions:\n",
    "\n",
    "For a given user, what items do they like? What items do they dislike?\n",
    "\n",
    "For a given item, what users liked the item the most? What users disliked the item the most?\n",
    "\n",
    "What users are similar based on their item ratings?\n",
    "\n",
    "What items are similar, based on the users who liked them?\n",
    "\n",
    "All the interplay of user preferences are rolled into the recommender system. So how will we build one?\n",
    "\n",
    "## Recommender Systems by Matrix Factorization\n",
    "\n",
    "Matrix factorization approaches to recommender systems gained attention in 2009 when the matrix factorization technique was used successfully in the 2009 Netflix prize. More details on this can be found [here](https://datajobs.com/data-science-repo/Recommender-Systems-[Netflix].pdf).\n",
    "\n",
    "The gist of the approach is as follows:\n",
    "\n",
    "Imagine all the user and item information presented as a crosstabulated matrix, where each value $a_{ user_{i}, item_{j}}$ in the matrix is the rating user i gave to item j. This crosstabulated matrix could be factored into two matrices - a user matrix and an item matrix such that $M_{users} M_{items} = M_{crosstab}$\n",
    "\n",
    "[](attachment:im1.png)\n",
    "\n",
    "<img src=\"im1.png\">\n",
    "\n",
    "There's a problem with this though. Any real user/item matrix will be extremely sparse. No user has reviewed every movie. The bulk of users have only reviewed a handful of movies. How do you deal with all the missing values? Any strategy based on filling in missing values with a placeholder or an average will only serve to skew the results of the model. Because of this, any analytical approach to matrix factorization will fail.\n",
    "\n",
    "The solution is to use a machine learing approach to develop the user matrix and the item matrix using only the data available. With this approach, user data and item data are put into embedding matrices, where each user or item is represented by a row in the matrix.\n",
    "\n",
    "[](attachment:im2.png)\n",
    "\n",
    "<img src=\"im2.png\">\n",
    "\n",
    "Each user/item has a unique set of weights describing the item. Based on the matrix factorization approach, we expect the dot product between the weights for a given user and the weights for a given item will give the user rating for that item.\n",
    "\n",
    "[](attachment:im3.png)\n",
    "\n",
    "<img src=\"im3.png\">\n",
    "\n",
    "This allows you to develop a model using only the paired (user, item) -> rating data that exists in the data set. The goal of the recommender model will be to learn the weights that best represent each user and each item. The hope of using this approach is that the user and item weights the model learns will generalize beyond the training data. The model will then be able to estimate a user's rating for a new item by taking the dot product of the user weights and the item weights. The model can generate recommendations of new items for a user by finding the user dot item combo that yields the highest predicted rating."
   ]
  },
  {
   "cell_type": "markdown",
   "metadata": {},
   "source": [
    "# 2. Data Analysis\n",
    "\n",
    "This project will use fast.ai, pytorch, and the dependencies of these libraries."
   ]
  },
  {
   "cell_type": "code",
   "execution_count": 1,
   "metadata": {
    "hidden": true
   },
   "outputs": [],
   "source": [
    "%reload_ext autoreload\n",
    "%autoreload 2\n",
    "%matplotlib inline\n",
    "\n",
    "from fastai.learner import *\n",
    "from fastai.column_data import *"
   ]
  },
  {
   "cell_type": "code",
   "execution_count": 2,
   "metadata": {},
   "outputs": [
    {
     "data": {
      "text/plain": [
       "True"
      ]
     },
     "execution_count": 2,
     "metadata": {},
     "output_type": "execute_result"
    }
   ],
   "source": [
    "#Set GPU\n",
    "torch.cuda.set_device(1)\n",
    "torch.cuda.is_available()"
   ]
  },
  {
   "cell_type": "code",
   "execution_count": 3,
   "metadata": {},
   "outputs": [
    {
     "data": {
      "text/plain": [
       "True"
      ]
     },
     "execution_count": 3,
     "metadata": {},
     "output_type": "execute_result"
    }
   ],
   "source": [
    "torch.backends.cudnn.enabled"
   ]
  },
  {
   "cell_type": "code",
   "execution_count": 4,
   "metadata": {
    "hidden": true
   },
   "outputs": [],
   "source": [
    "path='data/ml-latest-small/'"
   ]
  },
  {
   "cell_type": "markdown",
   "metadata": {},
   "source": [
    "The ratings data spreadsheet has paired (user, movie, rating) data for 100,004 user movie reviews. The data set covers 9066 unique movies and 671 unique users."
   ]
  },
  {
   "cell_type": "code",
   "execution_count": 5,
   "metadata": {
    "hidden": true
   },
   "outputs": [
    {
     "data": {
      "text/html": [
       "<div>\n",
       "<style scoped>\n",
       "    .dataframe tbody tr th:only-of-type {\n",
       "        vertical-align: middle;\n",
       "    }\n",
       "\n",
       "    .dataframe tbody tr th {\n",
       "        vertical-align: top;\n",
       "    }\n",
       "\n",
       "    .dataframe thead th {\n",
       "        text-align: right;\n",
       "    }\n",
       "</style>\n",
       "<table border=\"1\" class=\"dataframe\">\n",
       "  <thead>\n",
       "    <tr style=\"text-align: right;\">\n",
       "      <th></th>\n",
       "      <th>userId</th>\n",
       "      <th>movieId</th>\n",
       "      <th>rating</th>\n",
       "      <th>timestamp</th>\n",
       "    </tr>\n",
       "  </thead>\n",
       "  <tbody>\n",
       "    <tr>\n",
       "      <th>0</th>\n",
       "      <td>1</td>\n",
       "      <td>31</td>\n",
       "      <td>2.5</td>\n",
       "      <td>1260759144</td>\n",
       "    </tr>\n",
       "    <tr>\n",
       "      <th>1</th>\n",
       "      <td>1</td>\n",
       "      <td>1029</td>\n",
       "      <td>3.0</td>\n",
       "      <td>1260759179</td>\n",
       "    </tr>\n",
       "    <tr>\n",
       "      <th>2</th>\n",
       "      <td>1</td>\n",
       "      <td>1061</td>\n",
       "      <td>3.0</td>\n",
       "      <td>1260759182</td>\n",
       "    </tr>\n",
       "    <tr>\n",
       "      <th>3</th>\n",
       "      <td>1</td>\n",
       "      <td>1129</td>\n",
       "      <td>2.0</td>\n",
       "      <td>1260759185</td>\n",
       "    </tr>\n",
       "    <tr>\n",
       "      <th>4</th>\n",
       "      <td>1</td>\n",
       "      <td>1172</td>\n",
       "      <td>4.0</td>\n",
       "      <td>1260759205</td>\n",
       "    </tr>\n",
       "  </tbody>\n",
       "</table>\n",
       "</div>"
      ],
      "text/plain": [
       "   userId  movieId  rating   timestamp\n",
       "0       1       31     2.5  1260759144\n",
       "1       1     1029     3.0  1260759179\n",
       "2       1     1061     3.0  1260759182\n",
       "3       1     1129     2.0  1260759185\n",
       "4       1     1172     4.0  1260759205"
      ]
     },
     "execution_count": 5,
     "metadata": {},
     "output_type": "execute_result"
    }
   ],
   "source": [
    "ratings = pd.read_csv(path+'ratings.csv')\n",
    "ratings.head()"
   ]
  },
  {
   "cell_type": "code",
   "execution_count": 6,
   "metadata": {},
   "outputs": [
    {
     "data": {
      "text/plain": [
       "100004"
      ]
     },
     "execution_count": 6,
     "metadata": {},
     "output_type": "execute_result"
    }
   ],
   "source": [
    "len(ratings)"
   ]
  },
  {
   "cell_type": "code",
   "execution_count": 7,
   "metadata": {},
   "outputs": [
    {
     "data": {
      "text/plain": [
       "9066"
      ]
     },
     "execution_count": 7,
     "metadata": {},
     "output_type": "execute_result"
    }
   ],
   "source": [
    "len(ratings.movieId.unique())"
   ]
  },
  {
   "cell_type": "code",
   "execution_count": 8,
   "metadata": {
    "scrolled": true
   },
   "outputs": [
    {
     "data": {
      "text/plain": [
       "671"
      ]
     },
     "execution_count": 8,
     "metadata": {},
     "output_type": "execute_result"
    }
   ],
   "source": [
    "len(ratings.userId.unique())"
   ]
  },
  {
   "cell_type": "code",
   "execution_count": 9,
   "metadata": {},
   "outputs": [
    {
     "data": {
      "text/plain": [
       "163949"
      ]
     },
     "execution_count": 9,
     "metadata": {},
     "output_type": "execute_result"
    }
   ],
   "source": [
    "ratings.movieId.max()"
   ]
  },
  {
   "cell_type": "markdown",
   "metadata": {
    "hidden": true
   },
   "source": [
    "We can also connect movie Ids to movie titles."
   ]
  },
  {
   "cell_type": "code",
   "execution_count": 10,
   "metadata": {
    "hidden": true
   },
   "outputs": [
    {
     "data": {
      "text/html": [
       "<div>\n",
       "<style scoped>\n",
       "    .dataframe tbody tr th:only-of-type {\n",
       "        vertical-align: middle;\n",
       "    }\n",
       "\n",
       "    .dataframe tbody tr th {\n",
       "        vertical-align: top;\n",
       "    }\n",
       "\n",
       "    .dataframe thead th {\n",
       "        text-align: right;\n",
       "    }\n",
       "</style>\n",
       "<table border=\"1\" class=\"dataframe\">\n",
       "  <thead>\n",
       "    <tr style=\"text-align: right;\">\n",
       "      <th></th>\n",
       "      <th>movieId</th>\n",
       "      <th>title</th>\n",
       "      <th>genres</th>\n",
       "    </tr>\n",
       "  </thead>\n",
       "  <tbody>\n",
       "    <tr>\n",
       "      <th>0</th>\n",
       "      <td>1</td>\n",
       "      <td>Toy Story (1995)</td>\n",
       "      <td>Adventure|Animation|Children|Comedy|Fantasy</td>\n",
       "    </tr>\n",
       "    <tr>\n",
       "      <th>1</th>\n",
       "      <td>2</td>\n",
       "      <td>Jumanji (1995)</td>\n",
       "      <td>Adventure|Children|Fantasy</td>\n",
       "    </tr>\n",
       "    <tr>\n",
       "      <th>2</th>\n",
       "      <td>3</td>\n",
       "      <td>Grumpier Old Men (1995)</td>\n",
       "      <td>Comedy|Romance</td>\n",
       "    </tr>\n",
       "    <tr>\n",
       "      <th>3</th>\n",
       "      <td>4</td>\n",
       "      <td>Waiting to Exhale (1995)</td>\n",
       "      <td>Comedy|Drama|Romance</td>\n",
       "    </tr>\n",
       "    <tr>\n",
       "      <th>4</th>\n",
       "      <td>5</td>\n",
       "      <td>Father of the Bride Part II (1995)</td>\n",
       "      <td>Comedy</td>\n",
       "    </tr>\n",
       "  </tbody>\n",
       "</table>\n",
       "</div>"
      ],
      "text/plain": [
       "   movieId                               title  \\\n",
       "0        1                    Toy Story (1995)   \n",
       "1        2                      Jumanji (1995)   \n",
       "2        3             Grumpier Old Men (1995)   \n",
       "3        4            Waiting to Exhale (1995)   \n",
       "4        5  Father of the Bride Part II (1995)   \n",
       "\n",
       "                                        genres  \n",
       "0  Adventure|Animation|Children|Comedy|Fantasy  \n",
       "1                   Adventure|Children|Fantasy  \n",
       "2                               Comedy|Romance  \n",
       "3                         Comedy|Drama|Romance  \n",
       "4                                       Comedy  "
      ]
     },
     "execution_count": 10,
     "metadata": {},
     "output_type": "execute_result"
    }
   ],
   "source": [
    "movies = pd.read_csv(path+'movies.csv')\n",
    "movies.head()"
   ]
  },
  {
   "cell_type": "code",
   "execution_count": 11,
   "metadata": {},
   "outputs": [],
   "source": [
    "g=ratings.groupby('userId')['rating'].count()\n",
    "topUsers=g.sort_values(ascending=False)[:15]\n",
    "g=ratings.groupby('movieId')['rating'].count()\n",
    "topMovies=g.sort_values(ascending=False)[:15]\n",
    "top_r = ratings.join(topUsers, rsuffix='_r', how='inner', on='userId')\n",
    "top_r = top_r.join(topMovies, rsuffix='_r', how='inner', on='movieId')"
   ]
  },
  {
   "cell_type": "markdown",
   "metadata": {},
   "source": [
    "This is the sort of crosstabbed matrix we want the model to produce."
   ]
  },
  {
   "cell_type": "code",
   "execution_count": 12,
   "metadata": {},
   "outputs": [
    {
     "data": {
      "text/html": [
       "<div>\n",
       "<style scoped>\n",
       "    .dataframe tbody tr th:only-of-type {\n",
       "        vertical-align: middle;\n",
       "    }\n",
       "\n",
       "    .dataframe tbody tr th {\n",
       "        vertical-align: top;\n",
       "    }\n",
       "\n",
       "    .dataframe thead th {\n",
       "        text-align: right;\n",
       "    }\n",
       "</style>\n",
       "<table border=\"1\" class=\"dataframe\">\n",
       "  <thead>\n",
       "    <tr style=\"text-align: right;\">\n",
       "      <th>movieId</th>\n",
       "      <th>1</th>\n",
       "      <th>110</th>\n",
       "      <th>260</th>\n",
       "      <th>296</th>\n",
       "      <th>318</th>\n",
       "      <th>356</th>\n",
       "      <th>480</th>\n",
       "      <th>527</th>\n",
       "      <th>589</th>\n",
       "      <th>593</th>\n",
       "      <th>608</th>\n",
       "      <th>1196</th>\n",
       "      <th>1198</th>\n",
       "      <th>1270</th>\n",
       "      <th>2571</th>\n",
       "    </tr>\n",
       "    <tr>\n",
       "      <th>userId</th>\n",
       "      <th></th>\n",
       "      <th></th>\n",
       "      <th></th>\n",
       "      <th></th>\n",
       "      <th></th>\n",
       "      <th></th>\n",
       "      <th></th>\n",
       "      <th></th>\n",
       "      <th></th>\n",
       "      <th></th>\n",
       "      <th></th>\n",
       "      <th></th>\n",
       "      <th></th>\n",
       "      <th></th>\n",
       "      <th></th>\n",
       "    </tr>\n",
       "  </thead>\n",
       "  <tbody>\n",
       "    <tr>\n",
       "      <th>15</th>\n",
       "      <td>2.0</td>\n",
       "      <td>3.0</td>\n",
       "      <td>5.0</td>\n",
       "      <td>5.0</td>\n",
       "      <td>2.0</td>\n",
       "      <td>1.0</td>\n",
       "      <td>3.0</td>\n",
       "      <td>4.0</td>\n",
       "      <td>4.0</td>\n",
       "      <td>5.0</td>\n",
       "      <td>5.0</td>\n",
       "      <td>5.0</td>\n",
       "      <td>4.0</td>\n",
       "      <td>5.0</td>\n",
       "      <td>5.0</td>\n",
       "    </tr>\n",
       "    <tr>\n",
       "      <th>30</th>\n",
       "      <td>4.0</td>\n",
       "      <td>5.0</td>\n",
       "      <td>4.0</td>\n",
       "      <td>5.0</td>\n",
       "      <td>5.0</td>\n",
       "      <td>5.0</td>\n",
       "      <td>4.0</td>\n",
       "      <td>5.0</td>\n",
       "      <td>4.0</td>\n",
       "      <td>4.0</td>\n",
       "      <td>5.0</td>\n",
       "      <td>4.0</td>\n",
       "      <td>5.0</td>\n",
       "      <td>5.0</td>\n",
       "      <td>3.0</td>\n",
       "    </tr>\n",
       "    <tr>\n",
       "      <th>73</th>\n",
       "      <td>5.0</td>\n",
       "      <td>4.0</td>\n",
       "      <td>4.5</td>\n",
       "      <td>5.0</td>\n",
       "      <td>5.0</td>\n",
       "      <td>5.0</td>\n",
       "      <td>4.0</td>\n",
       "      <td>5.0</td>\n",
       "      <td>3.0</td>\n",
       "      <td>4.5</td>\n",
       "      <td>4.0</td>\n",
       "      <td>5.0</td>\n",
       "      <td>5.0</td>\n",
       "      <td>5.0</td>\n",
       "      <td>4.5</td>\n",
       "    </tr>\n",
       "    <tr>\n",
       "      <th>212</th>\n",
       "      <td>3.0</td>\n",
       "      <td>5.0</td>\n",
       "      <td>4.0</td>\n",
       "      <td>4.0</td>\n",
       "      <td>4.5</td>\n",
       "      <td>4.0</td>\n",
       "      <td>3.0</td>\n",
       "      <td>5.0</td>\n",
       "      <td>3.0</td>\n",
       "      <td>4.0</td>\n",
       "      <td>NaN</td>\n",
       "      <td>NaN</td>\n",
       "      <td>3.0</td>\n",
       "      <td>3.0</td>\n",
       "      <td>5.0</td>\n",
       "    </tr>\n",
       "    <tr>\n",
       "      <th>213</th>\n",
       "      <td>3.0</td>\n",
       "      <td>2.5</td>\n",
       "      <td>5.0</td>\n",
       "      <td>NaN</td>\n",
       "      <td>NaN</td>\n",
       "      <td>2.0</td>\n",
       "      <td>5.0</td>\n",
       "      <td>NaN</td>\n",
       "      <td>4.0</td>\n",
       "      <td>2.5</td>\n",
       "      <td>2.0</td>\n",
       "      <td>5.0</td>\n",
       "      <td>3.0</td>\n",
       "      <td>3.0</td>\n",
       "      <td>4.0</td>\n",
       "    </tr>\n",
       "    <tr>\n",
       "      <th>294</th>\n",
       "      <td>4.0</td>\n",
       "      <td>3.0</td>\n",
       "      <td>4.0</td>\n",
       "      <td>NaN</td>\n",
       "      <td>3.0</td>\n",
       "      <td>4.0</td>\n",
       "      <td>4.0</td>\n",
       "      <td>4.0</td>\n",
       "      <td>3.0</td>\n",
       "      <td>NaN</td>\n",
       "      <td>NaN</td>\n",
       "      <td>4.0</td>\n",
       "      <td>4.5</td>\n",
       "      <td>4.0</td>\n",
       "      <td>4.5</td>\n",
       "    </tr>\n",
       "    <tr>\n",
       "      <th>311</th>\n",
       "      <td>3.0</td>\n",
       "      <td>3.0</td>\n",
       "      <td>4.0</td>\n",
       "      <td>3.0</td>\n",
       "      <td>4.5</td>\n",
       "      <td>5.0</td>\n",
       "      <td>4.5</td>\n",
       "      <td>5.0</td>\n",
       "      <td>4.5</td>\n",
       "      <td>2.0</td>\n",
       "      <td>4.0</td>\n",
       "      <td>3.0</td>\n",
       "      <td>4.5</td>\n",
       "      <td>4.5</td>\n",
       "      <td>4.0</td>\n",
       "    </tr>\n",
       "    <tr>\n",
       "      <th>380</th>\n",
       "      <td>4.0</td>\n",
       "      <td>5.0</td>\n",
       "      <td>4.0</td>\n",
       "      <td>5.0</td>\n",
       "      <td>4.0</td>\n",
       "      <td>5.0</td>\n",
       "      <td>4.0</td>\n",
       "      <td>NaN</td>\n",
       "      <td>4.0</td>\n",
       "      <td>5.0</td>\n",
       "      <td>4.0</td>\n",
       "      <td>4.0</td>\n",
       "      <td>NaN</td>\n",
       "      <td>3.0</td>\n",
       "      <td>5.0</td>\n",
       "    </tr>\n",
       "    <tr>\n",
       "      <th>452</th>\n",
       "      <td>3.5</td>\n",
       "      <td>4.0</td>\n",
       "      <td>4.0</td>\n",
       "      <td>5.0</td>\n",
       "      <td>5.0</td>\n",
       "      <td>4.0</td>\n",
       "      <td>5.0</td>\n",
       "      <td>4.0</td>\n",
       "      <td>4.0</td>\n",
       "      <td>5.0</td>\n",
       "      <td>5.0</td>\n",
       "      <td>4.0</td>\n",
       "      <td>4.0</td>\n",
       "      <td>4.0</td>\n",
       "      <td>2.0</td>\n",
       "    </tr>\n",
       "    <tr>\n",
       "      <th>468</th>\n",
       "      <td>4.0</td>\n",
       "      <td>3.0</td>\n",
       "      <td>3.5</td>\n",
       "      <td>3.5</td>\n",
       "      <td>3.5</td>\n",
       "      <td>3.0</td>\n",
       "      <td>2.5</td>\n",
       "      <td>NaN</td>\n",
       "      <td>NaN</td>\n",
       "      <td>3.0</td>\n",
       "      <td>4.0</td>\n",
       "      <td>3.0</td>\n",
       "      <td>3.5</td>\n",
       "      <td>3.0</td>\n",
       "      <td>3.0</td>\n",
       "    </tr>\n",
       "    <tr>\n",
       "      <th>509</th>\n",
       "      <td>3.0</td>\n",
       "      <td>5.0</td>\n",
       "      <td>5.0</td>\n",
       "      <td>5.0</td>\n",
       "      <td>4.0</td>\n",
       "      <td>4.0</td>\n",
       "      <td>3.0</td>\n",
       "      <td>5.0</td>\n",
       "      <td>2.0</td>\n",
       "      <td>4.0</td>\n",
       "      <td>4.5</td>\n",
       "      <td>5.0</td>\n",
       "      <td>5.0</td>\n",
       "      <td>3.0</td>\n",
       "      <td>4.5</td>\n",
       "    </tr>\n",
       "    <tr>\n",
       "      <th>547</th>\n",
       "      <td>3.5</td>\n",
       "      <td>NaN</td>\n",
       "      <td>NaN</td>\n",
       "      <td>5.0</td>\n",
       "      <td>5.0</td>\n",
       "      <td>2.0</td>\n",
       "      <td>3.0</td>\n",
       "      <td>5.0</td>\n",
       "      <td>NaN</td>\n",
       "      <td>5.0</td>\n",
       "      <td>5.0</td>\n",
       "      <td>2.5</td>\n",
       "      <td>2.0</td>\n",
       "      <td>3.5</td>\n",
       "      <td>3.5</td>\n",
       "    </tr>\n",
       "    <tr>\n",
       "      <th>564</th>\n",
       "      <td>4.0</td>\n",
       "      <td>1.0</td>\n",
       "      <td>2.0</td>\n",
       "      <td>5.0</td>\n",
       "      <td>NaN</td>\n",
       "      <td>3.0</td>\n",
       "      <td>5.0</td>\n",
       "      <td>4.0</td>\n",
       "      <td>5.0</td>\n",
       "      <td>5.0</td>\n",
       "      <td>5.0</td>\n",
       "      <td>5.0</td>\n",
       "      <td>5.0</td>\n",
       "      <td>3.0</td>\n",
       "      <td>3.0</td>\n",
       "    </tr>\n",
       "    <tr>\n",
       "      <th>580</th>\n",
       "      <td>4.0</td>\n",
       "      <td>4.5</td>\n",
       "      <td>4.0</td>\n",
       "      <td>4.5</td>\n",
       "      <td>4.0</td>\n",
       "      <td>3.5</td>\n",
       "      <td>3.0</td>\n",
       "      <td>4.0</td>\n",
       "      <td>4.5</td>\n",
       "      <td>4.0</td>\n",
       "      <td>4.5</td>\n",
       "      <td>4.0</td>\n",
       "      <td>3.5</td>\n",
       "      <td>3.0</td>\n",
       "      <td>4.5</td>\n",
       "    </tr>\n",
       "    <tr>\n",
       "      <th>624</th>\n",
       "      <td>5.0</td>\n",
       "      <td>NaN</td>\n",
       "      <td>5.0</td>\n",
       "      <td>5.0</td>\n",
       "      <td>NaN</td>\n",
       "      <td>3.0</td>\n",
       "      <td>3.0</td>\n",
       "      <td>NaN</td>\n",
       "      <td>3.0</td>\n",
       "      <td>5.0</td>\n",
       "      <td>4.0</td>\n",
       "      <td>5.0</td>\n",
       "      <td>5.0</td>\n",
       "      <td>5.0</td>\n",
       "      <td>2.0</td>\n",
       "    </tr>\n",
       "  </tbody>\n",
       "</table>\n",
       "</div>"
      ],
      "text/plain": [
       "movieId  1     110   260   296   318   356   480   527   589   593   608   \\\n",
       "userId                                                                      \n",
       "15        2.0   3.0   5.0   5.0   2.0   1.0   3.0   4.0   4.0   5.0   5.0   \n",
       "30        4.0   5.0   4.0   5.0   5.0   5.0   4.0   5.0   4.0   4.0   5.0   \n",
       "73        5.0   4.0   4.5   5.0   5.0   5.0   4.0   5.0   3.0   4.5   4.0   \n",
       "212       3.0   5.0   4.0   4.0   4.5   4.0   3.0   5.0   3.0   4.0   NaN   \n",
       "213       3.0   2.5   5.0   NaN   NaN   2.0   5.0   NaN   4.0   2.5   2.0   \n",
       "294       4.0   3.0   4.0   NaN   3.0   4.0   4.0   4.0   3.0   NaN   NaN   \n",
       "311       3.0   3.0   4.0   3.0   4.5   5.0   4.5   5.0   4.5   2.0   4.0   \n",
       "380       4.0   5.0   4.0   5.0   4.0   5.0   4.0   NaN   4.0   5.0   4.0   \n",
       "452       3.5   4.0   4.0   5.0   5.0   4.0   5.0   4.0   4.0   5.0   5.0   \n",
       "468       4.0   3.0   3.5   3.5   3.5   3.0   2.5   NaN   NaN   3.0   4.0   \n",
       "509       3.0   5.0   5.0   5.0   4.0   4.0   3.0   5.0   2.0   4.0   4.5   \n",
       "547       3.5   NaN   NaN   5.0   5.0   2.0   3.0   5.0   NaN   5.0   5.0   \n",
       "564       4.0   1.0   2.0   5.0   NaN   3.0   5.0   4.0   5.0   5.0   5.0   \n",
       "580       4.0   4.5   4.0   4.5   4.0   3.5   3.0   4.0   4.5   4.0   4.5   \n",
       "624       5.0   NaN   5.0   5.0   NaN   3.0   3.0   NaN   3.0   5.0   4.0   \n",
       "\n",
       "movieId  1196  1198  1270  2571  \n",
       "userId                           \n",
       "15        5.0   4.0   5.0   5.0  \n",
       "30        4.0   5.0   5.0   3.0  \n",
       "73        5.0   5.0   5.0   4.5  \n",
       "212       NaN   3.0   3.0   5.0  \n",
       "213       5.0   3.0   3.0   4.0  \n",
       "294       4.0   4.5   4.0   4.5  \n",
       "311       3.0   4.5   4.5   4.0  \n",
       "380       4.0   NaN   3.0   5.0  \n",
       "452       4.0   4.0   4.0   2.0  \n",
       "468       3.0   3.5   3.0   3.0  \n",
       "509       5.0   5.0   3.0   4.5  \n",
       "547       2.5   2.0   3.5   3.5  \n",
       "564       5.0   5.0   3.0   3.0  \n",
       "580       4.0   3.5   3.0   4.5  \n",
       "624       5.0   5.0   5.0   2.0  "
      ]
     },
     "execution_count": 12,
     "metadata": {},
     "output_type": "execute_result"
    }
   ],
   "source": [
    "pd.crosstab(top_r.userId, top_r.movieId, top_r.rating, aggfunc=np.sum)"
   ]
  },
  {
   "cell_type": "markdown",
   "metadata": {},
   "source": [
    "# 3. Model Setup\n",
    "\n",
    "To start, we need to prepare a dataloader. To do this easily, we will use a CollabFilterDataset object from fast.ai. This creates a Pytorch dataloader that will feed (user, item, rating) data to the model. It also does some useful data processing behind the scenes. \n",
    "\n",
    "Within the CollabFilterDataset object, each user Id and movie Id is mapped to a unique index. This ensures large index values don't blow up our embedding matrix. For example, the largest movie Id in the data set is 163949, but there are only 9066 movies represented. If we didn't map the Ids, our embedding matrix would have to have 163949 rows, which would be absurd.\n",
    "\n",
    "The dataloader also extracts the number of users, number of items, the min rating score and the max rating score."
   ]
  },
  {
   "cell_type": "code",
   "execution_count": 13,
   "metadata": {},
   "outputs": [],
   "source": [
    "val_idxs = get_cv_idxs(len(ratings))\n",
    "cf = CollabFilterDataset.from_data_frame(path, ratings, 'userId', 'movieId', 'rating')"
   ]
  },
  {
   "cell_type": "markdown",
   "metadata": {
    "heading_collapsed": true
   },
   "source": [
    "## Collaborative Filtering - Basic Embedding Bias Model\n",
    "\n",
    "The first model we'll train comes directly from fast.ai. It's the exact dot product model described above, only with the added tweak of bias terms for users and movies. This allows the model to account for things like some users giving generally higher ratings than others, or some movies being generally more popular than others.\n",
    "\n",
    "The model also has an interesting way of generating the final output, given by \n",
    "\n",
    "$F.sigmoid(x) * (max score - min score) + min score$\n",
    "\n",
    "The logic behind this is that sure, you could avoid any final activation and let your model learn that the output ratings should be between 0.5 and 5. But this is just another parameter that the model has to figure out on top of everything else. And you can run into weird situations where the model outputs values slightly outside the 0.5 - 5 range.\n",
    "\n",
    "The solution to this is to squash the output with a sigmoid and scale it between the min and max ratings. This is just taking advantage of domain knowledge that tells us the final output must be between these values. This makes training the model easier. Now the model only needs to output a big number when a user likes an item and a small number when a user doesn't."
   ]
  },
  {
   "cell_type": "code",
   "execution_count": 14,
   "metadata": {},
   "outputs": [],
   "source": [
    "#From fast.ai source \n",
    "class EmbeddingDotBias(nn.Module):\n",
    "    def __init__(self, n_factors, n_users, n_items, min_score, max_score):\n",
    "        super().__init__()\n",
    "        self.min_score,self.max_score = min_score,max_score\n",
    "        (self.u, self.i, self.ub, self.ib) = [get_emb(*o) for o in [\n",
    "            (n_users, n_factors), (n_items, n_factors), (n_users,1), (n_items,1)\n",
    "        ]]\n",
    "\n",
    "    def forward(self, users, items):\n",
    "        um = self.u(users)* self.i(items)\n",
    "        res = um.sum(1) + self.ub(users).squeeze() + self.ib(items).squeeze()\n",
    "        res = F.sigmoid(res) * (self.max_score-self.min_score) + self.min_score\n",
    "        return res"
   ]
  },
  {
   "cell_type": "code",
   "execution_count": 15,
   "metadata": {},
   "outputs": [],
   "source": [
    "wd=2e-4\n",
    "n_factors = 50\n",
    "n_users = cf.n_users\n",
    "n_items = cf.n_items\n",
    "max_rating = cf.max_score\n",
    "min_rating = cf.min_score"
   ]
  },
  {
   "cell_type": "code",
   "execution_count": 16,
   "metadata": {},
   "outputs": [],
   "source": [
    "model = EmbeddingDotBias(n_factors, n_users, n_items, min_rating, max_rating).cuda()"
   ]
  },
  {
   "cell_type": "code",
   "execution_count": 17,
   "metadata": {},
   "outputs": [],
   "source": [
    "learner = CollabFilterLearner(cf.get_data(val_idxs, 128), CollabFilterModel(model), opt_fn=optim.Adam)"
   ]
  },
  {
   "cell_type": "code",
   "execution_count": 18,
   "metadata": {
    "scrolled": true
   },
   "outputs": [
    {
     "data": {
      "application/vnd.jupyter.widget-view+json": {
       "model_id": "8ff971b0f8454fb29cf3aede9a48c079",
       "version_major": 2,
       "version_minor": 0
      },
      "text/plain": [
       "HBox(children=(IntProgress(value=0, description='Epoch', max=7), HTML(value='')))"
      ]
     },
     "metadata": {},
     "output_type": "display_data"
    },
    {
     "name": "stdout",
     "output_type": "stream",
     "text": [
      "epoch      trn_loss   val_loss                                                                                         \n",
      "    0      0.821621   0.826325  \n",
      "    1      0.759099   0.774451                                                                                         \n",
      "    2      0.605246   0.759806                                                                                         \n",
      "    3      0.795292   0.781049                                                                                         \n",
      "    4      0.630582   0.763085                                                                                         \n",
      "    5      0.524155   0.758346                                                                                         \n",
      "    6      0.394643   0.759017                                                                                         \n",
      "\n"
     ]
    },
    {
     "data": {
      "text/plain": [
       "[0.7590165189743042]"
      ]
     },
     "execution_count": 18,
     "metadata": {},
     "output_type": "execute_result"
    }
   ],
   "source": [
    "learner.fit(1e-2, 3, wds=wd, cycle_len=1, cycle_mult=2)"
   ]
  },
  {
   "cell_type": "markdown",
   "metadata": {},
   "source": [
    "So this model got to about 0.76 validation loss before it started badly overfitting. We will use this as a benchmark for looking at other model variants."
   ]
  },
  {
   "cell_type": "markdown",
   "metadata": {},
   "source": [
    "# 4. Model Exploration\n",
    "\n",
    "I wanted to try some variants on the embedding with bias model shown above.\n",
    "\n",
    "## 4.1 Basic Embedding Scaled\n",
    "\n",
    "The first thing I wanted to try was seeing if getting rid of the rating scaling would do anything for performance. I normalized the ratings between 0 and 1 and removed the rating scaling after the sigmoid."
   ]
  },
  {
   "cell_type": "code",
   "execution_count": 19,
   "metadata": {},
   "outputs": [],
   "source": [
    "from sklearn import preprocessing\n",
    "\n",
    "rating_vals = ratings.rating.values.reshape(-1, 1)\n",
    "min_max_scaler = preprocessing.MinMaxScaler()\n",
    "ratings_scaled = min_max_scaler.fit_transform(rating_vals)"
   ]
  },
  {
   "cell_type": "code",
   "execution_count": 20,
   "metadata": {},
   "outputs": [],
   "source": [
    "df_scaled = ratings.copy()\n",
    "df_scaled['ratings_scaled'] = ratings_scaled"
   ]
  },
  {
   "cell_type": "code",
   "execution_count": 21,
   "metadata": {},
   "outputs": [
    {
     "data": {
      "text/html": [
       "<div>\n",
       "<style scoped>\n",
       "    .dataframe tbody tr th:only-of-type {\n",
       "        vertical-align: middle;\n",
       "    }\n",
       "\n",
       "    .dataframe tbody tr th {\n",
       "        vertical-align: top;\n",
       "    }\n",
       "\n",
       "    .dataframe thead th {\n",
       "        text-align: right;\n",
       "    }\n",
       "</style>\n",
       "<table border=\"1\" class=\"dataframe\">\n",
       "  <thead>\n",
       "    <tr style=\"text-align: right;\">\n",
       "      <th></th>\n",
       "      <th>userId</th>\n",
       "      <th>movieId</th>\n",
       "      <th>rating</th>\n",
       "      <th>timestamp</th>\n",
       "      <th>ratings_scaled</th>\n",
       "    </tr>\n",
       "  </thead>\n",
       "  <tbody>\n",
       "    <tr>\n",
       "      <th>0</th>\n",
       "      <td>1</td>\n",
       "      <td>31</td>\n",
       "      <td>2.5</td>\n",
       "      <td>1260759144</td>\n",
       "      <td>0.444444</td>\n",
       "    </tr>\n",
       "    <tr>\n",
       "      <th>1</th>\n",
       "      <td>1</td>\n",
       "      <td>1029</td>\n",
       "      <td>3.0</td>\n",
       "      <td>1260759179</td>\n",
       "      <td>0.555556</td>\n",
       "    </tr>\n",
       "    <tr>\n",
       "      <th>2</th>\n",
       "      <td>1</td>\n",
       "      <td>1061</td>\n",
       "      <td>3.0</td>\n",
       "      <td>1260759182</td>\n",
       "      <td>0.555556</td>\n",
       "    </tr>\n",
       "    <tr>\n",
       "      <th>3</th>\n",
       "      <td>1</td>\n",
       "      <td>1129</td>\n",
       "      <td>2.0</td>\n",
       "      <td>1260759185</td>\n",
       "      <td>0.333333</td>\n",
       "    </tr>\n",
       "    <tr>\n",
       "      <th>4</th>\n",
       "      <td>1</td>\n",
       "      <td>1172</td>\n",
       "      <td>4.0</td>\n",
       "      <td>1260759205</td>\n",
       "      <td>0.777778</td>\n",
       "    </tr>\n",
       "  </tbody>\n",
       "</table>\n",
       "</div>"
      ],
      "text/plain": [
       "   userId  movieId  rating   timestamp  ratings_scaled\n",
       "0       1       31     2.5  1260759144        0.444444\n",
       "1       1     1029     3.0  1260759179        0.555556\n",
       "2       1     1061     3.0  1260759182        0.555556\n",
       "3       1     1129     2.0  1260759185        0.333333\n",
       "4       1     1172     4.0  1260759205        0.777778"
      ]
     },
     "execution_count": 21,
     "metadata": {},
     "output_type": "execute_result"
    }
   ],
   "source": [
    "df_scaled.head()"
   ]
  },
  {
   "cell_type": "code",
   "execution_count": 22,
   "metadata": {},
   "outputs": [
    {
     "data": {
      "text/plain": [
       "(0.0, 1.0)"
      ]
     },
     "execution_count": 22,
     "metadata": {},
     "output_type": "execute_result"
    }
   ],
   "source": [
    "df_scaled.ratings_scaled.min(), df_scaled.ratings_scaled.max()"
   ]
  },
  {
   "cell_type": "code",
   "execution_count": 23,
   "metadata": {},
   "outputs": [],
   "source": [
    "cf2 = CollabFilterDataset.from_data_frame(path, df_scaled, 'userId', 'movieId', 'ratings_scaled')"
   ]
  },
  {
   "cell_type": "code",
   "execution_count": 24,
   "metadata": {},
   "outputs": [],
   "source": [
    "class EmbeddingDotBias2(nn.Module):\n",
    "    def __init__(self, n_factors, n_users, n_items):\n",
    "        super().__init__()\n",
    "        (self.u, self.i, self.ub, self.ib) = [get_emb(*o) for o in [\n",
    "            (n_users, n_factors), (n_items, n_factors), (n_users,1), (n_items,1)\n",
    "        ]]\n",
    "\n",
    "    def forward(self, users, items):\n",
    "        um = self.u(users)* self.i(items)\n",
    "        res = um.sum(1) + self.ub(users).squeeze() + self.ib(items).squeeze()\n",
    "        res = F.sigmoid(res)\n",
    "        return res"
   ]
  },
  {
   "cell_type": "code",
   "execution_count": 25,
   "metadata": {},
   "outputs": [],
   "source": [
    "wd=2e-4\n",
    "n_factors = 50\n",
    "n_users = cf.n_users\n",
    "n_items = cf.n_items"
   ]
  },
  {
   "cell_type": "code",
   "execution_count": 26,
   "metadata": {},
   "outputs": [],
   "source": [
    "model = EmbeddingDotBias2(n_factors, n_users, n_items).cuda()"
   ]
  },
  {
   "cell_type": "code",
   "execution_count": 27,
   "metadata": {},
   "outputs": [],
   "source": [
    "learner = CollabFilterLearner(cf2.get_data(val_idxs, 128), CollabFilterModel(model), opt_fn=optim.Adam)"
   ]
  },
  {
   "cell_type": "code",
   "execution_count": 28,
   "metadata": {},
   "outputs": [
    {
     "data": {
      "application/vnd.jupyter.widget-view+json": {
       "model_id": "8b92199d40e24ee389a91dc007610b85",
       "version_major": 2,
       "version_minor": 0
      },
      "text/plain": [
       "HBox(children=(IntProgress(value=0, description='Epoch', max=3), HTML(value='')))"
      ]
     },
     "metadata": {},
     "output_type": "display_data"
    },
    {
     "name": "stdout",
     "output_type": "stream",
     "text": [
      "epoch      trn_loss   val_loss                                                                                         \n",
      "    0      0.051038   0.052178  \n",
      "    1      0.051653   0.051202                                                                                         \n",
      "    2      0.050066   0.051058                                                                                         \n",
      "\n"
     ]
    },
    {
     "data": {
      "text/plain": [
       "[0.05105783131122589]"
      ]
     },
     "execution_count": 28,
     "metadata": {},
     "output_type": "execute_result"
    }
   ],
   "source": [
    "learner.fit(1e-2, 2, wds=wd, cycle_len=1, cycle_mult=2)"
   ]
  },
  {
   "cell_type": "code",
   "execution_count": 29,
   "metadata": {},
   "outputs": [
    {
     "data": {
      "application/vnd.jupyter.widget-view+json": {
       "model_id": "317b9f54810b440a8a370c4f799b9ea0",
       "version_major": 2,
       "version_minor": 0
      },
      "text/plain": [
       "HBox(children=(IntProgress(value=0, description='Epoch', max=7), HTML(value='')))"
      ]
     },
     "metadata": {},
     "output_type": "display_data"
    },
    {
     "name": "stdout",
     "output_type": "stream",
     "text": [
      "epoch      trn_loss   val_loss                                                                                         \n",
      "    0      0.051612   0.051238  \n",
      "    1      0.052044   0.051045                                                                                         \n",
      "    2      0.049404   0.051079                                                                                         \n",
      "    3      0.05166    0.05111                                                                                          \n",
      "    4      0.049405   0.051078                                                                                         \n",
      "    5      0.049135   0.051086                                                                                         \n",
      "    6      0.049752   0.051087                                                                                         \n",
      "\n"
     ]
    },
    {
     "data": {
      "text/plain": [
       "[0.05108709952831268]"
      ]
     },
     "execution_count": 29,
     "metadata": {},
     "output_type": "execute_result"
    }
   ],
   "source": [
    "learner.fit(5e-3, 3, wds=wd, cycle_len=1, cycle_mult=2)"
   ]
  },
  {
   "cell_type": "markdown",
   "metadata": {},
   "source": [
    "On the surface our loss looks much better, but this could be entirely due to the rescaling. Before, predicting 5 against 0.5 would earn a loss of 20.25 (mse). Doing the equivalent here, predicting 1 against 0, would only earn a loss of 1.\n",
    "\n",
    "To compare model performance, we need to use the min max scaler to inverse transform the predictions and the actuals and see what the loss looks like on the 5 point scale."
   ]
  },
  {
   "cell_type": "code",
   "execution_count": 30,
   "metadata": {},
   "outputs": [],
   "source": [
    "preds, y = learner.predict_with_targs()"
   ]
  },
  {
   "cell_type": "code",
   "execution_count": 31,
   "metadata": {},
   "outputs": [
    {
     "data": {
      "text/plain": [
       "array([0.5027 , 0.65452, 0.55099, ..., 0.63517, 0.59037, 0.60547], dtype=float32)"
      ]
     },
     "execution_count": 31,
     "metadata": {},
     "output_type": "execute_result"
    }
   ],
   "source": [
    "preds"
   ]
  },
  {
   "cell_type": "code",
   "execution_count": 32,
   "metadata": {},
   "outputs": [
    {
     "data": {
      "text/plain": [
       "array([0.66667, 0.77778, 0.55556, ..., 0.77778, 0.77778, 0.66667], dtype=float32)"
      ]
     },
     "execution_count": 32,
     "metadata": {},
     "output_type": "execute_result"
    }
   ],
   "source": [
    "y"
   ]
  },
  {
   "cell_type": "code",
   "execution_count": 33,
   "metadata": {},
   "outputs": [
    {
     "data": {
      "text/plain": [
       "array([[2.76217],\n",
       "       [3.44532],\n",
       "       [2.97947],\n",
       "       ...,\n",
       "       [3.35828],\n",
       "       [3.15666],\n",
       "       [3.2246 ]], dtype=float32)"
      ]
     },
     "execution_count": 33,
     "metadata": {},
     "output_type": "execute_result"
    }
   ],
   "source": [
    "preds = min_max_scaler.inverse_transform(preds.reshape(-1, 1))\n",
    "preds"
   ]
  },
  {
   "cell_type": "code",
   "execution_count": 34,
   "metadata": {},
   "outputs": [
    {
     "data": {
      "text/plain": [
       "array([[3.5],\n",
       "       [4. ],\n",
       "       [3. ],\n",
       "       ...,\n",
       "       [4. ],\n",
       "       [4. ],\n",
       "       [3.5]], dtype=float32)"
      ]
     },
     "execution_count": 34,
     "metadata": {},
     "output_type": "execute_result"
    }
   ],
   "source": [
    "y = min_max_scaler.inverse_transform(y.reshape(-1, 1))\n",
    "y"
   ]
  },
  {
   "cell_type": "code",
   "execution_count": 35,
   "metadata": {},
   "outputs": [
    {
     "data": {
      "text/plain": [
       "1.0345137"
      ]
     },
     "execution_count": 35,
     "metadata": {},
     "output_type": "execute_result"
    }
   ],
   "source": [
    "scaled_loss = ((y - preds)**2).mean()\n",
    "scaled_loss"
   ]
  },
  {
   "cell_type": "markdown",
   "metadata": {},
   "source": [
    "The scaled loss is 1.03. This is much worse than our baseline loss of 0.76! No improvement here."
   ]
  },
  {
   "cell_type": "markdown",
   "metadata": {},
   "source": [
    "## 4.2 Mini Net\n",
    "\n",
    "With this variant, we still start off with the embedding matrices for users and items. However instead of calculating a dot product and adding bias, we concatenate the user and move weights and feed them through two dense layers."
   ]
  },
  {
   "cell_type": "code",
   "execution_count": 36,
   "metadata": {},
   "outputs": [],
   "source": [
    "class EmbeddingNet(nn.Module):\n",
    "    def __init__(self, n_factors, n_users, n_items, nh, min_score, max_score, drops):\n",
    "        super().__init__()\n",
    "        (self.u, self.i) = [get_emb(*o) for o in [\n",
    "            (n_users, n_factors), (n_items, n_factors)]]\n",
    "        \n",
    "        self.max_score = max_score\n",
    "        self.min_score = min_score\n",
    "        \n",
    "        self.lin1 = nn.Linear(n_factors*2, nh)\n",
    "        self.lin2 = nn.Linear(nh, 1)\n",
    "        \n",
    "        self.drop1 = nn.Dropout(drops[0])\n",
    "        self.drop2 = nn.Dropout(drops[1])\n",
    "\n",
    "    def forward(self, users, items):\n",
    "        x = self.drop1(torch.cat([self.u(users), self.i(items)], dim=1))\n",
    "        x = self.drop2(F.relu(self.lin1(x)))\n",
    "        x = F.sigmoid(self.lin2(x)) * (self.max_score-self.min_score) + self.min_score\n",
    "        return x.squeeze()"
   ]
  },
  {
   "cell_type": "code",
   "execution_count": 37,
   "metadata": {},
   "outputs": [],
   "source": [
    "n_users = cf.n_users\n",
    "n_items = cf.n_items\n",
    "n_factors = 50\n",
    "nh = 16\n",
    "max_rating = cf.max_score\n",
    "min_rating = cf.min_score\n",
    "wd = 2e-4\n",
    "drops = [0.05, 0.1]"
   ]
  },
  {
   "cell_type": "code",
   "execution_count": 38,
   "metadata": {},
   "outputs": [],
   "source": [
    "model = EmbeddingNet(n_factors, n_users, n_items, nh, min_rating, max_rating, drops).cuda()"
   ]
  },
  {
   "cell_type": "code",
   "execution_count": 39,
   "metadata": {},
   "outputs": [],
   "source": [
    "learn_test = CollabFilterLearner(cf.get_data(val_idxs, 128), CollabFilterModel(model), opt_fn=optim.Adam)"
   ]
  },
  {
   "cell_type": "code",
   "execution_count": 40,
   "metadata": {
    "scrolled": false
   },
   "outputs": [
    {
     "data": {
      "application/vnd.jupyter.widget-view+json": {
       "model_id": "b45cffae25bb464a9a103b55c096db09",
       "version_major": 2,
       "version_minor": 0
      },
      "text/plain": [
       "HBox(children=(IntProgress(value=0, description='Epoch', max=7), HTML(value='')))"
      ]
     },
     "metadata": {},
     "output_type": "display_data"
    },
    {
     "name": "stdout",
     "output_type": "stream",
     "text": [
      "epoch      trn_loss   val_loss                                                                                         \n",
      "    0      0.809743   0.800732  \n",
      "    1      0.853515   0.803639                                                                                         \n",
      "    2      0.731731   0.778439                                                                                         \n",
      "    3      0.81282    0.797001                                                                                         \n",
      "    4      0.777618   0.783927                                                                                         \n",
      "    5      0.715608   0.772345                                                                                         \n",
      "    6      0.699388   0.775068                                                                                         \n",
      "\n"
     ]
    },
    {
     "data": {
      "text/plain": [
       "[0.7750678997039795]"
      ]
     },
     "execution_count": 40,
     "metadata": {},
     "output_type": "execute_result"
    }
   ],
   "source": [
    "learn_test.fit(1e-2, 3, wds=wd, cycle_len=1, cycle_mult=2)"
   ]
  },
  {
   "cell_type": "markdown",
   "metadata": {},
   "source": [
    "A validation loss of about 0.77 was the best I could get after playing around with layer size and dropout. Maybe a deeper network will help?\n",
    "\n",
    "Here's the same model with a third linear layer."
   ]
  },
  {
   "cell_type": "code",
   "execution_count": 41,
   "metadata": {},
   "outputs": [],
   "source": [
    "class EmbeddingNet2(nn.Module):\n",
    "    def __init__(self, n_factors, n_users, n_items, nh, min_score, max_score, drops):\n",
    "        super().__init__()\n",
    "        (self.u, self.i) = [get_emb(*o) for o in [\n",
    "            (n_users, n_factors), (n_items, n_factors)]]\n",
    "        \n",
    "        self.max_score = max_score\n",
    "        self.min_score = min_score\n",
    "        \n",
    "        self.lin1 = nn.Linear(n_factors*2, nh[0])\n",
    "        self.lin2 = nn.Linear(nh[0], nh[1])\n",
    "        self.lin3 = nn.Linear(nh[1], 1)\n",
    "        \n",
    "        self.drop1 = nn.Dropout(drops[0])\n",
    "        self.drop2 = nn.Dropout(drops[1])\n",
    "        self.drop3 = nn.Dropout(drops[2])\n",
    "\n",
    "    def forward(self, users, items):\n",
    "        x = self.drop1(torch.cat([self.u(users), self.i(items)], dim=1))\n",
    "        x = self.drop2(F.relu(self.lin1(x)))\n",
    "        x = self.drop3(F.relu(self.lin2(x)))\n",
    "        x = F.sigmoid(self.lin3(x)) * (self.max_score-self.min_score) + self.min_score\n",
    "        return x.squeeze()"
   ]
  },
  {
   "cell_type": "code",
   "execution_count": 42,
   "metadata": {},
   "outputs": [],
   "source": [
    "n_users = cf.n_users\n",
    "n_items = cf.n_items\n",
    "n_factors = 50\n",
    "nh = [32, 16]\n",
    "max_rating = cf.max_score\n",
    "min_rating = cf.min_score\n",
    "wd = 2e-4\n",
    "drops = [0.05, 0.1, 0.2]"
   ]
  },
  {
   "cell_type": "code",
   "execution_count": 43,
   "metadata": {},
   "outputs": [],
   "source": [
    "model = EmbeddingNet2(n_factors, n_users, n_items, nh, min_rating, max_rating, drops).cuda()"
   ]
  },
  {
   "cell_type": "code",
   "execution_count": 44,
   "metadata": {},
   "outputs": [],
   "source": [
    "learn_test = CollabFilterLearner(cf.get_data(val_idxs, 128), CollabFilterModel(model), opt_fn=optim.Adam)"
   ]
  },
  {
   "cell_type": "code",
   "execution_count": 45,
   "metadata": {
    "scrolled": false
   },
   "outputs": [
    {
     "data": {
      "application/vnd.jupyter.widget-view+json": {
       "model_id": "2e49508f54274560be0d5a9ebd3ea6ac",
       "version_major": 2,
       "version_minor": 0
      },
      "text/plain": [
       "HBox(children=(IntProgress(value=0, description='Epoch', max=7), HTML(value='')))"
      ]
     },
     "metadata": {},
     "output_type": "display_data"
    },
    {
     "name": "stdout",
     "output_type": "stream",
     "text": [
      "epoch      trn_loss   val_loss                                                                                         \n",
      "    0      0.845502   0.825246  \n",
      "    1      0.882795   0.824288                                                                                         \n",
      "    2      0.791897   0.799933                                                                                         \n",
      "    3      0.825633   0.825779                                                                                         \n",
      "    4      0.843486   0.807988                                                                                         \n",
      "    5      0.815732   0.792831                                                                                         \n",
      "    6      0.74085    0.792876                                                                                         \n",
      "\n"
     ]
    },
    {
     "data": {
      "text/plain": [
       "[0.7928760189056396]"
      ]
     },
     "execution_count": 45,
     "metadata": {},
     "output_type": "execute_result"
    }
   ],
   "source": [
    "learn_test.fit(1e-2, 3, wds=wd, cycle_len=1, cycle_mult=2)"
   ]
  },
  {
   "cell_type": "code",
   "execution_count": 46,
   "metadata": {},
   "outputs": [
    {
     "data": {
      "application/vnd.jupyter.widget-view+json": {
       "model_id": "71064a75784741b5a4194969e3520554",
       "version_major": 2,
       "version_minor": 0
      },
      "text/plain": [
       "HBox(children=(IntProgress(value=0, description='Epoch', max=7), HTML(value='')))"
      ]
     },
     "metadata": {},
     "output_type": "display_data"
    },
    {
     "name": "stdout",
     "output_type": "stream",
     "text": [
      "epoch      trn_loss   val_loss                                                                                         \n",
      "    0      0.754963   0.788918  \n",
      "    1      0.733867   0.78134                                                                                          \n",
      "    2      0.693705   0.782629                                                                                         \n",
      "    3      0.715444   0.778848                                                                                         \n",
      "    4      0.695345   0.781711                                                                                         \n",
      "    5      0.655097   0.786722                                                                                         \n",
      "    6      0.602179   0.790694                                                                                         \n",
      "\n"
     ]
    },
    {
     "data": {
      "text/plain": [
       "[0.7906940210342407]"
      ]
     },
     "execution_count": 46,
     "metadata": {},
     "output_type": "execute_result"
    }
   ],
   "source": [
    "learn_test.fit(1e-3, 3, wds=wd, cycle_len=1, cycle_mult=2)"
   ]
  },
  {
   "cell_type": "markdown",
   "metadata": {},
   "source": [
    "The deeper network performs slightly worse."
   ]
  },
  {
   "cell_type": "markdown",
   "metadata": {},
   "source": [
    "## 4.3 Net with Bias\n",
    "\n",
    "I'm thinking that maybe the bias terms in the original embedding model were important to helping performance. It gave the model a way to scale outputs on a per user or per item basis. The above models with dense layers do have bias terms, but these are applied to any input that moves through the layer and are not unique to movies/users.\n",
    "\n",
    "I want to try adding the bias terms back in. I'm not sure where would be the best place to put them so I'm going to try a few things.\n",
    "\n",
    "First I'm going to add the user/item bias directly to the user/item weights. I don't expect this to do anything since it's just a linear scaling of the user/item weights, but I want to cover my bases."
   ]
  },
  {
   "cell_type": "code",
   "execution_count": 47,
   "metadata": {},
   "outputs": [],
   "source": [
    "class EmbeddingBiasNet(nn.Module):\n",
    "    def __init__(self, n_factors, n_users, n_items, nh, min_score, max_score, drops):\n",
    "        super().__init__()\n",
    "        (self.u, self.i, self.ub, self.ib) = [get_emb(*o) for o in [\n",
    "            (n_users, n_factors), (n_items, n_factors), (n_users,1), (n_items,1)\n",
    "        ]]\n",
    "        \n",
    "        self.max_score = max_score\n",
    "        self.min_score = min_score\n",
    "        \n",
    "        self.lin1 = nn.Linear(n_factors*2, nh)\n",
    "        self.lin2 = nn.Linear(nh, 1)\n",
    "        \n",
    "        self.drop1 = nn.Dropout(drops[0])\n",
    "        self.drop2 = nn.Dropout(drops[1])\n",
    "\n",
    "    def forward(self, users, items):\n",
    "        u = self.u(users) + self.ub(users)\n",
    "        i = self.i(items) + self.ib(items)\n",
    "        x = self.drop1(torch.cat([u, i], dim=1))\n",
    "        x = self.drop2(F.relu(self.lin1(x)))\n",
    "        x = F.sigmoid(self.lin2(x)) * (self.max_score-self.min_score) + self.min_score\n",
    "        return x.squeeze()"
   ]
  },
  {
   "cell_type": "code",
   "execution_count": 48,
   "metadata": {},
   "outputs": [],
   "source": [
    "n_users = cf.n_users\n",
    "n_items = cf.n_items\n",
    "n_factors = 50\n",
    "nh = 16\n",
    "max_rating = cf.max_score\n",
    "min_rating = cf.min_score\n",
    "wd = 2e-4\n",
    "drops = [0.05, 0.1]"
   ]
  },
  {
   "cell_type": "code",
   "execution_count": 49,
   "metadata": {},
   "outputs": [],
   "source": [
    "model = EmbeddingBiasNet(n_factors, n_users, n_items, nh, min_rating, max_rating, drops).cuda()"
   ]
  },
  {
   "cell_type": "code",
   "execution_count": 50,
   "metadata": {},
   "outputs": [],
   "source": [
    "learn_test = CollabFilterLearner(cf.get_data(val_idxs, 128), CollabFilterModel(model), opt_fn=optim.Adam)"
   ]
  },
  {
   "cell_type": "code",
   "execution_count": 51,
   "metadata": {
    "scrolled": false
   },
   "outputs": [
    {
     "data": {
      "application/vnd.jupyter.widget-view+json": {
       "model_id": "d13f4a47e07d4ed88a262649c3edbf77",
       "version_major": 2,
       "version_minor": 0
      },
      "text/plain": [
       "HBox(children=(IntProgress(value=0, description='Epoch', max=7), HTML(value='')))"
      ]
     },
     "metadata": {},
     "output_type": "display_data"
    },
    {
     "name": "stdout",
     "output_type": "stream",
     "text": [
      "epoch      trn_loss   val_loss                                                                                         \n",
      "    0      0.80807    0.798446  \n",
      "    1      0.830046   0.80216                                                                                          \n",
      "    2      0.749354   0.780163                                                                                         \n",
      "    3      0.837584   0.817445                                                                                         \n",
      "    4      0.761536   0.797043                                                                                         \n",
      "    5      0.747977   0.770586                                                                                         \n",
      "    6      0.682848   0.774333                                                                                         \n",
      "\n"
     ]
    },
    {
     "data": {
      "text/plain": [
       "[0.7743334857940674]"
      ]
     },
     "execution_count": 51,
     "metadata": {},
     "output_type": "execute_result"
    }
   ],
   "source": [
    "learn_test.fit(1e-2, 3, wds=wd, cycle_len=1, cycle_mult=2)"
   ]
  },
  {
   "cell_type": "code",
   "execution_count": 52,
   "metadata": {},
   "outputs": [
    {
     "data": {
      "application/vnd.jupyter.widget-view+json": {
       "model_id": "19acb991eb2f4e35bae97bec4f11d8c1",
       "version_major": 2,
       "version_minor": 0
      },
      "text/plain": [
       "HBox(children=(IntProgress(value=0, description='Epoch', max=7), HTML(value='')))"
      ]
     },
     "metadata": {},
     "output_type": "display_data"
    },
    {
     "name": "stdout",
     "output_type": "stream",
     "text": [
      "epoch      trn_loss   val_loss                                                                                         \n",
      "    0      0.720126   0.774356  \n",
      "    1      0.698487   0.770633                                                                                         \n",
      "    2      0.668      0.772337                                                                                         \n",
      "    3      0.678204   0.772168                                                                                         \n",
      "    4      0.736141   0.772623                                                                                         \n",
      "    5      0.657451   0.776815                                                                                         \n",
      "    6      0.602292   0.777814                                                                                         \n",
      "\n"
     ]
    },
    {
     "data": {
      "text/plain": [
       "[0.777813743686676]"
      ]
     },
     "execution_count": 52,
     "metadata": {},
     "output_type": "execute_result"
    }
   ],
   "source": [
    "learn_test.fit(1e-3, 3, wds=wd, cycle_len=1, cycle_mult=2)"
   ]
  },
  {
   "cell_type": "markdown",
   "metadata": {},
   "source": [
    "No dice. Next step: add biases after concatenating the user and movie weights."
   ]
  },
  {
   "cell_type": "code",
   "execution_count": 53,
   "metadata": {},
   "outputs": [],
   "source": [
    "class EmbeddingBiasNet2(nn.Module):\n",
    "    def __init__(self, n_factors, n_users, n_items, nh, min_score, max_score, drops):\n",
    "        super().__init__()\n",
    "        (self.u, self.i, self.ub, self.ib) = [get_emb(*o) for o in [\n",
    "            (n_users, n_factors), (n_items, n_factors), (n_users,1), (n_items,1)\n",
    "        ]]\n",
    "        \n",
    "        self.max_score = max_score\n",
    "        self.min_score = min_score\n",
    "        \n",
    "        self.lin1 = nn.Linear(n_factors*2, nh)\n",
    "        self.lin2 = nn.Linear(nh, 1)\n",
    "        \n",
    "        self.drop1 = nn.Dropout(drops[0])\n",
    "        self.drop2 = nn.Dropout(drops[1])\n",
    "\n",
    "    def forward(self, users, items):\n",
    "        u = self.u(users)\n",
    "        i = self.i(items)\n",
    "        x = self.drop1(torch.cat([u, i], dim=1)) + self.ub(users) + self.ib(items)\n",
    "        x = self.drop2(F.relu(self.lin1(x)))\n",
    "        x = F.sigmoid(self.lin2(x)) * (self.max_score-self.min_score) + self.min_score\n",
    "        return x.squeeze()"
   ]
  },
  {
   "cell_type": "code",
   "execution_count": 54,
   "metadata": {},
   "outputs": [],
   "source": [
    "n_users = cf.n_users\n",
    "n_items = cf.n_items\n",
    "n_factors = 50\n",
    "nh = 16\n",
    "max_rating = cf.max_score\n",
    "min_rating = cf.min_score\n",
    "wd = 2e-4\n",
    "drops = [0.05, 0.1]"
   ]
  },
  {
   "cell_type": "code",
   "execution_count": 55,
   "metadata": {},
   "outputs": [],
   "source": [
    "model = EmbeddingBiasNet2(n_factors, n_users, n_items, nh, min_rating, max_rating, drops).cuda()"
   ]
  },
  {
   "cell_type": "code",
   "execution_count": 56,
   "metadata": {},
   "outputs": [],
   "source": [
    "learn_test = CollabFilterLearner(cf.get_data(val_idxs, 128), CollabFilterModel(model), opt_fn=optim.Adam)"
   ]
  },
  {
   "cell_type": "code",
   "execution_count": 57,
   "metadata": {
    "scrolled": false
   },
   "outputs": [
    {
     "data": {
      "application/vnd.jupyter.widget-view+json": {
       "model_id": "aacb90b1a5c54670b29b7bec3478a6af",
       "version_major": 2,
       "version_minor": 0
      },
      "text/plain": [
       "HBox(children=(IntProgress(value=0, description='Epoch', max=7), HTML(value='')))"
      ]
     },
     "metadata": {},
     "output_type": "display_data"
    },
    {
     "name": "stdout",
     "output_type": "stream",
     "text": [
      "epoch      trn_loss   val_loss                                                                                         \n",
      "    0      0.810942   0.804153  \n",
      "    1      0.776697   0.791605                                                                                         \n",
      "    2      0.718641   0.7779                                                                                           \n",
      "    3      0.761412   0.791966                                                                                         \n",
      "    4      0.781184   0.787583                                                                                         \n",
      "    5      0.682536   0.774761                                                                                         \n",
      "    6      0.667366   0.780949                                                                                         \n",
      "\n"
     ]
    },
    {
     "data": {
      "text/plain": [
       "[0.7809490306854248]"
      ]
     },
     "execution_count": 57,
     "metadata": {},
     "output_type": "execute_result"
    }
   ],
   "source": [
    "learn_test.fit(1e-2, 3, wds=wd, cycle_len=1, cycle_mult=2)"
   ]
  },
  {
   "cell_type": "code",
   "execution_count": 58,
   "metadata": {},
   "outputs": [
    {
     "data": {
      "application/vnd.jupyter.widget-view+json": {
       "model_id": "674e9ed6e35f4892ac3017c92225eef4",
       "version_major": 2,
       "version_minor": 0
      },
      "text/plain": [
       "HBox(children=(IntProgress(value=0, description='Epoch', max=7), HTML(value='')))"
      ]
     },
     "metadata": {},
     "output_type": "display_data"
    },
    {
     "name": "stdout",
     "output_type": "stream",
     "text": [
      "epoch      trn_loss   val_loss                                                                                         \n",
      "    0      0.686624   0.779061  \n",
      "    1      0.691407   0.779448                                                                                         \n",
      "    2      0.656698   0.778561                                                                                         \n",
      "    3      0.676186   0.777106                                                                                         \n",
      "    4      0.683218   0.776128                                                                                         \n",
      "    5      0.628431   0.780044                                                                                         \n",
      "    6      0.642072   0.780145                                                                                         \n",
      "\n"
     ]
    },
    {
     "data": {
      "text/plain": [
       "[0.7801454284667969]"
      ]
     },
     "execution_count": 58,
     "metadata": {},
     "output_type": "execute_result"
    }
   ],
   "source": [
    "learn_test.fit(1e-3, 3, wds=wd, cycle_len=1, cycle_mult=2)"
   ]
  },
  {
   "cell_type": "markdown",
   "metadata": {},
   "source": [
    "Even worse performance! Attempt 3: adding user/item bias after the first linear layer."
   ]
  },
  {
   "cell_type": "code",
   "execution_count": 59,
   "metadata": {},
   "outputs": [],
   "source": [
    "class EmbeddingBiasNet3(nn.Module):\n",
    "    def __init__(self, n_factors, n_users, n_items, nh, min_score, max_score, drops):\n",
    "        super().__init__()\n",
    "        (self.u, self.i, self.ub, self.ib) = [get_emb(*o) for o in [\n",
    "            (n_users, n_factors), (n_items, n_factors), (n_users,1), (n_items,1)\n",
    "        ]]\n",
    "        \n",
    "        self.max_score = max_score\n",
    "        self.min_score = min_score\n",
    "        \n",
    "        self.lin1 = nn.Linear(n_factors*2, nh)\n",
    "        self.lin2 = nn.Linear(nh, 1)\n",
    "        \n",
    "        self.drop1 = nn.Dropout(drops[0])\n",
    "        self.drop2 = nn.Dropout(drops[1])\n",
    "\n",
    "    def forward(self, users, items):\n",
    "        u = self.u(users)\n",
    "        i = self.i(items)\n",
    "        x = self.drop1(torch.cat([u, i], dim=1))\n",
    "        x = self.drop2(F.relu(self.lin1(x))) + self.ub(users) + self.ib(items)\n",
    "        x = F.sigmoid(self.lin2(x)) * (self.max_score-self.min_score) + self.min_score\n",
    "        return x.squeeze()"
   ]
  },
  {
   "cell_type": "code",
   "execution_count": 60,
   "metadata": {},
   "outputs": [],
   "source": [
    "n_users = cf.n_users\n",
    "n_items = cf.n_items\n",
    "n_factors = 50\n",
    "nh = 16\n",
    "max_rating = cf.max_score\n",
    "min_rating = cf.min_score\n",
    "wd = 2e-4\n",
    "drops = [0.05, 0.1]"
   ]
  },
  {
   "cell_type": "code",
   "execution_count": 61,
   "metadata": {},
   "outputs": [],
   "source": [
    "model = EmbeddingBiasNet3(n_factors, n_users, n_items, nh, min_rating, max_rating, drops).cuda()"
   ]
  },
  {
   "cell_type": "code",
   "execution_count": 62,
   "metadata": {},
   "outputs": [],
   "source": [
    "learn_test = CollabFilterLearner(cf.get_data(val_idxs, 128), CollabFilterModel(model), opt_fn=optim.Adam)"
   ]
  },
  {
   "cell_type": "code",
   "execution_count": 63,
   "metadata": {
    "scrolled": false
   },
   "outputs": [
    {
     "data": {
      "application/vnd.jupyter.widget-view+json": {
       "model_id": "c1ffb8476a7a431ba92015b2643339ff",
       "version_major": 2,
       "version_minor": 0
      },
      "text/plain": [
       "HBox(children=(IntProgress(value=0, description='Epoch', max=7), HTML(value='')))"
      ]
     },
     "metadata": {},
     "output_type": "display_data"
    },
    {
     "name": "stdout",
     "output_type": "stream",
     "text": [
      "epoch      trn_loss   val_loss                                                                                         \n",
      "    0      0.802186   0.799919  \n",
      "    1      0.778246   0.790549                                                                                         \n",
      "    2      0.727312   0.787008                                                                                         \n",
      "    3      0.777118   0.793277                                                                                         \n",
      "    4      0.761485   0.785425                                                                                         \n",
      "    5      0.71779    0.782891                                                                                         \n",
      "    6      0.662865   0.786951                                                                                         \n",
      "\n"
     ]
    },
    {
     "data": {
      "text/plain": [
       "[0.786950917339325]"
      ]
     },
     "execution_count": 63,
     "metadata": {},
     "output_type": "execute_result"
    }
   ],
   "source": [
    "learn_test.fit(1e-2, 3, wds=wd, cycle_len=1, cycle_mult=2)"
   ]
  },
  {
   "cell_type": "code",
   "execution_count": 64,
   "metadata": {},
   "outputs": [
    {
     "data": {
      "application/vnd.jupyter.widget-view+json": {
       "model_id": "b6626abbd197427b8b8a12fcd2614280",
       "version_major": 2,
       "version_minor": 0
      },
      "text/plain": [
       "HBox(children=(IntProgress(value=0, description='Epoch', max=7), HTML(value='')))"
      ]
     },
     "metadata": {},
     "output_type": "display_data"
    },
    {
     "name": "stdout",
     "output_type": "stream",
     "text": [
      "epoch      trn_loss   val_loss                                                                                         \n",
      "    0      0.677118   0.786496  \n",
      "    1      0.694053   0.785583                                                                                         \n",
      "    2      0.667264   0.78692                                                                                          \n",
      "    3      0.685221   0.787086                                                                                         \n",
      "    4      0.678408   0.785696                                                                                         \n",
      "    5      0.666666   0.786896                                                                                         \n",
      "    6      0.674754   0.787514                                                                                         \n",
      "\n"
     ]
    },
    {
     "data": {
      "text/plain": [
       "[0.7875143158912659]"
      ]
     },
     "execution_count": 64,
     "metadata": {},
     "output_type": "execute_result"
    }
   ],
   "source": [
    "learn_test.fit(1e-3, 3, wds=wd, cycle_len=1, cycle_mult=2)"
   ]
  },
  {
   "cell_type": "markdown",
   "metadata": {},
   "source": [
    "Nothing impressive here either. Final shot at this: adding bias after the second linear layer."
   ]
  },
  {
   "cell_type": "code",
   "execution_count": 65,
   "metadata": {},
   "outputs": [],
   "source": [
    "class EmbeddingBiasNet4(nn.Module):\n",
    "    def __init__(self, n_factors, n_users, n_items, nh, min_score, max_score, drops):\n",
    "        super().__init__()\n",
    "        (self.u, self.i, self.ub, self.ib) = [get_emb(*o) for o in [\n",
    "            (n_users, n_factors), (n_items, n_factors), (n_users,1), (n_items,1)\n",
    "        ]]\n",
    "        \n",
    "        self.max_score = max_score\n",
    "        self.min_score = min_score\n",
    "        \n",
    "        self.lin1 = nn.Linear(n_factors*2, nh)\n",
    "        self.lin2 = nn.Linear(nh, 1)\n",
    "        \n",
    "        self.drop1 = nn.Dropout(drops[0])\n",
    "        self.drop2 = nn.Dropout(drops[1])\n",
    "\n",
    "    def forward(self, users, items):\n",
    "        u = self.u(users)\n",
    "        i = self.i(items)\n",
    "        x = self.drop1(torch.cat([u, i], dim=1))\n",
    "        x = self.drop2(F.relu(self.lin1(x)))\n",
    "        x = self.lin2(x) + self.ub(users) + self.ib(items)\n",
    "        x = F.sigmoid(x) * (self.max_score-self.min_score) + self.min_score\n",
    "        return x.squeeze()"
   ]
  },
  {
   "cell_type": "code",
   "execution_count": 66,
   "metadata": {},
   "outputs": [],
   "source": [
    "n_users = cf.n_users\n",
    "n_items = cf.n_items\n",
    "n_factors = 50\n",
    "nh = 16\n",
    "max_rating = cf.max_score\n",
    "min_rating = cf.min_score\n",
    "wd = 2e-4\n",
    "drops = [0.05, 0.1]"
   ]
  },
  {
   "cell_type": "code",
   "execution_count": 67,
   "metadata": {},
   "outputs": [],
   "source": [
    "model = EmbeddingBiasNet4(n_factors, n_users, n_items, nh, min_rating, max_rating, drops).cuda()"
   ]
  },
  {
   "cell_type": "code",
   "execution_count": 68,
   "metadata": {},
   "outputs": [],
   "source": [
    "learn_test = CollabFilterLearner(cf.get_data(val_idxs, 128), CollabFilterModel(model), opt_fn=optim.Adam)"
   ]
  },
  {
   "cell_type": "code",
   "execution_count": 69,
   "metadata": {
    "scrolled": false
   },
   "outputs": [
    {
     "data": {
      "application/vnd.jupyter.widget-view+json": {
       "model_id": "f18ac771607f4d95ac19dda175630430",
       "version_major": 2,
       "version_minor": 0
      },
      "text/plain": [
       "HBox(children=(IntProgress(value=0, description='Epoch', max=7), HTML(value='')))"
      ]
     },
     "metadata": {},
     "output_type": "display_data"
    },
    {
     "name": "stdout",
     "output_type": "stream",
     "text": [
      "epoch      trn_loss   val_loss                                                                                         \n",
      "    0      0.809579   0.794768  \n",
      "    1      0.768189   0.79147                                                                                          \n",
      "    2      0.719578   0.771486                                                                                         \n",
      "    3      0.815243   0.784319                                                                                         \n",
      "    4      0.803961   0.77761                                                                                          \n",
      "    5      0.692715   0.765185                                                                                         \n",
      "    6      0.67009    0.7668                                                                                           \n",
      "\n"
     ]
    },
    {
     "data": {
      "text/plain": [
       "[0.7667998189926147]"
      ]
     },
     "execution_count": 69,
     "metadata": {},
     "output_type": "execute_result"
    }
   ],
   "source": [
    "learn_test.fit(1e-2, 3, wds=wd, cycle_len=1, cycle_mult=2)"
   ]
  },
  {
   "cell_type": "code",
   "execution_count": 70,
   "metadata": {},
   "outputs": [
    {
     "data": {
      "application/vnd.jupyter.widget-view+json": {
       "model_id": "c50ec78cf4d5413d95b4fd1367a1488f",
       "version_major": 2,
       "version_minor": 0
      },
      "text/plain": [
       "HBox(children=(IntProgress(value=0, description='Epoch', max=7), HTML(value='')))"
      ]
     },
     "metadata": {},
     "output_type": "display_data"
    },
    {
     "name": "stdout",
     "output_type": "stream",
     "text": [
      "epoch      trn_loss   val_loss                                                                                         \n",
      "    0      0.704504   0.770321  \n",
      "    1      0.692279   0.767486                                                                                         \n",
      "    2      0.695225   0.768421                                                                                         \n",
      "    3      0.679992   0.766714                                                                                         \n",
      "    4      0.660288   0.768525                                                                                         \n",
      "    5      0.630693   0.770525                                                                                         \n",
      "    6      0.613039   0.770817                                                                                         \n",
      "\n"
     ]
    },
    {
     "data": {
      "text/plain": [
       "[0.7708167308807373]"
      ]
     },
     "execution_count": 70,
     "metadata": {},
     "output_type": "execute_result"
    }
   ],
   "source": [
    "learn_test.fit(1e-3, 3, wds=wd, cycle_len=1, cycle_mult=2)"
   ]
  },
  {
   "cell_type": "markdown",
   "metadata": {},
   "source": [
    "Okay so here's something. We're finally seeing the validation loss drop below 0.77.\n",
    "\n",
    "This is certainly comparable to the original model. The original model had a best run of (0.63, 0.763) train/validation loss. Here we never get the validation loss quite that low, but we do see the result of (0.692, 0.765) which is a comprable validation loss with less overfitting.\n",
    "\n",
    "Lets try a few more things.\n",
    "\n",
    "First, I want to try another way of adding user or item bias. We'll make separate linear layers for the users and items that user weights and item weights will go through before being concatenated."
   ]
  },
  {
   "cell_type": "code",
   "execution_count": 71,
   "metadata": {},
   "outputs": [],
   "source": [
    "class EmbeddingBiasNet5(nn.Module):\n",
    "    def __init__(self, n_factors, n_users, n_items, hiddens, min_score, max_score, drops):\n",
    "        super().__init__()\n",
    "        (self.u, self.i) = [get_emb(*o) for o in [\n",
    "            (n_users, n_factors), (n_items, n_factors)\n",
    "        ]]\n",
    "        \n",
    "        self.max_score = max_score\n",
    "        self.min_score = min_score\n",
    "        \n",
    "        self.lin_u = nn.Linear(n_factors, hiddens[0])\n",
    "        self.lin_i = nn.Linear(n_factors, hiddens[0])\n",
    "        \n",
    "        self.lin1 = nn.Linear(hiddens[0]*2, hiddens[1])\n",
    "        self.lin2 = nn.Linear(hiddens[1], 1)\n",
    "        \n",
    "        self.drop1 = nn.Dropout(drops[0])\n",
    "        self.drop2 = nn.Dropout(drops[1])\n",
    "        self.drop3 = nn.Dropout(drops[2])\n",
    "\n",
    "    def forward(self, users, items):\n",
    "        u = self.drop1(self.lin_u(self.u(users)))\n",
    "        i = self.drop1(self.lin_i(self.i(items)))\n",
    "\n",
    "        x = self.drop2(torch.cat([u, i], dim=1))\n",
    "        x = self.drop3(F.relu(self.lin1(x)))\n",
    "        x = F.sigmoid(self.lin2(x)) * (self.max_score-self.min_score) + self.min_score\n",
    "        return x.squeeze()"
   ]
  },
  {
   "cell_type": "code",
   "execution_count": 72,
   "metadata": {},
   "outputs": [],
   "source": [
    "n_users = cf.n_users\n",
    "n_items = cf.n_items\n",
    "n_factors = 50\n",
    "hiddens = [32,16]\n",
    "max_rating = cf.max_score\n",
    "min_rating = cf.min_score\n",
    "wd = 2e-4\n",
    "drops = [0.05, 0.1, 0.2]"
   ]
  },
  {
   "cell_type": "code",
   "execution_count": 73,
   "metadata": {},
   "outputs": [],
   "source": [
    "model = EmbeddingBiasNet5(n_factors, n_users, n_items, hiddens, min_rating, max_rating, drops).cuda()"
   ]
  },
  {
   "cell_type": "code",
   "execution_count": 74,
   "metadata": {},
   "outputs": [],
   "source": [
    "learn_test = CollabFilterLearner(cf.get_data(val_idxs, 128), CollabFilterModel(model), opt_fn=optim.Adam)"
   ]
  },
  {
   "cell_type": "code",
   "execution_count": 75,
   "metadata": {
    "scrolled": false
   },
   "outputs": [
    {
     "data": {
      "application/vnd.jupyter.widget-view+json": {
       "model_id": "992a8a3da0d7483386a60b4dcbdfb88b",
       "version_major": 2,
       "version_minor": 0
      },
      "text/plain": [
       "HBox(children=(IntProgress(value=0, description='Epoch', max=7), HTML(value='')))"
      ]
     },
     "metadata": {},
     "output_type": "display_data"
    },
    {
     "name": "stdout",
     "output_type": "stream",
     "text": [
      "epoch      trn_loss   val_loss                                                                                         \n",
      "    0      0.808403   0.80877   \n",
      "    1      0.820515   0.8037                                                                                           \n",
      "    2      0.747208   0.777919                                                                                         \n",
      "    3      0.817249   0.805672                                                                                         \n",
      "    4      0.745424   0.787095                                                                                         \n",
      "    5      0.728579   0.771786                                                                                         \n",
      "    6      0.662271   0.775961                                                                                         \n",
      "\n"
     ]
    },
    {
     "data": {
      "text/plain": [
       "[0.775960604763031]"
      ]
     },
     "execution_count": 75,
     "metadata": {},
     "output_type": "execute_result"
    }
   ],
   "source": [
    "learn_test.fit(1e-2, 3, wds=wd, cycle_len=1, cycle_mult=2)"
   ]
  },
  {
   "cell_type": "code",
   "execution_count": 76,
   "metadata": {},
   "outputs": [
    {
     "data": {
      "application/vnd.jupyter.widget-view+json": {
       "model_id": "02f61fb010a64dc6bd076d66753631b6",
       "version_major": 2,
       "version_minor": 0
      },
      "text/plain": [
       "HBox(children=(IntProgress(value=0, description='Epoch', max=7), HTML(value='')))"
      ]
     },
     "metadata": {},
     "output_type": "display_data"
    },
    {
     "name": "stdout",
     "output_type": "stream",
     "text": [
      "epoch      trn_loss   val_loss                                                                                         \n",
      "    0      0.730081   0.776629  \n",
      "    1      0.691474   0.77406                                                                                          \n",
      "    2      0.659446   0.775296                                                                                         \n",
      "    3      0.687853   0.774215                                                                                         \n",
      "    4      0.678926   0.775284                                                                                         \n",
      "    5      0.666123   0.775907                                                                                         \n",
      "    6      0.689211   0.777757                                                                                         \n",
      "\n"
     ]
    },
    {
     "data": {
      "text/plain": [
       "[0.7777565192222595]"
      ]
     },
     "execution_count": 76,
     "metadata": {},
     "output_type": "execute_result"
    }
   ],
   "source": [
    "learn_test.fit(1e-3, 3, wds=wd, cycle_len=1, cycle_mult=2)"
   ]
  },
  {
   "cell_type": "markdown",
   "metadata": {},
   "source": [
    "Pretty meh results. Another idea - feed the elementwise product of the user and item weights into the dense layer rather than concatenating them. Then add bias before the sigmoid."
   ]
  },
  {
   "cell_type": "code",
   "execution_count": 77,
   "metadata": {},
   "outputs": [],
   "source": [
    "class EmbeddingBiasNet6(nn.Module):\n",
    "    def __init__(self, n_factors, n_users, n_items, nh, min_score, max_score, drops):\n",
    "        super().__init__()\n",
    "        (self.u, self.i, self.ub, self.ib) = [get_emb(*o) for o in [\n",
    "            (n_users, n_factors), (n_items, n_factors), (n_users,1), (n_items,1)\n",
    "        ]]\n",
    "        \n",
    "        self.max_score = max_score\n",
    "        self.min_score = min_score\n",
    "        \n",
    "        self.lin1 = nn.Linear(n_factors, nh)\n",
    "        self.lin2 = nn.Linear(nh, 1)\n",
    "        \n",
    "        self.drop1 = nn.Dropout(drops[0])\n",
    "        self.drop2 = nn.Dropout(drops[1])\n",
    "\n",
    "    def forward(self, users, items):\n",
    "        um = self.u(users)* self.i(items)\n",
    "        x = um\n",
    "        x = self.drop1(x)\n",
    "        x = self.drop2(F.relu(self.lin1(x)))\n",
    "        x = self.lin2(x) + self.ub(users) + self.ib(items)\n",
    "        x = F.sigmoid(x) * (self.max_score-self.min_score) + self.min_score\n",
    "        \n",
    "        return x.squeeze()"
   ]
  },
  {
   "cell_type": "code",
   "execution_count": 78,
   "metadata": {},
   "outputs": [],
   "source": [
    "n_users = cf.n_users\n",
    "n_items = cf.n_items\n",
    "n_factors = 50\n",
    "nh = 16\n",
    "max_rating = cf.max_score\n",
    "min_rating = cf.min_score\n",
    "wd = 2e-4\n",
    "drops = [0.05, 0.1]"
   ]
  },
  {
   "cell_type": "code",
   "execution_count": 79,
   "metadata": {},
   "outputs": [],
   "source": [
    "model = EmbeddingBiasNet6(n_factors, n_users, n_items, nh, min_rating, max_rating, drops).cuda()"
   ]
  },
  {
   "cell_type": "code",
   "execution_count": 80,
   "metadata": {},
   "outputs": [],
   "source": [
    "learn_test = CollabFilterLearner(cf.get_data(val_idxs, 128), CollabFilterModel(model), opt_fn=optim.Adam)"
   ]
  },
  {
   "cell_type": "code",
   "execution_count": 81,
   "metadata": {
    "scrolled": false
   },
   "outputs": [
    {
     "data": {
      "application/vnd.jupyter.widget-view+json": {
       "model_id": "d5c24391e82249fa9460b3905a30bb1d",
       "version_major": 2,
       "version_minor": 0
      },
      "text/plain": [
       "HBox(children=(IntProgress(value=0, description='Epoch', max=7), HTML(value='')))"
      ]
     },
     "metadata": {},
     "output_type": "display_data"
    },
    {
     "name": "stdout",
     "output_type": "stream",
     "text": [
      "epoch      trn_loss   val_loss                                                                                         \n",
      "    0      0.849076   0.860011  \n",
      "    1      0.802545   0.804133                                                                                         \n",
      "    2      0.798893   0.800965                                                                                         \n",
      "    3      0.774479   0.799                                                                                            \n",
      "    4      0.763331   0.791861                                                                                         \n",
      "    5      0.753179   0.79065                                                                                          \n",
      "    6      0.728143   0.790921                                                                                         \n",
      "\n"
     ]
    },
    {
     "data": {
      "text/plain": [
       "[0.790920973777771]"
      ]
     },
     "execution_count": 81,
     "metadata": {},
     "output_type": "execute_result"
    }
   ],
   "source": [
    "learn_test.fit(1e-2, 3, wds=wd, cycle_len=1, cycle_mult=2)"
   ]
  },
  {
   "cell_type": "code",
   "execution_count": 82,
   "metadata": {},
   "outputs": [
    {
     "data": {
      "application/vnd.jupyter.widget-view+json": {
       "model_id": "20298a3da07e4066a9871255ac1c60ed",
       "version_major": 2,
       "version_minor": 0
      },
      "text/plain": [
       "HBox(children=(IntProgress(value=0, description='Epoch', max=7), HTML(value='')))"
      ]
     },
     "metadata": {},
     "output_type": "display_data"
    },
    {
     "name": "stdout",
     "output_type": "stream",
     "text": [
      "epoch      trn_loss   val_loss                                                                                         \n",
      "    0      0.777177   0.795744  \n",
      "    1      0.733749   0.794865                                                                                         \n",
      "    2      0.743648   0.794803                                                                                         \n",
      "    3      0.734537   0.793713                                                                                         \n",
      "    4      0.722617   0.793268                                                                                         \n",
      "    5      0.730689   0.793155                                                                                         \n",
      "    6      0.721833   0.793104                                                                                         \n",
      "\n"
     ]
    },
    {
     "data": {
      "text/plain": [
       "[0.7931035396575927]"
      ]
     },
     "execution_count": 82,
     "metadata": {},
     "output_type": "execute_result"
    }
   ],
   "source": [
    "learn_test.fit(1e-3, 3, wds=wd, cycle_len=1, cycle_mult=2)"
   ]
  },
  {
   "cell_type": "markdown",
   "metadata": {},
   "source": [
    "Well those are my attempts to build on the embedding model. No fireworks though.\n",
    "\n",
    "Now lets move on to building a recommender."
   ]
  },
  {
   "cell_type": "markdown",
   "metadata": {},
   "source": [
    "# 5. Building a Recommender\n",
    "\n",
    "For a final model I've decided to go with the original embedding with bias model. The mini net with bias after the second linear layer had similar performance, but I've decided to go with the simpler model because it allows for easier interpreation."
   ]
  },
  {
   "cell_type": "code",
   "execution_count": 83,
   "metadata": {},
   "outputs": [],
   "source": [
    "class EmbeddingDotBias(nn.Module):\n",
    "    def __init__(self, n_factors, n_users, n_items, min_score, max_score):\n",
    "        super().__init__()\n",
    "        self.min_score,self.max_score = min_score,max_score\n",
    "        (self.u, self.i, self.ub, self.ib) = [get_emb(*o) for o in [\n",
    "            (n_users, n_factors), (n_items, n_factors), (n_users,1), (n_items,1)\n",
    "        ]]\n",
    "\n",
    "    def forward(self, users, items):\n",
    "        um = self.u(users)* self.i(items)\n",
    "        res = um.sum(1) + self.ub(users).squeeze() + self.ib(items).squeeze()\n",
    "        res = F.sigmoid(res) * (self.max_score-self.min_score) + self.min_score\n",
    "        return res"
   ]
  },
  {
   "cell_type": "code",
   "execution_count": 84,
   "metadata": {},
   "outputs": [],
   "source": [
    "wd=2e-4\n",
    "n_factors = 50\n",
    "n_users = cf.n_users\n",
    "n_items = cf.n_items\n",
    "max_rating = cf.max_score\n",
    "min_rating = cf.min_score"
   ]
  },
  {
   "cell_type": "code",
   "execution_count": 85,
   "metadata": {},
   "outputs": [],
   "source": [
    "model = EmbeddingDotBias(n_factors, n_users, n_items, min_rating, max_rating).cuda()"
   ]
  },
  {
   "cell_type": "code",
   "execution_count": 86,
   "metadata": {},
   "outputs": [],
   "source": [
    "learner = CollabFilterLearner(cf.get_data(val_idxs, 128), CollabFilterModel(model), opt_fn=optim.Adam)"
   ]
  },
  {
   "cell_type": "code",
   "execution_count": 87,
   "metadata": {},
   "outputs": [
    {
     "data": {
      "application/vnd.jupyter.widget-view+json": {
       "model_id": "6fea80b5339d469b9517ebbd6cc5b582",
       "version_major": 2,
       "version_minor": 0
      },
      "text/plain": [
       "HBox(children=(IntProgress(value=0, description='Epoch', max=3), HTML(value='')))"
      ]
     },
     "metadata": {},
     "output_type": "display_data"
    },
    {
     "name": "stdout",
     "output_type": "stream",
     "text": [
      "epoch      trn_loss   val_loss                                                                                         \n",
      "    0      0.806782   0.826026  \n",
      "    1      0.760015   0.779284                                                                                         \n",
      "    2      0.69728    0.767254                                                                                         \n",
      "\n"
     ]
    },
    {
     "data": {
      "text/plain": [
       "[0.767254155921936]"
      ]
     },
     "execution_count": 87,
     "metadata": {},
     "output_type": "execute_result"
    }
   ],
   "source": [
    "learner.fit(1e-2, 3, wds=wd, cycle_len=1)"
   ]
  },
  {
   "cell_type": "markdown",
   "metadata": {},
   "source": [
    "# 6. Model Interpretations\n",
    "\n",
    "Now that we have a trained model, we can take a look at what was learned in the embedding and bias matrices. \n",
    "\n",
    "First we will look at the movie bias values for the top 3000 movies. These bias terms give insight into general user sentiment for movies."
   ]
  },
  {
   "cell_type": "code",
   "execution_count": 88,
   "metadata": {
    "hidden": true
   },
   "outputs": [],
   "source": [
    "movie_names = movies.set_index('movieId')['title'].to_dict()\n",
    "g=ratings.groupby('movieId')['rating'].count()\n",
    "topMovies=g.sort_values(ascending=False).index.values[:3000]\n",
    "topMovieIdx = np.array([cf.item2idx[o] for o in topMovies])"
   ]
  },
  {
   "cell_type": "code",
   "execution_count": 89,
   "metadata": {
    "hidden": true
   },
   "outputs": [],
   "source": [
    "m = learner.model\n",
    "m.eval();\n",
    "movie_bias = to_np(m.ib(V(topMovieIdx)))"
   ]
  },
  {
   "cell_type": "code",
   "execution_count": 90,
   "metadata": {
    "hidden": true
   },
   "outputs": [
    {
     "data": {
      "text/plain": [
       "array([[ 0.78926],\n",
       "       [ 0.82205],\n",
       "       [ 1.18459],\n",
       "       ...,\n",
       "       [ 0.22726],\n",
       "       [-0.06885],\n",
       "       [ 0.13941]], dtype=float32)"
      ]
     },
     "execution_count": 90,
     "metadata": {},
     "output_type": "execute_result"
    }
   ],
   "source": [
    "movie_bias"
   ]
  },
  {
   "cell_type": "code",
   "execution_count": 91,
   "metadata": {
    "hidden": true
   },
   "outputs": [],
   "source": [
    "movie_ratings = [(b[0], movie_names[i]) for i,b in zip(topMovies,movie_bias)]"
   ]
  },
  {
   "cell_type": "markdown",
   "metadata": {
    "hidden": true
   },
   "source": [
    "Here are the 20 highest biased movies"
   ]
  },
  {
   "cell_type": "code",
   "execution_count": 92,
   "metadata": {},
   "outputs": [
    {
     "data": {
      "text/plain": [
       "[(1.1845863, 'Shawshank Redemption, The (1994)'),\n",
       " (0.96758395, 'Godfather, The (1972)'),\n",
       " (0.8813979, 'Usual Suspects, The (1995)'),\n",
       " (0.8391947, \"Schindler's List (1993)\"),\n",
       " (0.8238297, 'Silence of the Lambs, The (1991)'),\n",
       " (0.8220524, 'Pulp Fiction (1994)'),\n",
       " (0.7892566, 'Forrest Gump (1994)'),\n",
       " (0.7886792, 'Fargo (1996)'),\n",
       " (0.78704, 'To Kill a Mockingbird (1962)'),\n",
       " (0.7866677, 'Godfather: Part II, The (1974)'),\n",
       " (0.78374004, 'Star Wars: Episode IV - A New Hope (1977)'),\n",
       " (0.7633917, 'Fight Club (1999)'),\n",
       " (0.75901437, 'Casablanca (1942)'),\n",
       " (0.7508608, 'Star Wars: Episode V - The Empire Strikes Back (1980)'),\n",
       " (0.7470918, 'Matrix, The (1999)'),\n",
       " (0.74294645, 'Fugitive, The (1993)'),\n",
       " (0.73233336, 'Dark Knight, The (2008)'),\n",
       " (0.73115975, 'Monty Python and the Holy Grail (1975)'),\n",
       " (0.72326714, 'Wallace & Gromit: A Close Shave (1995)'),\n",
       " (0.7195282, 'American Beauty (1999)')]"
      ]
     },
     "execution_count": 92,
     "metadata": {},
     "output_type": "execute_result"
    }
   ],
   "source": [
    "sorted(movie_ratings, key=lambda o: o[0], reverse=True)[:20]"
   ]
  },
  {
   "cell_type": "markdown",
   "metadata": {},
   "source": [
    "These are all pretty well established \"good movies\".\n",
    "\n",
    "Now for the 20 lowest biased movies:"
   ]
  },
  {
   "cell_type": "code",
   "execution_count": 93,
   "metadata": {
    "hidden": true
   },
   "outputs": [
    {
     "data": {
      "text/plain": [
       "[(-0.7178671, 'Battlefield Earth (2000)'),\n",
       " (-0.6753638, 'Speed 2: Cruise Control (1997)'),\n",
       " (-0.573713, 'Wild Wild West (1999)'),\n",
       " (-0.57130367, \"Joe's Apartment (1996)\"),\n",
       " (-0.55571395, 'Super Mario Bros. (1993)'),\n",
       " (-0.5144288, 'Batman & Robin (1997)'),\n",
       " (-0.5104808,\n",
       "  'Halloween: The Curse of Michael Myers (Halloween 6: The Curse of Michael Myers) (1995)'),\n",
       " (-0.5075669, 'Karate Kid, Part III, The (1989)'),\n",
       " (-0.5043251, 'Haunting, The (1999)'),\n",
       " (-0.50017864, 'Superman III (1983)'),\n",
       " (-0.4964027, 'Mighty Morphin Power Rangers: The Movie (1995)'),\n",
       " (-0.4924461, 'Congo (1995)'),\n",
       " (-0.49167398, '102 Dalmatians (2000)'),\n",
       " (-0.4904184, \"Big Momma's House (2000)\"),\n",
       " (-0.48419386, 'Vertical Limit (2000)'),\n",
       " (-0.48146155, 'RoboCop 3 (1993)'),\n",
       " (-0.47998357, 'Inspector Gadget (1999)'),\n",
       " (-0.47261772, 'Hollow Man (2000)'),\n",
       " (-0.4697957, 'Godzilla (1998)'),\n",
       " (-0.46380618, 'Dungeons & Dragons (2000)')]"
      ]
     },
     "execution_count": 93,
     "metadata": {},
     "output_type": "execute_result"
    }
   ],
   "source": [
    "sorted(movie_ratings, key=lambda o: o[0])[:20]"
   ]
  },
  {
   "cell_type": "markdown",
   "metadata": {},
   "source": [
    "No love for Battlefield Earth."
   ]
  },
  {
   "cell_type": "markdown",
   "metadata": {
    "heading_collapsed": true
   },
   "source": [
    "### Embedding interpretation\n",
    "\n",
    "We can do the same thing for the movie embeddings. To interpret the embeddings, we will look at the principal components of a PCA function fit to the transpose of the embedding matrix. This is a bit confusing but it makes sense if you think about it. What we are trying to do is cluster the weights of each movie into lower dimensional space (in this case 3 dimensions). This is why we look at the transpose of the embedding rather than the embedding.\n",
    "\n",
    "Taking the principal compoents of the PCA function represents the eigenvector for each item in each component, showing how much each movie contributed to the given dimension. This shows us how the model is clustering different movies."
   ]
  },
  {
   "cell_type": "code",
   "execution_count": 94,
   "metadata": {
    "hidden": true
   },
   "outputs": [
    {
     "data": {
      "text/plain": [
       "(3000, 50)"
      ]
     },
     "execution_count": 94,
     "metadata": {},
     "output_type": "execute_result"
    }
   ],
   "source": [
    "movie_emb = to_np(m.i(V(topMovieIdx)))\n",
    "movie_emb.shape"
   ]
  },
  {
   "cell_type": "code",
   "execution_count": 95,
   "metadata": {
    "hidden": true
   },
   "outputs": [],
   "source": [
    "from sklearn.decomposition import PCA\n",
    "pca = PCA(n_components=3)\n",
    "movie_pca = pca.fit(movie_emb.T).components_"
   ]
  },
  {
   "cell_type": "code",
   "execution_count": 96,
   "metadata": {
    "hidden": true,
    "scrolled": true
   },
   "outputs": [
    {
     "data": {
      "text/plain": [
       "(3, 3000)"
      ]
     },
     "execution_count": 96,
     "metadata": {},
     "output_type": "execute_result"
    }
   ],
   "source": [
    "movie_pca.shape"
   ]
  },
  {
   "cell_type": "markdown",
   "metadata": {},
   "source": [
    "In the first axis, we have more serious movies on one end and goofy comedy/action movies on the other"
   ]
  },
  {
   "cell_type": "code",
   "execution_count": 97,
   "metadata": {},
   "outputs": [
    {
     "data": {
      "text/plain": [
       "[(0.0589785, 'Armageddon (1998)'),\n",
       " (0.05569377, 'Waterworld (1995)'),\n",
       " (0.05021619, 'Karate Kid, Part III, The (1989)'),\n",
       " (0.04868938, 'Police Academy 3: Back in Training (1986)'),\n",
       " (0.048315316, 'Coyote Ugly (2000)'),\n",
       " (0.048140906, \"Charlie's Angels (2000)\"),\n",
       " (0.047389943, 'Independence Day (a.k.a. ID4) (1996)'),\n",
       " (0.04738553, 'Lethal Weapon 4 (1998)'),\n",
       " (0.046860788, 'Con Air (1997)'),\n",
       " (0.04646677, 'Striptease (1996)'),\n",
       " (0.046178613, 'Police Academy 4: Citizens on Patrol (1987)'),\n",
       " (0.045700315, 'Lake Placid (1999)'),\n",
       " (0.044931885, 'Indiana Jones and the Kingdom of the Crystal Skull (2008)'),\n",
       " (0.044821624, 'Outbreak (1995)'),\n",
       " (0.04435697, 'Major League: Back to the Minors (1998)')]"
      ]
     },
     "execution_count": 97,
     "metadata": {},
     "output_type": "execute_result"
    }
   ],
   "source": [
    "fac0 = movie_pca[0]\n",
    "movie_comp = [(f, movie_names[i]) for f,i in zip(fac0, topMovies)]\n",
    "sorted(movie_comp, key=itemgetter(0), reverse=True)[:15]"
   ]
  },
  {
   "cell_type": "code",
   "execution_count": 98,
   "metadata": {},
   "outputs": [
    {
     "data": {
      "text/plain": [
       "[(-0.07170184, 'Taxi Driver (1976)'),\n",
       " (-0.069971636, 'Godfather, The (1972)'),\n",
       " (-0.06858034, 'Chinatown (1974)'),\n",
       " (-0.06727021, 'Fargo (1996)'),\n",
       " (-0.06709724, 'Being John Malkovich (1999)'),\n",
       " (-0.06695919, 'Casablanca (1942)'),\n",
       " (-0.062243156, 'Vertigo (1958)'),\n",
       " (-0.061567243, 'L.A. Confidential (1997)'),\n",
       " (-0.06065706, 'Memento (2000)'),\n",
       " (-0.05999777, 'Apocalypse Now (1979)'),\n",
       " (-0.059923675, 'Citizen Kane (1941)'),\n",
       " (-0.05886247, 'Godfather: Part II, The (1974)'),\n",
       " (-0.056421258, 'Philadelphia Story, The (1940)'),\n",
       " (-0.055910517, 'Lord of the Rings: The Fellowship of the Ring, The (2001)'),\n",
       " (-0.055679306, 'Annie Hall (1977)')]"
      ]
     },
     "execution_count": 98,
     "metadata": {},
     "output_type": "execute_result"
    }
   ],
   "source": [
    "sorted(movie_comp, key=itemgetter(0))[:15]"
   ]
  },
  {
   "cell_type": "markdown",
   "metadata": {},
   "source": [
    "This component is a little harder to interpret. On the positive side, we have a mix of different types of movies. On the negative side, we have mostly CGI heavy movies, plus a few outliers like Shrek and Forrest Gump"
   ]
  },
  {
   "cell_type": "code",
   "execution_count": 99,
   "metadata": {},
   "outputs": [
    {
     "data": {
      "text/plain": [
       "[(0.08715599, 'Star Wars: Episode IV - A New Hope (1977)'),\n",
       " (0.08526615, 'Star Wars: Episode V - The Empire Strikes Back (1980)'),\n",
       " (0.08238653, 'Dark Knight, The (2008)'),\n",
       " (0.081976265,\n",
       "  'Raiders of the Lost Ark (Indiana Jones and the Raiders of the Lost Ark) (1981)'),\n",
       " (0.07482689, 'Clerks (1994)'),\n",
       " (0.0738689, 'Lord of the Rings: The Return of the King, The (2003)'),\n",
       " (0.07084451, 'Once Upon a Time in America (1984)'),\n",
       " (0.06767829, 'Snatch (2000)'),\n",
       " (0.063891664, 'Princess Bride, The (1987)'),\n",
       " (0.06378092, 'X2: X-Men United (2003)'),\n",
       " (0.063560314, 'Back to the Future (1985)'),\n",
       " (0.061889112, 'Aladdin (1992)'),\n",
       " (0.061758857, 'Shrek (2001)'),\n",
       " (0.061736304, 'Lord of the Rings: The Fellowship of the Ring, The (2001)'),\n",
       " (0.061172247, 'Austin Powers: International Man of Mystery (1997)')]"
      ]
     },
     "execution_count": 99,
     "metadata": {},
     "output_type": "execute_result"
    }
   ],
   "source": [
    "fac1 = movie_pca[1]\n",
    "movie_comp = [(f, movie_names[i]) for f,i in zip(fac1, topMovies)]\n",
    "sorted(movie_comp, key=itemgetter(0), reverse=True)[:15]"
   ]
  },
  {
   "cell_type": "code",
   "execution_count": 100,
   "metadata": {},
   "outputs": [
    {
     "data": {
      "text/plain": [
       "[(-0.07699438, 'Lost Highway (1997)'),\n",
       " (-0.05470092, 'Bowfinger (1999)'),\n",
       " (-0.050884806, 'Nosferatu (Nosferatu, eine Symphonie des Grauens) (1922)'),\n",
       " (-0.04479162, 'Black Beauty (1994)'),\n",
       " (-0.04349896, 'Bonfire of the Vanities (1990)'),\n",
       " (-0.042610146, 'Dick (1999)'),\n",
       " (-0.042598467, 'City Lights (1931)'),\n",
       " (-0.042379543, 'Mimic (1997)'),\n",
       " (-0.04159775, 'Bridges of Madison County, The (1995)'),\n",
       " (-0.04134253, 'Paradise Lost: The Child Murders at Robin Hood Hills (1996)'),\n",
       " (-0.041095287, 'Hot Shots! Part Deux (1993)'),\n",
       " (-0.040843416,\n",
       "  'Koyaanisqatsi (a.k.a. Koyaanisqatsi: Life Out of Balance) (1983)'),\n",
       " (-0.040394638, 'Flintstones, The (1994)'),\n",
       " (-0.040246554, 'Deer Hunter, The (1978)'),\n",
       " (-0.039927702, 'Mildred Pierce (1945)')]"
      ]
     },
     "execution_count": 100,
     "metadata": {},
     "output_type": "execute_result"
    }
   ],
   "source": [
    "sorted(movie_comp, key=itemgetter(0))[:15]"
   ]
  },
  {
   "cell_type": "markdown",
   "metadata": {},
   "source": [
    "Here we have animated movies, popular scifi and Philadelphia versus comedies like American Pie/Scary Movie paired with Stanley Kubrick. An interesting selection."
   ]
  },
  {
   "cell_type": "code",
   "execution_count": 101,
   "metadata": {},
   "outputs": [
    {
     "data": {
      "text/plain": [
       "[(0.071718656, 'Man Who Knew Too Little, The (1997)'),\n",
       " (0.068473786, 'Ghostbusters II (1989)'),\n",
       " (0.068068415, 'G.I. Joe: The Rise of Cobra (2009)'),\n",
       " (0.06597139, 'Pledge, The (2001)'),\n",
       " (0.06422266, '10 Things I Hate About You (1999)'),\n",
       " (0.060345907, 'Spaceballs (1987)'),\n",
       " (0.058171988, 'Diamonds Are Forever (1971)'),\n",
       " (0.05810408, 'Whole Nine Yards, The (2000)'),\n",
       " (0.057190694, 'Night at the Museum (2006)'),\n",
       " (0.056142595, 'Constantine (2005)'),\n",
       " (0.055878997, 'Hellboy II: The Golden Army (2008)'),\n",
       " (0.055366118, 'Rat Race (2001)'),\n",
       " (0.05386694, 'Scream (1996)'),\n",
       " (0.053072155, 'Wonder Boys (2000)'),\n",
       " (0.053014256, 'King of Kong, The (2007)')]"
      ]
     },
     "execution_count": 101,
     "metadata": {},
     "output_type": "execute_result"
    }
   ],
   "source": [
    "fac2 = movie_pca[2]\n",
    "movie_comp = [(f, movie_names[i]) for f,i in zip(fac2, topMovies)]\n",
    "sorted(movie_comp, key=itemgetter(0), reverse=True)[:15]"
   ]
  },
  {
   "cell_type": "code",
   "execution_count": 102,
   "metadata": {
    "scrolled": true
   },
   "outputs": [
    {
     "data": {
      "text/plain": [
       "[(-0.07402278, 'Shutter Island (2010)'),\n",
       " (-0.0717923, 'Modern Times (1936)'),\n",
       " (-0.06916314, 'Inside Out (2015)'),\n",
       " (-0.06581762, 'Divergent (2014)'),\n",
       " (-0.06554983, 'Wrestler, The (2008)'),\n",
       " (-0.063434355, 'The Theory of Everything (2014)'),\n",
       " (-0.061669625, 'Maze Runner, The (2014)'),\n",
       " (-0.06164104, \"Dr. Horrible's Sing-Along Blog (2008)\"),\n",
       " (-0.06140918, 'Lord of the Rings: The Return of the King, The (2003)'),\n",
       " (-0.06037079, 'Bend It Like Beckham (2002)'),\n",
       " (-0.059366804, 'Cloverfield (2008)'),\n",
       " (-0.058686297, 'Hangover, The (2009)'),\n",
       " (-0.057689372, 'Babel (2006)'),\n",
       " (-0.05663605, 'Dead Poets Society (1989)'),\n",
       " (-0.055784184,\n",
       "  'Triplets of Belleville, The (Les triplettes de Belleville) (2003)')]"
      ]
     },
     "execution_count": 102,
     "metadata": {},
     "output_type": "execute_result"
    }
   ],
   "source": [
    "sorted(movie_comp, key=itemgetter(0))[:15]"
   ]
  },
  {
   "cell_type": "markdown",
   "metadata": {},
   "source": [
    "We can plot these values to see how the movies cluster"
   ]
  },
  {
   "cell_type": "code",
   "execution_count": 103,
   "metadata": {},
   "outputs": [
    {
     "data": {
      "image/png": "[encoded data removed]",
      "text/plain": [
       "<matplotlib.figure.Figure at 0x2ba8f85e630>"
      ]
     },
     "metadata": {},
     "output_type": "display_data"
    }
   ],
   "source": [
    "idxs = np.random.choice(len(topMovies), 50, replace=False)\n",
    "X = fac0[idxs]\n",
    "Y = fac2[idxs]\n",
    "plt.figure(figsize=(15,15))\n",
    "plt.scatter(X, Y)\n",
    "for i, x, y in zip(topMovies[idxs], X, Y):\n",
    "    plt.text(x,y,movie_names[i], color=np.random.rand(3)*0.7, fontsize=11)\n",
    "plt.show()"
   ]
  },
  {
   "cell_type": "markdown",
   "metadata": {},
   "source": [
    "We can also use PCA to dimension reduce and cluster the movie values themselves instead of looking at principal components."
   ]
  },
  {
   "cell_type": "code",
   "execution_count": 104,
   "metadata": {},
   "outputs": [
    {
     "data": {
      "text/plain": [
       "(3000, 2)"
      ]
     },
     "execution_count": 104,
     "metadata": {},
     "output_type": "execute_result"
    }
   ],
   "source": [
    "pca2 = PCA(n_components=2)\n",
    "movie_cluster = pca2.fit_transform(movie_emb)\n",
    "movie_cluster.shape"
   ]
  },
  {
   "cell_type": "code",
   "execution_count": 106,
   "metadata": {},
   "outputs": [
    {
     "data": {
      "image/png": "[encoded data removed]",
      "text/plain": [
       "<matplotlib.figure.Figure at 0x2ba8f909550>"
      ]
     },
     "metadata": {},
     "output_type": "display_data"
    }
   ],
   "source": [
    "idxs = np.random.choice(len(topMovies), 50, replace=False)\n",
    "X = movie_cluster.T[0][idxs]\n",
    "Y = movie_cluster.T[1][idxs]\n",
    "plt.figure(figsize=(15,15))\n",
    "plt.scatter(X, Y)\n",
    "for i, x, y in zip(topMovies[idxs], X, Y):\n",
    "    plt.text(x,y,movie_names[i], color=np.random.rand(3)*0.7, fontsize=11)\n",
    "plt.show()"
   ]
  },
  {
   "cell_type": "markdown",
   "metadata": {},
   "source": [
    "# 7. User Recommendations\n",
    "\n",
    "Now we want to build a recommendation system that can recommend new movies for users to watch. Now that we have the trained model, this is fairly straightforward. We grab the index value for the user and the index values for all the movies that the user has not yet rated, and use these as inputs into the model.\n",
    "\n",
    "The model will output an array of predicted user ratings for each movie. We will grab the top 10 predictions and output them as recommendations. We'll also write a quick function to get the user's favorite movies so we can compare."
   ]
  },
  {
   "cell_type": "code",
   "execution_count": 107,
   "metadata": {},
   "outputs": [],
   "source": [
    "def get_recs(ratings, movies, usr_id, cf, learner):\n",
    "    new_movies = ratings[~(ratings.userId == usr_id)].movieId.unique()\n",
    "    \n",
    "    urs_idx = cf.user2idx[usr_id]\n",
    "    movie_idx = np.array([cf.item2idx[x] for x in new_movies])\n",
    "    \n",
    "    usr = V(torch.LongTensor([int(urs_idx)]))\n",
    "    movs = V(torch.LongTensor([list(movie_idx)]))\n",
    "    \n",
    "    preds = learner.model(usr[0], movs[0])\n",
    "    top_preds = np.argsort(to_np(-preds))[:10]\n",
    "    \n",
    "    top_ids = [[i for i in cf.item2idx.keys() if cf.item2idx[i] == j][0] for j in top_preds]\n",
    "    recs = movies[movies.movieId.isin(top_ids)].copy()\n",
    "    \n",
    "    avg_ratings = ratings.groupby(['movieId'])['rating'].mean()\n",
    "    top_avg = avg_ratings[avg_ratings.index.isin(recs.movieId.values)]\n",
    "    \n",
    "    recs['avg'] = top_avg.values\n",
    "    recs['predicted'] = to_np(preds[top_preds])\n",
    "    \n",
    "    reps = ratings.movieId.value_counts()\n",
    "    recs['representation'] = reps[reps.index.isin(recs.movieId.values)].values\n",
    "    \n",
    "    return recs\n"
   ]
  },
  {
   "cell_type": "code",
   "execution_count": 108,
   "metadata": {},
   "outputs": [],
   "source": [
    "def get_favorites(ratings, movies, usr_id):\n",
    "    fav_movies = ratings[ratings.userId == usr_id][ratings.rating == 5]\n",
    "    movie_names = movies.set_index('movieId')['title'].to_dict()\n",
    "    fav_movies['Names'] = fav_movies.movieId.map(lambda x: movie_names[x])\n",
    "    movie_idx = fav_movies.movieId.apply(lambda x: cf.item2idx[x])\n",
    "    fav_movies['Bias'] = movie_idx.map(lambda x: to_np(learner.model.ib.weight.data)[x])\n",
    "    \n",
    "    return fav_movies"
   ]
  },
  {
   "cell_type": "markdown",
   "metadata": {},
   "source": [
    "Lets start with user 15. This user has rating a lot of movies. 1700 in fact."
   ]
  },
  {
   "cell_type": "code",
   "execution_count": 109,
   "metadata": {},
   "outputs": [
    {
     "data": {
      "text/plain": [
       "1700"
      ]
     },
     "execution_count": 109,
     "metadata": {},
     "output_type": "execute_result"
    }
   ],
   "source": [
    "user_id = 15\n",
    "movie_id = ratings[ratings.userId == user_id].movieId\n",
    "len(movie_id)"
   ]
  },
  {
   "cell_type": "markdown",
   "metadata": {},
   "source": [
    "Lets look at 15's favorite movies. 15 has rated 92 movies as 5 stars.\n",
    "\n",
    "We can see that all these movies are conventionally accepted as good. They all have high bias terms."
   ]
  },
  {
   "cell_type": "code",
   "execution_count": 110,
   "metadata": {},
   "outputs": [
    {
     "name": "stderr",
     "output_type": "stream",
     "text": [
      "c:\\users\\gateway\\anaconda2\\envs\\tensorflow-gpu\\lib\\site-packages\\ipykernel_launcher.py:2: UserWarning: Boolean Series key will be reindexed to match DataFrame index.\n",
      "  \n"
     ]
    },
    {
     "data": {
      "text/plain": [
       "(92, 6)"
      ]
     },
     "execution_count": 110,
     "metadata": {},
     "output_type": "execute_result"
    }
   ],
   "source": [
    "fav_15 = get_favorites(ratings, movies, 15)\n",
    "fav_15.shape"
   ]
  },
  {
   "cell_type": "code",
   "execution_count": 111,
   "metadata": {},
   "outputs": [
    {
     "data": {
      "text/html": [
       "<div>\n",
       "<style scoped>\n",
       "    .dataframe tbody tr th:only-of-type {\n",
       "        vertical-align: middle;\n",
       "    }\n",
       "\n",
       "    .dataframe tbody tr th {\n",
       "        vertical-align: top;\n",
       "    }\n",
       "\n",
       "    .dataframe thead th {\n",
       "        text-align: right;\n",
       "    }\n",
       "</style>\n",
       "<table border=\"1\" class=\"dataframe\">\n",
       "  <thead>\n",
       "    <tr style=\"text-align: right;\">\n",
       "      <th></th>\n",
       "      <th>userId</th>\n",
       "      <th>movieId</th>\n",
       "      <th>rating</th>\n",
       "      <th>timestamp</th>\n",
       "      <th>Names</th>\n",
       "      <th>Bias</th>\n",
       "    </tr>\n",
       "  </thead>\n",
       "  <tbody>\n",
       "    <tr>\n",
       "      <th>980</th>\n",
       "      <td>15</td>\n",
       "      <td>47</td>\n",
       "      <td>5.0</td>\n",
       "      <td>1054449816</td>\n",
       "      <td>Seven (a.k.a. Se7en) (1995)</td>\n",
       "      <td>[0.5770935]</td>\n",
       "    </tr>\n",
       "    <tr>\n",
       "      <th>981</th>\n",
       "      <td>15</td>\n",
       "      <td>50</td>\n",
       "      <td>5.0</td>\n",
       "      <td>997938500</td>\n",
       "      <td>Usual Suspects, The (1995)</td>\n",
       "      <td>[0.8813979]</td>\n",
       "    </tr>\n",
       "    <tr>\n",
       "      <th>985</th>\n",
       "      <td>15</td>\n",
       "      <td>82</td>\n",
       "      <td>5.0</td>\n",
       "      <td>1044220302</td>\n",
       "      <td>Antonia's Line (Antonia) (1995)</td>\n",
       "      <td>[0.21598637]</td>\n",
       "    </tr>\n",
       "    <tr>\n",
       "      <th>992</th>\n",
       "      <td>15</td>\n",
       "      <td>111</td>\n",
       "      <td>5.0</td>\n",
       "      <td>997938500</td>\n",
       "      <td>Taxi Driver (1976)</td>\n",
       "      <td>[0.68414515]</td>\n",
       "    </tr>\n",
       "    <tr>\n",
       "      <th>997</th>\n",
       "      <td>15</td>\n",
       "      <td>149</td>\n",
       "      <td>5.0</td>\n",
       "      <td>1075142933</td>\n",
       "      <td>Amateur (1994)</td>\n",
       "      <td>[0.22726314]</td>\n",
       "    </tr>\n",
       "    <tr>\n",
       "      <th>1028</th>\n",
       "      <td>15</td>\n",
       "      <td>246</td>\n",
       "      <td>5.0</td>\n",
       "      <td>997938656</td>\n",
       "      <td>Hoop Dreams (1994)</td>\n",
       "      <td>[0.58397615]</td>\n",
       "    </tr>\n",
       "    <tr>\n",
       "      <th>1032</th>\n",
       "      <td>15</td>\n",
       "      <td>260</td>\n",
       "      <td>5.0</td>\n",
       "      <td>997938437</td>\n",
       "      <td>Star Wars: Episode IV - A New Hope (1977)</td>\n",
       "      <td>[0.78374004]</td>\n",
       "    </tr>\n",
       "    <tr>\n",
       "      <th>1036</th>\n",
       "      <td>15</td>\n",
       "      <td>293</td>\n",
       "      <td>5.0</td>\n",
       "      <td>997938567</td>\n",
       "      <td>Léon: The Professional (a.k.a. The Professiona...</td>\n",
       "      <td>[0.621534]</td>\n",
       "    </tr>\n",
       "    <tr>\n",
       "      <th>1037</th>\n",
       "      <td>15</td>\n",
       "      <td>296</td>\n",
       "      <td>5.0</td>\n",
       "      <td>997938771</td>\n",
       "      <td>Pulp Fiction (1994)</td>\n",
       "      <td>[0.8220524]</td>\n",
       "    </tr>\n",
       "    <tr>\n",
       "      <th>1039</th>\n",
       "      <td>15</td>\n",
       "      <td>306</td>\n",
       "      <td>5.0</td>\n",
       "      <td>997938737</td>\n",
       "      <td>Three Colors: Red (Trois couleurs: Rouge) (1994)</td>\n",
       "      <td>[0.5625775]</td>\n",
       "    </tr>\n",
       "    <tr>\n",
       "      <th>1073</th>\n",
       "      <td>15</td>\n",
       "      <td>457</td>\n",
       "      <td>5.0</td>\n",
       "      <td>997938567</td>\n",
       "      <td>Fugitive, The (1993)</td>\n",
       "      <td>[0.74294645]</td>\n",
       "    </tr>\n",
       "    <tr>\n",
       "      <th>1091</th>\n",
       "      <td>15</td>\n",
       "      <td>541</td>\n",
       "      <td>5.0</td>\n",
       "      <td>997938438</td>\n",
       "      <td>Blade Runner (1982)</td>\n",
       "      <td>[0.5043827]</td>\n",
       "    </tr>\n",
       "    <tr>\n",
       "      <th>1093</th>\n",
       "      <td>15</td>\n",
       "      <td>549</td>\n",
       "      <td>5.0</td>\n",
       "      <td>997938676</td>\n",
       "      <td>Thirty-Two Short Films About Glenn Gould (1993)</td>\n",
       "      <td>[0.4248002]</td>\n",
       "    </tr>\n",
       "    <tr>\n",
       "      <th>1105</th>\n",
       "      <td>15</td>\n",
       "      <td>593</td>\n",
       "      <td>5.0</td>\n",
       "      <td>997938500</td>\n",
       "      <td>Silence of the Lambs, The (1991)</td>\n",
       "      <td>[0.8238297]</td>\n",
       "    </tr>\n",
       "    <tr>\n",
       "      <th>1108</th>\n",
       "      <td>15</td>\n",
       "      <td>608</td>\n",
       "      <td>5.0</td>\n",
       "      <td>997938500</td>\n",
       "      <td>Fargo (1996)</td>\n",
       "      <td>[0.7886792]</td>\n",
       "    </tr>\n",
       "    <tr>\n",
       "      <th>1133</th>\n",
       "      <td>15</td>\n",
       "      <td>800</td>\n",
       "      <td>5.0</td>\n",
       "      <td>997938391</td>\n",
       "      <td>Lone Star (1996)</td>\n",
       "      <td>[0.33859962]</td>\n",
       "    </tr>\n",
       "    <tr>\n",
       "      <th>1140</th>\n",
       "      <td>15</td>\n",
       "      <td>858</td>\n",
       "      <td>5.0</td>\n",
       "      <td>997938703</td>\n",
       "      <td>Godfather, The (1972)</td>\n",
       "      <td>[0.96758395]</td>\n",
       "    </tr>\n",
       "    <tr>\n",
       "      <th>1142</th>\n",
       "      <td>15</td>\n",
       "      <td>899</td>\n",
       "      <td>5.0</td>\n",
       "      <td>1058250570</td>\n",
       "      <td>Singin' in the Rain (1952)</td>\n",
       "      <td>[0.57742846]</td>\n",
       "    </tr>\n",
       "    <tr>\n",
       "      <th>1143</th>\n",
       "      <td>15</td>\n",
       "      <td>903</td>\n",
       "      <td>5.0</td>\n",
       "      <td>997938346</td>\n",
       "      <td>Vertigo (1958)</td>\n",
       "      <td>[0.49591848]</td>\n",
       "    </tr>\n",
       "    <tr>\n",
       "      <th>1144</th>\n",
       "      <td>15</td>\n",
       "      <td>904</td>\n",
       "      <td>5.0</td>\n",
       "      <td>997938346</td>\n",
       "      <td>Rear Window (1954)</td>\n",
       "      <td>[0.68470126]</td>\n",
       "    </tr>\n",
       "  </tbody>\n",
       "</table>\n",
       "</div>"
      ],
      "text/plain": [
       "      userId  movieId  rating   timestamp  \\\n",
       "980       15       47     5.0  1054449816   \n",
       "981       15       50     5.0   997938500   \n",
       "985       15       82     5.0  1044220302   \n",
       "992       15      111     5.0   997938500   \n",
       "997       15      149     5.0  1075142933   \n",
       "1028      15      246     5.0   997938656   \n",
       "1032      15      260     5.0   997938437   \n",
       "1036      15      293     5.0   997938567   \n",
       "1037      15      296     5.0   997938771   \n",
       "1039      15      306     5.0   997938737   \n",
       "1073      15      457     5.0   997938567   \n",
       "1091      15      541     5.0   997938438   \n",
       "1093      15      549     5.0   997938676   \n",
       "1105      15      593     5.0   997938500   \n",
       "1108      15      608     5.0   997938500   \n",
       "1133      15      800     5.0   997938391   \n",
       "1140      15      858     5.0   997938703   \n",
       "1142      15      899     5.0  1058250570   \n",
       "1143      15      903     5.0   997938346   \n",
       "1144      15      904     5.0   997938346   \n",
       "\n",
       "                                                  Names          Bias  \n",
       "980                         Seven (a.k.a. Se7en) (1995)   [0.5770935]  \n",
       "981                          Usual Suspects, The (1995)   [0.8813979]  \n",
       "985                     Antonia's Line (Antonia) (1995)  [0.21598637]  \n",
       "992                                  Taxi Driver (1976)  [0.68414515]  \n",
       "997                                      Amateur (1994)  [0.22726314]  \n",
       "1028                                 Hoop Dreams (1994)  [0.58397615]  \n",
       "1032          Star Wars: Episode IV - A New Hope (1977)  [0.78374004]  \n",
       "1036  Léon: The Professional (a.k.a. The Professiona...    [0.621534]  \n",
       "1037                                Pulp Fiction (1994)   [0.8220524]  \n",
       "1039   Three Colors: Red (Trois couleurs: Rouge) (1994)   [0.5625775]  \n",
       "1073                               Fugitive, The (1993)  [0.74294645]  \n",
       "1091                                Blade Runner (1982)   [0.5043827]  \n",
       "1093    Thirty-Two Short Films About Glenn Gould (1993)   [0.4248002]  \n",
       "1105                   Silence of the Lambs, The (1991)   [0.8238297]  \n",
       "1108                                       Fargo (1996)   [0.7886792]  \n",
       "1133                                   Lone Star (1996)  [0.33859962]  \n",
       "1140                              Godfather, The (1972)  [0.96758395]  \n",
       "1142                         Singin' in the Rain (1952)  [0.57742846]  \n",
       "1143                                     Vertigo (1958)  [0.49591848]  \n",
       "1144                                 Rear Window (1954)  [0.68470126]  "
      ]
     },
     "execution_count": 111,
     "metadata": {},
     "output_type": "execute_result"
    }
   ],
   "source": [
    "fav_15.head(20)"
   ]
  },
  {
   "cell_type": "markdown",
   "metadata": {},
   "source": [
    "What are some new movies 15 should watch?"
   ]
  },
  {
   "cell_type": "code",
   "execution_count": 112,
   "metadata": {},
   "outputs": [
    {
     "data": {
      "text/html": [
       "<div>\n",
       "<style scoped>\n",
       "    .dataframe tbody tr th:only-of-type {\n",
       "        vertical-align: middle;\n",
       "    }\n",
       "\n",
       "    .dataframe tbody tr th {\n",
       "        vertical-align: top;\n",
       "    }\n",
       "\n",
       "    .dataframe thead th {\n",
       "        text-align: right;\n",
       "    }\n",
       "</style>\n",
       "<table border=\"1\" class=\"dataframe\">\n",
       "  <thead>\n",
       "    <tr style=\"text-align: right;\">\n",
       "      <th></th>\n",
       "      <th>movieId</th>\n",
       "      <th>title</th>\n",
       "      <th>genres</th>\n",
       "      <th>avg</th>\n",
       "      <th>predicted</th>\n",
       "      <th>representation</th>\n",
       "    </tr>\n",
       "  </thead>\n",
       "  <tbody>\n",
       "    <tr>\n",
       "      <th>101</th>\n",
       "      <td>111</td>\n",
       "      <td>Taxi Driver (1976)</td>\n",
       "      <td>Crime|Drama|Thriller</td>\n",
       "      <td>4.224576</td>\n",
       "      <td>4.799713</td>\n",
       "      <td>118</td>\n",
       "    </tr>\n",
       "    <tr>\n",
       "      <th>724</th>\n",
       "      <td>903</td>\n",
       "      <td>Vertigo (1958)</td>\n",
       "      <td>Drama|Mystery|Romance|Thriller</td>\n",
       "      <td>4.224638</td>\n",
       "      <td>4.798220</td>\n",
       "      <td>85</td>\n",
       "    </tr>\n",
       "    <tr>\n",
       "      <th>744</th>\n",
       "      <td>923</td>\n",
       "      <td>Citizen Kane (1941)</td>\n",
       "      <td>Drama|Mystery</td>\n",
       "      <td>4.200000</td>\n",
       "      <td>4.797861</td>\n",
       "      <td>69</td>\n",
       "    </tr>\n",
       "    <tr>\n",
       "      <th>959</th>\n",
       "      <td>1202</td>\n",
       "      <td>Withnail &amp; I (1987)</td>\n",
       "      <td>Comedy</td>\n",
       "      <td>3.642857</td>\n",
       "      <td>4.769397</td>\n",
       "      <td>13</td>\n",
       "    </tr>\n",
       "    <tr>\n",
       "      <th>1742</th>\n",
       "      <td>2191</td>\n",
       "      <td>Merry War, A (1997)</td>\n",
       "      <td>Comedy</td>\n",
       "      <td>0.500000</td>\n",
       "      <td>4.716189</td>\n",
       "      <td>7</td>\n",
       "    </tr>\n",
       "    <tr>\n",
       "      <th>4001</th>\n",
       "      <td>5214</td>\n",
       "      <td>Oh, God! (1977)</td>\n",
       "      <td>Comedy|Fantasy</td>\n",
       "      <td>3.750000</td>\n",
       "      <td>4.692409</td>\n",
       "      <td>4</td>\n",
       "    </tr>\n",
       "    <tr>\n",
       "      <th>4476</th>\n",
       "      <td>6123</td>\n",
       "      <td>Sunless (Sans Soleil) (1983)</td>\n",
       "      <td>Documentary</td>\n",
       "      <td>4.000000</td>\n",
       "      <td>4.688776</td>\n",
       "      <td>4</td>\n",
       "    </tr>\n",
       "    <tr>\n",
       "      <th>4849</th>\n",
       "      <td>6867</td>\n",
       "      <td>Station Agent, The (2003)</td>\n",
       "      <td>Comedy|Drama</td>\n",
       "      <td>3.576923</td>\n",
       "      <td>4.685207</td>\n",
       "      <td>2</td>\n",
       "    </tr>\n",
       "    <tr>\n",
       "      <th>6187</th>\n",
       "      <td>34334</td>\n",
       "      <td>Stealth (2005)</td>\n",
       "      <td>Action|Adventure|Sci-Fi|Thriller</td>\n",
       "      <td>2.125000</td>\n",
       "      <td>4.678000</td>\n",
       "      <td>1</td>\n",
       "    </tr>\n",
       "    <tr>\n",
       "      <th>7280</th>\n",
       "      <td>70121</td>\n",
       "      <td>'Neath the Arizona Skies (1934)</td>\n",
       "      <td>Western</td>\n",
       "      <td>0.500000</td>\n",
       "      <td>4.673854</td>\n",
       "      <td>1</td>\n",
       "    </tr>\n",
       "  </tbody>\n",
       "</table>\n",
       "</div>"
      ],
      "text/plain": [
       "      movieId                            title  \\\n",
       "101       111               Taxi Driver (1976)   \n",
       "724       903                   Vertigo (1958)   \n",
       "744       923              Citizen Kane (1941)   \n",
       "959      1202              Withnail & I (1987)   \n",
       "1742     2191              Merry War, A (1997)   \n",
       "4001     5214                  Oh, God! (1977)   \n",
       "4476     6123     Sunless (Sans Soleil) (1983)   \n",
       "4849     6867        Station Agent, The (2003)   \n",
       "6187    34334                   Stealth (2005)   \n",
       "7280    70121  'Neath the Arizona Skies (1934)   \n",
       "\n",
       "                                genres       avg  predicted  representation  \n",
       "101               Crime|Drama|Thriller  4.224576   4.799713             118  \n",
       "724     Drama|Mystery|Romance|Thriller  4.224638   4.798220              85  \n",
       "744                      Drama|Mystery  4.200000   4.797861              69  \n",
       "959                             Comedy  3.642857   4.769397              13  \n",
       "1742                            Comedy  0.500000   4.716189               7  \n",
       "4001                    Comedy|Fantasy  3.750000   4.692409               4  \n",
       "4476                       Documentary  4.000000   4.688776               4  \n",
       "4849                      Comedy|Drama  3.576923   4.685207               2  \n",
       "6187  Action|Adventure|Sci-Fi|Thriller  2.125000   4.678000               1  \n",
       "7280                           Western  0.500000   4.673854               1  "
      ]
     },
     "execution_count": 112,
     "metadata": {},
     "output_type": "execute_result"
    }
   ],
   "source": [
    "recs_15 = get_recs(ratings, movies, 15, cf, learner)\n",
    "recs_15"
   ]
  },
  {
   "cell_type": "markdown",
   "metadata": {},
   "source": [
    "Along with the recommendations I had the function also display some useful information for qualifying the recommendations. We can see the average user rating, the predicted rating for 15, and the representation of each movie in the data.\n",
    "\n",
    "One thing that's concerning is the last 6 recommendations are represented less than 10 times in the data set, which makes me think the weights might not be well tuned.\n",
    "\n",
    "Some of the recommendations seem good. Others seem off. I don't think Stealth or 'Neath the Arizona Skies would be good recommendations for 15.\n",
    "\n",
    "Lets grab some other users at random"
   ]
  },
  {
   "cell_type": "code",
   "execution_count": 113,
   "metadata": {},
   "outputs": [
    {
     "name": "stderr",
     "output_type": "stream",
     "text": [
      "c:\\users\\gateway\\anaconda2\\envs\\tensorflow-gpu\\lib\\site-packages\\ipykernel_launcher.py:2: UserWarning: Boolean Series key will be reindexed to match DataFrame index.\n",
      "  \n"
     ]
    },
    {
     "data": {
      "text/html": [
       "<div>\n",
       "<style scoped>\n",
       "    .dataframe tbody tr th:only-of-type {\n",
       "        vertical-align: middle;\n",
       "    }\n",
       "\n",
       "    .dataframe tbody tr th {\n",
       "        vertical-align: top;\n",
       "    }\n",
       "\n",
       "    .dataframe thead th {\n",
       "        text-align: right;\n",
       "    }\n",
       "</style>\n",
       "<table border=\"1\" class=\"dataframe\">\n",
       "  <thead>\n",
       "    <tr style=\"text-align: right;\">\n",
       "      <th></th>\n",
       "      <th>userId</th>\n",
       "      <th>movieId</th>\n",
       "      <th>rating</th>\n",
       "      <th>timestamp</th>\n",
       "      <th>Names</th>\n",
       "      <th>Bias</th>\n",
       "    </tr>\n",
       "  </thead>\n",
       "  <tbody>\n",
       "    <tr>\n",
       "      <th>78439</th>\n",
       "      <td>547</td>\n",
       "      <td>17</td>\n",
       "      <td>5.0</td>\n",
       "      <td>974778941</td>\n",
       "      <td>Sense and Sensibility (1995)</td>\n",
       "      <td>[0.42604464]</td>\n",
       "    </tr>\n",
       "    <tr>\n",
       "      <th>78452</th>\n",
       "      <td>547</td>\n",
       "      <td>111</td>\n",
       "      <td>5.0</td>\n",
       "      <td>974809870</td>\n",
       "      <td>Taxi Driver (1976)</td>\n",
       "      <td>[0.68414515]</td>\n",
       "    </tr>\n",
       "    <tr>\n",
       "      <th>78455</th>\n",
       "      <td>547</td>\n",
       "      <td>125</td>\n",
       "      <td>5.0</td>\n",
       "      <td>1370674374</td>\n",
       "      <td>Flirting With Disaster (1996)</td>\n",
       "      <td>[0.063491076]</td>\n",
       "    </tr>\n",
       "    <tr>\n",
       "      <th>78466</th>\n",
       "      <td>547</td>\n",
       "      <td>176</td>\n",
       "      <td>5.0</td>\n",
       "      <td>974780806</td>\n",
       "      <td>Living in Oblivion (1995)</td>\n",
       "      <td>[0.27757192]</td>\n",
       "    </tr>\n",
       "    <tr>\n",
       "      <th>78470</th>\n",
       "      <td>547</td>\n",
       "      <td>194</td>\n",
       "      <td>5.0</td>\n",
       "      <td>986695368</td>\n",
       "      <td>Smoke (1995)</td>\n",
       "      <td>[0.5653919]</td>\n",
       "    </tr>\n",
       "    <tr>\n",
       "      <th>78479</th>\n",
       "      <td>547</td>\n",
       "      <td>246</td>\n",
       "      <td>5.0</td>\n",
       "      <td>974779093</td>\n",
       "      <td>Hoop Dreams (1994)</td>\n",
       "      <td>[0.58397615]</td>\n",
       "    </tr>\n",
       "    <tr>\n",
       "      <th>78490</th>\n",
       "      <td>547</td>\n",
       "      <td>296</td>\n",
       "      <td>5.0</td>\n",
       "      <td>981314122</td>\n",
       "      <td>Pulp Fiction (1994)</td>\n",
       "      <td>[0.8220524]</td>\n",
       "    </tr>\n",
       "    <tr>\n",
       "      <th>78494</th>\n",
       "      <td>547</td>\n",
       "      <td>318</td>\n",
       "      <td>5.0</td>\n",
       "      <td>1149387505</td>\n",
       "      <td>Shawshank Redemption, The (1994)</td>\n",
       "      <td>[1.1845863]</td>\n",
       "    </tr>\n",
       "    <tr>\n",
       "      <th>78521</th>\n",
       "      <td>547</td>\n",
       "      <td>448</td>\n",
       "      <td>5.0</td>\n",
       "      <td>981314419</td>\n",
       "      <td>Fearless (1993)</td>\n",
       "      <td>[0.13615397]</td>\n",
       "    </tr>\n",
       "    <tr>\n",
       "      <th>78541</th>\n",
       "      <td>547</td>\n",
       "      <td>527</td>\n",
       "      <td>5.0</td>\n",
       "      <td>974809897</td>\n",
       "      <td>Schindler's List (1993)</td>\n",
       "      <td>[0.8391947]</td>\n",
       "    </tr>\n",
       "  </tbody>\n",
       "</table>\n",
       "</div>"
      ],
      "text/plain": [
       "       userId  movieId  rating   timestamp                             Names  \\\n",
       "78439     547       17     5.0   974778941      Sense and Sensibility (1995)   \n",
       "78452     547      111     5.0   974809870                Taxi Driver (1976)   \n",
       "78455     547      125     5.0  1370674374     Flirting With Disaster (1996)   \n",
       "78466     547      176     5.0   974780806         Living in Oblivion (1995)   \n",
       "78470     547      194     5.0   986695368                      Smoke (1995)   \n",
       "78479     547      246     5.0   974779093                Hoop Dreams (1994)   \n",
       "78490     547      296     5.0   981314122               Pulp Fiction (1994)   \n",
       "78494     547      318     5.0  1149387505  Shawshank Redemption, The (1994)   \n",
       "78521     547      448     5.0   981314419                   Fearless (1993)   \n",
       "78541     547      527     5.0   974809897           Schindler's List (1993)   \n",
       "\n",
       "                Bias  \n",
       "78439   [0.42604464]  \n",
       "78452   [0.68414515]  \n",
       "78455  [0.063491076]  \n",
       "78466   [0.27757192]  \n",
       "78470    [0.5653919]  \n",
       "78479   [0.58397615]  \n",
       "78490    [0.8220524]  \n",
       "78494    [1.1845863]  \n",
       "78521   [0.13615397]  \n",
       "78541    [0.8391947]  "
      ]
     },
     "execution_count": 113,
     "metadata": {},
     "output_type": "execute_result"
    }
   ],
   "source": [
    "fav_547 = get_favorites(ratings, movies, 547)\n",
    "fav_547.head(10)"
   ]
  },
  {
   "cell_type": "code",
   "execution_count": 114,
   "metadata": {},
   "outputs": [
    {
     "data": {
      "text/html": [
       "<div>\n",
       "<style scoped>\n",
       "    .dataframe tbody tr th:only-of-type {\n",
       "        vertical-align: middle;\n",
       "    }\n",
       "\n",
       "    .dataframe tbody tr th {\n",
       "        vertical-align: top;\n",
       "    }\n",
       "\n",
       "    .dataframe thead th {\n",
       "        text-align: right;\n",
       "    }\n",
       "</style>\n",
       "<table border=\"1\" class=\"dataframe\">\n",
       "  <thead>\n",
       "    <tr style=\"text-align: right;\">\n",
       "      <th></th>\n",
       "      <th>movieId</th>\n",
       "      <th>title</th>\n",
       "      <th>genres</th>\n",
       "      <th>avg</th>\n",
       "      <th>predicted</th>\n",
       "      <th>representation</th>\n",
       "    </tr>\n",
       "  </thead>\n",
       "  <tbody>\n",
       "    <tr>\n",
       "      <th>695</th>\n",
       "      <td>858</td>\n",
       "      <td>Godfather, The (1972)</td>\n",
       "      <td>Crime|Drama</td>\n",
       "      <td>4.487500</td>\n",
       "      <td>4.812822</td>\n",
       "      <td>200</td>\n",
       "    </tr>\n",
       "    <tr>\n",
       "      <th>719</th>\n",
       "      <td>898</td>\n",
       "      <td>Philadelphia Story, The (1940)</td>\n",
       "      <td>Comedy|Drama|Romance</td>\n",
       "      <td>4.351351</td>\n",
       "      <td>4.777989</td>\n",
       "      <td>165</td>\n",
       "    </tr>\n",
       "    <tr>\n",
       "      <th>733</th>\n",
       "      <td>912</td>\n",
       "      <td>Casablanca (1942)</td>\n",
       "      <td>Drama|Romance</td>\n",
       "      <td>4.235043</td>\n",
       "      <td>4.770819</td>\n",
       "      <td>151</td>\n",
       "    </tr>\n",
       "    <tr>\n",
       "      <th>840</th>\n",
       "      <td>1036</td>\n",
       "      <td>Die Hard (1988)</td>\n",
       "      <td>Action|Crime|Thriller</td>\n",
       "      <td>3.864238</td>\n",
       "      <td>4.769384</td>\n",
       "      <td>117</td>\n",
       "    </tr>\n",
       "    <tr>\n",
       "      <th>947</th>\n",
       "      <td>1189</td>\n",
       "      <td>Thin Blue Line, The (1988)</td>\n",
       "      <td>Documentary</td>\n",
       "      <td>4.000000</td>\n",
       "      <td>4.764803</td>\n",
       "      <td>37</td>\n",
       "    </tr>\n",
       "    <tr>\n",
       "      <th>973</th>\n",
       "      <td>1217</td>\n",
       "      <td>Ran (1985)</td>\n",
       "      <td>Drama|War</td>\n",
       "      <td>4.423077</td>\n",
       "      <td>4.754501</td>\n",
       "      <td>26</td>\n",
       "    </tr>\n",
       "    <tr>\n",
       "      <th>1019</th>\n",
       "      <td>1265</td>\n",
       "      <td>Groundhog Day (1993)</td>\n",
       "      <td>Comedy|Fantasy|Romance</td>\n",
       "      <td>3.839394</td>\n",
       "      <td>4.740669</td>\n",
       "      <td>21</td>\n",
       "    </tr>\n",
       "    <tr>\n",
       "      <th>1092</th>\n",
       "      <td>1348</td>\n",
       "      <td>Nosferatu (Nosferatu, eine Symphonie des Graue...</td>\n",
       "      <td>Horror</td>\n",
       "      <td>3.809524</td>\n",
       "      <td>4.736687</td>\n",
       "      <td>20</td>\n",
       "    </tr>\n",
       "    <tr>\n",
       "      <th>2976</th>\n",
       "      <td>3724</td>\n",
       "      <td>Coming Home (1978)</td>\n",
       "      <td>Drama|War</td>\n",
       "      <td>4.115385</td>\n",
       "      <td>4.736194</td>\n",
       "      <td>13</td>\n",
       "    </tr>\n",
       "    <tr>\n",
       "      <th>4156</th>\n",
       "      <td>5475</td>\n",
       "      <td>Z (1969)</td>\n",
       "      <td>Drama|Mystery|Thriller</td>\n",
       "      <td>4.500000</td>\n",
       "      <td>4.724061</td>\n",
       "      <td>3</td>\n",
       "    </tr>\n",
       "  </tbody>\n",
       "</table>\n",
       "</div>"
      ],
      "text/plain": [
       "      movieId                                              title  \\\n",
       "695       858                              Godfather, The (1972)   \n",
       "719       898                     Philadelphia Story, The (1940)   \n",
       "733       912                                  Casablanca (1942)   \n",
       "840      1036                                    Die Hard (1988)   \n",
       "947      1189                         Thin Blue Line, The (1988)   \n",
       "973      1217                                         Ran (1985)   \n",
       "1019     1265                               Groundhog Day (1993)   \n",
       "1092     1348  Nosferatu (Nosferatu, eine Symphonie des Graue...   \n",
       "2976     3724                                 Coming Home (1978)   \n",
       "4156     5475                                           Z (1969)   \n",
       "\n",
       "                      genres       avg  predicted  representation  \n",
       "695              Crime|Drama  4.487500   4.812822             200  \n",
       "719     Comedy|Drama|Romance  4.351351   4.777989             165  \n",
       "733            Drama|Romance  4.235043   4.770819             151  \n",
       "840    Action|Crime|Thriller  3.864238   4.769384             117  \n",
       "947              Documentary  4.000000   4.764803              37  \n",
       "973                Drama|War  4.423077   4.754501              26  \n",
       "1019  Comedy|Fantasy|Romance  3.839394   4.740669              21  \n",
       "1092                  Horror  3.809524   4.736687              20  \n",
       "2976               Drama|War  4.115385   4.736194              13  \n",
       "4156  Drama|Mystery|Thriller  4.500000   4.724061               3  "
      ]
     },
     "execution_count": 114,
     "metadata": {},
     "output_type": "execute_result"
    }
   ],
   "source": [
    "rec_547 = get_recs(ratings, movies, 547, cf, learner)\n",
    "rec_547"
   ]
  },
  {
   "cell_type": "code",
   "execution_count": null,
   "metadata": {},
   "outputs": [],
   "source": []
  },
  {
   "cell_type": "code",
   "execution_count": 115,
   "metadata": {},
   "outputs": [
    {
     "name": "stderr",
     "output_type": "stream",
     "text": [
      "c:\\users\\gateway\\anaconda2\\envs\\tensorflow-gpu\\lib\\site-packages\\ipykernel_launcher.py:2: UserWarning: Boolean Series key will be reindexed to match DataFrame index.\n",
      "  \n"
     ]
    },
    {
     "data": {
      "text/html": [
       "<div>\n",
       "<style scoped>\n",
       "    .dataframe tbody tr th:only-of-type {\n",
       "        vertical-align: middle;\n",
       "    }\n",
       "\n",
       "    .dataframe tbody tr th {\n",
       "        vertical-align: top;\n",
       "    }\n",
       "\n",
       "    .dataframe thead th {\n",
       "        text-align: right;\n",
       "    }\n",
       "</style>\n",
       "<table border=\"1\" class=\"dataframe\">\n",
       "  <thead>\n",
       "    <tr style=\"text-align: right;\">\n",
       "      <th></th>\n",
       "      <th>userId</th>\n",
       "      <th>movieId</th>\n",
       "      <th>rating</th>\n",
       "      <th>timestamp</th>\n",
       "      <th>Names</th>\n",
       "      <th>Bias</th>\n",
       "    </tr>\n",
       "  </thead>\n",
       "  <tbody>\n",
       "    <tr>\n",
       "      <th>51153</th>\n",
       "      <td>380</td>\n",
       "      <td>32</td>\n",
       "      <td>5.0</td>\n",
       "      <td>1038621928</td>\n",
       "      <td>Twelve Monkeys (a.k.a. 12 Monkeys) (1995)</td>\n",
       "      <td>[0.5161124]</td>\n",
       "    </tr>\n",
       "    <tr>\n",
       "      <th>51157</th>\n",
       "      <td>380</td>\n",
       "      <td>47</td>\n",
       "      <td>5.0</td>\n",
       "      <td>1038621751</td>\n",
       "      <td>Seven (a.k.a. Se7en) (1995)</td>\n",
       "      <td>[0.5770935]</td>\n",
       "    </tr>\n",
       "    <tr>\n",
       "      <th>51158</th>\n",
       "      <td>380</td>\n",
       "      <td>50</td>\n",
       "      <td>5.0</td>\n",
       "      <td>1022553465</td>\n",
       "      <td>Usual Suspects, The (1995)</td>\n",
       "      <td>[0.8813979]</td>\n",
       "    </tr>\n",
       "    <tr>\n",
       "      <th>51161</th>\n",
       "      <td>380</td>\n",
       "      <td>110</td>\n",
       "      <td>5.0</td>\n",
       "      <td>949368612</td>\n",
       "      <td>Braveheart (1995)</td>\n",
       "      <td>[0.60512805]</td>\n",
       "    </tr>\n",
       "    <tr>\n",
       "      <th>51169</th>\n",
       "      <td>380</td>\n",
       "      <td>223</td>\n",
       "      <td>5.0</td>\n",
       "      <td>949367653</td>\n",
       "      <td>Clerks (1994)</td>\n",
       "      <td>[0.33354992]</td>\n",
       "    </tr>\n",
       "    <tr>\n",
       "      <th>51175</th>\n",
       "      <td>380</td>\n",
       "      <td>296</td>\n",
       "      <td>5.0</td>\n",
       "      <td>949369345</td>\n",
       "      <td>Pulp Fiction (1994)</td>\n",
       "      <td>[0.8220524]</td>\n",
       "    </tr>\n",
       "    <tr>\n",
       "      <th>51186</th>\n",
       "      <td>380</td>\n",
       "      <td>356</td>\n",
       "      <td>5.0</td>\n",
       "      <td>949367498</td>\n",
       "      <td>Forrest Gump (1994)</td>\n",
       "      <td>[0.7892566]</td>\n",
       "    </tr>\n",
       "    <tr>\n",
       "      <th>51207</th>\n",
       "      <td>380</td>\n",
       "      <td>593</td>\n",
       "      <td>5.0</td>\n",
       "      <td>949371458</td>\n",
       "      <td>Silence of the Lambs, The (1991)</td>\n",
       "      <td>[0.8238297]</td>\n",
       "    </tr>\n",
       "    <tr>\n",
       "      <th>51228</th>\n",
       "      <td>380</td>\n",
       "      <td>924</td>\n",
       "      <td>5.0</td>\n",
       "      <td>950073539</td>\n",
       "      <td>2001: A Space Odyssey (1968)</td>\n",
       "      <td>[0.37957597]</td>\n",
       "    </tr>\n",
       "    <tr>\n",
       "      <th>51239</th>\n",
       "      <td>380</td>\n",
       "      <td>1090</td>\n",
       "      <td>5.0</td>\n",
       "      <td>994728493</td>\n",
       "      <td>Platoon (1986)</td>\n",
       "      <td>[0.43841362]</td>\n",
       "    </tr>\n",
       "  </tbody>\n",
       "</table>\n",
       "</div>"
      ],
      "text/plain": [
       "       userId  movieId  rating   timestamp  \\\n",
       "51153     380       32     5.0  1038621928   \n",
       "51157     380       47     5.0  1038621751   \n",
       "51158     380       50     5.0  1022553465   \n",
       "51161     380      110     5.0   949368612   \n",
       "51169     380      223     5.0   949367653   \n",
       "51175     380      296     5.0   949369345   \n",
       "51186     380      356     5.0   949367498   \n",
       "51207     380      593     5.0   949371458   \n",
       "51228     380      924     5.0   950073539   \n",
       "51239     380     1090     5.0   994728493   \n",
       "\n",
       "                                           Names          Bias  \n",
       "51153  Twelve Monkeys (a.k.a. 12 Monkeys) (1995)   [0.5161124]  \n",
       "51157                Seven (a.k.a. Se7en) (1995)   [0.5770935]  \n",
       "51158                 Usual Suspects, The (1995)   [0.8813979]  \n",
       "51161                          Braveheart (1995)  [0.60512805]  \n",
       "51169                              Clerks (1994)  [0.33354992]  \n",
       "51175                        Pulp Fiction (1994)   [0.8220524]  \n",
       "51186                        Forrest Gump (1994)   [0.7892566]  \n",
       "51207           Silence of the Lambs, The (1991)   [0.8238297]  \n",
       "51228               2001: A Space Odyssey (1968)  [0.37957597]  \n",
       "51239                             Platoon (1986)  [0.43841362]  "
      ]
     },
     "execution_count": 115,
     "metadata": {},
     "output_type": "execute_result"
    }
   ],
   "source": [
    "fav_380 = get_favorites(ratings, movies, 380)\n",
    "fav_380.head(10)"
   ]
  },
  {
   "cell_type": "code",
   "execution_count": 116,
   "metadata": {},
   "outputs": [
    {
     "data": {
      "text/html": [
       "<div>\n",
       "<style scoped>\n",
       "    .dataframe tbody tr th:only-of-type {\n",
       "        vertical-align: middle;\n",
       "    }\n",
       "\n",
       "    .dataframe tbody tr th {\n",
       "        vertical-align: top;\n",
       "    }\n",
       "\n",
       "    .dataframe thead th {\n",
       "        text-align: right;\n",
       "    }\n",
       "</style>\n",
       "<table border=\"1\" class=\"dataframe\">\n",
       "  <thead>\n",
       "    <tr style=\"text-align: right;\">\n",
       "      <th></th>\n",
       "      <th>movieId</th>\n",
       "      <th>title</th>\n",
       "      <th>genres</th>\n",
       "      <th>avg</th>\n",
       "      <th>predicted</th>\n",
       "      <th>representation</th>\n",
       "    </tr>\n",
       "  </thead>\n",
       "  <tbody>\n",
       "    <tr>\n",
       "      <th>45</th>\n",
       "      <td>47</td>\n",
       "      <td>Seven (a.k.a. Se7en) (1995)</td>\n",
       "      <td>Mystery|Thriller</td>\n",
       "      <td>4.034826</td>\n",
       "      <td>4.602655</td>\n",
       "      <td>324</td>\n",
       "    </tr>\n",
       "    <tr>\n",
       "      <th>48</th>\n",
       "      <td>50</td>\n",
       "      <td>Usual Suspects, The (1995)</td>\n",
       "      <td>Crime|Mystery|Thriller</td>\n",
       "      <td>4.370647</td>\n",
       "      <td>4.540661</td>\n",
       "      <td>311</td>\n",
       "    </tr>\n",
       "    <tr>\n",
       "      <th>232</th>\n",
       "      <td>260</td>\n",
       "      <td>Star Wars: Episode IV - A New Hope (1977)</td>\n",
       "      <td>Action|Adventure|Sci-Fi</td>\n",
       "      <td>4.221649</td>\n",
       "      <td>4.516809</td>\n",
       "      <td>291</td>\n",
       "    </tr>\n",
       "    <tr>\n",
       "      <th>266</th>\n",
       "      <td>296</td>\n",
       "      <td>Pulp Fiction (1994)</td>\n",
       "      <td>Comedy|Crime|Drama|Thriller</td>\n",
       "      <td>4.256173</td>\n",
       "      <td>4.504901</td>\n",
       "      <td>224</td>\n",
       "    </tr>\n",
       "    <tr>\n",
       "      <th>284</th>\n",
       "      <td>318</td>\n",
       "      <td>Shawshank Redemption, The (1994)</td>\n",
       "      <td>Crime|Drama</td>\n",
       "      <td>4.487138</td>\n",
       "      <td>4.502672</td>\n",
       "      <td>220</td>\n",
       "    </tr>\n",
       "    <tr>\n",
       "      <th>535</th>\n",
       "      <td>608</td>\n",
       "      <td>Fargo (1996)</td>\n",
       "      <td>Comedy|Crime|Drama|Thriller</td>\n",
       "      <td>4.256696</td>\n",
       "      <td>4.485014</td>\n",
       "      <td>202</td>\n",
       "    </tr>\n",
       "    <tr>\n",
       "      <th>695</th>\n",
       "      <td>858</td>\n",
       "      <td>Godfather, The (1972)</td>\n",
       "      <td>Crime|Drama</td>\n",
       "      <td>4.487500</td>\n",
       "      <td>4.468265</td>\n",
       "      <td>201</td>\n",
       "    </tr>\n",
       "    <tr>\n",
       "      <th>955</th>\n",
       "      <td>1198</td>\n",
       "      <td>Raiders of the Lost Ark (Indiana Jones and the...</td>\n",
       "      <td>Action|Adventure</td>\n",
       "      <td>4.193182</td>\n",
       "      <td>4.460089</td>\n",
       "      <td>201</td>\n",
       "    </tr>\n",
       "    <tr>\n",
       "      <th>2374</th>\n",
       "      <td>2959</td>\n",
       "      <td>Fight Club (1999)</td>\n",
       "      <td>Action|Crime|Drama|Thriller</td>\n",
       "      <td>4.178218</td>\n",
       "      <td>4.436952</td>\n",
       "      <td>200</td>\n",
       "    </tr>\n",
       "    <tr>\n",
       "      <th>2860</th>\n",
       "      <td>3578</td>\n",
       "      <td>Gladiator (2000)</td>\n",
       "      <td>Action|Adventure|Drama</td>\n",
       "      <td>3.965839</td>\n",
       "      <td>4.427437</td>\n",
       "      <td>161</td>\n",
       "    </tr>\n",
       "  </tbody>\n",
       "</table>\n",
       "</div>"
      ],
      "text/plain": [
       "      movieId                                              title  \\\n",
       "45         47                        Seven (a.k.a. Se7en) (1995)   \n",
       "48         50                         Usual Suspects, The (1995)   \n",
       "232       260          Star Wars: Episode IV - A New Hope (1977)   \n",
       "266       296                                Pulp Fiction (1994)   \n",
       "284       318                   Shawshank Redemption, The (1994)   \n",
       "535       608                                       Fargo (1996)   \n",
       "695       858                              Godfather, The (1972)   \n",
       "955      1198  Raiders of the Lost Ark (Indiana Jones and the...   \n",
       "2374     2959                                  Fight Club (1999)   \n",
       "2860     3578                                   Gladiator (2000)   \n",
       "\n",
       "                           genres       avg  predicted  representation  \n",
       "45               Mystery|Thriller  4.034826   4.602655             324  \n",
       "48         Crime|Mystery|Thriller  4.370647   4.540661             311  \n",
       "232       Action|Adventure|Sci-Fi  4.221649   4.516809             291  \n",
       "266   Comedy|Crime|Drama|Thriller  4.256173   4.504901             224  \n",
       "284                   Crime|Drama  4.487138   4.502672             220  \n",
       "535   Comedy|Crime|Drama|Thriller  4.256696   4.485014             202  \n",
       "695                   Crime|Drama  4.487500   4.468265             201  \n",
       "955              Action|Adventure  4.193182   4.460089             201  \n",
       "2374  Action|Crime|Drama|Thriller  4.178218   4.436952             200  \n",
       "2860       Action|Adventure|Drama  3.965839   4.427437             161  "
      ]
     },
     "execution_count": 116,
     "metadata": {},
     "output_type": "execute_result"
    }
   ],
   "source": [
    "rec_380 = get_recs(ratings, movies, 380, cf, learner)\n",
    "rec_380"
   ]
  },
  {
   "cell_type": "markdown",
   "metadata": {},
   "source": [
    "Most of the recommendations make sense. As with the case of user 15, some seem to be pretty out there. I'm sure the model could improve with more data to fill in the representation gaps."
   ]
  },
  {
   "cell_type": "markdown",
   "metadata": {},
   "source": [
    "# 8. New User Onboarding\n",
    "\n",
    "What happens when we get a new user? We need to develop their user weights to onboard them onto the recommendation system. To do this, I'm assuming we have 5 data points for the user to go on (imagine some kind of onboarding survey). In the case where you have a totally new user with no data, the best you could do would be to create a generic new user model and wait for the user to give you some kind of feedback. \n",
    "\n",
    "To train the new user weights, we will use the same model with a slight variation. The new model will take movie weights from the main model as an input and only train the weights for the user."
   ]
  },
  {
   "cell_type": "code",
   "execution_count": 117,
   "metadata": {},
   "outputs": [],
   "source": [
    "class EmbeddingDotBiasOnboard(nn.Module):\n",
    "    def __init__(self, n_factors, n_users, n_items, min_score, max_score, i_w, ib_w):\n",
    "        super().__init__()\n",
    "        self.min_score,self.max_score = min_score,max_score\n",
    "        self.i = i_w\n",
    "        self.ib = ib_w\n",
    "        (self.u, self.ub) = [get_emb(*o) for o in [\n",
    "            (n_users, n_factors), (n_users,1)\n",
    "        ]]\n",
    "\n",
    "    def forward(self, users, items):\n",
    "        um = self.u(users)* self.i(items)\n",
    "        res = um.sum(1) + self.ub(users).squeeze() + self.ib(items).squeeze()\n",
    "        res = F.sigmoid(res) * (self.max_score-self.min_score) + self.min_score\n",
    "        return res"
   ]
  },
  {
   "cell_type": "markdown",
   "metadata": {},
   "source": [
    "Here we make 5 data points for two new random users. Two extra data points - (1,1,1), (1,1,2) - are added as a dummy validation set. This is because the dataloader expects some validation values to chew on. These don't impact training."
   ]
  },
  {
   "cell_type": "code",
   "execution_count": 118,
   "metadata": {},
   "outputs": [],
   "source": [
    "new_userId = pd.Series(np.array([1,1,1,1,1,2,2,2,2,2,1,2]))\n",
    "new_movieId = pd.Series(np.array([1029, 1061, 1129, 1287, 1339, 3, 141, 344, 356, 364,1,1]))\n",
    "new_rating = pd.Series(np.array([4.5, 4, 1.5, 2, 5, 4, 4, 2, 3, 3,1,1]))"
   ]
  },
  {
   "cell_type": "code",
   "execution_count": 119,
   "metadata": {},
   "outputs": [],
   "source": [
    "new_user_df = pd.concat([new_userId, new_movieId, new_rating], axis=1)"
   ]
  },
  {
   "cell_type": "code",
   "execution_count": 120,
   "metadata": {},
   "outputs": [],
   "source": [
    "new_user_df.columns = ['userId', 'movieId', 'rating']"
   ]
  },
  {
   "cell_type": "code",
   "execution_count": 121,
   "metadata": {},
   "outputs": [
    {
     "data": {
      "text/html": [
       "<div>\n",
       "<style scoped>\n",
       "    .dataframe tbody tr th:only-of-type {\n",
       "        vertical-align: middle;\n",
       "    }\n",
       "\n",
       "    .dataframe tbody tr th {\n",
       "        vertical-align: top;\n",
       "    }\n",
       "\n",
       "    .dataframe thead th {\n",
       "        text-align: right;\n",
       "    }\n",
       "</style>\n",
       "<table border=\"1\" class=\"dataframe\">\n",
       "  <thead>\n",
       "    <tr style=\"text-align: right;\">\n",
       "      <th></th>\n",
       "      <th>userId</th>\n",
       "      <th>movieId</th>\n",
       "      <th>rating</th>\n",
       "    </tr>\n",
       "  </thead>\n",
       "  <tbody>\n",
       "    <tr>\n",
       "      <th>0</th>\n",
       "      <td>1</td>\n",
       "      <td>1029</td>\n",
       "      <td>4.5</td>\n",
       "    </tr>\n",
       "    <tr>\n",
       "      <th>1</th>\n",
       "      <td>1</td>\n",
       "      <td>1061</td>\n",
       "      <td>4.0</td>\n",
       "    </tr>\n",
       "    <tr>\n",
       "      <th>2</th>\n",
       "      <td>1</td>\n",
       "      <td>1129</td>\n",
       "      <td>1.5</td>\n",
       "    </tr>\n",
       "    <tr>\n",
       "      <th>3</th>\n",
       "      <td>1</td>\n",
       "      <td>1287</td>\n",
       "      <td>2.0</td>\n",
       "    </tr>\n",
       "    <tr>\n",
       "      <th>4</th>\n",
       "      <td>1</td>\n",
       "      <td>1339</td>\n",
       "      <td>5.0</td>\n",
       "    </tr>\n",
       "    <tr>\n",
       "      <th>5</th>\n",
       "      <td>2</td>\n",
       "      <td>3</td>\n",
       "      <td>4.0</td>\n",
       "    </tr>\n",
       "    <tr>\n",
       "      <th>6</th>\n",
       "      <td>2</td>\n",
       "      <td>141</td>\n",
       "      <td>4.0</td>\n",
       "    </tr>\n",
       "    <tr>\n",
       "      <th>7</th>\n",
       "      <td>2</td>\n",
       "      <td>344</td>\n",
       "      <td>2.0</td>\n",
       "    </tr>\n",
       "    <tr>\n",
       "      <th>8</th>\n",
       "      <td>2</td>\n",
       "      <td>356</td>\n",
       "      <td>3.0</td>\n",
       "    </tr>\n",
       "    <tr>\n",
       "      <th>9</th>\n",
       "      <td>2</td>\n",
       "      <td>364</td>\n",
       "      <td>3.0</td>\n",
       "    </tr>\n",
       "    <tr>\n",
       "      <th>10</th>\n",
       "      <td>1</td>\n",
       "      <td>1</td>\n",
       "      <td>1.0</td>\n",
       "    </tr>\n",
       "    <tr>\n",
       "      <th>11</th>\n",
       "      <td>2</td>\n",
       "      <td>1</td>\n",
       "      <td>1.0</td>\n",
       "    </tr>\n",
       "  </tbody>\n",
       "</table>\n",
       "</div>"
      ],
      "text/plain": [
       "    userId  movieId  rating\n",
       "0        1     1029     4.5\n",
       "1        1     1061     4.0\n",
       "2        1     1129     1.5\n",
       "3        1     1287     2.0\n",
       "4        1     1339     5.0\n",
       "5        2        3     4.0\n",
       "6        2      141     4.0\n",
       "7        2      344     2.0\n",
       "8        2      356     3.0\n",
       "9        2      364     3.0\n",
       "10       1        1     1.0\n",
       "11       2        1     1.0"
      ]
     },
     "execution_count": 121,
     "metadata": {},
     "output_type": "execute_result"
    }
   ],
   "source": [
    "new_user_df"
   ]
  },
  {
   "cell_type": "code",
   "execution_count": 122,
   "metadata": {},
   "outputs": [],
   "source": [
    "val_idx_o = list(new_user_df.index[-2:])"
   ]
  },
  {
   "cell_type": "markdown",
   "metadata": {},
   "source": [
    "Here we make a new CollabFilterDataset object. The trick here is we need to pass in the same item index mapping dictionary as the original dataloader to make sure the embedding matrix is used the same way. If we didn't do this, the new dataloader would map movie Ids to a different set of numbers and the model wouldn't work properly."
   ]
  },
  {
   "cell_type": "code",
   "execution_count": 123,
   "metadata": {},
   "outputs": [],
   "source": [
    "cf3 = CollabFilterDataset.from_data_frame(path, new_user_df, 'userId', 'movieId', 'rating')"
   ]
  },
  {
   "cell_type": "code",
   "execution_count": 124,
   "metadata": {},
   "outputs": [],
   "source": [
    "cf3.item2idx = cf.item2idx"
   ]
  },
  {
   "cell_type": "markdown",
   "metadata": {},
   "source": [
    "Grab the item weights and biases from the original model"
   ]
  },
  {
   "cell_type": "code",
   "execution_count": 125,
   "metadata": {},
   "outputs": [
    {
     "data": {
      "text/plain": [
       "EmbeddingDotBias(\n",
       "  (u): Embedding(671, 50)\n",
       "  (i): Embedding(9066, 50)\n",
       "  (ub): Embedding(671, 1)\n",
       "  (ib): Embedding(9066, 1)\n",
       ")"
      ]
     },
     "execution_count": 125,
     "metadata": {},
     "output_type": "execute_result"
    }
   ],
   "source": [
    "learner.model"
   ]
  },
  {
   "cell_type": "code",
   "execution_count": 126,
   "metadata": {},
   "outputs": [],
   "source": [
    "i_w = learner.model.i\n",
    "ib_w = learner.model.ib"
   ]
  },
  {
   "cell_type": "code",
   "execution_count": 127,
   "metadata": {},
   "outputs": [],
   "source": [
    "n_users_o = cf3.n_users"
   ]
  },
  {
   "cell_type": "code",
   "execution_count": 128,
   "metadata": {},
   "outputs": [],
   "source": [
    "model2 = EmbeddingDotBiasOnboard(n_factors, n_users_o, n_items, min_rating, max_rating,\n",
    "                                i_w, ib_w).cuda()"
   ]
  },
  {
   "cell_type": "code",
   "execution_count": 129,
   "metadata": {},
   "outputs": [],
   "source": [
    "learner2 = CollabFilterLearner(cf3.get_data(val_idx_o, 128), CollabFilterModel(model2), opt_fn=optim.Adam)"
   ]
  },
  {
   "cell_type": "code",
   "execution_count": 130,
   "metadata": {},
   "outputs": [
    {
     "data": {
      "application/vnd.jupyter.widget-view+json": {
       "model_id": "9ae915fff4174e57be7f8fd82a9acd72",
       "version_major": 2,
       "version_minor": 0
      },
      "text/plain": [
       "HBox(children=(IntProgress(value=0, description='Epoch', max=3), HTML(value='')))"
      ]
     },
     "metadata": {},
     "output_type": "display_data"
    },
    {
     "name": "stdout",
     "output_type": "stream",
     "text": [
      "epoch      trn_loss   val_loss                                                                                         \n",
      "    0      1.223434   2.639514  \n",
      "    1      1.222957   2.639514                                                                                         \n",
      "    2      1.222799   2.659169                                                                                         \n",
      "\n"
     ]
    },
    {
     "data": {
      "text/plain": [
       "[2.6591691970825195]"
      ]
     },
     "execution_count": 130,
     "metadata": {},
     "output_type": "execute_result"
    }
   ],
   "source": [
    "learner2.fit(1e-2, 3, wds=wd, cycle_len=1)"
   ]
  },
  {
   "cell_type": "markdown",
   "metadata": {},
   "source": [
    "Now we can start getting recommendations for the new users!"
   ]
  },
  {
   "cell_type": "code",
   "execution_count": 131,
   "metadata": {},
   "outputs": [],
   "source": [
    "def get_recs2(ratings, new_user_df, movies, usr_id, cf, learner):\n",
    "    new_movies = ratings[~ratings.movieId.isin(new_user_df.movieId.values)].movieId.unique()\n",
    "    \n",
    "    urs_idx = cf.user2idx[usr_id]\n",
    "    movie_idx = np.array([cf.item2idx[x] for x in new_movies])\n",
    "    \n",
    "    usr = V(torch.LongTensor([int(urs_idx)]))\n",
    "    movs = V(torch.LongTensor([list(movie_idx)]))\n",
    "    \n",
    "    preds = learner.model(usr[0], movs[0])\n",
    "    top_preds = np.argsort(to_np(-preds))[:10]\n",
    "    \n",
    "    top_ids = [[i for i in cf.item2idx.keys() if cf.item2idx[i] == j][0] for j in top_preds]\n",
    "    recs = movies[movies.movieId.isin(top_ids)].copy()\n",
    "    \n",
    "    avg_ratings = ratings.groupby(['movieId'])['rating'].mean()\n",
    "    top_avg = avg_ratings[avg_ratings.index.isin(recs.movieId.values)]\n",
    "    \n",
    "    recs['avg'] = top_avg.values\n",
    "    recs['predicted'] = to_np(preds[top_preds])\n",
    "    \n",
    "    reps = ratings.movieId.value_counts()\n",
    "    recs['representation'] = reps[reps.index.isin(recs.movieId.values)].values\n",
    "    \n",
    "    return recs"
   ]
  },
  {
   "cell_type": "code",
   "execution_count": 132,
   "metadata": {},
   "outputs": [
    {
     "data": {
      "text/html": [
       "<div>\n",
       "<style scoped>\n",
       "    .dataframe tbody tr th:only-of-type {\n",
       "        vertical-align: middle;\n",
       "    }\n",
       "\n",
       "    .dataframe tbody tr th {\n",
       "        vertical-align: top;\n",
       "    }\n",
       "\n",
       "    .dataframe thead th {\n",
       "        text-align: right;\n",
       "    }\n",
       "</style>\n",
       "<table border=\"1\" class=\"dataframe\">\n",
       "  <thead>\n",
       "    <tr style=\"text-align: right;\">\n",
       "      <th></th>\n",
       "      <th>movieId</th>\n",
       "      <th>title</th>\n",
       "      <th>genres</th>\n",
       "      <th>avg</th>\n",
       "      <th>predicted</th>\n",
       "      <th>representation</th>\n",
       "    </tr>\n",
       "  </thead>\n",
       "  <tbody>\n",
       "    <tr>\n",
       "      <th>237</th>\n",
       "      <td>265</td>\n",
       "      <td>Like Water for Chocolate (Como agua para choco...</td>\n",
       "      <td>Drama|Fantasy|Romance</td>\n",
       "      <td>3.879032</td>\n",
       "      <td>3.972521</td>\n",
       "      <td>304</td>\n",
       "    </tr>\n",
       "    <tr>\n",
       "      <th>384</th>\n",
       "      <td>435</td>\n",
       "      <td>Coneheads (1993)</td>\n",
       "      <td>Comedy|Sci-Fi</td>\n",
       "      <td>2.463636</td>\n",
       "      <td>3.787145</td>\n",
       "      <td>274</td>\n",
       "    </tr>\n",
       "    <tr>\n",
       "      <th>427</th>\n",
       "      <td>480</td>\n",
       "      <td>Jurassic Park (1993)</td>\n",
       "      <td>Action|Adventure|Sci-Fi|Thriller</td>\n",
       "      <td>3.706204</td>\n",
       "      <td>3.719348</td>\n",
       "      <td>72</td>\n",
       "    </tr>\n",
       "    <tr>\n",
       "      <th>518</th>\n",
       "      <td>585</td>\n",
       "      <td>Brady Bunch Movie, The (1995)</td>\n",
       "      <td>Comedy</td>\n",
       "      <td>3.073171</td>\n",
       "      <td>3.693156</td>\n",
       "      <td>62</td>\n",
       "    </tr>\n",
       "    <tr>\n",
       "      <th>525</th>\n",
       "      <td>593</td>\n",
       "      <td>Silence of the Lambs, The (1991)</td>\n",
       "      <td>Crime|Horror|Thriller</td>\n",
       "      <td>4.138158</td>\n",
       "      <td>3.676779</td>\n",
       "      <td>62</td>\n",
       "    </tr>\n",
       "    <tr>\n",
       "      <th>658</th>\n",
       "      <td>802</td>\n",
       "      <td>Phenomenon (1996)</td>\n",
       "      <td>Drama|Romance</td>\n",
       "      <td>3.326389</td>\n",
       "      <td>3.654846</td>\n",
       "      <td>55</td>\n",
       "    </tr>\n",
       "    <tr>\n",
       "      <th>915</th>\n",
       "      <td>1147</td>\n",
       "      <td>When We Were Kings (1996)</td>\n",
       "      <td>Documentary</td>\n",
       "      <td>4.437500</td>\n",
       "      <td>3.638177</td>\n",
       "      <td>41</td>\n",
       "    </tr>\n",
       "    <tr>\n",
       "      <th>2925</th>\n",
       "      <td>3671</td>\n",
       "      <td>Blazing Saddles (1974)</td>\n",
       "      <td>Comedy|Western</td>\n",
       "      <td>3.935484</td>\n",
       "      <td>3.631891</td>\n",
       "      <td>26</td>\n",
       "    </tr>\n",
       "    <tr>\n",
       "      <th>3208</th>\n",
       "      <td>4006</td>\n",
       "      <td>Transformers: The Movie (1986)</td>\n",
       "      <td>Adventure|Animation|Children|Sci-Fi</td>\n",
       "      <td>3.500000</td>\n",
       "      <td>3.629923</td>\n",
       "      <td>16</td>\n",
       "    </tr>\n",
       "    <tr>\n",
       "      <th>5583</th>\n",
       "      <td>8873</td>\n",
       "      <td>Motorcycle Diaries, The (Diarios de motociclet...</td>\n",
       "      <td>Adventure|Drama</td>\n",
       "      <td>3.673077</td>\n",
       "      <td>3.625023</td>\n",
       "      <td>9</td>\n",
       "    </tr>\n",
       "  </tbody>\n",
       "</table>\n",
       "</div>"
      ],
      "text/plain": [
       "      movieId                                              title  \\\n",
       "237       265  Like Water for Chocolate (Como agua para choco...   \n",
       "384       435                                   Coneheads (1993)   \n",
       "427       480                               Jurassic Park (1993)   \n",
       "518       585                      Brady Bunch Movie, The (1995)   \n",
       "525       593                   Silence of the Lambs, The (1991)   \n",
       "658       802                                  Phenomenon (1996)   \n",
       "915      1147                          When We Were Kings (1996)   \n",
       "2925     3671                             Blazing Saddles (1974)   \n",
       "3208     4006                     Transformers: The Movie (1986)   \n",
       "5583     8873  Motorcycle Diaries, The (Diarios de motociclet...   \n",
       "\n",
       "                                   genres       avg  predicted  representation  \n",
       "237                 Drama|Fantasy|Romance  3.879032   3.972521             304  \n",
       "384                         Comedy|Sci-Fi  2.463636   3.787145             274  \n",
       "427      Action|Adventure|Sci-Fi|Thriller  3.706204   3.719348              72  \n",
       "518                                Comedy  3.073171   3.693156              62  \n",
       "525                 Crime|Horror|Thriller  4.138158   3.676779              62  \n",
       "658                         Drama|Romance  3.326389   3.654846              55  \n",
       "915                           Documentary  4.437500   3.638177              41  \n",
       "2925                       Comedy|Western  3.935484   3.631891              26  \n",
       "3208  Adventure|Animation|Children|Sci-Fi  3.500000   3.629923              16  \n",
       "5583                      Adventure|Drama  3.673077   3.625023               9  "
      ]
     },
     "execution_count": 132,
     "metadata": {},
     "output_type": "execute_result"
    }
   ],
   "source": [
    "user_1_recs = get_recs2(ratings, new_user_df, movies, 1, cf3, learner2)\n",
    "user_1_recs"
   ]
  },
  {
   "cell_type": "code",
   "execution_count": 133,
   "metadata": {},
   "outputs": [
    {
     "data": {
      "text/html": [
       "<div>\n",
       "<style scoped>\n",
       "    .dataframe tbody tr th:only-of-type {\n",
       "        vertical-align: middle;\n",
       "    }\n",
       "\n",
       "    .dataframe tbody tr th {\n",
       "        vertical-align: top;\n",
       "    }\n",
       "\n",
       "    .dataframe thead th {\n",
       "        text-align: right;\n",
       "    }\n",
       "</style>\n",
       "<table border=\"1\" class=\"dataframe\">\n",
       "  <thead>\n",
       "    <tr style=\"text-align: right;\">\n",
       "      <th></th>\n",
       "      <th>movieId</th>\n",
       "      <th>title</th>\n",
       "      <th>genres</th>\n",
       "      <th>avg</th>\n",
       "      <th>predicted</th>\n",
       "      <th>representation</th>\n",
       "    </tr>\n",
       "  </thead>\n",
       "  <tbody>\n",
       "    <tr>\n",
       "      <th>237</th>\n",
       "      <td>265</td>\n",
       "      <td>Like Water for Chocolate (Como agua para choco...</td>\n",
       "      <td>Drama|Fantasy|Romance</td>\n",
       "      <td>3.879032</td>\n",
       "      <td>3.948054</td>\n",
       "      <td>304</td>\n",
       "    </tr>\n",
       "    <tr>\n",
       "      <th>384</th>\n",
       "      <td>435</td>\n",
       "      <td>Coneheads (1993)</td>\n",
       "      <td>Comedy|Sci-Fi</td>\n",
       "      <td>2.463636</td>\n",
       "      <td>3.816398</td>\n",
       "      <td>274</td>\n",
       "    </tr>\n",
       "    <tr>\n",
       "      <th>427</th>\n",
       "      <td>480</td>\n",
       "      <td>Jurassic Park (1993)</td>\n",
       "      <td>Action|Adventure|Sci-Fi|Thriller</td>\n",
       "      <td>3.706204</td>\n",
       "      <td>3.669780</td>\n",
       "      <td>72</td>\n",
       "    </tr>\n",
       "    <tr>\n",
       "      <th>518</th>\n",
       "      <td>585</td>\n",
       "      <td>Brady Bunch Movie, The (1995)</td>\n",
       "      <td>Comedy</td>\n",
       "      <td>3.073171</td>\n",
       "      <td>3.667745</td>\n",
       "      <td>62</td>\n",
       "    </tr>\n",
       "    <tr>\n",
       "      <th>525</th>\n",
       "      <td>593</td>\n",
       "      <td>Silence of the Lambs, The (1991)</td>\n",
       "      <td>Crime|Horror|Thriller</td>\n",
       "      <td>4.138158</td>\n",
       "      <td>3.664684</td>\n",
       "      <td>62</td>\n",
       "    </tr>\n",
       "    <tr>\n",
       "      <th>658</th>\n",
       "      <td>802</td>\n",
       "      <td>Phenomenon (1996)</td>\n",
       "      <td>Drama|Romance</td>\n",
       "      <td>3.326389</td>\n",
       "      <td>3.632204</td>\n",
       "      <td>55</td>\n",
       "    </tr>\n",
       "    <tr>\n",
       "      <th>915</th>\n",
       "      <td>1147</td>\n",
       "      <td>When We Were Kings (1996)</td>\n",
       "      <td>Documentary</td>\n",
       "      <td>4.437500</td>\n",
       "      <td>3.628390</td>\n",
       "      <td>41</td>\n",
       "    </tr>\n",
       "    <tr>\n",
       "      <th>2925</th>\n",
       "      <td>3671</td>\n",
       "      <td>Blazing Saddles (1974)</td>\n",
       "      <td>Comedy|Western</td>\n",
       "      <td>3.935484</td>\n",
       "      <td>3.623064</td>\n",
       "      <td>26</td>\n",
       "    </tr>\n",
       "    <tr>\n",
       "      <th>3208</th>\n",
       "      <td>4006</td>\n",
       "      <td>Transformers: The Movie (1986)</td>\n",
       "      <td>Adventure|Animation|Children|Sci-Fi</td>\n",
       "      <td>3.500000</td>\n",
       "      <td>3.604172</td>\n",
       "      <td>16</td>\n",
       "    </tr>\n",
       "    <tr>\n",
       "      <th>5583</th>\n",
       "      <td>8873</td>\n",
       "      <td>Motorcycle Diaries, The (Diarios de motociclet...</td>\n",
       "      <td>Adventure|Drama</td>\n",
       "      <td>3.673077</td>\n",
       "      <td>3.599544</td>\n",
       "      <td>9</td>\n",
       "    </tr>\n",
       "  </tbody>\n",
       "</table>\n",
       "</div>"
      ],
      "text/plain": [
       "      movieId                                              title  \\\n",
       "237       265  Like Water for Chocolate (Como agua para choco...   \n",
       "384       435                                   Coneheads (1993)   \n",
       "427       480                               Jurassic Park (1993)   \n",
       "518       585                      Brady Bunch Movie, The (1995)   \n",
       "525       593                   Silence of the Lambs, The (1991)   \n",
       "658       802                                  Phenomenon (1996)   \n",
       "915      1147                          When We Were Kings (1996)   \n",
       "2925     3671                             Blazing Saddles (1974)   \n",
       "3208     4006                     Transformers: The Movie (1986)   \n",
       "5583     8873  Motorcycle Diaries, The (Diarios de motociclet...   \n",
       "\n",
       "                                   genres       avg  predicted  representation  \n",
       "237                 Drama|Fantasy|Romance  3.879032   3.948054             304  \n",
       "384                         Comedy|Sci-Fi  2.463636   3.816398             274  \n",
       "427      Action|Adventure|Sci-Fi|Thriller  3.706204   3.669780              72  \n",
       "518                                Comedy  3.073171   3.667745              62  \n",
       "525                 Crime|Horror|Thriller  4.138158   3.664684              62  \n",
       "658                         Drama|Romance  3.326389   3.632204              55  \n",
       "915                           Documentary  4.437500   3.628390              41  \n",
       "2925                       Comedy|Western  3.935484   3.623064              26  \n",
       "3208  Adventure|Animation|Children|Sci-Fi  3.500000   3.604172              16  \n",
       "5583                      Adventure|Drama  3.673077   3.599544               9  "
      ]
     },
     "execution_count": 133,
     "metadata": {},
     "output_type": "execute_result"
    }
   ],
   "source": [
    "user_2_recs = get_recs2(ratings, new_user_df, movies, 2, cf3, learner2)\n",
    "user_2_recs"
   ]
  },
  {
   "cell_type": "markdown",
   "metadata": {},
   "source": [
    "Or to write it as a function that returns recs and the weights to be incorporated with the original model"
   ]
  },
  {
   "cell_type": "code",
   "execution_count": 134,
   "metadata": {},
   "outputs": [],
   "source": [
    "def onboarding(new_user_df, cf, path, learner, wd):\n",
    "    \n",
    "    cf_o = CollabFilterDataset.from_data_frame(path, new_user_df, 'userId', 'movieId', 'rating')\n",
    "    cf_o.item2idx = cf.item2idx\n",
    "    \n",
    "    i_w = learner.model.i\n",
    "    ib_w = learner.model.ib\n",
    "    \n",
    "    n_factors = i_w.weight.data.shape[1]\n",
    "    \n",
    "    n_items = cf.n_items\n",
    "    min_rating = cf.min_score\n",
    "    max_rating = cf.max_score\n",
    "    \n",
    "    n_users_o = cf_o.n_users\n",
    "    val_idx_o = list(new_user_df.index[-n_users_o:])\n",
    "    \n",
    "    model_o = EmbeddingDotBiasOnboard(n_factors, n_users_o, n_items, min_rating, max_rating,\n",
    "                                i_w, ib_w).cuda()\n",
    "    \n",
    "    learner_o = CollabFilterLearner(cf_o.get_data(val_idx_o, 128), CollabFilterModel(model_o), opt_fn=optim.Adam)\n",
    "    \n",
    "    learner_o.fit(1e-2, 3, wds=wd, cycle_len=1)\n",
    "    \n",
    "    rec_lst = []\n",
    "    new_weights = [learner_o.model.u, learner_o.model.ub]\n",
    "    \n",
    "    for usr in range(n_users_o):\n",
    "        usr_id = usr+1\n",
    "        print(usr_id)\n",
    "        recs = get_recs2(ratings, new_user_df, movies, usr_id, cf_o, learner_o)\n",
    "        rec_lst.append(recs)\n",
    "    \n",
    "    return rec_lst, new_weights"
   ]
  },
  {
   "cell_type": "code",
   "execution_count": 135,
   "metadata": {},
   "outputs": [
    {
     "data": {
      "application/vnd.jupyter.widget-view+json": {
       "model_id": "a5d8bdba6f6044d899b1e1b2c4fe0fa2",
       "version_major": 2,
       "version_minor": 0
      },
      "text/plain": [
       "HBox(children=(IntProgress(value=0, description='Epoch', max=3), HTML(value='')))"
      ]
     },
     "metadata": {},
     "output_type": "display_data"
    },
    {
     "name": "stdout",
     "output_type": "stream",
     "text": [
      "epoch      trn_loss   val_loss                                                                                         \n",
      "    0      1.230649   2.759184  \n",
      "    1      1.230193   2.759184                                                                                         \n",
      "    2      1.230041   2.789599                                                                                         \n",
      "\n",
      "1\n",
      "2\n"
     ]
    }
   ],
   "source": [
    "onboard_recs, onboard_weight = onboarding(new_user_df, cf, path, learner, wd)"
   ]
  },
  {
   "cell_type": "code",
   "execution_count": 136,
   "metadata": {},
   "outputs": [
    {
     "data": {
      "text/html": [
       "<div>\n",
       "<style scoped>\n",
       "    .dataframe tbody tr th:only-of-type {\n",
       "        vertical-align: middle;\n",
       "    }\n",
       "\n",
       "    .dataframe tbody tr th {\n",
       "        vertical-align: top;\n",
       "    }\n",
       "\n",
       "    .dataframe thead th {\n",
       "        text-align: right;\n",
       "    }\n",
       "</style>\n",
       "<table border=\"1\" class=\"dataframe\">\n",
       "  <thead>\n",
       "    <tr style=\"text-align: right;\">\n",
       "      <th></th>\n",
       "      <th>movieId</th>\n",
       "      <th>title</th>\n",
       "      <th>genres</th>\n",
       "      <th>avg</th>\n",
       "      <th>predicted</th>\n",
       "      <th>representation</th>\n",
       "    </tr>\n",
       "  </thead>\n",
       "  <tbody>\n",
       "    <tr>\n",
       "      <th>237</th>\n",
       "      <td>265</td>\n",
       "      <td>Like Water for Chocolate (Como agua para choco...</td>\n",
       "      <td>Drama|Fantasy|Romance</td>\n",
       "      <td>3.879032</td>\n",
       "      <td>3.962680</td>\n",
       "      <td>304</td>\n",
       "    </tr>\n",
       "    <tr>\n",
       "      <th>384</th>\n",
       "      <td>435</td>\n",
       "      <td>Coneheads (1993)</td>\n",
       "      <td>Comedy|Sci-Fi</td>\n",
       "      <td>2.463636</td>\n",
       "      <td>3.798850</td>\n",
       "      <td>274</td>\n",
       "    </tr>\n",
       "    <tr>\n",
       "      <th>427</th>\n",
       "      <td>480</td>\n",
       "      <td>Jurassic Park (1993)</td>\n",
       "      <td>Action|Adventure|Sci-Fi|Thriller</td>\n",
       "      <td>3.706204</td>\n",
       "      <td>3.710291</td>\n",
       "      <td>72</td>\n",
       "    </tr>\n",
       "    <tr>\n",
       "      <th>518</th>\n",
       "      <td>585</td>\n",
       "      <td>Brady Bunch Movie, The (1995)</td>\n",
       "      <td>Comedy</td>\n",
       "      <td>3.073171</td>\n",
       "      <td>3.707555</td>\n",
       "      <td>62</td>\n",
       "    </tr>\n",
       "    <tr>\n",
       "      <th>525</th>\n",
       "      <td>593</td>\n",
       "      <td>Silence of the Lambs, The (1991)</td>\n",
       "      <td>Crime|Horror|Thriller</td>\n",
       "      <td>4.138158</td>\n",
       "      <td>3.656945</td>\n",
       "      <td>62</td>\n",
       "    </tr>\n",
       "    <tr>\n",
       "      <th>658</th>\n",
       "      <td>802</td>\n",
       "      <td>Phenomenon (1996)</td>\n",
       "      <td>Drama|Romance</td>\n",
       "      <td>3.326389</td>\n",
       "      <td>3.646285</td>\n",
       "      <td>55</td>\n",
       "    </tr>\n",
       "    <tr>\n",
       "      <th>915</th>\n",
       "      <td>1147</td>\n",
       "      <td>When We Were Kings (1996)</td>\n",
       "      <td>Documentary</td>\n",
       "      <td>4.437500</td>\n",
       "      <td>3.635476</td>\n",
       "      <td>41</td>\n",
       "    </tr>\n",
       "    <tr>\n",
       "      <th>2925</th>\n",
       "      <td>3671</td>\n",
       "      <td>Blazing Saddles (1974)</td>\n",
       "      <td>Comedy|Western</td>\n",
       "      <td>3.935484</td>\n",
       "      <td>3.631083</td>\n",
       "      <td>26</td>\n",
       "    </tr>\n",
       "    <tr>\n",
       "      <th>3208</th>\n",
       "      <td>4006</td>\n",
       "      <td>Transformers: The Movie (1986)</td>\n",
       "      <td>Adventure|Animation|Children|Sci-Fi</td>\n",
       "      <td>3.500000</td>\n",
       "      <td>3.623026</td>\n",
       "      <td>16</td>\n",
       "    </tr>\n",
       "    <tr>\n",
       "      <th>5583</th>\n",
       "      <td>8873</td>\n",
       "      <td>Motorcycle Diaries, The (Diarios de motociclet...</td>\n",
       "      <td>Adventure|Drama</td>\n",
       "      <td>3.673077</td>\n",
       "      <td>3.622411</td>\n",
       "      <td>9</td>\n",
       "    </tr>\n",
       "  </tbody>\n",
       "</table>\n",
       "</div>"
      ],
      "text/plain": [
       "      movieId                                              title  \\\n",
       "237       265  Like Water for Chocolate (Como agua para choco...   \n",
       "384       435                                   Coneheads (1993)   \n",
       "427       480                               Jurassic Park (1993)   \n",
       "518       585                      Brady Bunch Movie, The (1995)   \n",
       "525       593                   Silence of the Lambs, The (1991)   \n",
       "658       802                                  Phenomenon (1996)   \n",
       "915      1147                          When We Were Kings (1996)   \n",
       "2925     3671                             Blazing Saddles (1974)   \n",
       "3208     4006                     Transformers: The Movie (1986)   \n",
       "5583     8873  Motorcycle Diaries, The (Diarios de motociclet...   \n",
       "\n",
       "                                   genres       avg  predicted  representation  \n",
       "237                 Drama|Fantasy|Romance  3.879032   3.962680             304  \n",
       "384                         Comedy|Sci-Fi  2.463636   3.798850             274  \n",
       "427      Action|Adventure|Sci-Fi|Thriller  3.706204   3.710291              72  \n",
       "518                                Comedy  3.073171   3.707555              62  \n",
       "525                 Crime|Horror|Thriller  4.138158   3.656945              62  \n",
       "658                         Drama|Romance  3.326389   3.646285              55  \n",
       "915                           Documentary  4.437500   3.635476              41  \n",
       "2925                       Comedy|Western  3.935484   3.631083              26  \n",
       "3208  Adventure|Animation|Children|Sci-Fi  3.500000   3.623026              16  \n",
       "5583                      Adventure|Drama  3.673077   3.622411               9  "
      ]
     },
     "execution_count": 136,
     "metadata": {},
     "output_type": "execute_result"
    }
   ],
   "source": [
    "onboard_recs[0]"
   ]
  },
  {
   "cell_type": "code",
   "execution_count": 137,
   "metadata": {},
   "outputs": [
    {
     "data": {
      "text/html": [
       "<div>\n",
       "<style scoped>\n",
       "    .dataframe tbody tr th:only-of-type {\n",
       "        vertical-align: middle;\n",
       "    }\n",
       "\n",
       "    .dataframe tbody tr th {\n",
       "        vertical-align: top;\n",
       "    }\n",
       "\n",
       "    .dataframe thead th {\n",
       "        text-align: right;\n",
       "    }\n",
       "</style>\n",
       "<table border=\"1\" class=\"dataframe\">\n",
       "  <thead>\n",
       "    <tr style=\"text-align: right;\">\n",
       "      <th></th>\n",
       "      <th>movieId</th>\n",
       "      <th>title</th>\n",
       "      <th>genres</th>\n",
       "      <th>avg</th>\n",
       "      <th>predicted</th>\n",
       "      <th>representation</th>\n",
       "    </tr>\n",
       "  </thead>\n",
       "  <tbody>\n",
       "    <tr>\n",
       "      <th>237</th>\n",
       "      <td>265</td>\n",
       "      <td>Like Water for Chocolate (Como agua para choco...</td>\n",
       "      <td>Drama|Fantasy|Romance</td>\n",
       "      <td>3.879032</td>\n",
       "      <td>3.908703</td>\n",
       "      <td>304</td>\n",
       "    </tr>\n",
       "    <tr>\n",
       "      <th>384</th>\n",
       "      <td>435</td>\n",
       "      <td>Coneheads (1993)</td>\n",
       "      <td>Comedy|Sci-Fi</td>\n",
       "      <td>2.463636</td>\n",
       "      <td>3.765860</td>\n",
       "      <td>274</td>\n",
       "    </tr>\n",
       "    <tr>\n",
       "      <th>427</th>\n",
       "      <td>480</td>\n",
       "      <td>Jurassic Park (1993)</td>\n",
       "      <td>Action|Adventure|Sci-Fi|Thriller</td>\n",
       "      <td>3.706204</td>\n",
       "      <td>3.674380</td>\n",
       "      <td>62</td>\n",
       "    </tr>\n",
       "    <tr>\n",
       "      <th>518</th>\n",
       "      <td>585</td>\n",
       "      <td>Brady Bunch Movie, The (1995)</td>\n",
       "      <td>Comedy</td>\n",
       "      <td>3.073171</td>\n",
       "      <td>3.670539</td>\n",
       "      <td>62</td>\n",
       "    </tr>\n",
       "    <tr>\n",
       "      <th>525</th>\n",
       "      <td>593</td>\n",
       "      <td>Silence of the Lambs, The (1991)</td>\n",
       "      <td>Crime|Horror|Thriller</td>\n",
       "      <td>4.138158</td>\n",
       "      <td>3.648418</td>\n",
       "      <td>55</td>\n",
       "    </tr>\n",
       "    <tr>\n",
       "      <th>915</th>\n",
       "      <td>1147</td>\n",
       "      <td>When We Were Kings (1996)</td>\n",
       "      <td>Documentary</td>\n",
       "      <td>4.437500</td>\n",
       "      <td>3.634481</td>\n",
       "      <td>41</td>\n",
       "    </tr>\n",
       "    <tr>\n",
       "      <th>2010</th>\n",
       "      <td>2513</td>\n",
       "      <td>Pet Sematary (1989)</td>\n",
       "      <td>Horror</td>\n",
       "      <td>3.027778</td>\n",
       "      <td>3.632418</td>\n",
       "      <td>26</td>\n",
       "    </tr>\n",
       "    <tr>\n",
       "      <th>2925</th>\n",
       "      <td>3671</td>\n",
       "      <td>Blazing Saddles (1974)</td>\n",
       "      <td>Comedy|Western</td>\n",
       "      <td>3.935484</td>\n",
       "      <td>3.586284</td>\n",
       "      <td>18</td>\n",
       "    </tr>\n",
       "    <tr>\n",
       "      <th>3208</th>\n",
       "      <td>4006</td>\n",
       "      <td>Transformers: The Movie (1986)</td>\n",
       "      <td>Adventure|Animation|Children|Sci-Fi</td>\n",
       "      <td>3.500000</td>\n",
       "      <td>3.583924</td>\n",
       "      <td>16</td>\n",
       "    </tr>\n",
       "    <tr>\n",
       "      <th>5583</th>\n",
       "      <td>8873</td>\n",
       "      <td>Motorcycle Diaries, The (Diarios de motociclet...</td>\n",
       "      <td>Adventure|Drama</td>\n",
       "      <td>3.673077</td>\n",
       "      <td>3.577738</td>\n",
       "      <td>9</td>\n",
       "    </tr>\n",
       "  </tbody>\n",
       "</table>\n",
       "</div>"
      ],
      "text/plain": [
       "      movieId                                              title  \\\n",
       "237       265  Like Water for Chocolate (Como agua para choco...   \n",
       "384       435                                   Coneheads (1993)   \n",
       "427       480                               Jurassic Park (1993)   \n",
       "518       585                      Brady Bunch Movie, The (1995)   \n",
       "525       593                   Silence of the Lambs, The (1991)   \n",
       "915      1147                          When We Were Kings (1996)   \n",
       "2010     2513                                Pet Sematary (1989)   \n",
       "2925     3671                             Blazing Saddles (1974)   \n",
       "3208     4006                     Transformers: The Movie (1986)   \n",
       "5583     8873  Motorcycle Diaries, The (Diarios de motociclet...   \n",
       "\n",
       "                                   genres       avg  predicted  representation  \n",
       "237                 Drama|Fantasy|Romance  3.879032   3.908703             304  \n",
       "384                         Comedy|Sci-Fi  2.463636   3.765860             274  \n",
       "427      Action|Adventure|Sci-Fi|Thriller  3.706204   3.674380              62  \n",
       "518                                Comedy  3.073171   3.670539              62  \n",
       "525                 Crime|Horror|Thriller  4.138158   3.648418              55  \n",
       "915                           Documentary  4.437500   3.634481              41  \n",
       "2010                               Horror  3.027778   3.632418              26  \n",
       "2925                       Comedy|Western  3.935484   3.586284              18  \n",
       "3208  Adventure|Animation|Children|Sci-Fi  3.500000   3.583924              16  \n",
       "5583                      Adventure|Drama  3.673077   3.577738               9  "
      ]
     },
     "execution_count": 137,
     "metadata": {},
     "output_type": "execute_result"
    }
   ],
   "source": [
    "onboard_recs[1]"
   ]
  },
  {
   "cell_type": "code",
   "execution_count": 138,
   "metadata": {},
   "outputs": [
    {
     "data": {
      "text/plain": [
       "[Embedding(2, 50), Embedding(2, 1)]"
      ]
     },
     "execution_count": 138,
     "metadata": {},
     "output_type": "execute_result"
    }
   ],
   "source": [
    "onboard_weight"
   ]
  },
  {
   "cell_type": "markdown",
   "metadata": {},
   "source": [
    "# 9. Generic User Model\n",
    "\n",
    "To deal with the case where we have no data to go on for a new user, we need a generic model that can be applied in the absence of any data to go on for the user. To do this, we will create a generic user model based on the average rating for the 3000 most reviewed movies."
   ]
  },
  {
   "cell_type": "code",
   "execution_count": 139,
   "metadata": {},
   "outputs": [],
   "source": [
    "top_movie_ratings = ratings[ratings.movieId.isin(topMovies)]"
   ]
  },
  {
   "cell_type": "code",
   "execution_count": 140,
   "metadata": {},
   "outputs": [],
   "source": [
    "avg_ratings = top_movie_ratings.groupby(['movieId']).rating.mean()"
   ]
  },
  {
   "cell_type": "code",
   "execution_count": 141,
   "metadata": {},
   "outputs": [],
   "source": [
    "generic_user_df = pd.DataFrame(pd.Series(avg_ratings.values))\n",
    "generic_user_df.columns = ['rating']\n",
    "generic_user_df['movieId'] = avg_ratings.values\n",
    "generic_user_df['userId'] = 1"
   ]
  },
  {
   "cell_type": "code",
   "execution_count": 142,
   "metadata": {},
   "outputs": [
    {
     "data": {
      "application/vnd.jupyter.widget-view+json": {
       "model_id": "52a574946ce24d55b8298da0b69f91cc",
       "version_major": 2,
       "version_minor": 0
      },
      "text/plain": [
       "HBox(children=(IntProgress(value=0, description='Epoch', max=3), HTML(value='')))"
      ]
     },
     "metadata": {},
     "output_type": "display_data"
    },
    {
     "name": "stdout",
     "output_type": "stream",
     "text": [
      "epoch      trn_loss   val_loss                                                                                         \n",
      "    0      0.413491   0.087875  \n",
      "    1      0.255796   0.102705                                                                                         \n",
      "    2      0.151943   0.012418                                                                                         \n",
      "\n",
      "1\n"
     ]
    }
   ],
   "source": [
    "generic_recs, generic_weights = onboarding(generic_user_df, cf, path, learner, wd)"
   ]
  },
  {
   "cell_type": "markdown",
   "metadata": {},
   "source": [
    "Here's what a new user gets when they don't fill out the survey:"
   ]
  },
  {
   "cell_type": "code",
   "execution_count": 143,
   "metadata": {},
   "outputs": [
    {
     "data": {
      "text/html": [
       "<div>\n",
       "<style scoped>\n",
       "    .dataframe tbody tr th:only-of-type {\n",
       "        vertical-align: middle;\n",
       "    }\n",
       "\n",
       "    .dataframe tbody tr th {\n",
       "        vertical-align: top;\n",
       "    }\n",
       "\n",
       "    .dataframe thead th {\n",
       "        text-align: right;\n",
       "    }\n",
       "</style>\n",
       "<table border=\"1\" class=\"dataframe\">\n",
       "  <thead>\n",
       "    <tr style=\"text-align: right;\">\n",
       "      <th></th>\n",
       "      <th>movieId</th>\n",
       "      <th>title</th>\n",
       "      <th>genres</th>\n",
       "      <th>avg</th>\n",
       "      <th>predicted</th>\n",
       "      <th>representation</th>\n",
       "    </tr>\n",
       "  </thead>\n",
       "  <tbody>\n",
       "    <tr>\n",
       "      <th>31</th>\n",
       "      <td>32</td>\n",
       "      <td>Twelve Monkeys (a.k.a. 12 Monkeys) (1995)</td>\n",
       "      <td>Mystery|Sci-Fi|Thriller</td>\n",
       "      <td>3.923469</td>\n",
       "      <td>4.431568</td>\n",
       "      <td>215</td>\n",
       "    </tr>\n",
       "    <tr>\n",
       "      <th>137</th>\n",
       "      <td>158</td>\n",
       "      <td>Casper (1995)</td>\n",
       "      <td>Adventure|Children</td>\n",
       "      <td>2.870690</td>\n",
       "      <td>4.374500</td>\n",
       "      <td>196</td>\n",
       "    </tr>\n",
       "    <tr>\n",
       "      <th>521</th>\n",
       "      <td>588</td>\n",
       "      <td>Aladdin (1992)</td>\n",
       "      <td>Adventure|Animation|Children|Comedy|Musical</td>\n",
       "      <td>3.674419</td>\n",
       "      <td>4.312845</td>\n",
       "      <td>138</td>\n",
       "    </tr>\n",
       "    <tr>\n",
       "      <th>961</th>\n",
       "      <td>1204</td>\n",
       "      <td>Lawrence of Arabia (1962)</td>\n",
       "      <td>Adventure|Drama|War</td>\n",
       "      <td>4.215686</td>\n",
       "      <td>4.297038</td>\n",
       "      <td>70</td>\n",
       "    </tr>\n",
       "    <tr>\n",
       "      <th>1113</th>\n",
       "      <td>1373</td>\n",
       "      <td>Star Trek V: The Final Frontier (1989)</td>\n",
       "      <td>Action|Sci-Fi</td>\n",
       "      <td>2.780000</td>\n",
       "      <td>4.290407</td>\n",
       "      <td>58</td>\n",
       "    </tr>\n",
       "    <tr>\n",
       "      <th>1132</th>\n",
       "      <td>1394</td>\n",
       "      <td>Raising Arizona (1987)</td>\n",
       "      <td>Comedy</td>\n",
       "      <td>3.950000</td>\n",
       "      <td>4.279908</td>\n",
       "      <td>51</td>\n",
       "    </tr>\n",
       "    <tr>\n",
       "      <th>1859</th>\n",
       "      <td>2348</td>\n",
       "      <td>Sid and Nancy (1986)</td>\n",
       "      <td>Drama</td>\n",
       "      <td>3.454545</td>\n",
       "      <td>4.272264</td>\n",
       "      <td>30</td>\n",
       "    </tr>\n",
       "    <tr>\n",
       "      <th>2103</th>\n",
       "      <td>2628</td>\n",
       "      <td>Star Wars: Episode I - The Phantom Menace (1999)</td>\n",
       "      <td>Action|Adventure|Sci-Fi</td>\n",
       "      <td>3.199275</td>\n",
       "      <td>4.272120</td>\n",
       "      <td>26</td>\n",
       "    </tr>\n",
       "    <tr>\n",
       "      <th>3220</th>\n",
       "      <td>4019</td>\n",
       "      <td>Finding Forrester (2000)</td>\n",
       "      <td>Drama</td>\n",
       "      <td>3.423077</td>\n",
       "      <td>4.242513</td>\n",
       "      <td>25</td>\n",
       "    </tr>\n",
       "    <tr>\n",
       "      <th>4034</th>\n",
       "      <td>5266</td>\n",
       "      <td>Panic Room (2002)</td>\n",
       "      <td>Thriller</td>\n",
       "      <td>3.216667</td>\n",
       "      <td>4.230623</td>\n",
       "      <td>11</td>\n",
       "    </tr>\n",
       "  </tbody>\n",
       "</table>\n",
       "</div>"
      ],
      "text/plain": [
       "      movieId                                             title  \\\n",
       "31         32         Twelve Monkeys (a.k.a. 12 Monkeys) (1995)   \n",
       "137       158                                     Casper (1995)   \n",
       "521       588                                    Aladdin (1992)   \n",
       "961      1204                         Lawrence of Arabia (1962)   \n",
       "1113     1373            Star Trek V: The Final Frontier (1989)   \n",
       "1132     1394                            Raising Arizona (1987)   \n",
       "1859     2348                              Sid and Nancy (1986)   \n",
       "2103     2628  Star Wars: Episode I - The Phantom Menace (1999)   \n",
       "3220     4019                          Finding Forrester (2000)   \n",
       "4034     5266                                 Panic Room (2002)   \n",
       "\n",
       "                                           genres       avg  predicted  \\\n",
       "31                        Mystery|Sci-Fi|Thriller  3.923469   4.431568   \n",
       "137                            Adventure|Children  2.870690   4.374500   \n",
       "521   Adventure|Animation|Children|Comedy|Musical  3.674419   4.312845   \n",
       "961                           Adventure|Drama|War  4.215686   4.297038   \n",
       "1113                                Action|Sci-Fi  2.780000   4.290407   \n",
       "1132                                       Comedy  3.950000   4.279908   \n",
       "1859                                        Drama  3.454545   4.272264   \n",
       "2103                      Action|Adventure|Sci-Fi  3.199275   4.272120   \n",
       "3220                                        Drama  3.423077   4.242513   \n",
       "4034                                     Thriller  3.216667   4.230623   \n",
       "\n",
       "      representation  \n",
       "31               215  \n",
       "137              196  \n",
       "521              138  \n",
       "961               70  \n",
       "1113              58  \n",
       "1132              51  \n",
       "1859              30  \n",
       "2103              26  \n",
       "3220              25  \n",
       "4034              11  "
      ]
     },
     "execution_count": 143,
     "metadata": {},
     "output_type": "execute_result"
    }
   ],
   "source": [
    "generic_recs[0]"
   ]
  },
  {
   "cell_type": "markdown",
   "metadata": {},
   "source": [
    "# 10. Conclusions\n",
    "\n",
    "This was a fun project to work on. I liked moving beyond just training a model to applying the model to different tasks. The project was also a good excuse to brush up on some linear algebra."
   ]
  }
 ],
 "metadata": {
  "kernelspec": {
   "display_name": "Python 3",
   "language": "python",
   "name": "python3"
  },
  "language_info": {
   "codemirror_mode": {
    "name": "ipython",
    "version": 3
   },
   "file_extension": ".py",
   "mimetype": "text/x-python",
   "name": "python",
   "nbconvert_exporter": "python",
   "pygments_lexer": "ipython3",
   "version": "3.6.5"
  }
 },
 "nbformat": 4,
 "nbformat_minor": 2
}
