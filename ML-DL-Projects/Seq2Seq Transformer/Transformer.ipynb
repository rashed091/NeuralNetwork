{
 "cells": [
  {
   "cell_type": "markdown",
   "metadata": {},
   "source": [
    "# Seq2Seq Transformer: French to English\n",
    "\n",
    "Karl Heyer"
   ]
  },
  {
   "cell_type": "markdown",
   "metadata": {},
   "source": [
    "This project was motivated by [fast.ai Lesson 11](http://course.fast.ai/lessons/lesson11.html) and a desire to understand the Transformer from [Attention Is All You Need](https://arxiv.org/pdf/1706.03762.pdf). fast.ai lesson 11 builds a seq2seq transformer for French to English translation using an LSTM based encoder/decoder model initialized with pretrained word vectors. I wanted to apply the same use of pretrained word vectors to a Transformer and expand the dataset used to train the model.\n",
    "\n",
    "The data used comes from a [corpus](http://www.statmt.org/wmt15/translation-task.html) created by Chris Callison-Burch. The dataset was created by crawling english and french versions of web sites to create a parallel corpus. We will use the first 2 million sentence pairs from the dataset to train the model."
   ]
  },
  {
   "cell_type": "code",
   "execution_count": 1,
   "metadata": {},
   "outputs": [],
   "source": [
    "%matplotlib inline\n",
    "%reload_ext autoreload\n",
    "%autoreload 2"
   ]
  },
  {
   "cell_type": "code",
   "execution_count": 2,
   "metadata": {},
   "outputs": [],
   "source": [
    "from fastai.text import *\n",
    "import fastText as ft"
   ]
  },
  {
   "cell_type": "code",
   "execution_count": 3,
   "metadata": {},
   "outputs": [],
   "source": [
    "PATH = Path('data/translate')\n",
    "TMP_PATH = PATH/'tmp'\n",
    "TMP_PATH.mkdir(exist_ok=True)\n",
    "fname='giga-fren.release2.fixed'\n",
    "en_fname = PATH/f'{fname}.en'\n",
    "fr_fname = PATH/f'{fname}.fr'"
   ]
  },
  {
   "cell_type": "code",
   "execution_count": 7,
   "metadata": {},
   "outputs": [],
   "source": [
    "qs = pickle.load((PATH/'fr-en-all.pkl').open('rb'))"
   ]
  },
  {
   "cell_type": "code",
   "execution_count": 8,
   "metadata": {},
   "outputs": [],
   "source": [
    "qs = qs[:2000000]"
   ]
  },
  {
   "cell_type": "code",
   "execution_count": 10,
   "metadata": {},
   "outputs": [],
   "source": [
    "en_qs,fr_qs = zip(*qs)"
   ]
  },
  {
   "cell_type": "markdown",
   "metadata": {},
   "source": [
    "The input text will be tokenized with spaCy tokenizers for English and French. For memory reasons we will only keep sentence pairs where the English sentence has less than 50 tokens."
   ]
  },
  {
   "cell_type": "code",
   "execution_count": 12,
   "metadata": {},
   "outputs": [],
   "source": [
    "en_tok = Tokenizer.proc_all_mp(partition_by_cores(en_qs))"
   ]
  },
  {
   "cell_type": "code",
   "execution_count": 13,
   "metadata": {},
   "outputs": [],
   "source": [
    "fr_tok = Tokenizer.proc_all_mp(partition_by_cores(fr_qs), 'fr')"
   ]
  },
  {
   "cell_type": "code",
   "execution_count": 28,
   "metadata": {},
   "outputs": [],
   "source": [
    "keep = np.array([len(o)<50 for o in en_tok])"
   ]
  },
  {
   "cell_type": "code",
   "execution_count": 29,
   "metadata": {},
   "outputs": [
    {
     "data": {
      "text/plain": [
       "1826350"
      ]
     },
     "execution_count": 29,
     "metadata": {},
     "output_type": "execute_result"
    }
   ],
   "source": [
    "keep.sum()"
   ]
  },
  {
   "cell_type": "code",
   "execution_count": 30,
   "metadata": {},
   "outputs": [],
   "source": [
    "en_tok = np.array(en_tok)[keep]\n",
    "fr_tok = np.array(fr_tok)[keep]"
   ]
  },
  {
   "cell_type": "code",
   "execution_count": 31,
   "metadata": {},
   "outputs": [],
   "source": [
    "pickle.dump(en_tok, (PATH/'en_tok_all.pkl').open('wb'))\n",
    "pickle.dump(fr_tok, (PATH/'fr_tok_all.pkl').open('wb'))"
   ]
  },
  {
   "cell_type": "code",
   "execution_count": 4,
   "metadata": {},
   "outputs": [],
   "source": [
    "en_tok = pickle.load((PATH/'en_tok_all.pkl').open('rb'))\n",
    "fr_tok = pickle.load((PATH/'fr_tok_all.pkl').open('rb'))"
   ]
  },
  {
   "cell_type": "code",
   "execution_count": 5,
   "metadata": {},
   "outputs": [],
   "source": [
    "def toks2ids(tok,pre):\n",
    "    freq = Counter(p for o in tok for p in o)\n",
    "    itos = [o for o,c in freq.most_common(50000)]\n",
    "    itos.insert(0, '_bos_')\n",
    "    itos.insert(1, '_pad_')\n",
    "    itos.insert(2, '_eos_')\n",
    "    itos.insert(3, '_unk')\n",
    "    stoi = collections.defaultdict(lambda: 3, {v:k for k,v in enumerate(itos)})\n",
    "    ids = np.array([([stoi[o] for o in p] + [2]) for p in tok])\n",
    "    np.save(TMP_PATH/f'{pre}_ids_all.npy', ids)\n",
    "    pickle.dump(itos, open(TMP_PATH/f'{pre}_itos_all.pkl', 'wb'))\n",
    "    return ids,itos,stoi"
   ]
  },
  {
   "cell_type": "code",
   "execution_count": 6,
   "metadata": {},
   "outputs": [],
   "source": [
    "en_ids,en_itos,en_stoi = toks2ids(en_tok,'en')"
   ]
  },
  {
   "cell_type": "code",
   "execution_count": 7,
   "metadata": {},
   "outputs": [],
   "source": [
    "fr_ids,fr_itos,fr_stoi = toks2ids(fr_tok,'fr')"
   ]
  },
  {
   "cell_type": "code",
   "execution_count": 4,
   "metadata": {},
   "outputs": [],
   "source": [
    "def load_ids(pre):\n",
    "    ids = np.load(TMP_PATH/f'{pre}_ids_all.npy')\n",
    "    itos = pickle.load(open(TMP_PATH/f'{pre}_itos_all.pkl', 'rb'))\n",
    "    stoi = collections.defaultdict(lambda: 3, {v:k for k,v in enumerate(itos)})\n",
    "    return ids,itos,stoi"
   ]
  },
  {
   "cell_type": "code",
   "execution_count": 5,
   "metadata": {},
   "outputs": [],
   "source": [
    "en_ids,en_itos,en_stoi = load_ids('en')\n",
    "fr_ids,fr_itos,fr_stoi = load_ids('fr')"
   ]
  },
  {
   "cell_type": "code",
   "execution_count": null,
   "metadata": {},
   "outputs": [],
   "source": []
  },
  {
   "cell_type": "code",
   "execution_count": 6,
   "metadata": {},
   "outputs": [
    {
     "data": {
      "text/plain": [
       "(48, 56)"
      ]
     },
     "execution_count": 6,
     "metadata": {},
     "output_type": "execute_result"
    }
   ],
   "source": [
    "enlen_90 = int(np.percentile([len(o) for o in en_ids], 98))\n",
    "frlen_90 = int(np.percentile([len(o) for o in fr_ids], 97))\n",
    "enlen_90,frlen_90"
   ]
  },
  {
   "cell_type": "code",
   "execution_count": 7,
   "metadata": {},
   "outputs": [],
   "source": [
    "en_ids_tr = np.array([o[:enlen_90] for o in en_ids])\n",
    "fr_ids_tr = np.array([o[:frlen_90] for o in fr_ids])"
   ]
  },
  {
   "cell_type": "code",
   "execution_count": 8,
   "metadata": {},
   "outputs": [],
   "source": [
    "class Seq2SeqDataset(Dataset):\n",
    "    def __init__(self, x, y): self.x,self.y = x,y\n",
    "    def __getitem__(self, idx): return A(self.x[idx], self.y[idx])\n",
    "    def __len__(self): return len(self.x)"
   ]
  },
  {
   "cell_type": "code",
   "execution_count": 9,
   "metadata": {},
   "outputs": [
    {
     "data": {
      "text/plain": [
       "(1643912, 182438)"
      ]
     },
     "execution_count": 9,
     "metadata": {},
     "output_type": "execute_result"
    }
   ],
   "source": [
    "np.random.seed(42)\n",
    "trn_keep = np.random.rand(len(en_ids_tr))>0.1\n",
    "en_trn,fr_trn = en_ids_tr[trn_keep],fr_ids_tr[trn_keep]\n",
    "en_val,fr_val = en_ids_tr[~trn_keep],fr_ids_tr[~trn_keep]\n",
    "len(en_trn),len(en_val)"
   ]
  },
  {
   "cell_type": "code",
   "execution_count": 10,
   "metadata": {},
   "outputs": [],
   "source": [
    "trn_ds = Seq2SeqDataset(fr_trn,en_trn)\n",
    "val_ds = Seq2SeqDataset(fr_val,en_val)"
   ]
  },
  {
   "cell_type": "code",
   "execution_count": 11,
   "metadata": {},
   "outputs": [],
   "source": [
    "bs=64"
   ]
  },
  {
   "cell_type": "code",
   "execution_count": 12,
   "metadata": {},
   "outputs": [],
   "source": [
    "trn_samp = SortishSampler(en_trn, key=lambda x: len(en_trn[x]), bs=bs)\n",
    "val_samp = SortSampler(en_val, key=lambda x: len(en_val[x]))"
   ]
  },
  {
   "cell_type": "code",
   "execution_count": 13,
   "metadata": {},
   "outputs": [],
   "source": [
    "trn_dl = DataLoader(trn_ds, bs, transpose=True, transpose_y=True, num_workers=1, \n",
    "                    pad_idx=1, pre_pad=False, sampler=trn_samp)\n",
    "val_dl = DataLoader(val_ds, int(bs*1.6), transpose=True, transpose_y=True, num_workers=1, \n",
    "                    pad_idx=1, pre_pad=False, sampler=val_samp)\n",
    "md = ModelData(PATH, trn_dl, val_dl)"
   ]
  },
  {
   "cell_type": "code",
   "execution_count": 14,
   "metadata": {},
   "outputs": [
    {
     "data": {
      "text/plain": [
       "[(43, 23), (56, 38), (47, 23), (51, 32), (31, 15)]"
      ]
     },
     "execution_count": 14,
     "metadata": {},
     "output_type": "execute_result"
    }
   ],
   "source": [
    "it = iter(trn_dl)\n",
    "its = [next(it) for i in range(5)]\n",
    "[(len(x),len(y)) for x,y in its]"
   ]
  },
  {
   "cell_type": "markdown",
   "metadata": {},
   "source": [
    "# Transformer"
   ]
  },
  {
   "cell_type": "markdown",
   "metadata": {},
   "source": [
    "Here is the Transformer model, in all it's glory. The code used here was taken from [The Annotated Transformer](http://nlp.seas.harvard.edu/2018/04/03/attention.html) by Alexander Rush and [How to Code the Transformer in PyTorch](https://blog.floydhub.com/the-transformer-in-pytorch/) by Samuel Lynn-Evans.\n",
    "\n",
    "The first module is a simple embedding layer."
   ]
  },
  {
   "cell_type": "code",
   "execution_count": 15,
   "metadata": {},
   "outputs": [],
   "source": [
    "class Embedder(nn.Module):\n",
    "    def __init__(self, vocab_size, d_model):\n",
    "        super().__init__()\n",
    "        self.embed = nn.Embedding(vocab_size, d_model)\n",
    "    def forward(self, x):\n",
    "        return self.embed(x)"
   ]
  },
  {
   "cell_type": "markdown",
   "metadata": {},
   "source": [
    "The Transformer, having moved away from sequential models, needs a way understand where words are in a sentence. This is done through a positional encoder. The encoder models sentence position and length as a sine function."
   ]
  },
  {
   "cell_type": "code",
   "execution_count": 16,
   "metadata": {},
   "outputs": [],
   "source": [
    "class PositionalEncoder(nn.Module):\n",
    "    def __init__(self, d_model, max_seq_len = 80):\n",
    "        super().__init__()\n",
    "        self.d_model = d_model\n",
    "\n",
    "        pe = torch.zeros(max_seq_len, d_model)\n",
    "        for pos in range(max_seq_len):\n",
    "            for i in range(0, d_model, 2):\n",
    "                pe[pos, i] = \\\n",
    "                math.sin(pos / (10000 ** ((2 * i)/d_model)))\n",
    "                pe[pos, i + 1] = \\\n",
    "                math.cos(pos / (10000 ** ((2 * (i + 1))/d_model)))\n",
    "                \n",
    "        pe = pe.unsqueeze(0)\n",
    "        self.register_buffer('pe', pe)\n",
    " \n",
    "    \n",
    "    def forward(self, x):\n",
    "        x = x * math.sqrt(self.d_model)\n",
    "        seq_len = x.size(1)\n",
    "        x = x + Variable(self.pe[:,:seq_len], \\\n",
    "        requires_grad=False).cuda()\n",
    "        return x"
   ]
  },
  {
   "cell_type": "markdown",
   "metadata": {},
   "source": [
    "This is the basic attention calculation, given by the following equation:\n",
    "\n",
    "$$                                                                         \n",
    "   \\mathrm{Attention}(Q, K, V) = \\mathrm{softmax}(\\frac{QK^T}{\\sqrt{d_k}})V               \n",
    "$$      \n",
    "\n",
    "Where Q, K and V stand for Query, Key and Value. In the encoder layers of the Transformer, Q, K and V all come from the encoder output of the previous layer, performing self-attention over the input sentence. In the decoder layers of the Transformer, the Query is the hidden state being decoded, while the Key and Value values come from the encoder. This means that every layer in the decoder performs attention on the final encoder output that represente the input sequence.\n",
    "\n",
    "The attention function also incorporates masking into the attention function. Masking is an important concept in the Transformer. It controls what the model can see and when. For the input sequence, the mask used is a vector that contains 0s wherever the input sentence is padded. In the target sentence, the mask is a two dimensional matrix that masks over the entire target sentence one word at a time. The first row of the target mask masks every word but the first. The second row masks everything except the first two words. And so on until the final row that allows the model to see the entire sequence. This mimics forcing the model to look at one word at a time.\n",
    "\n",
    "It is important to note though this occurrs entirely within the attention function and at the end of the model, only a single output prediction will be made."
   ]
  },
  {
   "cell_type": "code",
   "execution_count": 17,
   "metadata": {},
   "outputs": [],
   "source": [
    "def attention(q, k, v, d_k, mask=None, dropout=None):\n",
    "    \n",
    "    scores = torch.matmul(q, k.transpose(-2, -1)) /  math.sqrt(d_k)\n",
    "\n",
    "    if mask is not None:\n",
    "        mask = mask.unsqueeze(1)\n",
    "        scores = scores.masked_fill(mask == 0, -1e9)\n",
    "        \n",
    "    scores = F.softmax(scores, dim=-1)\n",
    "    \n",
    "    if dropout is not None:\n",
    "        scores = dropout(scores)\n",
    "        \n",
    "    output = torch.matmul(scores, v)\n",
    "    return output"
   ]
  },
  {
   "cell_type": "markdown",
   "metadata": {},
   "source": [
    "Things get a bit weird here. Before actually calculating attention over Q, K and V values, the input values are put through linear layers and broken into a several heads. Each head of the input is attended to separately, allowing the model to perform attention on many different representations of the input."
   ]
  },
  {
   "cell_type": "code",
   "execution_count": 18,
   "metadata": {},
   "outputs": [],
   "source": [
    "class MultiHeadAttention(nn.Module):\n",
    "    def __init__(self, heads, d_model, dropout = 0.2):\n",
    "        super().__init__()\n",
    "        \n",
    "        self.d_model = d_model\n",
    "        self.d_k = d_model // heads\n",
    "        self.h = heads\n",
    "        \n",
    "        self.q_linear = nn.Linear(d_model, d_model)\n",
    "        self.v_linear = nn.Linear(d_model, d_model)\n",
    "        self.k_linear = nn.Linear(d_model, d_model)\n",
    "        self.dropout = nn.Dropout(dropout)\n",
    "        self.out = nn.Linear(d_model, d_model)\n",
    "    \n",
    "    def forward(self, q, k, v, mask=None):\n",
    "        \n",
    "        bs = q.size(0)\n",
    "                \n",
    "        k = self.k_linear(k).view(bs, -1, self.h, self.d_k)\n",
    "        q = self.q_linear(q).view(bs, -1, self.h, self.d_k)\n",
    "        v = self.v_linear(v).view(bs, -1, self.h, self.d_k)\n",
    "        \n",
    "        # transpose to get dimensions bs * h * sl * d_model\n",
    "       \n",
    "        k = k.transpose(1,2)\n",
    "        q = q.transpose(1,2)\n",
    "        v = v.transpose(1,2)\n",
    "\n",
    "        scores = attention(q, k, v, self.d_k, mask, self.dropout)\n",
    "        concat = scores.transpose(1,2).contiguous().view(bs, -1, self.d_model)\n",
    "        output = self.out(concat)\n",
    "    \n",
    "        return output"
   ]
  },
  {
   "cell_type": "markdown",
   "metadata": {},
   "source": [
    "This is a standard feed forward network that will be used in the encoder and decoder layers."
   ]
  },
  {
   "cell_type": "code",
   "execution_count": 19,
   "metadata": {},
   "outputs": [],
   "source": [
    "class FeedForward(nn.Module):\n",
    "    def __init__(self, d_model, d_ff=2048, dropout = 0.2):\n",
    "        super().__init__() \n",
    "        # We set d_ff as a default to 2048\n",
    "        self.linear_1 = nn.Linear(d_model, d_ff)\n",
    "        self.dropout = nn.Dropout(dropout)\n",
    "        self.linear_2 = nn.Linear(d_ff, d_model)\n",
    "    def forward(self, x):\n",
    "        x = self.dropout(F.relu(self.linear_1(x)))\n",
    "        x = self.linear_2(x)\n",
    "        return x"
   ]
  },
  {
   "cell_type": "markdown",
   "metadata": {},
   "source": [
    "Layer outputs are normalized before being passed to the next layer. The parameters $\\alpha$ and $bias$ used in the calculation are learned."
   ]
  },
  {
   "cell_type": "code",
   "execution_count": 20,
   "metadata": {},
   "outputs": [],
   "source": [
    "class Norm(nn.Module):\n",
    "    def __init__(self, d_model, eps = 1e-6):\n",
    "        super().__init__()\n",
    "    \n",
    "        self.size = d_model\n",
    "        # create two learnable parameters to calibrate normalisation\n",
    "        self.alpha = nn.Parameter(torch.ones(self.size))\n",
    "        self.bias = nn.Parameter(torch.zeros(self.size))\n",
    "        self.eps = eps\n",
    "    def forward(self, x):\n",
    "        norm = self.alpha * (x - x.mean(dim=-1, keepdim=True)) \\\n",
    "        / (x.std(dim=-1, keepdim=True) + self.eps) + self.bias\n",
    "        return norm"
   ]
  },
  {
   "cell_type": "markdown",
   "metadata": {},
   "source": [
    "Here we define the individual layers of the encoder and the decoder. The encoder layer has one attention layer before a feed forward layer. Notice the inputs to the encoder attention are all the same thing.\n",
    "\n",
    "The decoder layer has two attention layers before a feed forward layer. Notice the input to the first attention layer is the target sentence and the target mask. The input to the second attention layer includes the outputs from the encoder layer."
   ]
  },
  {
   "cell_type": "code",
   "execution_count": 21,
   "metadata": {},
   "outputs": [],
   "source": [
    "class EncoderLayer(nn.Module):\n",
    "    def __init__(self, d_model, heads, dropout = 0.1):\n",
    "        super().__init__()\n",
    "        self.norm_1 = Norm(d_model)\n",
    "        self.norm_2 = Norm(d_model)\n",
    "        self.attn = MultiHeadAttention(heads, d_model)\n",
    "        self.ff = FeedForward(d_model)\n",
    "        self.dropout_1 = nn.Dropout(dropout)\n",
    "        self.dropout_2 = nn.Dropout(dropout)\n",
    "        \n",
    "    def forward(self, x, mask):\n",
    "        x2 = self.norm_1(x)\n",
    "        x = x + self.dropout_1(self.attn(x2,x2,x2,mask))\n",
    "        x2 = self.norm_2(x)\n",
    "        x = x + self.dropout_2(self.ff(x2))\n",
    "        return x\n",
    "    \n",
    "class DecoderLayer(nn.Module):\n",
    "    def __init__(self, d_model, heads, dropout=0.1):\n",
    "        super().__init__()\n",
    "        self.norm_1 = Norm(d_model)\n",
    "        self.norm_2 = Norm(d_model)\n",
    "        self.norm_3 = Norm(d_model)\n",
    "        \n",
    "        self.dropout_1 = nn.Dropout(dropout)\n",
    "        self.dropout_2 = nn.Dropout(dropout)\n",
    "        self.dropout_3 = nn.Dropout(dropout)\n",
    "        \n",
    "        self.attn_1 = MultiHeadAttention(heads, d_model)\n",
    "        self.attn_2 = MultiHeadAttention(heads, d_model)\n",
    "        self.ff = FeedForward(d_model).cuda()\n",
    "        \n",
    "    def forward(self, x, e_outputs, src_mask, trg_mask):\n",
    "        x2 = self.norm_1(x)\n",
    "        x = x + self.dropout_1(self.attn_1(x2, x2, x2, trg_mask))\n",
    "        x2 = self.norm_2(x)\n",
    "        x = x + self.dropout_2(self.attn_2(x2, e_outputs, e_outputs, src_mask))\n",
    "        x2 = self.norm_3(x)\n",
    "        x = x + self.dropout_3(self.ff(x2))\n",
    "        return x\n",
    "    \n",
    "def get_clones(module, N):\n",
    "    return nn.ModuleList([copy.deepcopy(module) for i in range(N)])"
   ]
  },
  {
   "cell_type": "markdown",
   "metadata": {},
   "source": [
    "Here we create the main Encoder and Decoder classes that will contain multiple encoder layers and decoder layers.\n",
    "\n",
    "The setup of the decoder layer does somewhat bug me. The initial input to the Decoder, `trg`, is the output sentence the model is supposed to be predicting. On a certain level this just doesn't feel right to me. Will the model just learn to reproduce the target input? As I understand it, the masking of the output sentence is supposed to prevent the model from 'cheating', but it still seems odd to train your model with the output you expect.\n",
    "\n",
    "In practice, I haven't seen an obvious difference in translation quality between predictions made by the model with target inputs and without. The people who came up with the model are way better at this stuff than I am, so I'll trust their design."
   ]
  },
  {
   "cell_type": "code",
   "execution_count": 22,
   "metadata": {},
   "outputs": [],
   "source": [
    "class Encoder(nn.Module):\n",
    "    def __init__(self, vocab_size, d_model, N, heads):\n",
    "        super().__init__()\n",
    "        self.N = N\n",
    "        self.embed = Embedder(vocab_size, d_model)\n",
    "        self.pe = PositionalEncoder(d_model)\n",
    "        self.layers = get_clones(EncoderLayer(d_model, heads), N)\n",
    "        self.norm = Norm(d_model)\n",
    "    def forward(self, src, mask):\n",
    "        x = self.embed(src)\n",
    "        x = self.pe(x)\n",
    "        for i in range(N):\n",
    "            x = self.layers[i](x, mask)\n",
    "        return self.norm(x)\n",
    "    \n",
    "class Decoder(nn.Module):\n",
    "    def __init__(self, vocab_size, d_model, N, heads):\n",
    "        super().__init__()\n",
    "        self.N = N\n",
    "        self.embed = Embedder(vocab_size, d_model)\n",
    "        self.pe = PositionalEncoder(d_model)\n",
    "        self.layers = get_clones(DecoderLayer(d_model, heads), N)\n",
    "        self.norm = Norm(d_model)\n",
    "    def forward(self, trg, e_outputs, src_mask, trg_mask):\n",
    "        x = self.embed(trg)\n",
    "        x = self.pe(x)\n",
    "        for i in range(N):\n",
    "            x = self.layers[i](x, e_outputs, src_mask, trg_mask)\n",
    "        return self.norm(x)"
   ]
  },
  {
   "cell_type": "markdown",
   "metadata": {},
   "source": [
    "And here we put everything together - the Encoder, the Decoder, and the final feed forward layer"
   ]
  },
  {
   "cell_type": "code",
   "execution_count": 23,
   "metadata": {},
   "outputs": [],
   "source": [
    "class Transformer(nn.Module):\n",
    "    def __init__(self, src_vocab, trg_vocab, d_model, N, heads):\n",
    "        super().__init__()\n",
    "        self.encoder = Encoder(src_vocab, d_model, N, heads)\n",
    "        self.decoder = Decoder(trg_vocab, d_model, N, heads)\n",
    "        self.out = nn.Linear(d_model, trg_vocab)\n",
    "    def forward(self, src, trg, src_mask, trg_mask):\n",
    "        e_outputs = self.encoder(src, src_mask)\n",
    "        d_output = self.decoder(trg, e_outputs, src_mask, trg_mask)\n",
    "        output = self.out(d_output)\n",
    "        return output"
   ]
  },
  {
   "cell_type": "markdown",
   "metadata": {},
   "source": [
    "A function for generating masks"
   ]
  },
  {
   "cell_type": "code",
   "execution_count": 24,
   "metadata": {},
   "outputs": [],
   "source": [
    "def nopeak_mask(size):\n",
    "    np_mask = np.triu(np.ones((1, size, size)), k=1).astype('uint8')\n",
    "    np_mask =  Variable(torch.from_numpy(np_mask) == 0).cuda()\n",
    "\n",
    "    return np_mask\n",
    "\n",
    "def create_masks(src, trg):\n",
    "    \n",
    "    src_mask = (src != 1).unsqueeze(-2)\n",
    "\n",
    "    if trg is not None:\n",
    "        trg_mask = (trg != 1).unsqueeze(-2)\n",
    "        size = trg.size(1) # get seq_len for matrix\n",
    "        np_mask = nopeak_mask(size).cuda()\n",
    "\n",
    "        trg_mask = trg_mask & np_mask\n",
    "        \n",
    "    else:\n",
    "        trg_mask = None\n",
    "        \n",
    "    return src_mask, trg_mask"
   ]
  },
  {
   "cell_type": "markdown",
   "metadata": {},
   "source": [
    "The loss function used for this model is standard cross entropy"
   ]
  },
  {
   "cell_type": "code",
   "execution_count": 25,
   "metadata": {},
   "outputs": [],
   "source": [
    "def seq2seq_loss(input, target):\n",
    "    sl,bs = target.size()\n",
    "    sl_in,bs_in,nc = input.size()\n",
    "    if sl>sl_in: input = F.pad(input, (0,0,0,0,0,sl-sl_in))\n",
    "    input = input[:sl]\n",
    "    return F.cross_entropy(input.view(-1,nc), target.view(-1))"
   ]
  },
  {
   "cell_type": "code",
   "execution_count": null,
   "metadata": {},
   "outputs": [],
   "source": []
  },
  {
   "cell_type": "markdown",
   "metadata": {},
   "source": [
    "The model requires four inputs - the source sentence, the source mask, the target sentence and the target mask. The easiest way to plug this into a fast.ai framework is to use a custom stepper."
   ]
  },
  {
   "cell_type": "code",
   "execution_count": 26,
   "metadata": {},
   "outputs": [],
   "source": [
    "class TransformStepper(Stepper):\n",
    "    def step(self, xs, y, epoch):\n",
    "        xtra = []\n",
    "        \n",
    "        src = V(xs[0].transpose(0, 1))\n",
    "        trg = V(y.transpose(0, 1))\n",
    "        \n",
    "        trg_input = trg[:, :-1]\n",
    "        targets = trg[:, 1:].contiguous()\n",
    "        \n",
    "        src_mask, trg_mask = create_masks(src, trg_input)\n",
    "        \n",
    "        output = self.m(src, trg_input, src_mask, trg_mask)\n",
    "        \n",
    "        \n",
    "        if isinstance(output,tuple):\n",
    "            output,*xtra = output\n",
    "            \n",
    "        self.opt.zero_grad()\n",
    "        loss = raw_loss = self.crit(output, targets)\n",
    "        \n",
    "        if self.reg_fn:\n",
    "            loss = self.reg_fn(output, xtra, raw_loss)\n",
    "            \n",
    "        loss.backward()\n",
    "        \n",
    "        if self.clip:  \n",
    "            nn.utils.clip_grad_norm(trainable_params_(self.m), self.clip)\n",
    "            \n",
    "        self.opt.step()\n",
    "        \n",
    "        return raw_loss.data\n",
    "    \n",
    "    def evaluate(self, xs, y):\n",
    "        src = V(xs[0].transpose(0, 1))\n",
    "        trg = V(y.transpose(0, 1))\n",
    "        \n",
    "        trg_input = trg[:, :-1]\n",
    "        targets = trg[:, 1:].contiguous()\n",
    "        \n",
    "        src_mask, trg_mask = create_masks(src, trg_input)\n",
    "        \n",
    "        preds = self.m(src, trg_input, src_mask, trg_mask)\n",
    "\n",
    "        if isinstance(preds,tuple): preds=preds[0]\n",
    "        return preds, self.crit(preds, targets)"
   ]
  },
  {
   "cell_type": "code",
   "execution_count": null,
   "metadata": {},
   "outputs": [],
   "source": []
  },
  {
   "cell_type": "markdown",
   "metadata": {},
   "source": [
    "# The Model\n",
    "\n",
    "Here we create the model. We will use a `d_model` value of 300, as that corresponds to the fastText word vectors we will be using later. Experimentally I found using `heads = 10` performed better than 6 (with 7, 8 and 9 being unusable as d_model/heads must be an integer value). An encoder and decoder depth of `N = 6` was used by the original paper."
   ]
  },
  {
   "cell_type": "code",
   "execution_count": 27,
   "metadata": {},
   "outputs": [],
   "source": [
    "d_model = 300\n",
    "heads = 10\n",
    "N = 6\n",
    "\n",
    "src_vocab = len(fr_itos)\n",
    "trg_vocab = len(en_itos)\n",
    "model = to_gpu(Transformer(src_vocab, trg_vocab, d_model, N, heads))"
   ]
  },
  {
   "cell_type": "markdown",
   "metadata": {},
   "source": [
    "Initialize the model with a xavier uniform distribution"
   ]
  },
  {
   "cell_type": "code",
   "execution_count": 28,
   "metadata": {},
   "outputs": [],
   "source": [
    "for p in model.parameters():\n",
    "    if p.dim() > 1:\n",
    "        nn.init.xavier_uniform_(p)"
   ]
  },
  {
   "cell_type": "markdown",
   "metadata": {},
   "source": [
    "Now we set up our learner and away we go"
   ]
  },
  {
   "cell_type": "code",
   "execution_count": 29,
   "metadata": {},
   "outputs": [],
   "source": [
    "opt_fn = partial(optim.Adam, betas=(0.9, 0.98))"
   ]
  },
  {
   "cell_type": "code",
   "execution_count": 30,
   "metadata": {},
   "outputs": [],
   "source": [
    "learn = RNN_Learner(md, SingleModel(to_gpu(model)), opt_fn=opt_fn)"
   ]
  },
  {
   "cell_type": "code",
   "execution_count": 31,
   "metadata": {},
   "outputs": [],
   "source": [
    "learn.crit = seq2seq_loss"
   ]
  },
  {
   "cell_type": "code",
   "execution_count": 47,
   "metadata": {},
   "outputs": [
    {
     "data": {
      "application/vnd.jupyter.widget-view+json": {
       "model_id": "0ca38f09a78e4c9a980982ff9988ff2d",
       "version_major": 2,
       "version_minor": 0
      },
      "text/plain": [
       "HBox(children=(IntProgress(value=0, description='Epoch', max=1), HTML(value='')))"
      ]
     },
     "metadata": {},
     "output_type": "display_data"
    },
    {
     "name": "stdout",
     "output_type": "stream",
     "text": [
      " 53%|████████████████████▊                  | 5101/9538 [09:08<07:56,  9.30it/s, loss=tensor(18.2513, device='cuda:0')]"
     ]
    },
    {
     "data": {
      "image/png": "[encoded data removed]",
      "text/plain": [
       "<matplotlib.figure.Figure at 0x16d069a8f60>"
      ]
     },
     "metadata": {},
     "output_type": "display_data"
    }
   ],
   "source": [
    "learn.lr_find(end_lr = 1000, stepper=TransformStepper)\n",
    "learn.sched.plot()"
   ]
  },
  {
   "cell_type": "code",
   "execution_count": 34,
   "metadata": {},
   "outputs": [],
   "source": [
    "lr = 1e-3"
   ]
  },
  {
   "cell_type": "code",
   "execution_count": 35,
   "metadata": {},
   "outputs": [
    {
     "data": {
      "application/vnd.jupyter.widget-view+json": {
       "model_id": "b577fe8f7b5e41979feba487e9958a2d",
       "version_major": 2,
       "version_minor": 0
      },
      "text/plain": [
       "HBox(children=(IntProgress(value=0, description='Epoch', max=1), HTML(value='')))"
      ]
     },
     "metadata": {},
     "output_type": "display_data"
    },
    {
     "name": "stdout",
     "output_type": "stream",
     "text": [
      "epoch      trn_loss   val_loss                                                                                         \n",
      "    0      1.927851   2.254671  \n",
      "\n"
     ]
    },
    {
     "data": {
      "text/plain": [
       "[2.2546705476389852]"
      ]
     },
     "execution_count": 35,
     "metadata": {},
     "output_type": "execute_result"
    }
   ],
   "source": [
    "learn.fit(lr, 1, cycle_len=1, use_clr=(20,10), stepper=TransformStepper)"
   ]
  },
  {
   "cell_type": "code",
   "execution_count": 36,
   "metadata": {},
   "outputs": [],
   "source": [
    "learn.save('transformer_10_6_v1')"
   ]
  },
  {
   "cell_type": "code",
   "execution_count": 37,
   "metadata": {},
   "outputs": [
    {
     "data": {
      "application/vnd.jupyter.widget-view+json": {
       "model_id": "b6e3e10dd9bf43d099ea270975ff884b",
       "version_major": 2,
       "version_minor": 0
      },
      "text/plain": [
       "HBox(children=(IntProgress(value=0, description='Epoch', max=10), HTML(value='')))"
      ]
     },
     "metadata": {},
     "output_type": "display_data"
    },
    {
     "name": "stdout",
     "output_type": "stream",
     "text": [
      "epoch      trn_loss   val_loss                                                                                         \n",
      "    0      1.794239   2.185134  \n",
      "    1      1.710947   2.087145                                                                                         \n",
      "    2      1.632631   2.031039                                                                                         \n",
      "    3      1.632101   1.989288                                                                                         \n",
      "    4      1.600255   1.954984                                                                                         \n",
      "    5      1.734163   1.934943                                                                                         \n",
      "    6      1.589054   1.911329                                                                                         \n",
      "    7      1.56047    1.897814                                                                                         \n",
      "    8      1.557043   1.890664                                                                                         \n",
      "    9      1.533074   1.88371                                                                                          \n",
      "\n"
     ]
    },
    {
     "data": {
      "text/plain": [
       "[1.8837101832480982]"
      ]
     },
     "execution_count": 37,
     "metadata": {},
     "output_type": "execute_result"
    }
   ],
   "source": [
    "learn.fit(lr/5, 1, cycle_len=10, use_clr=(20,10), stepper=TransformStepper, cycle_save_name='transformer_10_6')"
   ]
  },
  {
   "cell_type": "code",
   "execution_count": 38,
   "metadata": {},
   "outputs": [],
   "source": [
    "learn.save('transformer_10_6_v2')"
   ]
  },
  {
   "cell_type": "code",
   "execution_count": null,
   "metadata": {},
   "outputs": [],
   "source": []
  },
  {
   "cell_type": "markdown",
   "metadata": {},
   "source": [
    "The model has trained down nicely. Lets try some predictions."
   ]
  },
  {
   "cell_type": "code",
   "execution_count": 39,
   "metadata": {},
   "outputs": [],
   "source": [
    "x,y = next(iter(val_dl))"
   ]
  },
  {
   "cell_type": "code",
   "execution_count": 40,
   "metadata": {},
   "outputs": [],
   "source": [
    "src = V(x.transpose(0, 1))\n",
    "trg = V(y.transpose(0, 1))\n",
    "\n",
    "trg_input = trg[:, :-1]\n",
    "targets = trg[:, 1:].contiguous()\n",
    "\n",
    "src_mask, trg_mask = create_masks(src, trg_input)\n",
    "\n",
    "m = learn.model.eval()\n",
    "\n",
    "output = m(src, trg_input, src_mask, trg_mask)"
   ]
  },
  {
   "cell_type": "code",
   "execution_count": 42,
   "metadata": {},
   "outputs": [],
   "source": [
    "preds = to_np(F.softmax(output).max(2)[1])"
   ]
  },
  {
   "cell_type": "code",
   "execution_count": 44,
   "metadata": {
    "scrolled": false
   },
   "outputs": [
    {
     "name": "stdout",
     "output_type": "stream",
     "text": [
      "le secteur du pressage et de la trituration des huiles en inde s' est donc retrouvé avec une grande capacité de production inutilisée ( le taux d' utilisation est estimé à seulement 35 % ) et le pays avec un déficit grandissant en approvisionnement en huiles comestibles , qui a été contrebalancé par les importations .\n",
      "this situation has left india 's crushing and oil refining industry with large amounts of idle capacity ( utilization rate is estimated at only 35 % ) and the country with a burgeoning supply deficit in edible oils , which is balanced off with imports . \n",
      " _eos_\n",
      "resulted resulted been way 's pressing sector _eos_ crush force 's unused of unused output ( the is is estimated at only 35 % ) and has country 's growing edible deficit edible oils was offset was offset against against imports exceeding \n",
      " _bos_\n",
      "\n",
      "les détaillants mentionnent le bas niveau d’ achat des produits internationaux en comparaison aux produits chinois bien connus comme la raison de limiter l’ espace d’ étalage pour les produits étrangers . \n",
      " _eos_\n",
      "to facilitate successful market entry , canadian exporters are encouraged to develop market entry strategies that include working with local importers and distributors to develop a presence , gain valuable market advice , and best position products to meet local tastes , laws and pricing . \n",
      " _eos_\n",
      "export development patterns retailers exporters are able about obtain or intelligence points for enable developing with exporters processors . wholesalers . develop innovative dynamic rate i.e. practical insight share . product develop practices profiles demands and / needs and frameworks \n",
      " _bos_\n",
      "\n",
      "l' eau est vendue 160 yen ( _unk ) pour une bouteille de 410 ml tandis que la lotion coûte 892 yen ( _unk ) . coca-cola japan co . a également introduit au japon un nouveau diet coke avant de le commercialiser aux etats - unis . \n",
      " _eos_\n",
      "the water is sold at 160 yen ( _unk ) for a 410 ml bottle while the lotion is priced at 892 yen ( _unk ) . coca - cola japan co. also introduced a new diet coke in japan ahead of its release in the us .\n",
      "water is sold 160 160 yen ( _eos_ ) for 410 410 ml ml whereas 's 's _eos_ cost 750 750 yen ( _eos_ ) . report - cola co. co. also introduced a new groceries before addition from of united united in united united dollars\n",
      "\n",
      "exigences obligatoires en matière d' étiquetage des produits alimentaires importés l' avis n° 44 du ministère du commerce ( _unk ) / 1997 - 2002 , en date du 24 novembre 2000 , stipule que tous les produits alimentaires emballés importés en inde doivent mentionner les renseignements suivants : \n",
      " _eos_\n",
      "mandatory labeling requirements of imported food according to the notification no . 44 ( _unk ) / 1997 - 2002 , issued by the department of commerce on november 24 , 2000 , all packaged  ",
      " commodities imported into india should carry the following declarations : \n",
      " _eos_\n",
      "requirements requirements imported imported foodstuffs labelling to stelco department # . 44 of ) / 1997 - 2002 department dated as november november of commerce november november 24 , 2000 , states packaged foodstuffs foodstuffs imported into india must acknowledge out following information : \n",
      " _bos_\n",
      "\n",
      "exigences juridiques en matière de production d ' t_up ogm aucune activité de production dans laquelle des organismes , cellules ou microorganismes génétiquement modifiés sont créés ou utilisés ne peut être entreprise sans l' assentiment du comité d' approbation des produits transgéniques , si elle peut entraîner la libération d' organismes ou cellules génétiquement modifiés dans\n",
      "legal requirements for production of gmos production in which genetically engineered organisms or cells or micro- organisms are generated or used shall not be commenced except with the consent of genetic engineering approval committee with respect of discharge of genetically engineered organisms or cells into the environment .\n",
      "requirements concerning gmos of gmos none of which genetically modified organisms / organisms or organisms gmos are created nor used may not be undertaken without governed approval approval of gmos approval committee purposes respect to genetically from genetically modified organisms or cells into genetically body tk_rep\n",
      "\n"
     ]
    }
   ],
   "source": [
    "for i in range(10,15):\n",
    "    print(' '.join([fr_itos[o] for o in x[:,i] if o != 1]))\n",
    "    print(' '.join([en_itos[o] for o in y[:,i] if o != 1]))\n",
    "    print(' '.join([en_itos[o] for o in preds[i,:] if o!=1]))\n",
    "    print()"
   ]
  },
  {
   "cell_type": "markdown",
   "metadata": {},
   "source": [
    "These predictions aren't that great. The model seems to do a good job of getting the general topic of the sentence it is translating, but the translations don't read well. The model seems to have a problem with repeating words. Then again the model is certainly better than just random guessing.\n",
    "\n",
    "But the important thing to note is that these predictions were generated using the target sentence and target mask as input to the model. How will the model perform without those?"
   ]
  },
  {
   "cell_type": "code",
   "execution_count": null,
   "metadata": {},
   "outputs": [],
   "source": []
  },
  {
   "cell_type": "code",
   "execution_count": 28,
   "metadata": {},
   "outputs": [],
   "source": [
    "def subsequent_mask(size):\n",
    "    attn_shape = (1, size, size)\n",
    "    subsequent_mask = np.triu(np.ones(attn_shape), k=1).astype('uint8')\n",
    "    return torch.from_numpy(subsequent_mask) == 0"
   ]
  },
  {
   "cell_type": "code",
   "execution_count": null,
   "metadata": {},
   "outputs": [],
   "source": []
  },
  {
   "cell_type": "code",
   "execution_count": 29,
   "metadata": {},
   "outputs": [],
   "source": [
    "def greedy_decode(model, src, src_mask, max_len, start_symbol):\n",
    "    memory = model.encoder(src, src_mask)\n",
    "    ys = torch.ones(1, 1).fill_(start_symbol).type_as(src.data)\n",
    "    for i in range(max_len-1):\n",
    "        out = model.decoder(Variable(ys), memory, src_mask, Variable(subsequent_mask(ys.size(1)).type_as(src.data)))\n",
    "        prob = F.softmax(model.out(out[:, -1]))\n",
    "        #_, next_word = torch.max(prob, dim = 1)\n",
    "        next_word = torch.multinomial(prob, 1)\n",
    "        next_word = next_word.data[0][0]\n",
    "        ys = torch.cat([ys, \n",
    "                        torch.ones(1, 1).type_as(src.data).fill_(next_word)], dim=1)\n",
    "    return ys"
   ]
  },
  {
   "cell_type": "code",
   "execution_count": null,
   "metadata": {},
   "outputs": [],
   "source": []
  },
  {
   "cell_type": "code",
   "execution_count": 48,
   "metadata": {},
   "outputs": [],
   "source": [
    "m = learn.model.eval()"
   ]
  },
  {
   "cell_type": "code",
   "execution_count": 52,
   "metadata": {},
   "outputs": [],
   "source": [
    "ys = greedy_decode(m, src[10].unsqueeze(0), src_mask[10], enlen_90, 0)"
   ]
  },
  {
   "cell_type": "code",
   "execution_count": 53,
   "metadata": {},
   "outputs": [
    {
     "name": "stdout",
     "output_type": "stream",
     "text": [
      "le secteur du pressage et de la trituration des huiles en inde s' est donc retrouvé avec une grande capacité de production inutilisée ( le taux d' utilisation est estimé à seulement 35 % ) et le pays avec un déficit grandissant en approvisionnement en huiles comestibles , qui a été contrebalancé par les importations .\n",
      "\n",
      "this situation has left india 's crushing and oil refining industry with large amounts of idle capacity ( utilization rate is estimated at only 35 % ) and the country with a burgeoning supply deficit in edible oils , which is balanced off with imports . \n",
      " _eos_\n",
      "\n",
      "_bos_ or oil demand growth in india has been adversely reduced because of the high production capacity ( i.e. from the use rate in only 35 per cent ) and the destination growing before _unk edible oils ( t_up cad _unk ) was higher . \n",
      " _eos_\n",
      "\n"
     ]
    }
   ],
   "source": [
    "print(' '.join([fr_itos[o] for o in x[:,10] if o != 1]))\n",
    "print()\n",
    "print(' '.join([en_itos[o] for o in y[:,10] if o != 1]))\n",
    "print()\n",
    "print(' '.join([en_itos[o] for o in ys[0] if o!=1]))\n",
    "print()"
   ]
  },
  {
   "cell_type": "markdown",
   "metadata": {},
   "source": [
    "Honestly better than I expected. This translation is on par with the previous ones generated with the target sentence as input. My fear that the model would simply learn to copy the input target sentence seems overblown. Sure the translation is totally wrong, but it's as wrong as the translation with the target as input.\n",
    "\n",
    "This particular translation is really interesting to read. The source sentence says that India's oil refineries are operating at low capacity due to a supply deficit - a lack of oil. The model's translation suggests that *demand* for oil has been reduced due to high production capacity. The model picked up on the concepts of low production utilization, but attributed that to high capacity rather than supply shortage. Perhaps the phrasing 'large amounts of idle capacity' gave the model the impression that capacity is large. The model also flipped the concept of supply to that of demand. Another neural net mystery."
   ]
  },
  {
   "cell_type": "code",
   "execution_count": null,
   "metadata": {},
   "outputs": [],
   "source": []
  },
  {
   "cell_type": "markdown",
   "metadata": {},
   "source": [
    "# The Model With Pretraining\n",
    "\n",
    "Now we're going to train the exact same model, but initialize the embedding layers with word vectors from fastText. Will this make the model better?"
   ]
  },
  {
   "cell_type": "code",
   "execution_count": 30,
   "metadata": {},
   "outputs": [],
   "source": [
    "d_model = 300\n",
    "heads = 10\n",
    "N = 6\n",
    "\n",
    "src_vocab = len(fr_itos)\n",
    "trg_vocab = len(en_itos)\n",
    "model = to_gpu(Transformer(src_vocab, trg_vocab, d_model, N, heads))"
   ]
  },
  {
   "cell_type": "code",
   "execution_count": null,
   "metadata": {},
   "outputs": [],
   "source": []
  },
  {
   "cell_type": "markdown",
   "metadata": {},
   "source": [
    "Initialize the model with a xavier uniform distribution"
   ]
  },
  {
   "cell_type": "code",
   "execution_count": 31,
   "metadata": {},
   "outputs": [],
   "source": [
    "for p in model.parameters():\n",
    "    if p.dim() > 1:\n",
    "        nn.init.xavier_uniform_(p)"
   ]
  },
  {
   "cell_type": "markdown",
   "metadata": {},
   "source": [
    "Now we add in fastText word vectors for English and French words in our vocabulary that are represented in fastText"
   ]
  },
  {
   "cell_type": "code",
   "execution_count": 32,
   "metadata": {},
   "outputs": [],
   "source": [
    "en_vecs = ft.load_model(str((PATH/'wiki.en.bin')))\n",
    "fr_vecs = ft.load_model(str((PATH/'wiki.fr.bin')))"
   ]
  },
  {
   "cell_type": "code",
   "execution_count": 37,
   "metadata": {},
   "outputs": [],
   "source": [
    "def get_vecs(lang, ft_vecs):\n",
    "    vecd = {w:ft_vecs.get_word_vector(w) for w in ft_vecs.get_words()}\n",
    "    pickle.dump(vecd, open(PATH/f'wiki.{lang}.pkl','wb'))\n",
    "    return vecd"
   ]
  },
  {
   "cell_type": "code",
   "execution_count": 38,
   "metadata": {},
   "outputs": [],
   "source": [
    "en_vecd = get_vecs('en', en_vecs)\n",
    "fr_vecd = get_vecs('fr', fr_vecs)"
   ]
  },
  {
   "cell_type": "code",
   "execution_count": 32,
   "metadata": {},
   "outputs": [],
   "source": [
    "en_vecd = pickle.load(open(PATH/'wiki.en.pkl','rb'))\n",
    "fr_vecd = pickle.load(open(PATH/'wiki.fr.pkl','rb'))"
   ]
  },
  {
   "cell_type": "code",
   "execution_count": null,
   "metadata": {},
   "outputs": [],
   "source": []
  },
  {
   "cell_type": "code",
   "execution_count": 33,
   "metadata": {},
   "outputs": [],
   "source": [
    "miss = []\n",
    "for i,w in enumerate(fr_itos):\n",
    "    try: model.encoder.embed.embed.weight.data[i] = V(torch.from_numpy(fr_vecd[w]), requires_grad=True)\n",
    "    except: miss.append(w)"
   ]
  },
  {
   "cell_type": "code",
   "execution_count": 34,
   "metadata": {},
   "outputs": [
    {
     "data": {
      "text/plain": [
       "9147"
      ]
     },
     "execution_count": 34,
     "metadata": {},
     "output_type": "execute_result"
    }
   ],
   "source": [
    "len(miss)"
   ]
  },
  {
   "cell_type": "code",
   "execution_count": 35,
   "metadata": {},
   "outputs": [],
   "source": [
    "miss = []\n",
    "for i,w in enumerate(en_itos):\n",
    "    try: model.encoder.embed.embed.weight.data[i] = V(torch.from_numpy(en_vecd[w]), requires_grad=True)\n",
    "    except: miss.append(w)"
   ]
  },
  {
   "cell_type": "code",
   "execution_count": 36,
   "metadata": {},
   "outputs": [
    {
     "data": {
      "text/plain": [
       "10641"
      ]
     },
     "execution_count": 36,
     "metadata": {},
     "output_type": "execute_result"
    }
   ],
   "source": [
    "len(miss)"
   ]
  },
  {
   "cell_type": "markdown",
   "metadata": {},
   "source": [
    "So about 20% of our vocabulary wasn't represented in fastText, but that's fine."
   ]
  },
  {
   "cell_type": "code",
   "execution_count": 37,
   "metadata": {},
   "outputs": [],
   "source": [
    "opt_fn = partial(optim.Adam, betas=(0.9, 0.98))"
   ]
  },
  {
   "cell_type": "code",
   "execution_count": 38,
   "metadata": {},
   "outputs": [],
   "source": [
    "learn = RNN_Learner(md, SingleModel(to_gpu(model)), opt_fn=opt_fn)"
   ]
  },
  {
   "cell_type": "code",
   "execution_count": 39,
   "metadata": {},
   "outputs": [],
   "source": [
    "learn.crit = seq2seq_loss"
   ]
  },
  {
   "cell_type": "code",
   "execution_count": 63,
   "metadata": {},
   "outputs": [
    {
     "data": {
      "application/vnd.jupyter.widget-view+json": {
       "model_id": "7adb9bb377574fe0bb1cbaec6311fcbc",
       "version_major": 2,
       "version_minor": 0
      },
      "text/plain": [
       "HBox(children=(IntProgress(value=0, description='Epoch', max=1), HTML(value='')))"
      ]
     },
     "metadata": {},
     "output_type": "display_data"
    },
    {
     "name": "stdout",
     "output_type": "stream",
     "text": [
      " 53%|███████████████████▊                 | 13713/25687 [44:43<39:03,  5.11it/s, loss=tensor(15.5303, device='cuda:0')]"
     ]
    },
    {
     "data": {
      "image/png": "[encoded data removed]",
      "text/plain": [
       "<matplotlib.figure.Figure at 0x29464bbe5f8>"
      ]
     },
     "metadata": {},
     "output_type": "display_data"
    }
   ],
   "source": [
    "learn.lr_find(end_lr = 1000, stepper=TransformStepper)\n",
    "learn.sched.plot()"
   ]
  },
  {
   "cell_type": "code",
   "execution_count": 40,
   "metadata": {},
   "outputs": [],
   "source": [
    "lr = 1e-3"
   ]
  },
  {
   "cell_type": "code",
   "execution_count": 65,
   "metadata": {},
   "outputs": [
    {
     "data": {
      "application/vnd.jupyter.widget-view+json": {
       "model_id": "67f56740ece74b759f8feeca2dfc9848",
       "version_major": 2,
       "version_minor": 0
      },
      "text/plain": [
       "HBox(children=(IntProgress(value=0, description='Epoch', max=1), HTML(value='')))"
      ]
     },
     "metadata": {},
     "output_type": "display_data"
    },
    {
     "name": "stdout",
     "output_type": "stream",
     "text": [
      "epoch      trn_loss   val_loss                                                                                         \n",
      "    0      1.839402   2.244855  \n"
     ]
    },
    {
     "data": {
      "text/plain": [
       "[2.24485490753874]"
      ]
     },
     "execution_count": 65,
     "metadata": {},
     "output_type": "execute_result"
    }
   ],
   "source": [
    "learn.fit(lr, 1, cycle_len=1, use_clr=(20,10), stepper=TransformStepper)"
   ]
  },
  {
   "cell_type": "code",
   "execution_count": 66,
   "metadata": {},
   "outputs": [],
   "source": [
    "learn.save('transformer_10_6_pre_v1')"
   ]
  },
  {
   "cell_type": "code",
   "execution_count": 41,
   "metadata": {},
   "outputs": [],
   "source": [
    "learn.load('transformer_10_6_pre_v1')"
   ]
  },
  {
   "cell_type": "code",
   "execution_count": 42,
   "metadata": {},
   "outputs": [
    {
     "data": {
      "application/vnd.jupyter.widget-view+json": {
       "model_id": "2aa278c92775480bbde388ee9819098d",
       "version_major": 2,
       "version_minor": 0
      },
      "text/plain": [
       "HBox(children=(IntProgress(value=0, description='Epoch', max=10), HTML(value='')))"
      ]
     },
     "metadata": {},
     "output_type": "display_data"
    },
    {
     "name": "stdout",
     "output_type": "stream",
     "text": [
      "epoch      trn_loss   val_loss                                                                                         \n",
      "    0      1.826812   2.169857  \n",
      "    1      1.69769    2.071146                                                                                         \n",
      "    2      1.623587   2.012601                                                                                         \n",
      "    3      1.55745    1.970936                                                                                         \n",
      "    4      1.561492   1.938948                                                                                         \n",
      "    5      1.532702   1.907762                                                                                         \n",
      "    6      1.669025   1.896485                                                                                         \n",
      "    7      1.531949   1.877373                                                                                         \n",
      "    8      1.502228   1.867952                                                                                         \n",
      "    9      1.507128   1.863664                                                                                         \n",
      "\n"
     ]
    },
    {
     "data": {
      "text/plain": [
       "[1.8636644344632247]"
      ]
     },
     "execution_count": 42,
     "metadata": {},
     "output_type": "execute_result"
    }
   ],
   "source": [
    "learn.fit(lr/5, 1, cycle_len=10, use_clr=(20,10), stepper=TransformStepper, cycle_save_name='transformer_10_6_pre')"
   ]
  },
  {
   "cell_type": "code",
   "execution_count": 43,
   "metadata": {},
   "outputs": [],
   "source": [
    "learn.save('transformer_10_6_pre_v2')"
   ]
  },
  {
   "cell_type": "markdown",
   "metadata": {},
   "source": [
    "Using pretrained word vectors doesn't seem to have had much of an effect here. The final validation loss for this model is 1.86, down from 1.88."
   ]
  },
  {
   "cell_type": "code",
   "execution_count": null,
   "metadata": {},
   "outputs": [],
   "source": []
  },
  {
   "cell_type": "code",
   "execution_count": 45,
   "metadata": {},
   "outputs": [],
   "source": [
    "x,y = next(iter(val_dl))"
   ]
  },
  {
   "cell_type": "code",
   "execution_count": 46,
   "metadata": {},
   "outputs": [],
   "source": [
    "src = V(x.transpose(0, 1))\n",
    "trg = V(y.transpose(0, 1))\n",
    "\n",
    "trg_input = trg[:, :-1]\n",
    "targets = trg[:, 1:].contiguous()\n",
    "\n",
    "src_mask, trg_mask = create_masks(src, trg_input)\n",
    "\n",
    "m = learn.model.eval()\n",
    "\n",
    "output = m(src, trg_input, src_mask, trg_mask)"
   ]
  },
  {
   "cell_type": "code",
   "execution_count": 47,
   "metadata": {},
   "outputs": [],
   "source": [
    "preds = to_np(F.softmax(output).max(2)[1])"
   ]
  },
  {
   "cell_type": "code",
   "execution_count": 48,
   "metadata": {
    "scrolled": false
   },
   "outputs": [
    {
     "name": "stdout",
     "output_type": "stream",
     "text": [
      "le secteur du pressage et de la trituration des huiles en inde s' est donc retrouvé avec une grande capacité de production inutilisée ( le taux d' utilisation est estimé à seulement 35 % ) et le pays avec un déficit grandissant en approvisionnement en huiles comestibles , qui a été contrebalancé par les importations .\n",
      "this situation has left india 's crushing and oil refining industry with large amounts of idle capacity ( utilization rate is estimated at only 35 % ) and the country with a burgeoning supply deficit in edible oils , which is balanced off with imports . \n",
      " _eos_\n",
      "resulted has resulted itself 's oil sector oil crush sector great unused of production utilization rate is estimated at only 35 % ) , has country has growing growing deficit deficit in edible oils which which has imports against by imports per \n",
      " _bos_\n",
      "\n",
      "les détaillants mentionnent le bas niveau d’ achat des produits internationaux en comparaison aux produits chinois bien connus comme la raison de limiter l’ espace d’ étalage pour les produits étrangers . \n",
      " _eos_\n",
      "to facilitate successful market entry , canadian exporters are encouraged to develop market entry strategies that include working with local importers and distributors to develop a presence , gain valuable market advice , and best position products to meet local tastes , laws and pricing . \n",
      " _eos_\n",
      "address _bos_ implementation intelligence processes retailers retailers can encouraged _eos_ _bos_ intelligence . assist markets _eos_ customers enterprises alike distributors . identify their viable - especially direction feedback share regarding advantage help practices paper across meet customers needs . preferences , expectations conditions \n",
      " _bos_\n",
      "\n",
      "l' eau est vendue 160 yen ( _unk ) pour une bouteille de 410 ml tandis que la lotion coûte 892 yen ( _unk ) . coca-cola japan co . a également introduit au japon un nouveau diet coke avant de le commercialiser aux etats - unis . \n",
      " _eos_\n",
      "the water is sold at 160 yen ( _unk ) for a 410 ml bottle while the lotion is priced at 892 yen ( _unk ) . coca - cola japan co. also introduced a new diet coke in japan ahead of its release in the us .\n",
      "water is sold 160 160 yen ( _eos_ ) pour 410 ml while yen costs yen yen ( _unk co. - japan co. also introduced a fresh diet before before advance before of marketing way into united united area\n",
      "\n",
      "exigences obligatoires en matière d' étiquetage des produits alimentaires importés l' avis n° 44 du ministère du commerce ( _unk ) / 1997 - 2002 , en date du 24 novembre 2000 , stipule que tous les produits alimentaires emballés importés en inde doivent mentionner les renseignements suivants : \n",
      " _eos_\n",
      "mandatory labeling requirements of imported food according to the notification no . 44 ( _unk ) / 1997 - 2002 , issued by the department of commerce on november 24 , 2000 , all packaged  ",
      " commodities imported into india should carry the following declarations : \n",
      " _eos_\n",
      "labelling requirements imported imported foodstuffs products to memorandum department # . 44 ministry ) / / 2002 dated dated november november department of commerce dated november 24 , 2000 states packaged food packaged imported into india shall include out following information : \n",
      " _bos_\n",
      "\n",
      "exigences juridiques en matière de production d ' t_up ogm aucune activité de production dans laquelle des organismes , cellules ou microorganismes génétiquement modifiés sont créés ou utilisés ne peut être entreprise sans l' assentiment du comité d' approbation des produits transgéniques , si elle peut entraîner la libération d' organismes ou cellules génétiquement modifiés dans\n",
      "legal requirements for production of gmos production in which genetically engineered organisms or cells or micro- organisms are generated or used shall not be commenced except with the consent of genetic engineering approval committee with respect of discharge of genetically engineered organisms or cells into the environment .\n",
      "requirements for gmos gmos gmos no none excess genetically modified organisms / organisms are organisms organisms created or used shall not be undertaken without without approval approval of gmos products committee committee respect to ge organisms genetically modified organisms or cells into organisms body governing\n",
      "\n"
     ]
    }
   ],
   "source": [
    "for i in range(10,15):\n",
    "    print(' '.join([fr_itos[o] for o in x[:,i] if o != 1]))\n",
    "    print(' '.join([en_itos[o] for o in y[:,i] if o != 1]))\n",
    "    print(' '.join([en_itos[o] for o in preds[i,:] if o!=1]))\n",
    "    print()"
   ]
  },
  {
   "cell_type": "markdown",
   "metadata": {},
   "source": [
    "The predictions seem about the same as before"
   ]
  },
  {
   "cell_type": "code",
   "execution_count": 49,
   "metadata": {},
   "outputs": [],
   "source": [
    "m = learn.model.eval()"
   ]
  },
  {
   "cell_type": "code",
   "execution_count": 50,
   "metadata": {},
   "outputs": [],
   "source": [
    "ys = greedy_decode(m, src[10].unsqueeze(0), src_mask[10], enlen_90, 0)"
   ]
  },
  {
   "cell_type": "code",
   "execution_count": 51,
   "metadata": {},
   "outputs": [
    {
     "name": "stdout",
     "output_type": "stream",
     "text": [
      "le secteur du pressage et de la trituration des huiles en inde s' est donc retrouvé avec une grande capacité de production inutilisée ( le taux d' utilisation est estimé à seulement 35 % ) et le pays avec un déficit grandissant en approvisionnement en huiles comestibles , qui a été contrebalancé par les importations .\n",
      "\n",
      "this situation has left india 's crushing and oil refining industry with large amounts of idle capacity ( utilization rate is estimated at only 35 % ) and the country with a burgeoning supply deficit in edible oils , which is balanced off with imports . \n",
      " _eos_\n",
      "\n",
      "_bos_ and affected using oil oils grown in india was then found to us with great anywhere in balance ( use is estimated at only 35 % ) and the country has become growing deficit in edible oils and gm imports . \n",
      " _eos_\n",
      "\n"
     ]
    }
   ],
   "source": [
    "print(' '.join([fr_itos[o] for o in x[:,10] if o != 1]))\n",
    "print()\n",
    "print(' '.join([en_itos[o] for o in y[:,10] if o != 1]))\n",
    "print()\n",
    "print(' '.join([en_itos[o] for o in ys[0] if o!=1]))\n",
    "print()"
   ]
  },
  {
   "cell_type": "code",
   "execution_count": null,
   "metadata": {},
   "outputs": [],
   "source": []
  },
  {
   "cell_type": "code",
   "execution_count": 56,
   "metadata": {},
   "outputs": [],
   "source": [
    "j = 30\n",
    "ys = greedy_decode(m, src[j].unsqueeze(0), src_mask[10], enlen_90, 0)"
   ]
  },
  {
   "cell_type": "code",
   "execution_count": 57,
   "metadata": {},
   "outputs": [
    {
     "name": "stdout",
     "output_type": "stream",
     "text": [
      "selon le professeur hamm de l' université de _unk , il pourrait devenir nécessaire pour les fournisseurs allemands d' aliments biologiques de recourir à l' importation de l' amérique latine ou du canada , mais , pour de nombreux adeptes , cela serait contraire au principe de la consommation de produits saisonniers produits localement de manière\n",
      "\n",
      "_unk university 's hamm said germany 's organic food suppliers may have to fall back on imports from latin america or canada but for many fans this runs contrary to the philosophy of using seasonal foods grown close to home and in harmony with nature . \n",
      " _eos_\n",
      "\n",
      "_bos_ holds an at university of _unk that might be necessary for german organic food suppliers to use imports of latin america or canada , but not many gm oriented products in this manner should be reasonable to demand in the economy . \n",
      " _eos_\n",
      "\n"
     ]
    }
   ],
   "source": [
    "print(' '.join([fr_itos[o] for o in x[:,j] if o != 1]))\n",
    "print()\n",
    "print(' '.join([en_itos[o] for o in y[:,j] if o != 1]))\n",
    "print()\n",
    "print(' '.join([en_itos[o] for o in ys[0] if o!=1]))\n",
    "print()"
   ]
  },
  {
   "cell_type": "code",
   "execution_count": null,
   "metadata": {},
   "outputs": [],
   "source": []
  },
  {
   "cell_type": "code",
   "execution_count": null,
   "metadata": {},
   "outputs": [],
   "source": []
  }
 ],
 "metadata": {
  "kernelspec": {
   "display_name": "Python 3",
   "language": "python",
   "name": "python3"
  },
  "language_info": {
   "codemirror_mode": {
    "name": "ipython",
    "version": 3
   },
   "file_extension": ".py",
   "mimetype": "text/x-python",
   "name": "python",
   "nbconvert_exporter": "python",
   "pygments_lexer": "ipython3",
   "version": "3.6.5"
  }
 },
 "nbformat": 4,
 "nbformat_minor": 2
}
