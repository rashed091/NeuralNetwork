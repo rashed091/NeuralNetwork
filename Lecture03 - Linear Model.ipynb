{
 "cells": [
  {
   "cell_type": "markdown",
   "metadata": {},
   "source": [
    "### Linear regression\n",
    "\n",
    "$$\n",
    "\\begin{split}\n",
    "y & = w^T x \\\\\n",
    "y_i & = \\sum^k_{j=1} w_j x_{ij}\n",
    "\\end{split}\n",
    "$$\n",
    "\n",
    "> We transpose $$w$$ because by convention we express all vectors as column vectors here.\n",
    "\n",
    "### Mean square error (MSE)\n",
    "\n",
    "$$\n",
    "\\begin{split}\n",
    "J(w) & = \\frac{1}{2} \\sum^N_{i=1} (w^T x^i - y^i)^2\n",
    "\\end{split}\n",
    "$$\n",
    "\n",
    "which $x^i$ and $y^i$ is the input features and the true value for the $i th$ datapoints in the training dataset.\n",
    "\n",
    "MSE is popular because it is easy to compute and it has a smooth differentiable  To optimize $w$, we take its differentiate.\n",
    "\n",
    "$$\n",
    "\\begin{split}\n",
    "\\nabla_w J & = \\sum^N_{i=1} (w^T x^i - y^i) x^i \\\\\n",
    "\\nabla_w J & = 0 \\\\\n",
    "\\implies \\sum^N_{i=1} (w^T x^i - y^i) x^i & = 0 \\\\\n",
    "w^T &= \\frac{\\sum^N_{i=1} y^i x^i}{\\sum^N_{i=1} \\| x^i \\|^2} \\\\\n",
    "\\end{split}\n",
    "$$\n",
    "\n",
    "Mean square error (MSE) is actually the L2-norm:\n",
    "\n",
    "$$\n",
    "L_2 = \\| x \\|_2\n",
    "$$\n",
    "\n",
    "Since sometimes it is so common, we often drop its subfix.\n",
    "\n",
    "$$\n",
    "L_2 = \\| x \\|\n",
    "$$\n",
    "\n",
    "### Adding a bias\n",
    "\n",
    "$$\n",
    "y = w x + b\n",
    "$$\n",
    "\n",
    "$$\n",
    "x = \\begin{bmatrix}\n",
    "x^1_1 & x^1_2\\\\\n",
    "x^2_1 & x^2_2\\\\\n",
    "\\end{bmatrix}\n",
    "$$\n",
    "\n",
    "Transform x to:\n",
    "\n",
    "$$\n",
    "z = \\begin{bmatrix}\n",
    "1 & x^1_1 & x^1_2\\\\\n",
    "1 & x^2_1 & x^2_2\\\\\n",
    "\\end{bmatrix}\n",
    "$$\n",
    "\n",
    "$$\n",
    "y = w z\n",
    "$$\n",
    "\n",
    "### Optimize MSE cost\n",
    "\n",
    "Here we calculate a generic formula to optimize $J$.\n",
    "\n",
    "$$\n",
    "\\begin{split}\n",
    "J(w) & = \\frac{1}{2} \\| xw - y \\|_2^2 \\\\\n",
    "2 J(w) & = (xw - y)^T (xw - y) \\\\\n",
    "& = (w^Tx^T -y^T) (xw - y) \\\\\n",
    "& = w^Tx^T (xw - y) - y^T (xw - y) \\\\\n",
    "& = w^Tx^Txw - w^Tx^Ty - y^Txw + y^Ty \\\\\n",
    "& = w^Tx^Txw - 2 w^Tx^Ty + y^Ty \\\\\n",
    "\\text{becase } (y^Txw)^T &= w^T(y^Tx)^T = w^Tx^Ty \\\\\n",
    "\\end{split}\n",
    "$$\n",
    "\n",
    "Setting $ \\nabla_w J = 0$ to optimize $J$:\n",
    "\n",
    "$$\n",
    "\\begin{split}\n",
    "\\nabla_w J = \\nabla_w (w^Tx^Txw - 2 w^Tx^Ty + y^Ty) & = 0 \\\\\n",
    "\\nabla_w (w^Tx^Txw) - 2 \\nabla_w (w^Tx^Ty) + \\nabla_w (y^Ty) & = 0 \\\\\n",
    "\\nabla_w (w^T(x^Tx)w) - 2 x^Ty - 0 & = 0 \\\\\n",
    "2 (x^Tx) w - 2 x^Ty - 0 & = 0 \\\\\n",
    "(x^Tx) w & =  x^Ty\n",
    "\\end{split}\n",
    "$$\n",
    "\n",
    "In the following equation, we can solve $x$ using linear algebra:\n",
    "\n",
    "$$\n",
    "Ax = b \\\\\n",
    "$$\n",
    "\n",
    "We will adopt the following notation saying $x$ is computed by linear algebra using $A$ and $b$:\n",
    "\n",
    "$$\n",
    "x = A \\setminus b\n",
    "$$\n",
    "\n",
    "Recall \n",
    "\n",
    "$$ (x^Tx) w  =  x^Ty$$ \n",
    "\n",
    "$w$ can therefore be solved by:\n",
    "\n",
    "> $$ w = x^Tx \\setminus x^Ty $$\n",
    "\n",
    "Notice that the solution for $w$ are not unique.\n",
    "\n",
    "MSE is also vulnerable to outlier. With an outlier, our model is shifted from the blue line to the red line which the blue line can model the training dataset better if the outlier is not there.\n",
    "\n",
    "<img src=\"images/L2p.png\" style=\"border:none;width:35%\">\n",
    "\n",
    "### L2 regularization with mean square error (MSE)\n",
    "\n",
    "To avoid overfitting, we use L2-norm as a regularization to the cost function $J$. (With the MSE computed in the previous section)\n",
    "\n",
    "$$\n",
    "\\begin{split}\n",
    "J(W) & = \\frac{1}{2} \\| xw - y \\|^2 + \\frac{\\lambda}{2} w w^T \\\\\n",
    "\\nabla_w J & = x^Txw - x^Ty + \\lambda w \\\\\n",
    "\\end{split}\n",
    "$$\n",
    "\n",
    "Optimize $J$:\n",
    "\n",
    "$$\n",
    "\\begin{split}\n",
    "\\nabla_w J &= 0 \\\\\n",
    "x^Txw - x^Ty + \\lambda w  &= 0 \\\\\n",
    "x^Txw + \\lambda w  &= x^Ty 0 \\\\\n",
    "(x^Tx + \\lambda I) w &= x^T y \\\\\n",
    " w & = (x^Tx + \\lambda I)^{-1} x^T y\n",
    "\\end{split}\n",
    "$$\n",
    "\n",
    "With L2 normalization and MSE, $w$ is:\n",
    "\n",
    "> $$  w = (x^Tx + \\lambda I)^{-1} x^T y $$\n",
    "\n",
    "\n",
    "Let's visualize the solution. In the diagram below, $ W^*_a$ is where regularization cost is 0. i.e. all $w_i = 0$$.  W^*_b $ is where MSE is minimum. The optimal solution for $J$ is where the concentric circle meet with the eclipse $W^*$. \n",
    "\n",
    "<div class=\"imgcap\">\n",
    "<img src=\"images/l2.png\" style=\"border:none;width:35%\">\n",
    "</div>\n",
    "\n",
    "> This is also called **ridge regression**."
   ]
  },
  {
   "cell_type": "markdown",
   "metadata": {},
   "source": [
    "## Frequentist view of Linear Regression\n",
    "We could write the regression target of the above model as the predicted value plus some error:\n",
    "\n",
    "$$\n",
    "\\begin{split}\n",
    "\\hat{y}& = y + \\epsilon \\\\\n",
    "       & = W^Tx + \\epsilon\n",
    "\\end{split}\n",
    "$$\n",
    "or equivalently, we could say that the error is:\n",
    "\n",
    "$$\\epsilon = \\hat{y} - y$$\n",
    "\n",
    "Now, let’s say we model the regression target as a Gaussian random variable, i.e. $ y \\sim N(\\mu, \\sigma^2) $, with $ \\mu = y = W^Tx $, the prediction of our model. Formally:\n",
    "\n",
    "$$P(\\hat{y} \\vert x, W) = N(\\hat{y} \\vert W^Tx, \\sigma^2)$$\n",
    "\n",
    "Then, to find the optimum $ W $, we could use Maximum Likelihood Estimation (MLE). As the above model is a likelihood, i.e. describing our data $ y $ under parameter $ W $, we will do MLE on that:\n",
    "\n",
    "$$W_{MLE} = \\mathop{\\rm arg\\,max}\\limits_{W} N(\\hat{y} \\vert W^Tx, \\sigma^2)$$\n",
    "\n",
    "The PDF of Gaussian is given by:\n",
    "\n",
    "$$P(\\hat{y} \\vert x, W) = \\frac{1}{\\sqrt{2 \\sigma^2 \\pi}} \\, \\exp \\left( -\\frac{(\\hat{y} - W^Tx)^2}{2 \\sigma^2} \\right)$$\n",
    "\n",
    "As we are doing maximization, we could ignore the normalizing constant of the likelihood. Hence:\n",
    "\n",
    "$$W_{MLE} = \\mathop{\\rm arg\\,max}\\limits_{W} \\, \\exp \\left( -\\frac{(\\hat{y} - W^Tx)^2}{2 \\sigma^2} \\right)$$\n",
    "\n",
    "As always, it is easier to optimize the log likelihood:\n",
    "\n",
    "$$\n",
    "\\begin{split}\n",
    "W_{MLE} &= \\mathop{\\rm arg\\,max}\\limits_{W} \\\\\n",
    "        &= \\mathop{\\rm arg\\,max}\\limits_{W} -\\frac{1}{2 \\sigma^2}(\\hat{y} - W^Tx)^2\\\\\n",
    "        &= \\mathop{\\rm arg\\,min}\\limits_{W} \\frac{1}{2 \\sigma^2}(\\hat{y} - W^Tx)^2\\\\\n",
    "\\end{split}\n",
    "$$\n",
    "\n",
    "For simplicity, let’s say $ \\sigma^2 = 1 $, then:\n",
    "\n",
    "$$\n",
    "\\begin{split}\n",
    "W_{MLE} &= \\mathop{\\rm arg\\,min}\\limits_{W} \\frac{1}{2} (\\hat{y} - W^Tx)^2\n",
    "        &= \\mathop{\\rm arg\\,min}\\limits_{W} \\frac{1}{2} \\sum_i (\\hat{y}_i - W_i x_i)^2\n",
    "        &= \\mathop{\\rm arg\\,min}\\limits_{W} \\frac{1}{2} \\Vert \\hat{y} - W^Tx \\Vert^2_2\n",
    "\\end{split}\n",
    "$$\n",
    "\n",
    "So we see, doing MLE on Gaussian likelihood is equal to Linear Regression!"
   ]
  },
  {
   "cell_type": "markdown",
   "metadata": {},
   "source": [
    "# Examples"
   ]
  },
  {
   "cell_type": "code",
   "execution_count": 29,
   "metadata": {},
   "outputs": [],
   "source": [
    "import numpy as np\n",
    "import matplotlib.pyplot as plt\n",
    "from sklearn.model_selection import train_test_split\n",
    "import torch\n",
    "import torch.nn as nn\n",
    "from torch.nn import Module\n",
    "\n",
    "torch.set_default_dtype(torch.float64)"
   ]
  },
  {
   "cell_type": "code",
   "execution_count": 25,
   "metadata": {},
   "outputs": [
    {
     "data": {
      "text/plain": [
       "(1000, 2)"
      ]
     },
     "execution_count": 25,
     "metadata": {},
     "output_type": "execute_result"
    }
   ],
   "source": [
    "num_inputs = 2\n",
    "num_examples = 1000\n",
    "true_w = np.array([2, -3.4])\n",
    "true_b = 4.2\n",
    "features = np.random.normal(scale=1, size=(num_examples, num_inputs))\n",
    "labels = np.dot(features, true_w) + true_b\n",
    "labels += np.random.normal(scale=0.01, size=labels.shape)\n",
    "\n",
    "np.shape(features)"
   ]
  },
  {
   "cell_type": "code",
   "execution_count": 26,
   "metadata": {},
   "outputs": [
    {
     "data": {
      "image/png": "[encoded data removed]",
      "text/plain": [
       "<Figure size 720x432 with 1 Axes>"
      ]
     },
     "metadata": {
      "needs_background": "light"
     },
     "output_type": "display_data"
    }
   ],
   "source": [
    "plt.figure(figsize=(10, 6))\n",
    "plt.scatter(features[:, 1], labels, 1);"
   ]
  },
  {
   "cell_type": "code",
   "execution_count": 31,
   "metadata": {},
   "outputs": [
    {
     "name": "stdout",
     "output_type": "stream",
     "text": [
      "X_train: (750, 2)\n",
      "y_train: (750,)\n",
      "X_test: (250, 2)\n",
      "y_test: (250,)\n"
     ]
    }
   ],
   "source": [
    "# Create data splits\n",
    "x_train, x_test, y_train, y_test = train_test_split(features, labels, test_size=0.25, random_state=1234)\n",
    "print (\"X_train:\", x_train.shape)\n",
    "print (\"y_train:\", y_train.shape)\n",
    "print (\"X_test:\", x_test.shape)\n",
    "print (\"y_test:\", y_test.shape)"
   ]
  },
  {
   "cell_type": "code",
   "execution_count": 32,
   "metadata": {},
   "outputs": [
    {
     "data": {
      "text/plain": [
       "(750, 1)"
      ]
     },
     "execution_count": 32,
     "metadata": {},
     "output_type": "execute_result"
    }
   ],
   "source": [
    "y_train = y_train.reshape(-1, 1)\n",
    "np.shape(y_train)"
   ]
  },
  {
   "cell_type": "markdown",
   "metadata": {},
   "source": [
    "### PyTorch"
   ]
  },
  {
   "cell_type": "code",
   "execution_count": 33,
   "metadata": {},
   "outputs": [
    {
     "name": "stdout",
     "output_type": "stream",
     "text": [
      "Epoch [5/60], Loss: 29.8318\n",
      "Epoch [10/60], Loss: 29.2155\n",
      "Epoch [15/60], Loss: 28.6119\n",
      "Epoch [20/60], Loss: 28.0207\n",
      "Epoch [25/60], Loss: 27.4418\n",
      "Epoch [30/60], Loss: 26.8749\n",
      "Epoch [35/60], Loss: 26.3197\n",
      "Epoch [40/60], Loss: 25.7759\n",
      "Epoch [45/60], Loss: 25.2434\n",
      "Epoch [50/60], Loss: 24.7218\n",
      "Epoch [55/60], Loss: 24.2111\n",
      "Epoch [60/60], Loss: 23.7109\n",
      "Final Weights: tensor([[ 0.6530, -0.8771]])\n",
      "Final Bias: tensor([0.3965])\n"
     ]
    },
    {
     "data": {
      "image/png": "[encoded data removed]",
      "text/plain": [
       "<Figure size 432x288 with 1 Axes>"
      ]
     },
     "metadata": {
      "needs_background": "light"
     },
     "output_type": "display_data"
    }
   ],
   "source": [
    "# Model\n",
    "class LinearModel(Module):\n",
    "    def __init__(self):\n",
    "        super(LinearModel, self).__init__()\n",
    "        self.linear = nn.Linear(2, 1)\n",
    "\n",
    "    def forward(self, x):\n",
    "        y_pred = self.linear(x)\n",
    "        return y_pred\n",
    "\n",
    "\n",
    "\n",
    "# Hyper-parameters\n",
    "input_size = 2\n",
    "output_size = 1\n",
    "num_epochs = 60\n",
    "learning_rate = 0.001\n",
    "\n",
    "\n",
    "# Linear regression model\n",
    "model = LinearModel()\n",
    "\n",
    "# Loss and optimizer\n",
    "criterion = nn.MSELoss()\n",
    "optimizer = torch.optim.SGD(model.parameters(), lr=learning_rate)  \n",
    "\n",
    "# Convert numpy arrays to torch tensors\n",
    "inputs = torch.from_numpy(x_train)\n",
    "targets = torch.from_numpy(y_train)\n",
    "\n",
    "# Train the model\n",
    "for epoch in range(num_epochs):\n",
    "    # Forward pass\n",
    "    outputs = model(inputs)\n",
    "    loss = criterion(outputs, targets)\n",
    "    \n",
    "    # Backward and optimize\n",
    "    optimizer.zero_grad()\n",
    "    loss.backward()\n",
    "    optimizer.step()\n",
    "    \n",
    "    if (epoch+1) % 5 == 0:\n",
    "        print ('Epoch [{}/{}], Loss: {:.4f}'.format(epoch+1, num_epochs, loss.item()))\n",
    "print ('Final Weights: {}'.format(model.linear.weight.data))\n",
    "print ('Final Bias: {}'.format(model.linear.bias.data))\n",
    "\n",
    "# Plot the graph\n",
    "predicted = model(torch.from_numpy(x_train)).detach().numpy()\n",
    "plt.plot(x_train, y_train, 'ro', label='Original data')\n",
    "plt.plot(x_train, predicted, label='Fitted line')\n",
    "plt.legend()\n",
    "plt.show()"
   ]
  },
  {
   "cell_type": "code",
   "execution_count": null,
   "metadata": {},
   "outputs": [],
   "source": []
  },
  {
   "cell_type": "code",
   "execution_count": null,
   "metadata": {},
   "outputs": [],
   "source": []
  }
 ],
 "metadata": {
  "kernelspec": {
   "display_name": "Python 3",
   "language": "python",
   "name": "python3"
  },
  "language_info": {
   "codemirror_mode": {
    "name": "ipython",
    "version": 3
   },
   "file_extension": ".py",
   "mimetype": "text/x-python",
   "name": "python",
   "nbconvert_exporter": "python",
   "pygments_lexer": "ipython3",
   "version": "3.7.5"
  }
 },
 "nbformat": 4,
 "nbformat_minor": 4
}
