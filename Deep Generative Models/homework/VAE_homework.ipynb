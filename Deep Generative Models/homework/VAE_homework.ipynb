{
 "cells": [
  {
   "cell_type": "markdown",
   "metadata": {
    "colab_type": "text",
    "id": "NgsHTrXYDCF8"
   },
   "source": [
    "<a href=\"https://colab.research.google.com/github/HSE-LAMBDA/DeepGenerativeModels/blob/master/homeworks/VAE-homework.ipynb\" target=\"_parent\"><img src=\"https://colab.research.google.com/assets/colab-badge.svg\" alt=\"Open In Colab\"/></a>"
   ]
  },
  {
   "cell_type": "code",
   "execution_count": 2,
   "metadata": {
    "colab": {
     "base_uri": "https://localhost:8080/",
     "height": 627
    },
    "colab_type": "code",
    "id": "1OO8tUjsDCGA",
    "outputId": "0b0f9937-1e8c-4579-8039-d08f811620ef"
   },
   "outputs": [
    {
     "name": "stdout",
     "output_type": "stream",
     "text": [
      "Collecting comet-ml\n",
      "\u001b[?25l  Downloading https://files.pythonhosted.org/packages/33/6c/cbd8947d666d3ea1e3b636cb80c789ce42bf9ea4735054b3efd9ef619a75/comet_ml-3.1.0-py2.py3-none-any.whl (178kB)\n",
      "\u001b[K     |████████████████████████████████| 184kB 3.4MB/s \n",
      "\u001b[?25hRequirement already satisfied: requests>=2.18.4 in /usr/local/lib/python3.6/dist-packages (from comet-ml) (2.21.0)\n",
      "Collecting websocket-client>=0.55.0\n",
      "\u001b[?25l  Downloading https://files.pythonhosted.org/packages/4c/5f/f61b420143ed1c8dc69f9eaec5ff1ac36109d52c80de49d66e0c36c3dfdf/websocket_client-0.57.0-py2.py3-none-any.whl (200kB)\n",
      "\u001b[K     |████████████████████████████████| 204kB 34.9MB/s \n",
      "\u001b[?25hRequirement already satisfied: nvidia-ml-py3>=7.352.0 in /usr/local/lib/python3.6/dist-packages (from comet-ml) (7.352.0)\n",
      "Collecting everett[ini]>=1.0.1; python_version >= \"3.0\"\n",
      "  Downloading https://files.pythonhosted.org/packages/12/34/de70a3d913411e40ce84966f085b5da0c6df741e28c86721114dd290aaa0/everett-1.0.2-py2.py3-none-any.whl\n",
      "Requirement already satisfied: jsonschema<3.1.0,>=2.6.0 in /usr/local/lib/python3.6/dist-packages (from comet-ml) (2.6.0)\n",
      "Collecting netifaces>=0.10.7\n",
      "  Downloading https://files.pythonhosted.org/packages/0c/9b/c4c7eb09189548d45939a3d3a6b3d53979c67d124459b27a094c365c347f/netifaces-0.10.9-cp36-cp36m-manylinux1_x86_64.whl\n",
      "Collecting comet-git-pure>=0.19.11\n",
      "\u001b[?25l  Downloading https://files.pythonhosted.org/packages/56/2b/c1ca11a237e3fcbe0c1ea53134901f30f3aa657e5ea141dccaae0f46df0e/comet_git_pure-0.19.15-py3-none-any.whl (401kB)\n",
      "\u001b[K     |████████████████████████████████| 409kB 62.5MB/s \n",
      "\u001b[?25hCollecting wurlitzer>=1.0.2\n",
      "  Downloading https://files.pythonhosted.org/packages/24/5e/f3bd8443bfdf96d2f5d10097d301076a9eb55637b7864e52d2d1a4d8c72a/wurlitzer-2.0.0-py2.py3-none-any.whl\n",
      "Requirement already satisfied: six in /usr/local/lib/python3.6/dist-packages (from comet-ml) (1.12.0)\n",
      "Requirement already satisfied: chardet<3.1.0,>=3.0.2 in /usr/local/lib/python3.6/dist-packages (from requests>=2.18.4->comet-ml) (3.0.4)\n",
      "Requirement already satisfied: idna<2.9,>=2.5 in /usr/local/lib/python3.6/dist-packages (from requests>=2.18.4->comet-ml) (2.8)\n",
      "Requirement already satisfied: certifi>=2017.4.17 in /usr/local/lib/python3.6/dist-packages (from requests>=2.18.4->comet-ml) (2019.11.28)\n",
      "Requirement already satisfied: urllib3<1.25,>=1.21.1 in /usr/local/lib/python3.6/dist-packages (from requests>=2.18.4->comet-ml) (1.24.3)\n",
      "Collecting configobj; extra == \"ini\"\n",
      "  Downloading https://files.pythonhosted.org/packages/64/61/079eb60459c44929e684fa7d9e2fdca403f67d64dd9dbac27296be2e0fab/configobj-5.0.6.tar.gz\n",
      "Building wheels for collected packages: configobj\n",
      "  Building wheel for configobj (setup.py) ... \u001b[?25l\u001b[?25hdone\n",
      "  Created wheel for configobj: filename=configobj-5.0.6-cp36-none-any.whl size=34546 sha256=a16b8b70bc3c939a11efa7380eaca02b49c7b6ba5e97f6407eb29eb5023e72cf\n",
      "  Stored in directory: /root/.cache/pip/wheels/f1/e4/16/4981ca97c2d65106b49861e0b35e2660695be7219a2d351ee0\n",
      "Successfully built configobj\n",
      "Installing collected packages: websocket-client, configobj, everett, netifaces, comet-git-pure, wurlitzer, comet-ml\n",
      "Successfully installed comet-git-pure-0.19.15 comet-ml-3.1.0 configobj-5.0.6 everett-1.0.2 netifaces-0.10.9 websocket-client-0.57.0 wurlitzer-2.0.0\n"
     ]
    },
    {
     "name": "stderr",
     "output_type": "stream",
     "text": [
      "COMET INFO: Experiment is live on comet.ml https://www.comet.ml/holybayes/hse-vae-hometask/6f0114f190774711b471cece7dd8896d\n",
      "\n"
     ]
    }
   ],
   "source": [
    "!pip install comet-ml\n",
    "# import comet_ml in the top of your file\n",
    "from comet_ml import Experiment\n",
    "    \n",
    "# Add the following code anywhere in your machine learning file\n",
    "experiment = Experiment(api_key=\"lODeHEtCf7XLaV6DJrOfugNcA\",\n",
    "                        project_name=\"hse-vae-hometask\", workspace=\"holybayes\")\n",
    "\n",
    "import torch\n",
    "import torch.utils.data\n",
    "from torch import nn, optim\n",
    "from torch.nn import functional as F\n",
    "from torchvision import datasets, transforms\n",
    "from torchvision.utils import save_image\n",
    "from torchvision.utils import make_grid\n",
    "\n",
    "\n",
    "seed=1\n",
    "device = torch.device(\"cuda\" if torch.cuda.is_available() else \"cpu\")"
   ]
  },
  {
   "cell_type": "markdown",
   "metadata": {
    "colab_type": "text",
    "id": "zNWAqXSFH8d0"
   },
   "source": [
    "# Cats vs. Dogs\n",
    "![](https://upload.wikimedia.org/wikipedia/ru/5/57/CatDog.GIF)\n",
    "Задача домашки - научиться генерить собак, кошек ~~и котопсов~~ с помощью Conditional VAE"
   ]
  },
  {
   "cell_type": "code",
   "execution_count": 3,
   "metadata": {
    "colab": {
     "base_uri": "https://localhost:8080/",
     "height": 35
    },
    "colab_type": "code",
    "id": "ZtCiFMv-DCGI",
    "outputId": "a023919a-1af1-40a1-c020-8be654dadf47"
   },
   "outputs": [
    {
     "name": "stdout",
     "output_type": "stream",
     "text": [
      "/bin/bash: user: No such file or directory\n"
     ]
    }
   ],
   "source": [
    "# загрузим данные. Не забудьте принять правила соревнования! https://www.kaggle.com/c/dogs-vs-cats/rules\n",
    "# !pip install --upgrade --force-reinstall --no-deps kaggle\n",
    "!KAGGLE_USERNAME=<user> KAGGLE_KEY=<token> kaggle competitions download -c dogs-vs-cats"
   ]
  },
  {
   "cell_type": "markdown",
   "metadata": {
    "colab_type": "text",
    "id": "5IMxF5dUDCGO"
   },
   "source": [
    "# Dataset"
   ]
  },
  {
   "cell_type": "code",
   "execution_count": 4,
   "metadata": {
    "colab": {
     "base_uri": "https://localhost:8080/",
     "height": 121
    },
    "colab_type": "code",
    "id": "7f0duH1vDCGQ",
    "outputId": "b8622583-cf20-46f4-b43d-6d4911c97247"
   },
   "outputs": [
    {
     "name": "stdout",
     "output_type": "stream",
     "text": [
      "Archive:  dogs-vs-cats.zip\n",
      "replace sampleSubmission.csv? [y]es, [n]o, [A]ll, [N]one, [r]ename: A\n",
      "  inflating: sampleSubmission.csv    \n",
      "  inflating: test1.zip               \n",
      "  inflating: train.zip               \n",
      "replace train/cat.0.jpg? [y]es, [n]o, [A]ll, [N]one, [r]ename: A\n"
     ]
    }
   ],
   "source": [
    "!unzip dogs-vs-cats.zip\n",
    "!unzip train.zip > /dev/null"
   ]
  },
  {
   "cell_type": "code",
   "execution_count": null,
   "metadata": {
    "colab": {},
    "colab_type": "code",
    "id": "566bSxC2PeHU"
   },
   "outputs": [],
   "source": [
    "from torch.utils.data import Dataset\n",
    "import os\n",
    "from skimage import io\n",
    "import random\n",
    "import numpy as np\n",
    "\n",
    "n_classes = 2\n",
    "\n",
    "class CatsVsDogsDataset(Dataset):\n",
    "    def __init__(self, root_dir, transform=None, soft_labels=0):\n",
    "        self.root_dir = root_dir\n",
    "        self.transform = transform\n",
    "        self.images = os.listdir(self.root_dir)\n",
    "        self.soft_labels = soft_labels # soft labeling\n",
    "\n",
    "    def __len__(self):\n",
    "        return len(self.images) # число картинок в директории\n",
    "\n",
    "    def __getitem__(self, idx):\n",
    "        ??? # your code here\n",
    "#         tips: \n",
    "#             1. use one-hot encoded labels. Soft one-hot encoding means one-hot labels like [0.3, 0.7]. Parameter self.soft_labels defines maximum relaxation of labels (0.0 means hard one-hot encoding)\n",
    "#             2. use skimage.io to read the images \n",
    "        sample = {'image': image, 'label': label_onehot, 'filename': img_name}\n",
    "        if self.transform:\n",
    "            sample['image'] = self.transform(sample['image'])\n",
    "        return sample"
   ]
  },
  {
   "cell_type": "code",
   "execution_count": 7,
   "metadata": {
    "colab": {
     "base_uri": "https://localhost:8080/",
     "height": 285
    },
    "colab_type": "code",
    "id": "En6wq57gTr1K",
    "outputId": "35c06704-6b3b-4d6b-ec77-61e613f7d62a"
   },
   "outputs": [
    {
     "data": {
      "text/plain": [
       "<matplotlib.image.AxesImage at 0x7f07ec03e320>"
      ]
     },
     "execution_count": 7,
     "metadata": {
      "tags": []
     },
     "output_type": "execute_result"
    },
    {
     "data": {
      "image/png": "[encoded data removed]",
      "text/plain": [
       "<Figure size 432x288 with 1 Axes>"
      ]
     },
     "metadata": {
      "tags": []
     },
     "output_type": "display_data"
    }
   ],
   "source": [
    "%matplotlib inline\n",
    "import matplotlib.pyplot as plt\n",
    "import torchvision\n",
    "from torch.utils.data import DataLoader\n",
    "img_size = 64\n",
    "transforms = ??? # define all transforms here\n",
    "dataset = CatsVsDogsDataset('train/', transforms)\n",
    "\n",
    "batch_size=64\n",
    "kwargs = {'num_workers': 1, 'pin_memory': True} if torch.cuda.is_available() else {}\n",
    "dataloader = DataLoader(dataset, shuffle=True, batch_size=batch_size, **kwargs)\n",
    "\n",
    "plt.imshow(dataset[0]['image'].permute([1,2,0]))"
   ]
  },
  {
   "cell_type": "markdown",
   "metadata": {
    "colab_type": "text",
    "id": "hLmvXFWNDCGW"
   },
   "source": [
    "## VAE model"
   ]
  },
  {
   "cell_type": "code",
   "execution_count": null,
   "metadata": {
    "colab": {},
    "colab_type": "code",
    "id": "sycYyNc0DCGX"
   },
   "outputs": [],
   "source": [
    "class VAE(nn.Module):\n",
    "    def __init__(self):\n",
    "        super(VAE, self).__init__()\n",
    "\n",
    "        # Encoder\n",
    "        ??? # write your code here\n",
    "        \n",
    "        # Decoder\n",
    "        ??? # write your code here\n",
    "        \n",
    "\n",
    "    def encode(self, x, label):\n",
    "        x = x.view(-1,3*img_size**2)\n",
    "        x = torch.cat([x, label], 1)\n",
    "        ??? # write your code here\n",
    "        return mu, sigma\n",
    "\n",
    "    def reparameterize(self, mu, logvar):\n",
    "        ??? # write your code here\n",
    "        \n",
    "\n",
    "    def decode(self, z, label):\n",
    "        z = torch.cat([z,label], 1)\n",
    "        ??? # write your code here\n",
    "        \n",
    "\n",
    "    def forward(self, x, label):\n",
    "        mu, logvar = self.encode(x, label)\n",
    "        z = self.reparameterize(mu, logvar)\n",
    "        return self.decode(z, label), mu, logvar\n",
    "    \n",
    "    def sample(self, size, label=None):\n",
    "        if label is None: ??? # write your code here\n",
    "        sample = torch.randn(size, 20).to(self.device)\n",
    "        return model.decode(sample, label)\n",
    "    \n",
    "    @property\n",
    "    def device(self): return next(self.parameters()).device\n",
    "\n",
    "\n",
    "model = VAE().to(device)\n",
    "optimizer = optim.Adam(model.parameters(), lr=1e-3)"
   ]
  },
  {
   "cell_type": "markdown",
   "metadata": {
    "colab_type": "text",
    "id": "7HWerssLDCGc"
   },
   "source": [
    "## Train VAE"
   ]
  },
  {
   "cell_type": "code",
   "execution_count": null,
   "metadata": {
    "colab": {
     "base_uri": "https://localhost:8080/",
     "height": 139
    },
    "colab_type": "code",
    "id": "hL0g9t-MDCGe",
    "outputId": "44a11ede-e783-4503-d8a3-dfbdd8f3733c"
   },
   "outputs": [
    {
     "name": "stdout",
     "output_type": "stream",
     "text": [
      "====> Epoch: 1 Average loss: 463.9490\n",
      "====> Epoch: 2 Average loss: 318.4449\n",
      "====> Epoch: 3 Average loss: 301.9435\n",
      "====> Epoch: 4 Average loss: 294.0609\n",
      "====> Epoch: 5 Average loss: 289.0439\n",
      "====> Epoch: 6 Average loss: 286.6501\n",
      "====> Epoch: 7 Average loss: 285.0399\n"
     ]
    }
   ],
   "source": [
    "def loss_function(recon_x, x, mu, logvar):\n",
    "    ??? # write your code here\n",
    "#     tip: loss function is the same as in VAE\n",
    "\n",
    "\n",
    "log_interval=10\n",
    "epochs=10\n",
    "\n",
    "def train(epoch):\n",
    "    ??? # write your code here\n",
    "\n",
    "for epoch in range(1, epochs + 1):\n",
    "    train(epoch)\n",
    "    with torch.no_grad():\n",
    "        sample = model.sample(64).cpu()\n",
    "        log_img = make_grid(sample.view(-1,3,img_size,img_size)).permute((1,2,0))\n",
    "        experiment.log_image(log_img,name='vae/sample',step=epoch)"
   ]
  },
  {
   "cell_type": "markdown",
   "metadata": {},
   "source": [
    "# Баллы\n",
    "* Правильно написанный датасет - 1 балл\n",
    "* Правильно реализованная модель VAE - 2 балла\n",
    "* Написан код для обучения, модель чему-то обучается - 2 балла\n",
    "* ВАЕ семплит адекватные картинки - 2 балла\n",
    "* Проверено, насколько софт-лейблинг докидывает или не докидывает к качеству модели - 2 балла\n",
    "* Получился котопёс - 1 балл"
   ]
  },
  {
   "cell_type": "markdown",
   "metadata": {
    "colab_type": "text",
    "id": "ytWbxjrbDCGn"
   },
   "source": [
    "# Links\n",
    "\n",
    "[C-VAE](https://wiseodd.github.io/techblog/2016/12/17/conditional-vae/)"
   ]
  },
  {
   "cell_type": "code",
   "execution_count": null,
   "metadata": {
    "colab": {},
    "colab_type": "code",
    "id": "pvGFUwdMDCGo"
   },
   "outputs": [],
   "source": []
  }
 ],
 "metadata": {
  "accelerator": "GPU",
  "colab": {
   "collapsed_sections": [],
   "name": "VAE-homework.ipynb",
   "provenance": []
  },
  "kernelspec": {
   "display_name": "Python 3",
   "language": "python",
   "name": "python3"
  },
  "language_info": {
   "codemirror_mode": {
    "name": "ipython",
    "version": 3
   },
   "file_extension": ".py",
   "mimetype": "text/x-python",
   "name": "python",
   "nbconvert_exporter": "python",
   "pygments_lexer": "ipython3",
   "version": "3.7.5"
  }
 },
 "nbformat": 4,
 "nbformat_minor": 4
}
