{
 "cells": [
  {
   "cell_type": "markdown",
   "metadata": {},
   "source": [
    "<a href=\"https://colab.research.google.com/github/HSE-LAMBDA/DeepGenerativeModels/blob/master/seminars/seminar-6/Variational Autoencoder.ipynb\" target=\"_parent\"><img src=\"https://colab.research.google.com/assets/colab-badge.svg\" alt=\"Open In Colab\"/></a>"
   ]
  },
  {
   "cell_type": "code",
   "execution_count": 1,
   "metadata": {},
   "outputs": [
    {
     "name": "stderr",
     "output_type": "stream",
     "text": [
      "COMET INFO: Experiment is live on comet.ml https://www.comet.ml/holybayes/hse-gans-vae-1/81406501a09d4450b908ce95a074fb8b\n",
      "\n"
     ]
    }
   ],
   "source": [
    "# import comet_ml in the top of your file\n",
    "from comet_ml import Experiment\n",
    "    \n",
    "# Add the following code anywhere in your machine learning file\n",
    "experiment = Experiment(api_key=\"lODeHEtCf7XLaV6DJrOfugNcA\",\n",
    "                        project_name=\"hse-gans-vae-1\", workspace=\"holybayes\")\n",
    "\n",
    "import torch\n",
    "import torch.utils.data\n",
    "from torch import nn, optim\n",
    "from torch.nn import functional as F\n",
    "from torchvision import datasets, transforms\n",
    "from torchvision.utils import save_image\n",
    "from torchvision.utils import make_grid\n",
    "\n",
    "\n",
    "seed=1\n",
    "device = torch.device(\"cuda\" if torch.cuda.is_available() else \"cpu\")"
   ]
  },
  {
   "cell_type": "markdown",
   "metadata": {},
   "source": [
    "# Dataset\n",
    "MNIST dataset will be used"
   ]
  },
  {
   "cell_type": "code",
   "execution_count": 2,
   "metadata": {},
   "outputs": [],
   "source": [
    "batch_size=128\n",
    "kwargs = {'num_workers': 1, 'pin_memory': True} if torch.cuda.is_available() else {}\n",
    "train_loader = ??? #\n",
    "test_loader = ??? # Define dataloaders for mnist here"
   ]
  },
  {
   "cell_type": "markdown",
   "metadata": {},
   "source": [
    "## AE model"
   ]
  },
  {
   "cell_type": "code",
   "execution_count": 3,
   "metadata": {},
   "outputs": [],
   "source": [
    "class AE(nn.Module):\n",
    "    def __init__(self):\n",
    "        super(AE, self).__init__()\n",
    "\n",
    "        self.encoder, self.decoder = ???# your code here\n",
    "\n",
    "    def encode(self, x): \n",
    "        x = x.view(-1,28*28)\n",
    "        ???# your code here\n",
    "    def decode(self, z): \n",
    "        x = x.view(-1,28*28)\n",
    "        ???# your code here\n",
    "    def forward(self, x): ???# your code here\n",
    "    def sample(self, size):  ???# your code here\n",
    "    \n",
    "    @property\n",
    "    def device(self): return next(self.parameters()).device\n",
    "\n",
    "\n",
    "model = AE().to(device)\n",
    "optimizer = optim.Adam(model.parameters(), lr=1e-3)"
   ]
  },
  {
   "cell_type": "markdown",
   "metadata": {},
   "source": [
    "## Train model"
   ]
  },
  {
   "cell_type": "code",
   "execution_count": 5,
   "metadata": {},
   "outputs": [
    {
     "name": "stdout",
     "output_type": "stream",
     "text": [
      "====> Epoch: 1 Average loss: 28.2380\n",
      "====> Epoch: 2 Average loss: 11.4331\n",
      "====> Epoch: 3 Average loss: 9.5636\n",
      "====> Epoch: 4 Average loss: 8.7124\n",
      "====> Epoch: 5 Average loss: 8.1656\n",
      "====> Epoch: 6 Average loss: 7.7557\n",
      "====> Epoch: 7 Average loss: 7.4489\n",
      "====> Epoch: 8 Average loss: 7.1876\n",
      "====> Epoch: 9 Average loss: 6.9836\n",
      "====> Epoch: 10 Average loss: 6.7976\n"
     ]
    }
   ],
   "source": [
    "def recon_loss(recon_x, x):\n",
    "    ??? # Loss for AE\n",
    "\n",
    "\n",
    "log_interval=10\n",
    "epochs=10\n",
    "\n",
    "def train(epoch):\n",
    "    model.train()\n",
    "    train_loss = 0\n",
    "    for batch_idx, (data, _) in enumerate(train_loader):\n",
    "        ??? # implement gradient step here\n",
    "        if batch_idx % log_interval == 0:\n",
    "            experiment.log_metric('ae/train/loss', loss.item() / len(data), step=batch_idx, epoch=epoch)\n",
    "            \n",
    "    print('====> Epoch: {} Average loss: {:.4f}'.format(\n",
    "          epoch, train_loss / len(train_loader.dataset)))\n",
    "\n",
    "\n",
    "def test(epoch):\n",
    "    model.eval()\n",
    "    test_loss = 0\n",
    "    ??? # define \n",
    "                \n",
    "    test_loss /= len(test_loader.dataset)\n",
    "    experiment.log_metric('ae/test/loss', test_loss, epoch=epoch)\n",
    "\n",
    "for epoch in range(1, epochs + 1):\n",
    "    train(epoch)\n",
    "    test(epoch)\n",
    "    with torch.no_grad():\n",
    "        sample_size=64\n",
    "        sample = model.sample(sample_size).cpu()\n",
    "        log_img = make_grid(sample.view(-1,1,28,28)).permute((1,2,0))\n",
    "        experiment.log_image(log_img,name='ae/sample',step=epoch)"
   ]
  },
  {
   "cell_type": "markdown",
   "metadata": {},
   "source": [
    "## VAE model"
   ]
  },
  {
   "cell_type": "code",
   "execution_count": 6,
   "metadata": {},
   "outputs": [],
   "source": [
    "class VAE(nn.Module):\n",
    "    def __init__(self):\n",
    "        super(VAE, self).__init__()\n",
    "\n",
    "        # Encoder\n",
    "        self.fc1 = nn.Linear(784, 400)\n",
    "        ??? # mu head\n",
    "        ??? # sigma head\n",
    "        \n",
    "        # Decoder\n",
    "        self.fc3 = nn.Linear(20, 400)\n",
    "        self.fc4 = nn.Linear(400, 784)\n",
    "\n",
    "    def encode(self, x):\n",
    "        mu, logsigma = ??? # your code here\n",
    "        return mu, logsigma\n",
    "\n",
    "    def reparameterize(self, mu, logvar):\n",
    "        std = torch.exp(0.5*logvar)\n",
    "        eps = torch.randn_like(std)\n",
    "        return mu + eps*std\n",
    "\n",
    "    def decode(self, z):\n",
    "        h3 = F.relu(self.fc3(z))\n",
    "        return torch.sigmoid(self.fc4(h3))\n",
    "\n",
    "    def forward(self, x):\n",
    "        mu, logvar = self.encode(x.view(-1, 784))\n",
    "        z = self.reparameterize(mu, logvar)\n",
    "        return self.decode(z), mu, logvar\n",
    "    \n",
    "    def sample(self, size):\n",
    "        ??? # sample from N(0,1)\n",
    "    \n",
    "    @property\n",
    "    def device(self): return next(self.parameters()).device\n",
    "\n",
    "\n",
    "model = VAE().to(device)\n",
    "optimizer = optim.Adam(model.parameters(), lr=1e-3)"
   ]
  },
  {
   "cell_type": "markdown",
   "metadata": {},
   "source": [
    "## Train VAE\n",
    "Реализуйте вариационный автокодировщик (VAE)\n",
    "\n",
    "**Подсказка 1**:\n",
    "\n",
    "$$L = \\int_zq(z)log(p(x|\\Theta,z))dz - KL(q(z)||p(z))$$\n",
    "\n",
    "**Подсказка 2**:\n",
    "\n",
    "$$p(z)=\\mathcal{N}(0,1)$$\n",
    "\n",
    "$$q(z)=\\mathcal{N}(\\mu_1,\\Sigma_1)$$\n",
    "\n",
    "![](img/KL.png)\n",
    "\n",
    "(k-размерность)"
   ]
  },
  {
   "cell_type": "code",
   "execution_count": 7,
   "metadata": {},
   "outputs": [
    {
     "name": "stdout",
     "output_type": "stream",
     "text": [
      "====> Epoch: 1 Average loss: 45.4823\n",
      "====> Epoch: 2 Average loss: 35.0653\n",
      "====> Epoch: 3 Average loss: 33.2043\n",
      "====> Epoch: 4 Average loss: 32.3159\n",
      "====> Epoch: 5 Average loss: 31.7516\n",
      "====> Epoch: 6 Average loss: 31.4142\n",
      "====> Epoch: 7 Average loss: 31.1500\n",
      "====> Epoch: 8 Average loss: 30.9440\n",
      "====> Epoch: 9 Average loss: 30.7579\n",
      "====> Epoch: 10 Average loss: 30.6381\n"
     ]
    }
   ],
   "source": [
    "def loss_function(recon_x, x, mu, logsigma):\n",
    "    MSE = ??? # first term of L\n",
    "    KLD = ??? # second term\n",
    "    return MSE, KLD\n",
    "\n",
    "\n",
    "log_interval=10\n",
    "epochs=10\n",
    "\n",
    "def train(epoch):\n",
    "    model.train()\n",
    "    train_mse, train_kld, train_loss = 0, 0, 0\n",
    "    for batch_idx, (data, _) in enumerate(train_loader):\n",
    "        data = data.to(device)\n",
    "        ??? # zero gradients from previous batch\n",
    "        recon_batch, mu, logvar = ??? # predict for batch using VAE\n",
    "        mse_loss, kld_loss = ??? # define loss\n",
    "        loss = mse_loss + kld_loss # it differs from formula above because we are MINIMIZING loss\n",
    "        ??? # perform gradient step\n",
    "        train_loss += loss.item();\n",
    "        train_mse += mse_loss.item(); train_kld += kld_loss.item()\n",
    "        if batch_idx % log_interval == 0:\n",
    "            experiment.log_metrics({'vae/train/mse': mse_loss.item()/len(data),\n",
    "                                    'vae/train/kld': kld_loss.item()/len(data),\n",
    "                                    'vae/train/loss': loss.item()/len(data)\n",
    "                                   }, step=batch_idx, epoch=epoch)\n",
    "\n",
    "    print('====> Epoch: {} Average loss: {:.4f}'.format(\n",
    "          epoch, train_loss / len(train_loader.dataset)))\n",
    "\n",
    "\n",
    "def test(epoch):\n",
    "    test_loss,kld_loss,mse_loss = ??? # your code here\n",
    "    experiment.log_metrics({'vae/test/loss': test_loss, 'vae/test/kld': kld_loss, 'vae/test/mse': mse_loss}, epoch=epoch)\n",
    "    \n",
    "\n",
    "for epoch in range(1, epochs + 1):\n",
    "    train(epoch)\n",
    "    test(epoch)\n",
    "    with torch.no_grad():\n",
    "        sample = model.sample(64).cpu()\n",
    "        log_img = make_grid(sample.view(-1,1,28,28)).permute((1,2,0))\n",
    "        experiment.log_image(log_img,name='vae/sample',step=epoch)"
   ]
  },
  {
   "cell_type": "markdown",
   "metadata": {},
   "source": [
    "# Задания\n",
    "* сравните качество полученных картинок от AE и VAE\n",
    "* что можно сказать по полученным результатам?\n",
    "* чем можно объяснить разницу в качестве?\n",
    "* обучите на cifar и celeba"
   ]
  },
  {
   "cell_type": "markdown",
   "metadata": {},
   "source": [
    "# Links\n",
    "\n",
    "[simple explanation (towardsds)](https://towardsdatascience.com/understanding-variational-autoencoders-vaes-f70510919f73)\n",
    "\n",
    "[ELBO inference](https://chrisorm.github.io/VI-ELBO.html)"
   ]
  },
  {
   "cell_type": "code",
   "execution_count": null,
   "metadata": {},
   "outputs": [],
   "source": []
  }
 ],
 "metadata": {
  "kernelspec": {
   "display_name": "Python 3",
   "language": "python",
   "name": "python3"
  },
  "language_info": {
   "codemirror_mode": {
    "name": "ipython",
    "version": 3
   },
   "file_extension": ".py",
   "mimetype": "text/x-python",
   "name": "python",
   "nbconvert_exporter": "python",
   "pygments_lexer": "ipython3",
   "version": "3.7.5"
  }
 },
 "nbformat": 4,
 "nbformat_minor": 4
}
