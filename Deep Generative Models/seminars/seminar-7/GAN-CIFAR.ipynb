{
 "cells": [
  {
   "cell_type": "markdown",
   "metadata": {
    "colab_type": "text",
    "id": "i_XLktmfLY69"
   },
   "source": [
    "You can fing the original paper [here](https://www.arxiv-vanity.com/papers/1406.2661/)"
   ]
  },
  {
   "cell_type": "markdown",
   "metadata": {
    "colab_type": "text",
    "id": "k27LUMyrLehA"
   },
   "source": [
    "<a href=\"https://colab.research.google.com/github/HSE-LAMBDA/DeepGenerativeModels/blob/master/seminars/seminar-7/GAN-CIFAR.ipynb\" target=\"_parent\"><img src=\"https://colab.research.google.com/assets/colab-badge.svg\" alt=\"Open In Colab\"/></a>"
   ]
  },
  {
   "cell_type": "code",
   "execution_count": null,
   "metadata": {
    "colab": {},
    "colab_type": "code",
    "id": "H_82oIw1LY7C"
   },
   "outputs": [],
   "source": [
    "import os\n",
    "os.environ[\"CUDA_VISIBLE_DEVICES\"]=\"0\"\n",
    "\n",
    "from comet_ml import Experiment\n",
    "\n",
    "from tqdm import tqdm_notebook as tqdm\n",
    "\n",
    "import torch\n",
    "import torch.nn as nn\n",
    "import torch.utils as utils\n",
    "from torchvision import datasets\n",
    "import torchvision.transforms as transforms\n",
    "from torchvision.utils import make_grid\n",
    "\n",
    "import numpy as np\n",
    "import matplotlib.pyplot as plt\n",
    "\n",
    "%matplotlib inline"
   ]
  },
  {
   "cell_type": "code",
   "execution_count": null,
   "metadata": {
    "colab": {},
    "colab_type": "code",
    "id": "CzmYGwk2LY7H"
   },
   "outputs": [],
   "source": [
    "batch_size = 64\n",
    "device = 'cuda' if torch.cuda.is_available() else 'cpu'\n",
    "\n",
    "mnist_transforms = transforms.Compose([ # Compose combines a number of transforms into one operation\n",
    "    transforms.ToTensor(), # PIL Image -> Tensor\n",
    "])"
   ]
  },
  {
   "cell_type": "code",
   "execution_count": null,
   "metadata": {
    "colab": {},
    "colab_type": "code",
    "id": "xbAGYisbLY7L",
    "outputId": "ddb04413-bd09-4329-c4bc-f01c66d7a5e0"
   },
   "outputs": [
    {
     "name": "stdout",
     "output_type": "stream",
     "text": [
      "Files already downloaded and verified\n"
     ]
    }
   ],
   "source": [
    "# We can use torchvision package to get MNIST dataset\n",
    "\n",
    "data_path = \"./data/\"\n",
    "\n",
    "train_dataset = datasets.CIFAR10(data_path,\n",
    "                               train=True,\n",
    "                               transform=mnist_transforms,\n",
    "                               target_transform=None,\n",
    "                               download=True)\n",
    "\n",
    "train_loader = torch.utils.data.DataLoader(dataset=train_dataset,\n",
    "                                           batch_size=batch_size,\n",
    "                                           shuffle=True,\n",
    "                                           drop_last=True)\n"
   ]
  },
  {
   "cell_type": "code",
   "execution_count": null,
   "metadata": {
    "colab": {},
    "colab_type": "code",
    "id": "IT8MgclQLY7R"
   },
   "outputs": [],
   "source": [
    "def plot_image(image):\n",
    "    plt.figure(figsize=(5, 5))\n",
    "    plt.imshow(image.detach().cpu().permute(1, 2, 0))\n",
    "    plt.show()"
   ]
  },
  {
   "cell_type": "code",
   "execution_count": null,
   "metadata": {
    "colab": {},
    "colab_type": "code",
    "id": "ZAs9Vvu8LY7U",
    "outputId": "1f480377-3d2f-4731-d1d0-114a65374212"
   },
   "outputs": [
    {
     "name": "stdout",
     "output_type": "stream",
     "text": [
      "Label: 4\n"
     ]
    },
    {
     "data": {
      "image/png": "[encoded data removed]",
      "text/plain": [
       "<Figure size 360x360 with 1 Axes>"
      ]
     },
     "metadata": {
      "needs_background": "light",
      "tags": []
     },
     "output_type": "display_data"
    }
   ],
   "source": [
    "img, label = next(iter(train_loader))\n",
    "print(f'Label: {label[0]}')\n",
    "plot_image(img[0])"
   ]
  },
  {
   "cell_type": "markdown",
   "metadata": {
    "colab_type": "text",
    "id": "OJKXwgJ6LY7Z"
   },
   "source": [
    "Наша цель - построить простейший GAN, составленный из двух частей, генератора и дискриминатора.\n",
    "\n",
    "1. Генератор G принимает на вход шум из какого-то заранее заданного латентного пространства и преобразует его в какую-то картинку заданной размерности (в нашем случае 3x32x32). \n",
    "2. Дискриминатор D принимает на вход какую-то картинку заданной размерности и выдает вероятность того что картина - реальная (не сгенерированная)\n",
    "\n",
    "![im](https://lilianweng.github.io/lil-log/assets/images/GAN.png)\n",
    "\n",
    "Для обучения такой конструкции мы можем использовать простую бинарную кросс-энтропию:\n",
    "\n",
    "$$\\text{BCE}(\\hat{y}, y) = \\frac{1}{N} \\Sigma^N_{i=0} y_i * \\log \\hat{y}_i + (1 - y_i) * \\log (1 - \\hat{y}_i)$$"
   ]
  },
  {
   "cell_type": "markdown",
   "metadata": {
    "colab_type": "text",
    "id": "imhWZQXgLY7b"
   },
   "source": [
    "### D:\n",
    "\n",
    "С одной стороны, мы хотим получать предсказания близкие к единице на реальных данных -> максимизировать $E_{x \\sim P_{real}} \\log D(x)$\n",
    "\n",
    "С другой стороны, мы хотим получать предсказания близкие к нулю для сгенерированных данных -> минимизировать $E_{x \\sim P_{gen}} \\log (1 - D(x))$\n",
    "\n",
    "### G:\n",
    "\n",
    "Генератор в свою очередь должен уметь \"обманывать\" дискриминатор - получать единицы от D на сгенерированных данных -> минимизировать $E_{x \\sim P_{gen}} \\log (1 - D(x))$"
   ]
  },
  {
   "cell_type": "markdown",
   "metadata": {
    "colab_type": "text",
    "id": "hRT_9x2YLY7f"
   },
   "source": [
    "Тогда мы приходим к такой задаче:\n",
    "\n",
    "$$\n",
    "\\min_G \\max_D L(D, G) = \\mathbb{E}_{x \\sim p_{\\text{real}}(x)} [\\log D(x)] + \\mathbb{E}_{x \\sim p_\\text{gen}(x)} [\\log(1 - D(x)]\n",
    "$$"
   ]
  },
  {
   "cell_type": "code",
   "execution_count": null,
   "metadata": {
    "colab": {},
    "colab_type": "code",
    "id": "lRyNxQa_LY7h"
   },
   "outputs": [],
   "source": [
    "class Generator(nn.Module):\n",
    "    def __init__(self):\n",
    "        super(Generator,self).__init__()\n",
    "        self.upsample = nn.Upsample(\n",
    "            scale_factor=2,\n",
    "            mode='bilinear',\n",
    "            align_corners=True\n",
    "        )\n",
    "        self.layers = nn.Sequential(\n",
    "            # YOUR CODE\n",
    "        )        \n",
    "        \n",
    "    def forward(self, x):\n",
    "        # YOUR CODE\n",
    "        return x"
   ]
  },
  {
   "cell_type": "code",
   "execution_count": null,
   "metadata": {
    "colab": {},
    "colab_type": "code",
    "id": "tTYhg-4-LY7k"
   },
   "outputs": [],
   "source": [
    "class Discriminator(nn.Module):\n",
    "    def __init__(self):\n",
    "        super(Discriminator,self).__init__()\n",
    "        self.layers = nn.Sequential(\n",
    "            # YOUR CODE\n",
    "        )\n",
    "    def forward(self,x):\n",
    "        # YOUR CODE"
   ]
  },
  {
   "cell_type": "markdown",
   "metadata": {
    "colab_type": "text",
    "id": "TJ2hjon6LY7o"
   },
   "source": [
    "_hint: use torchsummary.summary to check shapes_"
   ]
  },
  {
   "cell_type": "code",
   "execution_count": null,
   "metadata": {
    "colab": {},
    "colab_type": "code",
    "id": "5pXlKUlgLY7p",
    "outputId": "8cf6f271-4a5a-4c59-ad29-6b99ee76d5da"
   },
   "outputs": [
    {
     "name": "stderr",
     "output_type": "stream",
     "text": [
      "COMET INFO: Experiment is live on comet.ml https://www.comet.ml/maximartemev/hse-gans/6d7e14c8d6694fd8b3b3618ca9e394d6\n",
      "\n"
     ]
    }
   ],
   "source": [
    "experiment = Experiment(api_key = 'HIZapbzNjFips0c32Co7gXkQZ', \n",
    "                        project_name=\"hse-gans\", workspace=\"maximartemev\"\n",
    "                       )\n",
    "\n",
    "LR = 0.001\n",
    "\n",
    "optimizer_G = torch.optim.Adam(generator.parameters(), lr=LR)\n",
    "optimizer_D = torch.optim.Adam(discriminator.parameters(), lr=LR)\n",
    "\n",
    "def sample_noise(batch, dims, mean=0, std=0.1):\n",
    "    # YOUR CODE\n",
    "    return z"
   ]
  },
  {
   "cell_type": "code",
   "execution_count": null,
   "metadata": {
    "colab": {},
    "colab_type": "code",
    "id": "RabytOuMLY70"
   },
   "outputs": [],
   "source": [
    "sample_interval = 500\n",
    "n_epochs = 10\n",
    "\n",
    "for epoch in tqdm(range(n_epochs), desc='Epoch loop'):\n",
    "    for iter_ind, (imgs, _) in tqdm(enumerate(train_loader), desc='Train loop', leave=False):\n",
    "        \n",
    "        step = epoch * len(train_loader) + iter_ind\n",
    "        \n",
    "        # generator update\n",
    "        optimizer_G.zero_grad()\n",
    "        fake_imgs = # YOUR CODE\n",
    "        loss_G = # YOUR CODE\n",
    "        loss_G.backward()\n",
    "        optimizer_G.step()\n",
    "        \n",
    "        # discriminator update\n",
    "        optimizer_D.zero_grad()\n",
    "        fake_imgs = # YOUR CODE\n",
    "        err_real = # YOUR CODE\n",
    "        err_fake = # YOUR CODE\n",
    "        loss_D = err_real + err_fake\n",
    "        loss_D.backward()\n",
    "        optimizer_D.step()\n",
    "        \n",
    "        experiment.log_metrics({'Generator loss': loss_G.item(),\n",
    "                                'Discriminator loss': loss_D.item()},\n",
    "                                epoch = epoch,\n",
    "                                step = step)        \n",
    "\n",
    "        if step % sample_interval == 0:\n",
    "            plt.figure(figsize = (10,10))\n",
    "\n",
    "            plt.title(\n",
    "                f\"[Epoch {epoch}/{n_epochs}]\" + \\\n",
    "                f\"[Batch {step%len(train_loader)}/{len(train_loader)}]\" + \\\n",
    "                f\"[D loss: {loss_D.item()}] [G loss: {loss_G.item()}]\"\n",
    "            )\n",
    "\n",
    "            plt.imshow(make_grid(fake_imgs.data[:25]).cpu().detach().numpy()[0, :, :])\n",
    "            experiment.log_figure()\n",
    "            plt.show()\n",
    "experiment.end()"
   ]
  },
  {
   "cell_type": "code",
   "execution_count": null,
   "metadata": {
    "colab": {},
    "colab_type": "code",
    "id": "fQ2i39xNLY75"
   },
   "outputs": [],
   "source": [
    "plt.figure(figsize = (10,10))\n",
    "\n",
    "plt.title(\n",
    "    f\"[Epoch {epoch}/{n_epochs}]\" + \\\n",
    "    f\"[Batch {step%len(train_loader)}/{len(train_loader)}]\" + \\\n",
    "    f\"[D loss: {loss_D.item()}] [G loss: {loss_G.item()}]\"\n",
    ")\n",
    "\n",
    "plt.imshow(make_grid(fake_imgs.data[:25]).cpu().detach().numpy()[0, :, :])\n",
    "plt.show()"
   ]
  },
  {
   "cell_type": "code",
   "execution_count": null,
   "metadata": {
    "colab": {},
    "colab_type": "code",
    "id": "3-aqBW3LLY78"
   },
   "outputs": [],
   "source": []
  },
  {
   "cell_type": "markdown",
   "metadata": {
    "colab_type": "text",
    "id": "FHcNFlQBLY7_"
   },
   "source": [
    "#### Дополнительное задание для тех кто уже все успел и лень сидеть ждать конца семинара"
   ]
  },
  {
   "cell_type": "markdown",
   "metadata": {
    "colab_type": "text",
    "id": "MnCWaV0YLY8A"
   },
   "source": [
    "Возьмите датасет с постерами, тот который мы использовали в семинаре 4, с PixelCNN. Попробуйте научить GAN генерировать постеры. \n",
    "\n",
    "Потом вам эта заготовка поможет немного сэкономить времени при выполнении домашки по ганам"
   ]
  },
  {
   "cell_type": "code",
   "execution_count": null,
   "metadata": {
    "colab": {},
    "colab_type": "code",
    "id": "mwFr_ky5LY8C"
   },
   "outputs": [],
   "source": []
  },
  {
   "cell_type": "code",
   "execution_count": null,
   "metadata": {
    "colab": {},
    "colab_type": "code",
    "id": "IfZcyjBeLY8E"
   },
   "outputs": [],
   "source": []
  },
  {
   "cell_type": "code",
   "execution_count": null,
   "metadata": {
    "colab": {},
    "colab_type": "code",
    "id": "SD7Vz3LELY8K"
   },
   "outputs": [],
   "source": []
  }
 ],
 "metadata": {
  "colab": {
   "name": "GAN-CIFAR.ipynb",
   "provenance": []
  },
  "kernelspec": {
   "display_name": "Python 3",
   "language": "python",
   "name": "python3"
  },
  "language_info": {
   "codemirror_mode": {
    "name": "ipython",
    "version": 3
   },
   "file_extension": ".py",
   "mimetype": "text/x-python",
   "name": "python",
   "nbconvert_exporter": "python",
   "pygments_lexer": "ipython3",
   "version": "3.7.5"
  }
 },
 "nbformat": 4,
 "nbformat_minor": 4
}
