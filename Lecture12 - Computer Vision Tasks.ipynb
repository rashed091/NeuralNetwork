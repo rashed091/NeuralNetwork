{
 "cells": [
  {
   "cell_type": "markdown",
   "metadata": {},
   "source": [
    "<h2 id=\"image-gradient-vector\">Image Gradient Vector</h2>\n",
    "\n",
    "<p>First of all, I would like to make sure we can distinguish the following terms. They are very similar, closely related, but not exactly the same.</p>\n",
    "\n",
    "<table class=\"info\">\n",
    "  <tbody>\n",
    "    <tr>\n",
    "      <td> </td>\n",
    "      <td><strong>Derivative</strong></td>\n",
    "      <td><strong>Directional Derivative</strong></td>\n",
    "      <td><strong>Gradient</strong></td>\n",
    "    </tr>\n",
    "    <tr>\n",
    "      <td>Value type</td>\n",
    "      <td>Scalar</td>\n",
    "      <td>Scalar</td>\n",
    "      <td>Vector</td>\n",
    "    </tr>\n",
    "    <tr>\n",
    "      <td>Definition</td>\n",
    "      <td>The rate of change of a function <script type=\"math/tex\">f(x,y,z,...)</script> at a point <script type=\"math/tex\">(x_0,y_0,z_0,...)</script>, which is the slope of the tangent line at the point.</td>\n",
    "      <td>The instantaneous rate of change of <script type=\"math/tex\">f(x,y,z, ...)</script> in the direction of an unit vector <script type=\"math/tex\">\\vec{u}</script>.</td>\n",
    "      <td>It points in the direction of the greatest rate of increase of the function, containing all the partial derivative information of a multivariable function.</td>\n",
    "    </tr>\n",
    "  </tbody>\n",
    "</table>"
   ]
  },
  {
   "cell_type": "code",
   "execution_count": null,
   "metadata": {},
   "outputs": [],
   "source": [
    "\n"
   ]
  }
 ],
 "metadata": {
  "kernelspec": {
   "display_name": "Python 3",
   "language": "python",
   "name": "python3"
  },
  "language_info": {
   "codemirror_mode": {
    "name": "ipython",
    "version": 3
   },
   "file_extension": ".py",
   "mimetype": "text/x-python",
   "name": "python",
   "nbconvert_exporter": "python",
   "pygments_lexer": "ipython3",
   "version": "3.7.3"
  }
 },
 "nbformat": 4,
 "nbformat_minor": 2
}
